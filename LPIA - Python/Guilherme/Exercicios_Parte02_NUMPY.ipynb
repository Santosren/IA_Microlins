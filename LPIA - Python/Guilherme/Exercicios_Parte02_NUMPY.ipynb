{
 "cells": [
  {
   "cell_type": "markdown",
   "metadata": {
    "colab_type": "text",
    "id": "VGz5Hi19AHfe"
   },
   "source": [
    "### Numpy"
   ]
  },
  {
   "cell_type": "markdown",
   "metadata": {
    "colab_type": "text",
    "id": "jOgJ673PAVe9"
   },
   "source": [
    "1 - Utilize o método numpy.info para obter informações do método numpy.add."
   ]
  },
  {
   "cell_type": "code",
   "execution_count": 1,
   "metadata": {
    "colab": {},
    "colab_type": "code",
    "id": "xiaPQx_qQ6rT"
   },
   "outputs": [],
   "source": [
    "import numpy as np\n"
   ]
  },
  {
   "cell_type": "code",
   "execution_count": 2,
   "metadata": {
    "colab": {
     "base_uri": "https://localhost:8080/",
     "height": 407
    },
    "colab_type": "code",
    "id": "dd9qnc_KAFDd",
    "outputId": "3c31da33-4946-4960-ba2c-eff507935079"
   },
   "outputs": [
    {
     "name": "stdout",
     "output_type": "stream",
     "text": [
      "add(x1, x2, /, out=None, *, where=True, casting='same_kind', order='K', dtype=None, subok=True[, signature, extobj])\n",
      "\n",
      "Add arguments element-wise.\n",
      "\n",
      "Parameters\n",
      "----------\n",
      "x1, x2 : array_like\n",
      "    The arrays to be added.  If ``x1.shape != x2.shape``, they must be\n",
      "    broadcastable to a common shape (which may be the shape of one or\n",
      "    the other).\n",
      "out : ndarray, None, or tuple of ndarray and None, optional\n",
      "    A location into which the result is stored. If provided, it must have\n",
      "    a shape that the inputs broadcast to. If not provided or `None`,\n",
      "    a freshly-allocated array is returned. A tuple (possible only as a\n",
      "    keyword argument) must have length equal to the number of outputs.\n",
      "where : array_like, optional\n",
      "    Values of True indicate to calculate the ufunc at that position, values\n",
      "    of False indicate to leave the value in the output alone.\n",
      "**kwargs\n",
      "    For other keyword-only arguments, see the\n",
      "    :ref:`ufunc docs <ufuncs.kwargs>`.\n",
      "\n",
      "Returns\n",
      "-------\n",
      "add : ndarray or scalar\n",
      "    The sum of `x1` and `x2`, element-wise.\n",
      "    This is a scalar if both `x1` and `x2` are scalars.\n",
      "\n",
      "Notes\n",
      "-----\n",
      "Equivalent to `x1` + `x2` in terms of array broadcasting.\n",
      "\n",
      "Examples\n",
      "--------\n",
      ">>> np.add(1.0, 4.0)\n",
      "5.0\n",
      ">>> x1 = np.arange(9.0).reshape((3, 3))\n",
      ">>> x2 = np.arange(3.0)\n",
      ">>> np.add(x1, x2)\n",
      "array([[  0.,   2.,   4.],\n",
      "       [  3.,   5.,   7.],\n",
      "       [  6.,   8.,  10.]])\n"
     ]
    }
   ],
   "source": [
    "# Insira a resposta abaixo.\n",
    "np.info(np.add)"
   ]
  },
  {
   "cell_type": "markdown",
   "metadata": {
    "colab_type": "text",
    "id": "Q5efGWHZh56U"
   },
   "source": [
    "2 - Utilize a função *range* do python para criar automaticamente uma lista de números variando de 0 até 15. "
   ]
  },
  {
   "cell_type": "code",
   "execution_count": 8,
   "metadata": {
    "colab": {
     "base_uri": "https://localhost:8080/",
     "height": 34
    },
    "colab_type": "code",
    "id": "GVsgl1nch5SO",
    "outputId": "fc148dc1-48ba-4fb3-9969-1324d0ba8118"
   },
   "outputs": [
    {
     "name": "stdout",
     "output_type": "stream",
     "text": [
      "[0, 1, 2, 3, 4, 5, 6, 7, 8, 9, 10, 11, 12, 13, 14, 15]\n"
     ]
    }
   ],
   "source": [
    "# Insira a resposta abaixo.\n",
    "result = list(range(16))\n",
    "print(result)"
   ]
  },
  {
   "cell_type": "markdown",
   "metadata": {
    "colab_type": "text",
    "id": "dy8uX84YkCEl"
   },
   "source": [
    "3 - Converta a lista criada para um objeto do tipo numpy array."
   ]
  },
  {
   "cell_type": "code",
   "execution_count": 9,
   "metadata": {
    "colab": {
     "base_uri": "https://localhost:8080/",
     "height": 34
    },
    "colab_type": "code",
    "id": "NlFDOAPykCLL",
    "outputId": "7ed872b4-d851-4b85-9d10-d50853c3bb48"
   },
   "outputs": [
    {
     "name": "stdout",
     "output_type": "stream",
     "text": [
      "[ 0  1  2  3  4  5  6  7  8  9 10 11 12 13 14 15]\n"
     ]
    }
   ],
   "source": [
    "# Insira a resposta abaixo.\n",
    "result = np.array(result)\n",
    "print(result)"
   ]
  },
  {
   "cell_type": "markdown",
   "metadata": {
    "colab_type": "text",
    "id": "FcO_NxsCvyeU"
   },
   "source": [
    "4 - Crie um  novo array equivalente ao anterior utilizando diretamente os recursos do numpy."
   ]
  },
  {
   "cell_type": "code",
   "execution_count": 15,
   "metadata": {
    "colab": {
     "base_uri": "https://localhost:8080/",
     "height": 34
    },
    "colab_type": "code",
    "id": "c7_sWaDCvzE4",
    "outputId": "7fa26a9c-7dd6-4a6d-db0f-9d90ceca4c93"
   },
   "outputs": [
    {
     "name": "stdout",
     "output_type": "stream",
     "text": [
      "[ 0  1  2  3  4  5  6  7  8  9 10 11 12 13 14 15]\n"
     ]
    }
   ],
   "source": [
    "# Insira a resposta abaixo.\n",
    "result = np.linspace(0,15,16,dtype=int)\n",
    "print(result)"
   ]
  },
  {
   "cell_type": "markdown",
   "metadata": {
    "colab_type": "text",
    "id": "gJY_WOENd6HG"
   },
   "source": [
    "5 - Utilize o array criado anteriormente para exibir o tipo de dado antes e após convertê-lo para um tipo float. Em seguida, converta novamente o array para um tipo de dado inteiro de 32 bits e exiba o tipo numérico  atual."
   ]
  },
  {
   "cell_type": "code",
   "execution_count": 16,
   "metadata": {
    "colab": {
     "base_uri": "https://localhost:8080/",
     "height": 68
    },
    "colab_type": "code",
    "id": "2wPQee-td6Me",
    "outputId": "cbf3eaf5-2a77-4b37-ddba-42f03557a8af"
   },
   "outputs": [
    {
     "name": "stdout",
     "output_type": "stream",
     "text": [
      "int32\n",
      "float64\n",
      "int32\n"
     ]
    }
   ],
   "source": [
    "# Insira a resposta abaixo.\n",
    "\n",
    "#int64\n",
    "print(result.dtype)\n",
    "\n",
    "#conversão\n",
    "result = result.astype('float64') \n",
    "\n",
    "#float64\n",
    "print(result.dtype)\n",
    "\n",
    "#conversao\n",
    "result = result.astype('int32') \n",
    "\n",
    "#int32\n",
    "print(result.dtype)"
   ]
  },
  {
   "cell_type": "markdown",
   "metadata": {
    "colab_type": "text",
    "id": "2ziDHfRniNJO"
   },
   "source": [
    "6 - A partir do último array utilizado anteriormente, realize os seguintes procedimentos:\n",
    "\n",
    "1. Exiba o formato atual do array.\n",
    "2. Altere o formato para (4, 4).\n",
    "3. Exiba novamente o formato do array após redimensioná-lo."
   ]
  },
  {
   "cell_type": "code",
   "execution_count": 17,
   "metadata": {
    "colab": {
     "base_uri": "https://localhost:8080/",
     "height": 119
    },
    "colab_type": "code",
    "id": "XwO6gC8HiNP-",
    "outputId": "20c3c4ec-2a52-49f9-9239-019252c5a542"
   },
   "outputs": [
    {
     "name": "stdout",
     "output_type": "stream",
     "text": [
      "(16,)\n",
      "(4, 4)\n"
     ]
    }
   ],
   "source": [
    "# Insira a resposta abaixo.\n",
    "\n",
    "# Passo 1 \n",
    "print(result.shape)\n",
    "# Passo 2\n",
    "result = result.reshape(4,4)\n",
    "# Passo 3\n",
    "print(result.shape)"
   ]
  },
  {
   "cell_type": "markdown",
   "metadata": {
    "colab_type": "text",
    "id": "0nPZclb0iM5g"
   },
   "source": [
    "7 - Compute a média, mediana e o desvio padrão do array resultante da questão anterior."
   ]
  },
  {
   "cell_type": "code",
   "execution_count": 18,
   "metadata": {
    "colab": {
     "base_uri": "https://localhost:8080/",
     "height": 68
    },
    "colab_type": "code",
    "id": "FU6RU4zdiNAH",
    "outputId": "bc97761d-6a82-4d48-ccd0-1b5853381613"
   },
   "outputs": [
    {
     "name": "stdout",
     "output_type": "stream",
     "text": [
      "7.5\n",
      "7.5\n",
      "4.6097722286464435\n"
     ]
    }
   ],
   "source": [
    "# Insira a resposta abaixo.\n",
    "print(np.mean(result))\n",
    "print(np.median(result))\n",
    "print(np.std(result))"
   ]
  },
  {
   "cell_type": "markdown",
   "metadata": {
    "colab_type": "text",
    "id": "qAoocu6Gpe2e"
   },
   "source": [
    "8 - Crie uma cópia do array atual  e transforme todos os números em valores negativos."
   ]
  },
  {
   "cell_type": "code",
   "execution_count": 24,
   "metadata": {
    "colab": {
     "base_uri": "https://localhost:8080/",
     "height": 85
    },
    "colab_type": "code",
    "id": "-8nm9e13pe9L",
    "outputId": "68becbcf-4945-4eb5-afab-b2cc2c64aa1a"
   },
   "outputs": [
    {
     "data": {
      "text/plain": [
       "array([[  0,  -1,  -2,  -3],\n",
       "       [ -4,  -5,  -6,  -7],\n",
       "       [ -8,  -9, -10, -11],\n",
       "       [-12, -13, -14, -15]])"
      ]
     },
     "execution_count": 24,
     "metadata": {},
     "output_type": "execute_result"
    }
   ],
   "source": [
    "# Insira a resposta abaixo.\n",
    "NewResult = result.copy()\n",
    "NewResult = NewResult*-1\n",
    "NewResult"
   ]
  },
  {
   "cell_type": "markdown",
   "metadata": {
    "colab_type": "text",
    "id": "pRzaEWYD9_S5"
   },
   "source": [
    "9 - Realize os seguintes procedimentos:\n",
    "1. Concatene verticalmente (*row-wise*) o array de números positivos com o array de números negativos.\n",
    "2.  Concatene horizontalmente (*column-wise*) o array resultante do passo 1 com ele mesmo. \n",
    "3. Concatene em profundidade três cópias do array resultante do passo anterior, exibindo o formato final."
   ]
  },
  {
   "cell_type": "code",
   "execution_count": 25,
   "metadata": {
    "colab": {
     "base_uri": "https://localhost:8080/",
     "height": 68
    },
    "colab_type": "code",
    "id": "1MfG1qNZlmww",
    "outputId": "621ed809-5807-4b65-cffe-b47c929e0f67"
   },
   "outputs": [
    {
     "name": "stdout",
     "output_type": "stream",
     "text": [
      "(8, 4)\n",
      "(8, 8)\n",
      "(3, 8, 8)\n"
     ]
    }
   ],
   "source": [
    "# Insira a resposta abaixo.\n",
    "\n",
    "# Passo 1\n",
    "result2 = np.vstack((result,NewResult))\n",
    "print(np.shape(result2))\n",
    "\n",
    "\n",
    "# Passo 2\n",
    "result3 = np.hstack((result2,result2))\n",
    "print(np.shape(result3))\n",
    "\n",
    "\n",
    "# Passo 3\n",
    "result4 = np.stack((result3,result3,result3))\n",
    "print(np.shape(result4))"
   ]
  },
  {
   "cell_type": "markdown",
   "metadata": {
    "colab_type": "text",
    "id": "EqJGutyuqOQP"
   },
   "source": [
    "10 - Utilize o array do passo 1 da questão anterior e transforme os valores da segunda e terceira colunas em 1."
   ]
  },
  {
   "cell_type": "code",
   "execution_count": 27,
   "metadata": {
    "colab": {
     "base_uri": "https://localhost:8080/",
     "height": 153
    },
    "colab_type": "code",
    "id": "TqhdooB0qOXv",
    "outputId": "e55f3f1a-8508-4081-982a-e9ccbcfded51"
   },
   "outputs": [
    {
     "name": "stdout",
     "output_type": "stream",
     "text": [
      "[[  0   1   1   3]\n",
      " [  4   1   1   7]\n",
      " [  8   1   1  11]\n",
      " [ 12   1   1  15]\n",
      " [  0   1   1  -3]\n",
      " [ -4   1   1  -7]\n",
      " [ -8   1   1 -11]\n",
      " [-12   1   1 -15]]\n"
     ]
    }
   ],
   "source": [
    "# Insira a resposta abaixo.\n",
    "result2[:,1:3] = 1\n",
    "print(result2)"
   ]
  },
  {
   "cell_type": "markdown",
   "metadata": {
    "colab_type": "text",
    "id": "f0MyTxFXroNr"
   },
   "source": [
    "11 - Adicione 2.5 a todos os valores presentes no array resultante da etapa anterior."
   ]
  },
  {
   "cell_type": "code",
   "execution_count": 28,
   "metadata": {
    "colab": {
     "base_uri": "https://localhost:8080/",
     "height": 153
    },
    "colab_type": "code",
    "id": "kgfy9kHEroVi",
    "outputId": "46ac7165-7cda-4c20-e701-75250bf655eb"
   },
   "outputs": [
    {
     "name": "stdout",
     "output_type": "stream",
     "text": [
      "[[  2.5   3.5   3.5   5.5]\n",
      " [  6.5   3.5   3.5   9.5]\n",
      " [ 10.5   3.5   3.5  13.5]\n",
      " [ 14.5   3.5   3.5  17.5]\n",
      " [  2.5   3.5   3.5  -0.5]\n",
      " [ -1.5   3.5   3.5  -4.5]\n",
      " [ -5.5   3.5   3.5  -8.5]\n",
      " [ -9.5   3.5   3.5 -12.5]]\n"
     ]
    }
   ],
   "source": [
    "# Insira a resposta abaixo.\n",
    "result2 = result2 + 2.5\n",
    "print(result2)"
   ]
  },
  {
   "cell_type": "markdown",
   "metadata": {
    "colab_type": "text",
    "id": "_1sAVEKf-Adl"
   },
   "source": [
    "12 - Apresente uma contagem dos valores únicos que estão presentes no array criado na questão anterior. \n",
    " \n",
    " Siga o seguinte template: \"Quantidade de ocorrências do elemento {}: {}\""
   ]
  },
  {
   "cell_type": "code",
   "execution_count": 29,
   "metadata": {
    "colab": {
     "base_uri": "https://localhost:8080/",
     "height": 289
    },
    "colab_type": "code",
    "id": "VGgNM6Nf-Aj0",
    "outputId": "6800148f-86c7-4f59-8ac0-9fec4b85e1b0"
   },
   "outputs": [
    {
     "name": "stdout",
     "output_type": "stream",
     "text": [
      "Quantidade de ocorrências do elemento -12.5: 1\n",
      "Quantidade de ocorrências do elemento -9.5: 1\n",
      "Quantidade de ocorrências do elemento -8.5: 1\n",
      "Quantidade de ocorrências do elemento -5.5: 1\n",
      "Quantidade de ocorrências do elemento -4.5: 1\n",
      "Quantidade de ocorrências do elemento -1.5: 1\n",
      "Quantidade de ocorrências do elemento -0.5: 1\n",
      "Quantidade de ocorrências do elemento 2.5: 2\n",
      "Quantidade de ocorrências do elemento 3.5: 16\n",
      "Quantidade de ocorrências do elemento 5.5: 1\n",
      "Quantidade de ocorrências do elemento 6.5: 1\n",
      "Quantidade de ocorrências do elemento 9.5: 1\n",
      "Quantidade de ocorrências do elemento 10.5: 1\n",
      "Quantidade de ocorrências do elemento 13.5: 1\n",
      "Quantidade de ocorrências do elemento 14.5: 1\n",
      "Quantidade de ocorrências do elemento 17.5: 1\n"
     ]
    }
   ],
   "source": [
    "# Insira a resposta abaixo.\n",
    "\n",
    "contador = list(np.unique(result2, return_counts=True))\n",
    "\n",
    "for element in range(len(contador[0])):\n",
    "  print(\"Quantidade de ocorrências do elemento {}: {}\".format(contador[0][element],contador[1][element]))\n"
   ]
  },
  {
   "cell_type": "markdown",
   "metadata": {
    "colab_type": "text",
    "id": "zyQGpUvQiNW-"
   },
   "source": [
    "13 - Realize as seguintes operações:\n",
    "1. Crie uma matriz com valor 3 em todas as posições com dimensionalidade (4, 2).\n",
    "2. Crie uma matriz identidade de dimensionalidade (4, 4).\n",
    "3. Compute o produto entre a transposta da primeira matriz e a matriz identidade, apresentando o resultado final."
   ]
  },
  {
   "cell_type": "code",
   "execution_count": 31,
   "metadata": {
    "colab": {
     "base_uri": "https://localhost:8080/",
     "height": 51
    },
    "colab_type": "code",
    "id": "ncBYLgsSiNdm",
    "outputId": "f7facfc4-75bc-4779-b218-5f90d0c7db1c"
   },
   "outputs": [
    {
     "name": "stdout",
     "output_type": "stream",
     "text": [
      "[[3. 3. 3. 3.]\n",
      " [3. 3. 3. 3.]]\n"
     ]
    }
   ],
   "source": [
    "# Insira a resposta abaixo.\n",
    "\n",
    "# Passo 1\n",
    "r1 = np.ones((4,2))*3\n",
    "# print(a)\n",
    "# Passo 2\n",
    "r2 = np.eye(4)\n",
    "# print(b)\n",
    "# Passo 3\n",
    "r3 = np.dot(r1.T,r2)\n",
    "print(r3)"
   ]
  },
  {
   "cell_type": "markdown",
   "metadata": {
    "colab_type": "text",
    "id": "HxFz7WugiOiT"
   },
   "source": [
    "14 - Realize as seguintes operações:\n",
    "1. Crie uma nova matriz de valores inteiros de 25 até 49 com dimensionalidade (5,5).\n",
    "2. Crie uma nova matriz com valores uniformemente espaçados entre 0 e 1 e defina a sua dimensionalidade em (5,1).\n",
    "3. Concatene horizontalmente as duas matrizes criadas anteriormente."
   ]
  },
  {
   "cell_type": "code",
   "execution_count": 36,
   "metadata": {
    "colab": {
     "base_uri": "https://localhost:8080/",
     "height": 102
    },
    "colab_type": "code",
    "id": "nzxfA0UNZ9Fv",
    "outputId": "9daedab0-d30e-4cbd-cb4e-c804e15acc76"
   },
   "outputs": [
    {
     "name": "stdout",
     "output_type": "stream",
     "text": [
      "[[25.   26.   27.   28.   29.    0.  ]\n",
      " [30.   31.   32.   33.   34.    0.25]\n",
      " [35.   36.   37.   38.   39.    0.5 ]\n",
      " [40.   41.   42.   43.   44.    0.75]\n",
      " [45.   46.   47.   48.   49.    1.  ]]\n"
     ]
    }
   ],
   "source": [
    "# Insira a resposta abaixo.\n",
    "# Passo 1\n",
    "r1 = list(range(25,50))\n",
    "r1 = np.array(r1).reshape(5,5)\n",
    "\n",
    "# Passo 2\n",
    "r2 = np.array(np.linspace(0,1,5)).reshape(5,1)\n",
    "\n",
    "# Passo 3\n",
    "r3 = np.hstack((r1 , r2))\n",
    "print(r3)"
   ]
  },
  {
   "cell_type": "markdown",
   "metadata": {
    "colab_type": "text",
    "id": "6897aBLlcw8E"
   },
   "source": [
    "15 - Crie uma nova matriz com dimensionalidade (5,1) com números uniformemente espaçados utilizando um espaço logarítmico ao invés de um espaço linear. "
   ]
  },
  {
   "cell_type": "code",
   "execution_count": 37,
   "metadata": {
    "colab": {
     "base_uri": "https://localhost:8080/",
     "height": 102
    },
    "colab_type": "code",
    "id": "bUZNJgYHcxKR",
    "outputId": "8fe37bf9-171a-40fb-e2fa-908a8e4ad706"
   },
   "outputs": [
    {
     "name": "stdout",
     "output_type": "stream",
     "text": [
      "[[ 1.        ]\n",
      " [ 1.77827941]\n",
      " [ 3.16227766]\n",
      " [ 5.62341325]\n",
      " [10.        ]]\n"
     ]
    }
   ],
   "source": [
    "# Insira a resposta abaixo.\n",
    "result = np.array(np.logspace(0,1,5)).reshape(5,1)\n",
    "print(result)"
   ]
  },
  {
   "cell_type": "markdown",
   "metadata": {
    "colab_type": "text",
    "id": "R-V4DIT5k3db"
   },
   "source": [
    "16 - Crie uma função que receba um array e adicione uma borda composta de zeros nos quatro lados do array. Utilize o array resultante da questão anterior para testar o método criado. "
   ]
  },
  {
   "cell_type": "code",
   "execution_count": 42,
   "metadata": {
    "colab": {
     "base_uri": "https://localhost:8080/",
     "height": 136
    },
    "colab_type": "code",
    "id": "jCPkpBUfiQvF",
    "outputId": "59bda8db-3fba-4f55-eeea-fbb34561f80b"
   },
   "outputs": [
    {
     "name": "stdout",
     "output_type": "stream",
     "text": [
      "[[ 0.          0.          0.        ]\n",
      " [ 0.          1.          0.        ]\n",
      " [ 0.          1.77827941  0.        ]\n",
      " [ 0.          3.16227766  0.        ]\n",
      " [ 0.          5.62341325  0.        ]\n",
      " [ 0.         10.          0.        ]\n",
      " [ 0.          0.          0.        ]]\n"
     ]
    }
   ],
   "source": [
    "# Insira a resposta abaixo.\n",
    "def bordaZeros(array):\n",
    "  linha, coluna = np.shape(array)\n",
    "  a = np.zeros(linha+2).reshape((linha+2,1))\n",
    "  b = np.zeros(coluna)\n",
    "  c = np.vstack((b,array,b))\n",
    "  c = np.hstack((a,c,a))\n",
    "  return c\n",
    "\n",
    "array = bordaZeros(result)\n",
    "print(array)"
   ]
  },
  {
   "cell_type": "markdown",
   "metadata": {
    "colab_type": "text",
    "id": "pfhKurRymAve"
   },
   "source": [
    "17 - Crie um array de 36 números aleatórios oriundos de uma distribuição normal. Exiba o valor máximo, mínimo, a média e o desvio padrão desse array."
   ]
  },
  {
   "cell_type": "code",
   "execution_count": 43,
   "metadata": {
    "colab": {
     "base_uri": "https://localhost:8080/",
     "height": 187
    },
    "colab_type": "code",
    "id": "ocDrzobIlEFE",
    "outputId": "5336dafb-97e7-4f2b-db76-c1d6f85c0881"
   },
   "outputs": [
    {
     "name": "stdout",
     "output_type": "stream",
     "text": [
      "[ 0.63158617  0.96198484 -1.0007282   0.21235347 -2.25927631  0.27183081\n",
      "  0.45207378  1.62366452 -0.33570206  0.02962207 -0.13697451  0.75688981\n",
      " -1.2230027  -0.43186471 -1.07143011 -0.87918718 -0.70380906  0.85575031\n",
      "  0.17515803  0.39827831  1.12176432  0.73652773 -0.93147906 -0.37211824\n",
      " -0.30821323  0.65525103 -2.00776713 -0.0739101   0.38214232 -0.49833133\n",
      "  0.86602114 -1.02216918 -0.03798666 -1.03137778  0.55517166  1.42071734]\n",
      "1.6236645221768515\n",
      "-2.259276308591009\n",
      "-0.061626108331644947\n",
      "0.8964017600142635\n"
     ]
    }
   ],
   "source": [
    "# Insira a resposta abaixo.\n",
    "array36 = np.random.randn(36)\n",
    "\n",
    "print(array36)\n",
    "\n",
    "print(np.max(array36))\n",
    "\n",
    "print(np.min(array36))\n",
    "\n",
    "print(np.mean(array36))\n",
    "\n",
    "print(np.std(array36))"
   ]
  },
  {
   "cell_type": "markdown",
   "metadata": {
    "colab_type": "text",
    "id": "-xPxpBp0rAnP"
   },
   "source": [
    "18 - Crie uma matriz de dimensões (50,50) com valores aleatórios entre 0 e 1 (distribuição uniforme). Exiba as duas últimas linhas da matriz.\n"
   ]
  },
  {
   "cell_type": "code",
   "execution_count": 46,
   "metadata": {
    "colab": {
     "base_uri": "https://localhost:8080/",
     "height": 323
    },
    "colab_type": "code",
    "id": "ESCDN7hRhVSb",
    "outputId": "e2000fe9-3781-4195-cfda-79164eef5d02"
   },
   "outputs": [
    {
     "name": "stdout",
     "output_type": "stream",
     "text": [
      "[[ 0.97628298  2.59830892 -0.2213427  -0.95835251 -1.65846219 -1.06463264\n",
      "   0.12559318  1.35086682  0.32096175  1.00467462 -1.12095493  0.43396271\n",
      "   2.42131577  0.16146121 -0.22715118 -0.80200763  0.54549198 -0.00550069\n",
      "   0.08407323 -0.53026959  0.82226072  0.15639497 -0.26901185  0.17750832\n",
      "  -0.5076585  -0.30723174  1.09889149 -1.85799375  0.24186573  0.78145567\n",
      "  -1.15508501 -1.21858995  0.15266128  0.73394525  1.35264274  0.36285398\n",
      "  -0.62139899 -1.27156772  1.26238747  0.38616315  0.19996896  2.75700191\n",
      "  -0.05572879  1.32542434 -1.77280079  0.98060595 -1.19051278 -0.07842822\n",
      "   2.30497025  1.8265061 ]\n",
      " [-1.37144262 -1.23918213  1.31067399  1.02690092 -0.50571242  0.46635362\n",
      "   0.86358999  0.18017898  1.28715467  0.83913747  0.77076008  0.49651384\n",
      "   0.85991721  0.66294805 -0.5913271   0.22759916  0.60803427 -1.00014311\n",
      "  -0.44791806 -0.35310495  0.26329223  0.55046068  0.49313059 -0.5529045\n",
      "  -1.49496731 -0.77844681  1.19090722 -0.9485041   0.02383094  0.84306749\n",
      "  -0.02008797 -1.32227262 -0.74161326 -2.20388569 -0.85400076 -0.13935666\n",
      "   0.31100449  1.32703471  0.30001897  0.43679586  1.08457769  0.82318271\n",
      "   0.67224857 -0.31664523  0.40606005 -0.30484699  0.29254336 -1.31076143\n",
      "  -1.91762731  0.64085017]]\n"
     ]
    }
   ],
   "source": [
    "# Insira a resposta abaixo.\n",
    "matriz50 = np.random.normal(size=50*50)\n",
    "matriz50 = matriz50.reshape((50,50))\n",
    "print(matriz50[-2:])"
   ]
  },
  {
   "cell_type": "markdown",
   "metadata": {
    "colab_type": "text",
    "id": "UVN8kv2setze"
   },
   "source": [
    "19 - Utilize o array de números aleatórios anterior e apresenta a soma de cada coluna. Em seguida, apresente a soma de cada linha."
   ]
  },
  {
   "cell_type": "code",
   "execution_count": 47,
   "metadata": {
    "colab": {
     "base_uri": "https://localhost:8080/",
     "height": 867
    },
    "colab_type": "code",
    "id": "Jh_CFf93et59",
    "outputId": "ef922a71-d9c1-4631-9149-78a328f5fd0f"
   },
   "outputs": [
    {
     "name": "stdout",
     "output_type": "stream",
     "text": [
      "-16.884876208101925\n",
      "3.537295527784801\n",
      "-0.032660183825403255\n",
      "11.828115998746956\n",
      "9.671433069952261\n",
      "-2.327210308852239\n",
      "4.233631292995204\n",
      "-17.4903066378982\n",
      "-4.145309762131462\n",
      "-5.382766907096664\n",
      "11.156068407235354\n",
      "-1.7753638754189607\n",
      "-2.6883145147548775\n",
      "-6.696047413036801\n",
      "-1.9356135478043928\n",
      "-9.275587531020737\n",
      "4.874019400609314\n",
      "7.712167298747717\n",
      "6.138312697899272\n",
      "-10.145458412798934\n",
      "-10.172171337954056\n",
      "5.515247208265578\n",
      "14.301622767107604\n",
      "4.985638225413654\n",
      "-1.7629104111865508\n",
      "1.4447617299918267\n",
      "-1.0774264285182293\n",
      "-0.9717243567113586\n",
      "4.3349701606285\n",
      "1.328540948955085\n",
      "10.413170357182532\n",
      "-13.080204530542762\n",
      "-5.789996111338443\n",
      "-11.513811103109377\n",
      "10.946057847460033\n",
      "0.07800918701623749\n",
      "-17.15998046718884\n",
      "2.450718887176251\n",
      "-14.775158181124553\n",
      "5.359687470429452\n",
      "11.683260191584893\n",
      "-6.178638815698974\n",
      "-3.8459734524057034\n",
      "-13.351800292070447\n",
      "5.003949860592075\n",
      "2.3448552397944997\n",
      "10.976988499722614\n",
      "-0.2339944331528323\n",
      "-5.566765372451552\n",
      "6.206294148667408\n"
     ]
    }
   ],
   "source": [
    "# Insira a reposta abaixo.\n",
    "for i in range(np.shape(matriz50)[1]):\n",
    "  print(np.sum(matriz50[:,i]))"
   ]
  },
  {
   "cell_type": "code",
   "execution_count": 51,
   "metadata": {
    "colab": {
     "base_uri": "https://localhost:8080/",
     "height": 867
    },
    "colab_type": "code",
    "id": "l6SZIr853JQ0",
    "outputId": "582e7e93-9f29-4b8d-942e-5e5f2aa421aa"
   },
   "outputs": [
    {
     "name": "stdout",
     "output_type": "stream",
     "text": [
      "-2.85232199505591\n",
      "-2.031127778084529\n",
      "0.8806355931488365\n",
      "14.30476052377656\n",
      "-2.55384144109847\n",
      "4.909645828532158\n",
      "-9.466124865223014\n",
      "-15.282704146098077\n",
      "3.5539574457918235\n",
      "6.434517779353337\n",
      "-9.861444620425669\n",
      "3.947788228328105\n",
      "0.5659495184832444\n",
      "-9.273043867291708\n",
      "-0.8787498869190089\n",
      "1.383402053596793\n",
      "1.9043238817097712\n",
      "-12.007761673683103\n",
      "-7.520032646366329\n",
      "-2.587831565622321\n",
      "8.114316597529283\n",
      "4.494809244119508\n",
      "0.28212231040227664\n",
      "-2.8752777036312405\n",
      "-10.382436694103525\n",
      "-12.83826846991817\n",
      "5.225612746275143\n",
      "-0.1754760976579382\n",
      "7.18608837068293\n",
      "8.557184297348446\n",
      "2.3779696021267096\n",
      "-4.161190582896664\n",
      "4.911705765246915\n",
      "-6.6543073914772295\n",
      "-5.66869710214384\n",
      "0.6946915948278247\n",
      "4.542431319424173\n",
      "7.663677162508236\n",
      "-12.229165938775013\n",
      "-4.440973380849023\n",
      "-7.799541263062137\n",
      "0.359635024111832\n",
      "1.1182278917961375\n",
      "7.597222283135819\n",
      "-1.0576795161723513\n",
      "-11.355341590553593\n",
      "4.437331783518403\n",
      "9.874242906292162\n",
      "10.051819312982978\n",
      "0.8440169798243035\n"
     ]
    }
   ],
   "source": [
    "for i in range(np.shape(matriz50)[0]):\n",
    "  print(np.sum(matriz50[i,:]))"
   ]
  },
  {
   "cell_type": "markdown",
   "metadata": {
    "colab_type": "text",
    "id": "Q3xEYT7JbNfa"
   },
   "source": [
    "20 - Escreve uma função que receba um array como entrada e uma probabilidade *p* entre 0 e 1.  Existe uma probabilidade *p* de que a função retorne o logaritmo do array, caso contrário o array original deve ser retornado. Teste a função utilizando o array da questão anterior. Dica: considere utilizar a biblioteca random do numpy."
   ]
  },
  {
   "cell_type": "code",
   "execution_count": 53,
   "metadata": {
    "colab": {},
    "colab_type": "code",
    "id": "3AjD10aHbNsK"
   },
   "outputs": [],
   "source": [
    "# Insira a resposta abaixo.\n",
    "def probabilidade(array, probabilidade):\n",
    "  if probabilidade <= 1 and probabilidade >= 0:\n",
    "    rand = np.random.random()\n",
    "    if rand <= probabilidade: return np.log(array)\n",
    "    else: return matriz50\n",
    "\n",
    "  else:\n",
    "    return 'Por favor informar uma probabilidade entre 0 e 1 !!!'"
   ]
  },
  {
   "cell_type": "code",
   "execution_count": 56,
   "metadata": {
    "colab": {
     "base_uri": "https://localhost:8080/",
     "height": 530
    },
    "colab_type": "code",
    "id": "QMQmw7sU5P4e",
    "outputId": "0404953e-1253-491c-d536-f074ac531a60"
   },
   "outputs": [
    {
     "name": "stdout",
     "output_type": "stream",
     "text": [
      "[[        nan  0.76254512 -0.61496938 ...         nan         nan\n",
      "  -0.13997909]\n",
      " [        nan         nan         nan ... -2.38145762         nan\n",
      "   0.08566694]\n",
      " [        nan -1.04861959         nan ...         nan  0.01925729\n",
      "   0.4188692 ]\n",
      " ...\n",
      " [-1.61116526         nan -1.97141765 ...         nan  0.88674976\n",
      "  -0.63369228]\n",
      " [-0.0240028   0.95486082         nan ...         nan  0.83506777\n",
      "   0.60240491]\n",
      " [        nan         nan  0.2705415  ...         nan         nan\n",
      "  -0.4449596 ]]\n",
      "[[-2.39457883  2.14372532  0.54065745 ... -0.04652025 -0.81424004\n",
      "   0.86937641]\n",
      " [-0.32797832 -1.35232317 -0.64116307 ...  0.09241577 -0.4791611\n",
      "   1.08944342]\n",
      " [-1.79070674  0.35042114 -0.0801644  ... -0.09572213  1.01944391\n",
      "   1.52024149]\n",
      " ...\n",
      " [ 0.19965483 -0.04187994  0.1392593  ... -0.09486388  2.42722775\n",
      "   0.53062895]\n",
      " [ 0.97628298  2.59830892 -0.2213427  ... -0.07842822  2.30497025\n",
      "   1.8265061 ]\n",
      " [-1.37144262 -1.23918213  1.31067399 ... -1.31076143 -1.91762731\n",
      "   0.64085017]]\n",
      "Por favor informar uma probabilidade entre 0 e 1 !!!\n"
     ]
    },
    {
     "name": "stderr",
     "output_type": "stream",
     "text": [
      "C:\\Users\\gfsilva\\AppData\\Local\\Continuum\\anaconda3\\lib\\site-packages\\ipykernel_launcher.py:5: RuntimeWarning: invalid value encountered in log\n",
      "  \"\"\"\n"
     ]
    }
   ],
   "source": [
    "print(probabilidade(matriz50,1))\n",
    "print(probabilidade(matriz50,0.2))\n",
    "print(probabilidade(matriz50,2))"
   ]
  },
  {
   "cell_type": "markdown",
   "metadata": {
    "colab_type": "text",
    "id": "X0LOUFwUjp3k"
   },
   "source": [
    "21 - Crie dois arrays de 30 elementos contendo números aleatórios entre 1 e 3. Utilize os dois arrays  para derivar um novo array contendo uma comparação entre os valores de forma a indicar True caso elementos em uma mesma posição apresentam o mesmo valor e False caso contrário. Dica: não é necessário utilizar uma estrutura de repetição.\n",
    "\n",
    "Exemplo.:\n",
    "\n",
    "*inputs*:\n",
    "\n",
    "array([1,3,2])\n",
    "\n",
    "array([1,2,2])\n",
    "\n",
    "*output*:\n",
    "\n",
    "array([True, False, True])"
   ]
  },
  {
   "cell_type": "code",
   "execution_count": 57,
   "metadata": {
    "colab": {
     "base_uri": "https://localhost:8080/",
     "height": 34
    },
    "colab_type": "code",
    "id": "K4Z1Ls-LjqSY",
    "outputId": "59c05427-4c00-4773-ad98-9ec34b7afaff"
   },
   "outputs": [
    {
     "name": "stdout",
     "output_type": "stream",
     "text": [
      "[2 3 3 2 2 1 1 3 1 2 2 1 3 3 1 2 2 1 3 1 2 1 3 1 3 3 2 2 3 3]\n"
     ]
    }
   ],
   "source": [
    "# Insira a resposta abaixo.\n",
    "a1 = np.random.randint(1,4,30)\n",
    "a2 = np.random.randint(1,4,30)\n",
    "print(a2)"
   ]
  },
  {
   "cell_type": "markdown",
   "metadata": {
    "colab_type": "text",
    "id": "NLNhhMT7kZrf"
   },
   "source": [
    "22 - Compare os dois arrays acima de forma a retornar de uma única só vez um valor booleando indicando se todos os valores contidos em ambos os objetos são iguais."
   ]
  },
  {
   "cell_type": "code",
   "execution_count": 58,
   "metadata": {
    "colab": {
     "base_uri": "https://localhost:8080/",
     "height": 68
    },
    "colab_type": "code",
    "id": "eLvTlf2TkZ4S",
    "outputId": "994c7a66-4064-4e61-8947-f7dc3b1e19de"
   },
   "outputs": [
    {
     "name": "stdout",
     "output_type": "stream",
     "text": [
      "[ True  True  True  True False False False  True  True False  True  True\n",
      " False False False False  True False  True False  True  True  True False\n",
      " False  True False False False False]\n"
     ]
    }
   ],
   "source": [
    "# Insira a resposta abaixo.\n",
    "#primeiro caso\n",
    "print(a1 == a2)"
   ]
  },
  {
   "cell_type": "markdown",
   "metadata": {
    "colab_type": "text",
    "id": "VwNBP2TVUd0c"
   },
   "source": [
    "23 - Realize os seguintes procedimentos:\n",
    "\n",
    "1. Crie um array com formato 5x5 contendo somente valores verdadeiros. \n",
    "2. Dado que se conhece o número de linhas e colunas do array, selecione aleatoriamente trẽs coordenadas (pode haver repetição de coordenadas) e as transforme em False.\n",
    "3. Crie um array de dimensionalidade 5x5 a partir de um intervalo com valores de 0 até 24.\n",
    "4. Utilize o array booleano para indexar o array criado no passo anterior."
   ]
  },
  {
   "cell_type": "code",
   "execution_count": 61,
   "metadata": {
    "colab": {
     "base_uri": "https://localhost:8080/",
     "height": 187
    },
    "colab_type": "code",
    "id": "Lr8gNlt8UeQL",
    "outputId": "ac60321f-7942-4f0e-c14a-62638e12931a"
   },
   "outputs": [
    {
     "name": "stdout",
     "output_type": "stream",
     "text": [
      "[[ True  True False  True  True]\n",
      " [ True  True  True  True  True]\n",
      " [False  True  True  True  True]\n",
      " [ True False  True  True  True]\n",
      " [ True  True  True  True  True]]\n",
      "[[ 0  1  2  3  4]\n",
      " [ 5  6  7  8  9]\n",
      " [10 11 12 13 14]\n",
      " [15 16 17 18 19]\n",
      " [20 21 22 23 24]]\n"
     ]
    }
   ],
   "source": [
    "# Insira a resposta abaixo.\n",
    "\n",
    "# Passo 1\n",
    "a = np.ones((5,5),dtype=bool)\n",
    "# print(a)\n",
    "\n",
    "# Passo 2\n",
    "lin, col = np.shape(a)\n",
    "for i in range(3):\n",
    "  a[np.random.randint(0,lin),np.random.randint(0,col)] = False\n",
    "print(a)\n",
    "\n",
    "# Passo 3\n",
    "b = np.array(range(25)).reshape(5,5)\n",
    "print(b)\n",
    "\n",
    "# Passo 4\n"
   ]
  }
 ],
 "metadata": {
  "colab": {
   "collapsed_sections": [],
   "name": "Exercicios_Parte02-NUMPY_Perguntas_ Renan_Santos.ipynb",
   "provenance": [],
   "toc_visible": true
  },
  "kernelspec": {
   "display_name": "Python 3",
   "language": "python",
   "name": "python3"
  },
  "language_info": {
   "codemirror_mode": {
    "name": "ipython",
    "version": 3
   },
   "file_extension": ".py",
   "mimetype": "text/x-python",
   "name": "python",
   "nbconvert_exporter": "python",
   "pygments_lexer": "ipython3",
   "version": "3.6.7"
  }
 },
 "nbformat": 4,
 "nbformat_minor": 1
}
