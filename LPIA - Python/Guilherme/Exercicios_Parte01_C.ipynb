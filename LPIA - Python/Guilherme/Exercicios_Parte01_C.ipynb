{
 "cells": [
  {
   "cell_type": "markdown",
   "metadata": {
    "colab_type": "text",
    "id": "-S18HnsCtKqj"
   },
   "source": [
    "## Funções"
   ]
  },
  {
   "cell_type": "markdown",
   "metadata": {
    "colab_type": "text",
    "id": "cA_GKn6o46WH"
   },
   "source": [
    "33 - Crie uma função que calcule o fatorial de um número passado como argumento. Caso o número seja negativo, retorne um valor nulo. Caso positivo, retorne o resultado do fatorial. Dica: utilize recursividade e lembre-se de considerar que o fatorial de 0 é 1.\n"
   ]
  },
  {
   "cell_type": "code",
   "execution_count": 1,
   "metadata": {
    "colab": {
     "base_uri": "https://localhost:8080/",
     "height": 122
    },
    "colab_type": "code",
    "id": "_hs1s18U45_P",
    "outputId": "e869dc96-0af2-48ef-d88a-b87d6a8c0fc7"
   },
   "outputs": [
    {
     "name": "stdout",
     "output_type": "stream",
     "text": [
      "Fatorial de -1 é: None\n",
      "Fatorial de 0 é: 1\n",
      "Fatorial de 1 é: 3628800\n"
     ]
    }
   ],
   "source": [
    "# Insira a resposta abaixo\n",
    "def fatorial(i):\n",
    "  if i<0:\n",
    "    return None\n",
    "\n",
    "  elif i==0:\n",
    "    return 1\n",
    "\n",
    "  elif i not in memo:\n",
    "    memo[i]= i*fatorial(i-1)\n",
    "\n",
    "  return memo[i]\n",
    "\n",
    "memo = {}\n",
    "\n",
    "print('Fatorial de -1 é: '+ str(fatorial(-5)))\n",
    "print('Fatorial de 0 é: '+ str(fatorial(0)))\n",
    "print('Fatorial de 1 é: '+ str(fatorial(10)))"
   ]
  },
  {
   "cell_type": "markdown",
   "metadata": {
    "colab_type": "text",
    "id": "XiVGNaWwEBRl"
   },
   "source": [
    "34 - Define uma função que receba um número arbitrário de argumentos e retorne a sua soma. Exiba o resultado de uma chamada dessa função passando como argumentos números inteiros."
   ]
  },
  {
   "cell_type": "code",
   "execution_count": 6,
   "metadata": {
    "colab": {
     "base_uri": "https://localhost:8080/",
     "height": 34
    },
    "colab_type": "code",
    "id": "0SmmOKbJIw-X",
    "outputId": "49908fd9-7799-46f4-b41f-4914c754cabc"
   },
   "outputs": [
    {
     "data": {
      "text/plain": [
       "391275"
      ]
     },
     "execution_count": 6,
     "metadata": {},
     "output_type": "execute_result"
    }
   ],
   "source": [
    "# Insira a resposta abaixo.\n",
    "\n",
    "def soma(*args):\n",
    "  return sum(args)\n",
    "\n",
    "soma(23,43565,345345,2342)"
   ]
  },
  {
   "cell_type": "markdown",
   "metadata": {
    "colab_type": "text",
    "id": "vbGhkdcjp5cm"
   },
   "source": [
    "### Funções Especiais\n",
    "\n",
    "Nessa sessão serão explorados exercícios baseados em funções especiais do Python, tais como range, lambda, map, filter, enumerate e zip."
   ]
  },
  {
   "cell_type": "markdown",
   "metadata": {
    "colab_type": "text",
    "id": "wHkgbW1ICOp_"
   },
   "source": [
    "35 - Utilize a função *range* para criar uma lista de números inteiros que vai de 100 a -100, seguindo uma ordem decrescente e com intervalos de duas unidades. Exiba a lista gerada."
   ]
  },
  {
   "cell_type": "code",
   "execution_count": 8,
   "metadata": {
    "colab": {
     "base_uri": "https://localhost:8080/",
     "height": 1000
    },
    "colab_type": "code",
    "id": "s01McQtz1Szd",
    "outputId": "7e9f0ed6-6ae0-44e6-efee-dda9be80f37c"
   },
   "outputs": [
    {
     "data": {
      "text/plain": [
       "[100,\n",
       " 98,\n",
       " 96,\n",
       " 94,\n",
       " 92,\n",
       " 90,\n",
       " 88,\n",
       " 86,\n",
       " 84,\n",
       " 82,\n",
       " 80,\n",
       " 78,\n",
       " 76,\n",
       " 74,\n",
       " 72,\n",
       " 70,\n",
       " 68,\n",
       " 66,\n",
       " 64,\n",
       " 62,\n",
       " 60,\n",
       " 58,\n",
       " 56,\n",
       " 54,\n",
       " 52,\n",
       " 50,\n",
       " 48,\n",
       " 46,\n",
       " 44,\n",
       " 42,\n",
       " 40,\n",
       " 38,\n",
       " 36,\n",
       " 34,\n",
       " 32,\n",
       " 30,\n",
       " 28,\n",
       " 26,\n",
       " 24,\n",
       " 22,\n",
       " 20,\n",
       " 18,\n",
       " 16,\n",
       " 14,\n",
       " 12,\n",
       " 10,\n",
       " 8,\n",
       " 6,\n",
       " 4,\n",
       " 2,\n",
       " 0,\n",
       " -2,\n",
       " -4,\n",
       " -6,\n",
       " -8,\n",
       " -10,\n",
       " -12,\n",
       " -14,\n",
       " -16,\n",
       " -18,\n",
       " -20,\n",
       " -22,\n",
       " -24,\n",
       " -26,\n",
       " -28,\n",
       " -30,\n",
       " -32,\n",
       " -34,\n",
       " -36,\n",
       " -38,\n",
       " -40,\n",
       " -42,\n",
       " -44,\n",
       " -46,\n",
       " -48,\n",
       " -50,\n",
       " -52,\n",
       " -54,\n",
       " -56,\n",
       " -58,\n",
       " -60,\n",
       " -62,\n",
       " -64,\n",
       " -66,\n",
       " -68,\n",
       " -70,\n",
       " -72,\n",
       " -74,\n",
       " -76,\n",
       " -78,\n",
       " -80,\n",
       " -82,\n",
       " -84,\n",
       " -86,\n",
       " -88,\n",
       " -90,\n",
       " -92,\n",
       " -94,\n",
       " -96,\n",
       " -98,\n",
       " -100]"
      ]
     },
     "execution_count": 8,
     "metadata": {},
     "output_type": "execute_result"
    }
   ],
   "source": [
    "# Insira a resposta abaixo.\n",
    "lista = list(range(100,-102,-2))\n",
    "lista"
   ]
  },
  {
   "cell_type": "markdown",
   "metadata": {
    "colab_type": "text",
    "id": "mGKZ9A4K111M"
   },
   "source": [
    "36 - Crie uma função anônima que tenha como entrada um único parâmetro e retorne a sua raiz caso o número informado seja maior ou igual a 0. Em caso de números negativos, retorne um valor nulo. Teste a função para os valores -9, 0, 9. Dica: utilize a biblioteca math para acessar operações matemáticas."
   ]
  },
  {
   "cell_type": "code",
   "execution_count": 10,
   "metadata": {
    "colab": {
     "base_uri": "https://localhost:8080/",
     "height": 68
    },
    "colab_type": "code",
    "id": "Gp-HAS1z12CO",
    "outputId": "b9dec846-7f24-4535-d904-a80518b0ab7f"
   },
   "outputs": [
    {
     "name": "stdout",
     "output_type": "stream",
     "text": [
      "None\n",
      "0.0\n",
      "3.0\n"
     ]
    }
   ],
   "source": [
    "# Insira a resposta abaixo.\n",
    "from math import sqrt\n",
    "\n",
    "raiz = lambda num : None if num < 0 else sqrt(num)\n",
    "\n",
    "print(raiz(-9))\n",
    "print(raiz(0))\n",
    "print(raiz(9))"
   ]
  },
  {
   "cell_type": "markdown",
   "metadata": {
    "colab_type": "text",
    "id": "qh2Wc1d5_r4S"
   },
   "source": [
    "37 - Uma pesquisa de satisfação dos empregados de uma determinada empresa reuniu dados referente a um questionário no qual foi computado o nível de satisfação do empregado em relação ao salário recebido. Os valores salariais estão armazenados na variávei 'salarios' e pontuação do questionário está armazenada na variável 'satisfacao_empregado'. Realize os seguintes procedimentos.\n",
    "\n",
    "1. A partir da lista satisfacao_empregados, gere uma nova lista com valores normalizados entre 0 e 1.  Fórmula para normalização: $ \\frac{x_i - x_{min}}{x_{max} - x_{min}} $\n",
    "2. Crie a seguinte função: $ f(x) = 0.0004x -0.4 $. A função recebe como entrada um unico número inteiro.\n",
    "3. Utilize a função criada no passo anterior para criar uma nova lista a partir da lista '*salarios*'. Armazene-a em uma variável denominada '*satisfacao_estimada*'.\n",
    "4. Crie uma função que receba como entrada duas listas e compute $ \\frac{1}{n}\\sum_{i=0}^{n}(a_i - b_i)^2 $. Assuma que $n$ seja o número de elementos de qualquer uma das listas e $a$ e $b$ correspondam a valores das listas em uma mesma posição $i$.\n",
    "\n",
    "Dica: considere utilizar a função map e a função anônima lambda para os procedimentos simples como, por exemplo, dos passos 1 ao 3."
   ]
  },
  {
   "cell_type": "code",
   "execution_count": 11,
   "metadata": {
    "colab": {
     "base_uri": "https://localhost:8080/",
     "height": 51
    },
    "colab_type": "code",
    "id": "MoGWCkce_r_6",
    "outputId": "bce1c2da-b9fc-48e1-c19e-9a9af4aa55ed"
   },
   "outputs": [
    {
     "name": "stdout",
     "output_type": "stream",
     "text": [
      "[0.0, 0.2, 0.4, 0.6, 0.8, 1.0]\n",
      "2.5679065925163146e-33\n"
     ]
    }
   ],
   "source": [
    "# Insira a resposta abaixo.\n",
    "salarios = [1000, 1500, 2000, 2500, 3000, 3500]\n",
    "satisfacao_empregados = [40, 50, 60, 70, 80, 90]\n",
    "\n",
    "# Insira abaixo a funcao para normalizar a lista satisfacao_empregados\n",
    "minimo = min(satisfacao_empregados)\n",
    "maximo = max(satisfacao_empregados)\n",
    "satisfacao_empregados_normalizado = list(map(lambda i:(i-minimo)/(maximo-minimo), satisfacao_empregados))\n",
    "\n",
    "#1\n",
    "print(satisfacao_empregados_normalizado)\n",
    "\n",
    "#2\n",
    "f_ = lambda x : 0.0004 * x - 0.4\n",
    "\n",
    "#3\n",
    "satisfacao_estimada = map(lambda i:f_(i), salarios)\n",
    "\n",
    "#4\n",
    "def erro_medio(lst1, lst2):\n",
    "  soma = sum([(n1 - n2)**2 for n1, n2 in zip(lst1, lst2)])\n",
    "  erro_medio = soma / len(lst1)\n",
    "  return erro_medio\n",
    "\n",
    "print(erro_medio(satisfacao_empregados_normalizado, satisfacao_estimada))"
   ]
  },
  {
   "cell_type": "markdown",
   "metadata": {
    "colab_type": "text",
    "id": "UxrISLw--kIE"
   },
   "source": [
    "38 - A partir da lista definida abaixo, filtre-a de forma que somente as palavras com menos de 3 caracteres sejam mantidas. Dica: utilize a função filter."
   ]
  },
  {
   "cell_type": "code",
   "execution_count": 12,
   "metadata": {
    "colab": {
     "base_uri": "https://localhost:8080/",
     "height": 34
    },
    "colab_type": "code",
    "id": "onMCh04A-kQF",
    "outputId": "4af9fab4-bc23-4740-ce38-6d7c95c7ba64"
   },
   "outputs": [
    {
     "name": "stdout",
     "output_type": "stream",
     "text": [
      "['in,', 'ut,', 'Nam', 'Sed', 'vel', 'a.', 'sit', 'nec', 'sem', 'mi', 'eu', 'id,', 'Ut', 'ut', 'a', 'at', 'sed', 'in', 'et.', 'et', 'ac', 'dui']\n"
     ]
    }
   ],
   "source": [
    "lista = ['tempor', 'erat,', 'in,', 'elit', 'Etiam', 'tincidunt.', 'rutrum', 'ut,', 'lacinia', 'Integer', 'Nam', 'turpis', 'Nulla', 'non.', 'vehicula', 'diam', 'porttitor', 'blandit', 'Sed', 'pharetra', 'erat', 'hendrerit', 'tristique', 'vulputate', 'faucibus.', 'augue.', 'potenti.', 'vel', 'eros', 'imperdiet,', 'a.', 'dolor.', 'pretium', 'Fusce', 'sit', 'ornare', 'Morbi', 'quis', 'fringilla', 'lobortis', 'tempus', 'mauris', 'ante,', 'lacus', 'porta.', 'faucibus,', 'quis.', 'vestibulum', 'primis', 'luctus,', 'ullamcorper.', 'augue', 'nec', 'mollis', 'lectus', 'dolor', 'sodales', 'ligula,', 'dignissim', 'sem', 'varius', 'mi', 'eu', 'elit.', 'semper', 'id,', 'tempus.', 'finibus.', 'neque', 'quam.', 'scelerisque', 'lorem', 'diam,', 'Cras', 'nisi', 'Lorem', 'leo,', 'Ut', 'ut', 'feugiat.', 'ante', 'venenatis', 'fermentum', 'congue', 'urna', 'Praesent', 'Donec', 'Vestibulum', 'purus.', 'Nullam', 'tincidunt', 'efficitur', 'velit', 'commodo.', 'iaculis', 'sed,', 'volutpat', 'amet', 'mauris.', 'odio', 'a', 'Interdum', 'neque.', 'risus', 'vitae', 'consectetur', 'adipiscing', 'at', 'Aliquam', 'molestie', 'euismod', 'odio.', 'sed', 'in', 'suscipit', 'augue,', 'sapien', 'posuere', 'euismod,', 'ipsum', 'et.', 'maximus.', 'risus,', 'Suspendisse', 'et', 'facilisis', 'elementum', 'efficitur,', 'ac', 'nulla.', 'quam', 'arcu', 'fames', 'Nunc', 'pharetra,', 'laoreet', 'ligula', 'fermentum,', 'auctor', 'tortor,', 'Curabitur', 'eget', 'finibus', 'ultrices', 'malesuada', 'purus', 'congue,', 'amet,', 'fermentum.', 'dui']\n",
    "\n",
    "# Insira a resposta abaixo.\n",
    "\n",
    "Resultado = list(filter(lambda x: x if len(x)<4 else None , lista))\n",
    "print(Resultado)"
   ]
  },
  {
   "cell_type": "markdown",
   "metadata": {
    "colab_type": "text",
    "id": "Mvu_3JcQ0JZj"
   },
   "source": [
    "39 - A partir da lista definida abaixo, gere automaticamente e exiba um dicionário enumerado do tipo:\n",
    "\n",
    "```\n",
    "dicionario = {0: 'Preprocessing', 1: 'Feature Extraction', 2: 'Feature Selection' ...}\n",
    "\n",
    "```\n",
    "\n",
    "Em seguida, gere a seguinte saída:\n",
    "\n",
    "Step 1 - Preprocessing\n",
    "\n",
    "Step 2 - Feature Extraction\n",
    "\n",
    "Step 3 - Feature Selection\n",
    "\n",
    "Step 4 - Classification\n",
    "\n",
    "Step 5 - Post Processing"
   ]
  },
  {
   "cell_type": "code",
   "execution_count": 21,
   "metadata": {
    "colab": {
     "base_uri": "https://localhost:8080/",
     "height": 204
    },
    "colab_type": "code",
    "id": "jNIHsLKw0Jhm",
    "outputId": "882c9eb1-21cf-42b2-8de1-27a6d8049a2e"
   },
   "outputs": [
    {
     "name": "stdout",
     "output_type": "stream",
     "text": [
      "Step 0 - Preprocessing\n",
      "Step 1 - Feature Extraction\n",
      "Step 2 - Feature Selection\n",
      "Step 3 - Classification\n",
      "Step 4 - Post Processing\n"
     ]
    }
   ],
   "source": [
    "lst = [\"Preprocessing\", \"Feature Extraction\", \"Feature Selection\", \"Classification\", \"Post Processing\"]\n",
    "\n",
    "# Insira a resposta abaixo.\n",
    "# Na ordem inversa\n",
    "dic = {}\n",
    "count = 0\n",
    "for item in lst:\n",
    "  dic[count]=item\n",
    "  count += 1\n",
    "    \n",
    "result = list(dic.items())\n",
    "for item in result:\n",
    "  print('Step {} - {}'.format(item[0],item[1]))"
   ]
  },
  {
   "cell_type": "markdown",
   "metadata": {
    "colab_type": "text",
    "id": "wb6C_-EszkKA"
   },
   "source": [
    "40 - Realize os seguintes procedimentos:\n",
    "1. Crie uma lista de números inteiros de 1 a 4 com incremento de 1 em 1.\n",
    "2. Crie uma lista contendo quatro strings.\n",
    "3. Utilize uma única estrutura de repetição do tipo *for* para iterar paralelamente sobre os quatro elementos de cada uma das duas listas. Exiba os elementos."
   ]
  },
  {
   "cell_type": "code",
   "execution_count": 2,
   "metadata": {
    "colab": {
     "base_uri": "https://localhost:8080/",
     "height": 85
    },
    "colab_type": "code",
    "id": "2bEJ3OYmzkQy",
    "outputId": "b86247e2-0adc-48e7-b817-690f0f793e3c"
   },
   "outputs": [
    {
     "name": "stdout",
     "output_type": "stream",
     "text": [
      "1 - a\n",
      "2 - b\n",
      "3 - c\n",
      "4 - d\n"
     ]
    }
   ],
   "source": [
    "# Insira o código abaixo.\n",
    "lista_numeros = list(range(1, 5))\n",
    "lista_strings = ['a', 'b', 'c', 'd']\n",
    "\n",
    "for i, n in zip(lista_numeros, lista_strings):\n",
    "  print(f'{i} - {n}')"
   ]
  },
  {
   "cell_type": "markdown",
   "metadata": {
    "colab_type": "text",
    "id": "4a94p1n85MRN"
   },
   "source": [
    "## Orientação  Objetos"
   ]
  },
  {
   "cell_type": "markdown",
   "metadata": {
    "colab_type": "text",
    "id": "2nkmK2xGAeIV"
   },
   "source": [
    "41 - Crie uma classe que modele um ser humano, esta deve possuir os seguintes atributos e métodos:\n",
    "* nome\n",
    "* idade\n",
    "* peso\n",
    "* altura\n",
    "* envelhecer()\n",
    "* engordar()\n",
    "* emagrecer()\n",
    "* crescer()\n",
    "\n",
    "O acesso aos atributos deve ser realizado através de métodos. O método envelhecer adicionar +1 na idade, o método engordar adiciona +1 no peso, o método emagrecer subtrai -1 no peso e o método crescer adicionar +1 na altura. Considere que a cada ano em que a pessoa envelhece, ela deve crescer 1 cm caso a idade dela seja menor que 20 anos."
   ]
  },
  {
   "cell_type": "code",
   "execution_count": 5,
   "metadata": {
    "colab": {},
    "colab_type": "code",
    "id": "KEMBcimDAeUi"
   },
   "outputs": [],
   "source": [
    "# Insira a resposta abaixo.\n",
    "class humano:\n",
    "  \n",
    "  def __init__(self, nome, idade, peso, altura):\n",
    "    self.__nome = nome\n",
    "    self.__idade = idade\n",
    "    self.__peso = peso\n",
    "    self.__altura = altura\n",
    "\n",
    "  @property\n",
    "  def nome(self):\n",
    "    return self.__nome\n",
    "\n",
    "  @property\n",
    "  def idade(self):\n",
    "    return self.__idade \n",
    "\n",
    "  @property\n",
    "  def peso(self):\n",
    "    return self.__peso\n",
    "\n",
    "  @property\n",
    "  def altura(self):\n",
    "    return self.__altura\n",
    "\n",
    "  #Métodos\n",
    "  def envelhecer(self):\n",
    "    self.__idade +=1\n",
    "\n",
    "  def engordar(self):\n",
    "    self.__peso +=1\n",
    "\n",
    "  def emagrecer(self):\n",
    "    self.__peso -=1\n",
    "\n",
    "  def crescer(self):\n",
    "    if self.__idade<20:\n",
    "      self.__altura +=1\n",
    "\n",
    "  \n"
   ]
  },
  {
   "cell_type": "markdown",
   "metadata": {
    "colab_type": "text",
    "id": "vBDbxIOj3eUN"
   },
   "source": [
    "42 - Instancie um objeto da classe Humano com 17 anos, 170 cm de altura e 70 quilos e realize os seguintes passos:\n",
    "* Exiba a idade e altura antes e após chamar o método envelhecer.\n",
    "* Exiba o peso antes e após chamar o método engordar.\n",
    "* Exiba o peso antes e após chamar o método emagrecer."
   ]
  },
  {
   "cell_type": "code",
   "execution_count": 6,
   "metadata": {
    "colab": {
     "base_uri": "https://localhost:8080/",
     "height": 102
    },
    "colab_type": "code",
    "id": "Q-YQ8EOE3edK",
    "outputId": "8318cea4-3707-472f-e4c7-63d23c9bc4b3"
   },
   "outputs": [
    {
     "name": "stdout",
     "output_type": "stream",
     "text": [
      "XPTO tem 25 anos e possui 168 cm de altura\n",
      "XPTO agora tem 26 anos e possui 168 cm de altura\n",
      "XPTO tem 65 kg\n",
      "XPTO agora tem 66 kg\n",
      "XPTO voltou a ter 65 kg\n"
     ]
    }
   ],
   "source": [
    "# Insira a resposta abaixo.\n",
    "\n",
    "XPTO = humano('XPTO', 25, 65, 168)\n",
    "\n",
    "print('{} tem {} anos e possui {} cm de altura'.format(XPTO.nome, XPTO.idade, XPTO.altura))\n",
    "XPTO.envelhecer()\n",
    "print('{} agora tem {} anos e possui {} cm de altura'.format(XPTO.nome, XPTO.idade, XPTO.altura))\n",
    "\n",
    "print('{} tem {} kg'.format(XPTO.nome, XPTO.peso))\n",
    "XPTO.engordar()\n",
    "print('{} agora tem {} kg'.format(XPTO.nome, XPTO.peso))\n",
    "XPTO.emagrecer()\n",
    "print('{} voltou a ter {} kg'.format(XPTO.nome, XPTO.peso))"
   ]
  },
  {
   "cell_type": "markdown",
   "metadata": {
    "colab_type": "text",
    "id": "om2ykVS9qRyR"
   },
   "source": [
    "43 - Crie uma classe que modele um Funcionario, ela deve herdar todas as características da classe Humano, além dos seguintes atributos:\n",
    "\n",
    "* profissao\n",
    "* salario\n",
    "\n",
    "O acesso aos atributos deve ser realizado através de métodos."
   ]
  },
  {
   "cell_type": "code",
   "execution_count": 14,
   "metadata": {
    "colab": {},
    "colab_type": "code",
    "id": "3xQeEwFFqR3k"
   },
   "outputs": [],
   "source": [
    "# Insira a resposta abaixo.\n",
    "class funcio(humano):\n",
    "  def __init__(self, nome, idade, peso, altura, profissao, salario):\n",
    "    humano.__init__(self, nome, idade, peso, altura)\n",
    "    self.__profissao = profissao\n",
    "    self.__salario = salario\n",
    "\n",
    "    \n",
    "  @property\n",
    "  def profissao(self):\n",
    "    return self.__profissao\n",
    "\n",
    "  @property\n",
    "  def salario(self):\n",
    "    return self.__salario\n",
    "\n",
    "  def setSalario(self, salario):\n",
    "    self.__salario = salario\n",
    "    \n",
    "  def setProfissao(self, profissao):\n",
    "    self.__profissao = profissao"
   ]
  },
  {
   "cell_type": "markdown",
   "metadata": {
    "colab_type": "text",
    "id": "V8ciqsFO3_ZC"
   },
   "source": [
    "44 - Crie um objeto da classe Funcionario que realize os seguintes passos:\n",
    "* Exiba o nome do funcionário\n",
    "* Exiba a profissao inicial e uma nova profissão assinalada ao objeto.\n",
    "* Exiba o salário inicial e o salário após um aumento de 500 reais."
   ]
  },
  {
   "cell_type": "code",
   "execution_count": 15,
   "metadata": {
    "colab": {
     "base_uri": "https://localhost:8080/",
     "height": 85
    },
    "colab_type": "code",
    "id": "WleD7MY_3_eq",
    "outputId": "9914855c-6b59-4832-b8c2-e26a45c8bb14"
   },
   "outputs": [
    {
     "name": "stdout",
     "output_type": "stream",
     "text": [
      "XPTO é  Desenvolvedor\n",
      "XPTO foi promovido para Arquiteto de software\n",
      "XPTO ganhava 5400\n",
      "XPTO passou a ganhar 6900\n"
     ]
    }
   ],
   "source": [
    "# Insira a resposta abaixo.\n",
    "\n",
    "XPTO = funcio('XPTO', 25, 65, 168, 'Desenvolvedor', 5400)\n",
    "print('{} é  {}'.format(XPTO.nome, XPTO.profissao))\n",
    "XPTO.setProfissao('Arquiteto de software')\n",
    "print('{} foi promovido para {}'.format(XPTO.nome, XPTO.profissao))\n",
    "print('{} ganhava {}'.format(XPTO.nome, XPTO.salario))\n",
    "XPTO.setSalario(XPTO.salario+1500)\n",
    "print('{} passou a ganhar {}'.format(XPTO.nome, XPTO.salario))"
   ]
  }
 ],
 "metadata": {
  "colab": {
   "collapsed_sections": [],
   "name": "Renan_Santos_Exercicios_Parte01-C.ipynb",
   "provenance": []
  },
  "kernelspec": {
   "display_name": "Python 3",
   "language": "python",
   "name": "python3"
  },
  "language_info": {
   "codemirror_mode": {
    "name": "ipython",
    "version": 3
   },
   "file_extension": ".py",
   "mimetype": "text/x-python",
   "name": "python",
   "nbconvert_exporter": "python",
   "pygments_lexer": "ipython3",
   "version": "3.6.7"
  }
 },
 "nbformat": 4,
 "nbformat_minor": 1
}
