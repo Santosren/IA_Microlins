{
 "cells": [
  {
   "cell_type": "markdown",
   "metadata": {
    "colab_type": "text",
    "id": "AeBGPBkxdHJ6"
   },
   "source": [
    "## Pandas"
   ]
  },
  {
   "cell_type": "markdown",
   "metadata": {
    "colab_type": "text",
    "id": "Z7UScd3ofS8k"
   },
   "source": [
    "### Instalação do Pandas"
   ]
  },
  {
   "cell_type": "code",
   "execution_count": null,
   "metadata": {
    "colab": {
     "base_uri": "https://localhost:8080/",
     "height": 107
    },
    "colab_type": "code",
    "id": "-_bng8fefWVJ",
    "outputId": "2fe7b752-7f79-4394-8926-5eac9d1f6e67"
   },
   "outputs": [],
   "source": [
    "# Alternativa 1\n",
    "!pip install pandas \n",
    "# alternative: conda install pandas"
   ]
  },
  {
   "cell_type": "markdown",
   "metadata": {
    "colab_type": "text",
    "id": "xRrsSzVezUhj"
   },
   "source": [
    "### Introduzindo Séries de Dados do Pandas"
   ]
  },
  {
   "cell_type": "markdown",
   "metadata": {
    "colab_type": "text",
    "id": "VDK_Ly29gals"
   },
   "source": [
    "1 - Importe as bibliotecas pandas e numpy com os aliases 'pd' e 'np', respectivamente."
   ]
  },
  {
   "cell_type": "code",
   "execution_count": 1,
   "metadata": {
    "colab": {},
    "colab_type": "code",
    "id": "_M2QbWdPgauN"
   },
   "outputs": [],
   "source": [
    "import pandas as pd\n",
    "import numpy as np"
   ]
  },
  {
   "cell_type": "markdown",
   "metadata": {
    "colab_type": "text",
    "id": "LdbbLUK7fm7o"
   },
   "source": [
    "2 - Utilize o numpy para criar um array com 10 elementos de números inteiros aleatórios entre 50 e 100. Em seguida, transforme-o em uma série do pandas e a exiba."
   ]
  },
  {
   "cell_type": "code",
   "execution_count": 2,
   "metadata": {
    "colab": {},
    "colab_type": "code",
    "id": "wFiHFFelfnCZ"
   },
   "outputs": [
    {
     "data": {
      "text/plain": [
       "0    99\n",
       "1    62\n",
       "2    65\n",
       "3    53\n",
       "4    62\n",
       "5    75\n",
       "6    57\n",
       "7    97\n",
       "8    74\n",
       "9    85\n",
       "dtype: int32"
      ]
     },
     "execution_count": 2,
     "metadata": {},
     "output_type": "execute_result"
    }
   ],
   "source": [
    "# Insira a resposta abaixo.\n",
    "arrayNumpy = np.random.randint(50,100,10)\n",
    "seriePandas =  pd.Series(arrayNumpy)\n",
    "seriePandas"
   ]
  },
  {
   "cell_type": "markdown",
   "metadata": {
    "colab_type": "text",
    "id": "5SxiYJirsY-X"
   },
   "source": [
    "3 - Utilize a função range do Python para criar uma série do Pandas contendo 10 elementos cujos índices sejam uma sequência ascendente de números ímpares  e os valores sejam uma sequência descendente de números inteiros de 10 a 1. Em seguida, converta o tipo numérico da série criada para 'int32' e exiba a série."
   ]
  },
  {
   "cell_type": "code",
   "execution_count": 3,
   "metadata": {
    "colab": {},
    "colab_type": "code",
    "id": "DunzR3rBsZHY"
   },
   "outputs": [
    {
     "data": {
      "text/plain": [
       "1     10\n",
       "3      9\n",
       "5      8\n",
       "7      7\n",
       "9      6\n",
       "11     5\n",
       "13     4\n",
       "15     3\n",
       "17     2\n",
       "19     1\n",
       "dtype: int32"
      ]
     },
     "metadata": {},
     "output_type": "display_data"
    }
   ],
   "source": [
    "# Insira a resposta abaixo.\n",
    "seriePandas_2 = pd.Series(data = range(10,0,-1), index = range(1,21,2)).astype('int32')\n",
    "display(seriePandas_2)"
   ]
  },
  {
   "cell_type": "markdown",
   "metadata": {
    "colab_type": "text",
    "id": "Y3VEvHJ-zZBb"
   },
   "source": [
    "4 - Abaixo são definidos dois dicionários contendo capitais brasileiras com a população estimada para os anos de 2000 e 2018. Utilize ambos os dicionários definidos abaixos para criar dois objetos do tipo Series."
   ]
  },
  {
   "cell_type": "code",
   "execution_count": 4,
   "metadata": {
    "colab": {},
    "colab_type": "code",
    "id": "9fbQCt3azUoD"
   },
   "outputs": [
    {
     "name": "stdout",
     "output_type": "stream",
     "text": [
      "População 2000 \n",
      "\n",
      "São Paulo         10405867\n",
      "Rio de Janeiro     5851914\n",
      "Salvador           2440828\n",
      "Belo Horizonte     2232747\n",
      "Fortaleza          2138234\n",
      "dtype: int64\n",
      "\n",
      "População 2018 \n",
      "\n",
      "São Paulo         12176866\n",
      "Rio de Janeiro     6688927\n",
      "Brasília           2974703\n",
      "Salvador           2857329\n",
      "Fortaleza          2643247\n",
      "dtype: int64\n"
     ]
    }
   ],
   "source": [
    "populacao2000 = {'São Paulo': 10405867, 'Rio de Janeiro': 5851914, 'Salvador': 2440828, 'Belo Horizonte':2232747, 'Fortaleza':2138234\t}\n",
    "populacao2018 = {'São Paulo': 12176866, 'Rio de Janeiro': 6688927, 'Brasília': 2974703, 'Salvador': 2857329, 'Fortaleza': 2643247}\n",
    "\n",
    "# Insira a resposta abaixo.\n",
    "seriePandas_2000 = pd.Series(populacao2000)\n",
    "seriePandas_2018 = pd.Series(populacao2018)\n",
    "print(\"População 2000 \\n\")\n",
    "print(seriePandas_2000)\n",
    "print(\"\\nPopulação 2018 \\n\")\n",
    "print(seriePandas_2018)"
   ]
  },
  {
   "cell_type": "markdown",
   "metadata": {
    "colab_type": "text",
    "id": "Au1q_EAezSRI"
   },
   "source": [
    "#### Operações Aritméticas com Séries"
   ]
  },
  {
   "cell_type": "markdown",
   "metadata": {
    "colab_type": "text",
    "id": "4Lbr0016g9SQ"
   },
   "source": [
    "5 - Crie uma nova série contendo a diferença entre as populações de 2018 e 2010."
   ]
  },
  {
   "cell_type": "code",
   "execution_count": 5,
   "metadata": {
    "colab": {},
    "colab_type": "code",
    "id": "LbKoEIRAg9ZL"
   },
   "outputs": [
    {
     "name": "stdout",
     "output_type": "stream",
     "text": [
      "A diferença é: \n",
      "Belo Horizonte          NaN\n",
      "Brasília                NaN\n",
      "Fortaleza          505013.0\n",
      "Rio de Janeiro     837013.0\n",
      "Salvador           416501.0\n",
      "São Paulo         1770999.0\n",
      "dtype: float64\n"
     ]
    }
   ],
   "source": [
    "# Insira a resposta abaixo.\n",
    "# 1º Forma de subtração\n",
    "diferenca_2018_2000_Series = seriePandas_2018 - seriePandas_2000\n",
    "\n",
    "# 2º Forma de subtração - Vou deixar essa forma comentada e utilizar a 1º forma de subtração\n",
    "# diferenca_2018_2000_Series = seriePandas_2018.subtract(seriePandas_2000)\n",
    "\n",
    "print(\"A diferença é: \")\n",
    "print(diferenca_2018_2000_Series)"
   ]
  },
  {
   "cell_type": "markdown",
   "metadata": {
    "colab_type": "text",
    "id": "JK6NbPy_zQYM"
   },
   "source": [
    "6 - Crie uma nova série contendo a média entre as duas séries iniciais."
   ]
  },
  {
   "cell_type": "code",
   "execution_count": 6,
   "metadata": {
    "colab": {},
    "colab_type": "code",
    "id": "jVN_W1bduy0M"
   },
   "outputs": [
    {
     "name": "stdout",
     "output_type": "stream",
     "text": [
      "localidade\n",
      "Belo Horizonte     2232747.0\n",
      "Brasília           2974703.0\n",
      "Fortaleza          2390740.5\n",
      "Rio de Janeiro     6270420.5\n",
      "Salvador           2649078.5\n",
      "São Paulo         11291366.5\n",
      "dtype: float64\n"
     ]
    }
   ],
   "source": [
    "# Insira a resposta abaixo.\n",
    "populacao_media_Series = pd.concat([seriePandas_2018,seriePandas_2000], \n",
    "                                   keys=['2018','2000'], \n",
    "                                   names=['periodo', 'localidade']).groupby(level='localidade').mean()\n",
    "print(populacao_media_Series)"
   ]
  },
  {
   "cell_type": "markdown",
   "metadata": {
    "colab_type": "text",
    "id": "C8-PDmX91LpE"
   },
   "source": [
    "### Introduzindo Dataframes"
   ]
  },
  {
   "cell_type": "markdown",
   "metadata": {
    "colab_type": "text",
    "id": "XpDXbeFY3e8R"
   },
   "source": [
    "7 - Crie um dicionário cujas chaves sejam: 2000, 2018, 'diferenca', 'media'. Utilize como valores as séries correspondentes criadas nas questões anteriores. Utilize esse dicionário para criar um dataframe."
   ]
  },
  {
   "cell_type": "code",
   "execution_count": 7,
   "metadata": {
    "colab": {},
    "colab_type": "code",
    "id": "BBGcpyt83ftD"
   },
   "outputs": [
    {
     "name": "stdout",
     "output_type": "stream",
     "text": [
      "                      2000        2018  diferenca       media\n",
      "Belo Horizonte   2232747.0         NaN        NaN   2232747.0\n",
      "Brasília               NaN   2974703.0        NaN   2974703.0\n",
      "Fortaleza        2138234.0   2643247.0   505013.0   2390740.5\n",
      "Rio de Janeiro   5851914.0   6688927.0   837013.0   6270420.5\n",
      "Salvador         2440828.0   2857329.0   416501.0   2649078.5\n",
      "São Paulo       10405867.0  12176866.0  1770999.0  11291366.5\n"
     ]
    }
   ],
   "source": [
    "# Insira a resposta abaixo.\n",
    "dicionario_populacao_DataFrame = {'2000':seriePandas_2000, \n",
    "                                  '2018': seriePandas_2018, \n",
    "                                  'diferenca': diferenca_2018_2000_Series,\n",
    "                                  'media': populacao_media_Series}\n",
    "populacao_DataFrame = pd.DataFrame(dicionario_populacao_DataFrame)\n",
    "print(populacao_DataFrame)"
   ]
  },
  {
   "cell_type": "markdown",
   "metadata": {
    "colab_type": "text",
    "id": "Ypf2B_IMXCBp"
   },
   "source": [
    "8 - Desta vez, crie um dataframe equivalente ao criado na questão anterior concatenando as quatro séries (referentes a 2000, 2018, diferença e média). Lembre-se de inserir os mesmos títulos para as colunas."
   ]
  },
  {
   "cell_type": "code",
   "execution_count": 8,
   "metadata": {
    "colab": {},
    "colab_type": "code",
    "id": "CnsXCKTIXCPK"
   },
   "outputs": [
    {
     "name": "stdout",
     "output_type": "stream",
     "text": [
      "                      2000        2018  diferença       media\n",
      "São Paulo       10405867.0  12176866.0  1770999.0  11291366.5\n",
      "Rio de Janeiro   5851914.0   6688927.0   837013.0   6270420.5\n",
      "Salvador         2440828.0   2857329.0   416501.0   2649078.5\n",
      "Belo Horizonte   2232747.0         NaN        NaN   2232747.0\n",
      "Fortaleza        2138234.0   2643247.0   505013.0   2390740.5\n",
      "Brasília               NaN   2974703.0        NaN   2974703.0\n"
     ]
    }
   ],
   "source": [
    "# Inserir a resposta abaixo.\n",
    "New_populacao_DataFrame = pd.DataFrame(data=[seriePandas_2000,\n",
    "                                             seriePandas_2018,\n",
    "                                             diferenca_2018_2000_Series,\n",
    "                                             populacao_media_Series]).T\n",
    "New_populacao_DataFrame.columns = ['2000','2018', 'diferença','media']\n",
    "\n",
    "print(New_populacao_DataFrame)"
   ]
  },
  {
   "cell_type": "markdown",
   "metadata": {
    "colab_type": "text",
    "id": "Fb0mFiAWA3pa"
   },
   "source": [
    "9 - Adicione uma nova coluna ao dataframe anterior chamada 2019, esta deve conter um acréscimo de 50000 sobre os valores da coluna 2018."
   ]
  },
  {
   "cell_type": "code",
   "execution_count": 9,
   "metadata": {
    "colab": {},
    "colab_type": "code",
    "id": "jPwiPongA3xO"
   },
   "outputs": [
    {
     "name": "stdout",
     "output_type": "stream",
     "text": [
      "Data Frame com o ano de 2019 incluso\n",
      "\n",
      "                      2000        2018  diferença       media        2019\n",
      "São Paulo       10405867.0  12176866.0  1770999.0  11291366.5  12226866.0\n",
      "Rio de Janeiro   5851914.0   6688927.0   837013.0   6270420.5   6738927.0\n",
      "Salvador         2440828.0   2857329.0   416501.0   2649078.5   2907329.0\n",
      "Belo Horizonte   2232747.0         NaN        NaN   2232747.0         NaN\n",
      "Fortaleza        2138234.0   2643247.0   505013.0   2390740.5   2693247.0\n",
      "Brasília               NaN   2974703.0        NaN   2974703.0   3024703.0\n",
      "\n",
      "\n",
      "Reorganizando as colunas do Data Frame ...\n",
      "\n",
      "Data Frame com as colunas organizadas\n",
      "\n",
      "                      2000        2018        2019  diferença       media\n",
      "São Paulo       10405867.0  12176866.0  12226866.0  1770999.0  11291366.5\n",
      "Rio de Janeiro   5851914.0   6688927.0   6738927.0   837013.0   6270420.5\n",
      "Salvador         2440828.0   2857329.0   2907329.0   416501.0   2649078.5\n",
      "Belo Horizonte   2232747.0         NaN         NaN        NaN   2232747.0\n",
      "Fortaleza        2138234.0   2643247.0   2693247.0   505013.0   2390740.5\n",
      "Brasília               NaN   2974703.0   3024703.0        NaN   2974703.0\n"
     ]
    }
   ],
   "source": [
    "# Insira a resposta abaixo.\n",
    "New_populacao_DataFrame['2019'] = (New_populacao_DataFrame['2018']+50000)\n",
    "print('Data Frame com o ano de 2019 incluso\\n')\n",
    "print(New_populacao_DataFrame)\n",
    "print('\\n\\nReorganizando as colunas do Data Frame ...\\n')\n",
    "New_populacao_DataFrame = New_populacao_DataFrame[['2000','2018','2019','diferença','media']]\n",
    "print('Data Frame com as colunas organizadas\\n')\n",
    "print(New_populacao_DataFrame)"
   ]
  },
  {
   "cell_type": "markdown",
   "metadata": {
    "colab_type": "text",
    "id": "BCB_sBTKacwr"
   },
   "source": [
    "10 - Exiba somente os dados referentes a Salvador."
   ]
  },
  {
   "cell_type": "code",
   "execution_count": 10,
   "metadata": {
    "colab": {},
    "colab_type": "code",
    "id": "Hnax97HBac7y"
   },
   "outputs": [
    {
     "name": "stdout",
     "output_type": "stream",
     "text": [
      "Imprimindo somente os dados de Salvador ...\n",
      "\n",
      "2000         2440828.0\n",
      "2018         2857329.0\n",
      "2019         2907329.0\n",
      "diferença     416501.0\n",
      "media        2649078.5\n",
      "Name: Salvador, dtype: float64\n"
     ]
    }
   ],
   "source": [
    "# Insira a resposta abaixo.\n",
    "print('Imprimindo somente os dados de Salvador ...\\n')\n",
    "print(New_populacao_DataFrame.loc['Salvador'])"
   ]
  },
  {
   "cell_type": "markdown",
   "metadata": {
    "colab_type": "text",
    "id": "hG4JP1_ZpIxL"
   },
   "source": [
    "11 - Exiba ** a terceira linha** do dataframe utilizando o seu posicionamento no dataframe."
   ]
  },
  {
   "cell_type": "code",
   "execution_count": 11,
   "metadata": {
    "colab": {},
    "colab_type": "code",
    "id": "voAWVOg3pJBG"
   },
   "outputs": [
    {
     "name": "stdout",
     "output_type": "stream",
     "text": [
      "Imprimindo somente os dados da 3º linha ...\n",
      "\n",
      "2000         2440828.0\n",
      "2018         2857329.0\n",
      "2019         2907329.0\n",
      "diferença     416501.0\n",
      "media        2649078.5\n",
      "Name: Salvador, dtype: float64\n"
     ]
    }
   ],
   "source": [
    "# Insira a resposta abaixo.\n",
    "print('Imprimindo somente os dados da 3º linha ...\\n')\n",
    "print(New_populacao_DataFrame.iloc[2])"
   ]
  },
  {
   "cell_type": "markdown",
   "metadata": {
    "colab_type": "text",
    "id": "wZ-8j5YHZENp"
   },
   "source": [
    "12 - Exiba as **três primeiras linhas** do dataframe a partir da posição."
   ]
  },
  {
   "cell_type": "code",
   "execution_count": 12,
   "metadata": {
    "colab": {},
    "colab_type": "code",
    "id": "D7E2hQ52ZEUu"
   },
   "outputs": [
    {
     "name": "stdout",
     "output_type": "stream",
     "text": [
      "Imprimindo somente os dados das três primeiras linhas ...\n",
      "\n",
      "                      2000        2018        2019  diferença       media\n",
      "São Paulo       10405867.0  12176866.0  12226866.0  1770999.0  11291366.5\n",
      "Rio de Janeiro   5851914.0   6688927.0   6738927.0   837013.0   6270420.5\n",
      "Salvador         2440828.0   2857329.0   2907329.0   416501.0   2649078.5\n"
     ]
    }
   ],
   "source": [
    "# Insira a resposta abaixo.\n",
    "print('Imprimindo somente os dados das três primeiras linhas ...\\n')\n",
    "print(New_populacao_DataFrame.iloc[0:3])"
   ]
  },
  {
   "cell_type": "markdown",
   "metadata": {
    "colab_type": "text",
    "id": "MguA1q5BbG4C"
   },
   "source": [
    "13 - Remova a coluna 2019 criada anteriormente."
   ]
  },
  {
   "cell_type": "code",
   "execution_count": 13,
   "metadata": {
    "colab": {},
    "colab_type": "code",
    "id": "GX96UlEKbG-1"
   },
   "outputs": [
    {
     "name": "stdout",
     "output_type": "stream",
     "text": [
      "Removendo a coluna de 2019 criada anteriormente ...\n",
      "\n",
      "\n",
      "\n",
      "Novo Data Frame\n",
      "\n",
      "                      2000        2018  diferença       media\n",
      "São Paulo       10405867.0  12176866.0  1770999.0  11291366.5\n",
      "Rio de Janeiro   5851914.0   6688927.0   837013.0   6270420.5\n",
      "Salvador         2440828.0   2857329.0   416501.0   2649078.5\n",
      "Belo Horizonte   2232747.0         NaN        NaN   2232747.0\n",
      "Fortaleza        2138234.0   2643247.0   505013.0   2390740.5\n",
      "Brasília               NaN   2974703.0        NaN   2974703.0\n"
     ]
    }
   ],
   "source": [
    "# Insira a resposta abaixo.\n",
    "print('Removendo a coluna de 2019 criada anteriormente ...\\n')\n",
    "New_populacao_DataFrame = New_populacao_DataFrame.drop(['2019'], axis=1)\n",
    "\n",
    "print('\\n\\nNovo Data Frame\\n')\n",
    "print(New_populacao_DataFrame)"
   ]
  },
  {
   "cell_type": "markdown",
   "metadata": {
    "colab_type": "text",
    "id": "Gf1KCDk7cHQG"
   },
   "source": [
    "14 - Remova os registros que apresentam valores nulos."
   ]
  },
  {
   "cell_type": "code",
   "execution_count": 14,
   "metadata": {
    "colab": {},
    "colab_type": "code",
    "id": "t7GfFUtDcHWz"
   },
   "outputs": [
    {
     "name": "stdout",
     "output_type": "stream",
     "text": [
      "Data Frame antes da remoção dos nulos\n",
      "\n",
      "                      2000        2018  diferença       media\n",
      "São Paulo       10405867.0  12176866.0  1770999.0  11291366.5\n",
      "Rio de Janeiro   5851914.0   6688927.0   837013.0   6270420.5\n",
      "Salvador         2440828.0   2857329.0   416501.0   2649078.5\n",
      "Belo Horizonte   2232747.0         NaN        NaN   2232747.0\n",
      "Fortaleza        2138234.0   2643247.0   505013.0   2390740.5\n",
      "Brasília               NaN   2974703.0        NaN   2974703.0\n",
      "\n",
      "\n",
      "Removendo os nulos do Data Frame . . .\n",
      "\n",
      "\n",
      "\n",
      "Novo Data Frame\n",
      "\n",
      "                      2000        2018  diferença       media\n",
      "São Paulo       10405867.0  12176866.0  1770999.0  11291366.5\n",
      "Rio de Janeiro   5851914.0   6688927.0   837013.0   6270420.5\n",
      "Salvador         2440828.0   2857329.0   416501.0   2649078.5\n",
      "Fortaleza        2138234.0   2643247.0   505013.0   2390740.5\n"
     ]
    }
   ],
   "source": [
    "# Insira a resposta abaixo.\n",
    "print('Data Frame antes da remoção dos nulos\\n')\n",
    "print(New_populacao_DataFrame)\n",
    "print('\\n\\nRemovendo os nulos do Data Frame . . .\\n')\n",
    "New_populacao_DataFrame = New_populacao_DataFrame.dropna()\n",
    "print('\\n\\nNovo Data Frame\\n')\n",
    "print(New_populacao_DataFrame)"
   ]
  },
  {
   "cell_type": "markdown",
   "metadata": {
    "colab_type": "text",
    "id": "vvg70YllmjYN"
   },
   "source": [
    "### Exercícios com base de dados fictícia (toy dataset)"
   ]
  },
  {
   "cell_type": "markdown",
   "metadata": {
    "colab_type": "text",
    "id": "WxSVpF1fP3Wm"
   },
   "source": [
    "Execute o bloco de código abaixo para realizar o download de uma pequena base de dados que será utilizada para os próximos experimentos. A base de dados poderá ser acessada através do arquivo toy_dataset.csv. Caso a sessão se encerre, re-execute essa célula de código."
   ]
  },
  {
   "cell_type": "code",
   "execution_count": 15,
   "metadata": {
    "colab": {
     "base_uri": "https://localhost:8080/",
     "height": 88
    },
    "colab_type": "code",
    "id": "l3bKq4SBP3cx",
    "outputId": "d9282805-c8fc-473b-d132-486e80dfaec1"
   },
   "outputs": [
    {
     "name": "stdout",
     "output_type": "stream",
     "text": [
      "toy-dataset.zip: Skipping, found more recently modified local copy (use --force to force download)\n"
     ]
    }
   ],
   "source": [
    "!pip install -q kaggle\n",
    "import os\n",
    "os.environ['KAGGLE_USERNAME'] = \"victorlundgren\"\n",
    "os.environ['KAGGLE_KEY'] = \"851b67a8b7e626eb6336620bf1cb0d31\"\n",
    "\n",
    "!kaggle datasets download -d carlolepelaars/toy-dataset\n",
    "#!unzip toy-dataset.zip # OU tar -xy no Windows10\n",
    "!tar -xf toy-dataset.zip"
   ]
  },
  {
   "cell_type": "markdown",
   "metadata": {
    "colab_type": "text",
    "id": "hZJwgYWBSfTg"
   },
   "source": [
    "15 - Execute a leitura do Toy Dataset diretamente em um dataframe."
   ]
  },
  {
   "cell_type": "code",
   "execution_count": 16,
   "metadata": {
    "colab": {},
    "colab_type": "code",
    "id": "H18ZsFySSfri"
   },
   "outputs": [
    {
     "name": "stdout",
     "output_type": "stream",
     "text": [
      "Lendo o DataSet Toy ... \n",
      "\n",
      "Imprimindo o cabeçalho do Data Set para confirmar a leitura correta do mesmo\n",
      "\n",
      "   Number    City Gender  Age   Income Illness\n",
      "0       1  Dallas   Male   41  40367.0      No\n",
      "1       2  Dallas   Male   54  45084.0      No\n",
      "2       3  Dallas   Male   42  52483.0      No\n",
      "3       4  Dallas   Male   40  40941.0      No\n",
      "4       5  Dallas   Male   46  50289.0      No\n"
     ]
    }
   ],
   "source": [
    "# Insira a resposta abaixo.\n",
    "print('Lendo o DataSet Toy ... ')\n",
    "DataSet_Toy = pd.read_csv('./toy_dataset.csv')\n",
    "\n",
    "print('\\nImprimindo o cabeçalho do Data Set para confirmar a leitura correta do mesmo\\n')\n",
    "print(DataSet_Toy.head())\n"
   ]
  },
  {
   "cell_type": "markdown",
   "metadata": {
    "colab_type": "text",
    "id": "8N9Nt4oETf5x"
   },
   "source": [
    "16 - Exiba o tipo de dados de cada coluna do dataframe."
   ]
  },
  {
   "cell_type": "code",
   "execution_count": 17,
   "metadata": {
    "colab": {},
    "colab_type": "code",
    "id": "d2DP3VBuTf_O"
   },
   "outputs": [
    {
     "name": "stdout",
     "output_type": "stream",
     "text": [
      "Tipos de dados de cada coluna .... \n",
      "\n",
      "Number       int64\n",
      "City        object\n",
      "Gender      object\n",
      "Age          int64\n",
      "Income     float64\n",
      "Illness     object\n",
      "dtype: object\n"
     ]
    }
   ],
   "source": [
    "# Insira a resposta abaixo.\n",
    "print('Tipos de dados de cada coluna .... \\n')\n",
    "print(DataSet_Toy.dtypes)"
   ]
  },
  {
   "cell_type": "markdown",
   "metadata": {
    "colab_type": "text",
    "id": "6DSkip22TRQc"
   },
   "source": [
    "17 - Utilize a função .head() para exibir o cabeçalho do dataframe e assim conhecer as colunas, o índice e as linhas iniciais da base de dados."
   ]
  },
  {
   "cell_type": "code",
   "execution_count": 18,
   "metadata": {
    "colab": {},
    "colab_type": "code",
    "id": "DoD2Ud8oTRWm"
   },
   "outputs": [
    {
     "name": "stdout",
     "output_type": "stream",
     "text": [
      "\n",
      "Imprimindo o cabeçalho do Data Set \n",
      "\n",
      "   Number    City Gender  Age   Income Illness\n",
      "0       1  Dallas   Male   41  40367.0      No\n",
      "1       2  Dallas   Male   54  45084.0      No\n",
      "2       3  Dallas   Male   42  52483.0      No\n",
      "3       4  Dallas   Male   40  40941.0      No\n",
      "4       5  Dallas   Male   46  50289.0      No\n"
     ]
    }
   ],
   "source": [
    "# Insira a resposta abaixo.\n",
    "print('\\nImprimindo o cabeçalho do Data Set \\n')\n",
    "print(DataSet_Toy.head())"
   ]
  },
  {
   "cell_type": "markdown",
   "metadata": {
    "colab_type": "text",
    "id": "8oqPwJv9g1yq"
   },
   "source": [
    "18 - Realize as seguintes operações:\n",
    "\n",
    "- Adicione uma nova coluna chamada NumberAge e que apresente a soma entre os valores da coluna Number com os valores da coluna Age.\n",
    "- Exiba o cabeçalho do dataframe resultante.\n",
    "- Remova a coluna NumberAge.\n",
    "- Exiba o cabeçalho do dataframe resultante."
   ]
  },
  {
   "cell_type": "code",
   "execution_count": 19,
   "metadata": {
    "colab": {},
    "colab_type": "code",
    "id": "fzA8Sd4dg12m"
   },
   "outputs": [
    {
     "name": "stdout",
     "output_type": "stream",
     "text": [
      "Iniciando a criação da coluna NumberAge . . . \n",
      "\n",
      "\n",
      "\n",
      "Imprimindo o cabeçalho do DataSet com a nova coluna NumberAge\n",
      "\n",
      "   Number    City Gender  Age   Income Illness  NumberAge\n",
      "0       1  Dallas   Male   41  40367.0      No         42\n",
      "1       2  Dallas   Male   54  45084.0      No         56\n",
      "2       3  Dallas   Male   42  52483.0      No         45\n",
      "3       4  Dallas   Male   40  40941.0      No         44\n",
      "4       5  Dallas   Male   46  50289.0      No         51\n",
      "\n",
      "\n",
      "Iniciando a remoção da coluna NumberAge . . . \n",
      "\n",
      "\n",
      "\n",
      "Imprimindo o cabeçalho do DataSet com a remoção da coluna NumberAge\n",
      "\n",
      "   Number    City Gender  Age   Income Illness\n",
      "0       1  Dallas   Male   41  40367.0      No\n",
      "1       2  Dallas   Male   54  45084.0      No\n",
      "2       3  Dallas   Male   42  52483.0      No\n",
      "3       4  Dallas   Male   40  40941.0      No\n",
      "4       5  Dallas   Male   46  50289.0      No\n"
     ]
    }
   ],
   "source": [
    "# Insira a resposta abaixo.\n",
    "print('Iniciando a criação da coluna NumberAge . . . \\n')\n",
    "DataSet_Toy['NumberAge'] = DataSet_Toy['Number'] + DataSet_Toy['Age']\n",
    "print('\\n\\nImprimindo o cabeçalho do DataSet com a nova coluna NumberAge\\n')\n",
    "print(DataSet_Toy.head())\n",
    "print('\\n\\nIniciando a remoção da coluna NumberAge . . . \\n')\n",
    "DataSet_Toy = DataSet_Toy.drop(['NumberAge'], axis = 1)\n",
    "print('\\n\\nImprimindo o cabeçalho do DataSet com a remoção da coluna NumberAge\\n')\n",
    "print(DataSet_Toy.head())"
   ]
  },
  {
   "cell_type": "markdown",
   "metadata": {
    "colab_type": "text",
    "id": "qI5Keo5qYCZw"
   },
   "source": [
    "19 - Realize as seguintes operações a partir do dataframe definido anteriormente:\n",
    "\n",
    "- Exiba as cinco primeiras linhas do dataframe, todos os atributos devem ser apresentados com exceção do primeiro e último.\n",
    "\n",
    "- Exiba as cinco últimas linhas do dataframe, exiba somente o atributo City."
   ]
  },
  {
   "cell_type": "code",
   "execution_count": 20,
   "metadata": {
    "colab": {},
    "colab_type": "code",
    "id": "h-p0mDxGYCfz"
   },
   "outputs": [
    {
     "name": "stdout",
     "output_type": "stream",
     "text": [
      "Imprimindo as cinco primeiras linhas, exceto a primeira e ultima coluna\n",
      "\n",
      "     City Gender  Age   Income\n",
      "0  Dallas   Male   41  40367.0\n",
      "1  Dallas   Male   54  45084.0\n",
      "2  Dallas   Male   42  52483.0\n",
      "3  Dallas   Male   40  40941.0\n",
      "4  Dallas   Male   46  50289.0\n",
      "\n",
      "\n",
      "Imprimindo as cinco últimas linhas somente da coluna City\n",
      "\n",
      "149995    Austin\n",
      "149996    Austin\n",
      "149997    Austin\n",
      "149998    Austin\n",
      "149999    Austin\n",
      "Name: City, dtype: object\n"
     ]
    }
   ],
   "source": [
    "# Insira a resposta abaixo.\n",
    "print('Imprimindo as cinco primeiras linhas, exceto a primeira e ultima coluna\\n')\n",
    "print(DataSet_Toy.iloc[:,1:-1].head())\n",
    "print('\\n\\nImprimindo as cinco últimas linhas somente da coluna City\\n')\n",
    "print(DataSet_Toy.loc[:,'City'].tail())"
   ]
  },
  {
   "cell_type": "markdown",
   "metadata": {
    "colab_type": "text",
    "id": "ABvg8q8_-vHl"
   },
   "source": [
    "20 - Ordene de forma ascendente as amostras utilizando como critério o salário anual. Em seguida, resete os índices dos registros."
   ]
  },
  {
   "cell_type": "code",
   "execution_count": 21,
   "metadata": {
    "colab": {},
    "colab_type": "code",
    "id": "L37Nscj--vRi"
   },
   "outputs": [
    {
     "name": "stdout",
     "output_type": "stream",
     "text": [
      "Ordenando de forma ascendente (sálario anual), resetando os índices e dropando a coluna de índice . . .\n",
      "\n",
      "\n",
      "Imprimindo o cabeçalho para conferencia do procedimento anterior\n",
      "\n",
      "   Number    City  Gender  Age  Income Illness\n",
      "0     246  Dallas  Female   40  -654.0     Yes\n",
      "1    7897  Dallas  Female   34   584.0      No\n",
      "2   18485  Dallas  Female   43  2474.0      No\n",
      "3    9299  Dallas  Female   31  2667.0     Yes\n",
      "4   17136  Dallas  Female   39  3842.0      No\n"
     ]
    }
   ],
   "source": [
    "# Insira a resposta abaixo.\n",
    "print('Ordenando de forma ascendente (sálario anual), resetando os índices e dropando a coluna de índice . . .\\n')\n",
    "DataSet_Toy = DataSet_Toy.sort_values(['Income']).reset_index().drop(['index'],axis=1)\n",
    "\n",
    "print('\\nImprimindo o cabeçalho para conferencia do procedimento anterior\\n')\n",
    "print(DataSet_Toy.head())"
   ]
  },
  {
   "cell_type": "markdown",
   "metadata": {
    "colab_type": "text",
    "id": "djZG9RbF-83m"
   },
   "source": [
    "**21 - Defina a coluna 'Number' como o índice do dataframe. Em seguida, exiba do segundo até o quinto registro a partir do posicionamento.**"
   ]
  },
  {
   "cell_type": "code",
   "execution_count": 22,
   "metadata": {
    "colab": {},
    "colab_type": "code",
    "id": "542ZgC-i-89B",
    "scrolled": false
   },
   "outputs": [
    {
     "name": "stdout",
     "output_type": "stream",
     "text": [
      "Setando a coluna Number como índex do DataSet . . . \n",
      "\n",
      "\n",
      "Imprimindo do 2º ao 5º registro do DataSet\n",
      "\n",
      "          City  Gender  Age  Income Illness\n",
      "Number                                     \n",
      "7897    Dallas  Female   34   584.0      No\n",
      "18485   Dallas  Female   43  2474.0      No\n",
      "9299    Dallas  Female   31  2667.0     Yes\n",
      "17136   Dallas  Female   39  3842.0      No\n"
     ]
    }
   ],
   "source": [
    "# Insira a resposta abaixo.\n",
    "print('Setando a coluna Number como índex do DataSet . . . \\n')\n",
    "DataSet_Toy = DataSet_Toy.set_index(['Number'])\n",
    "print('\\nImprimindo do 2º ao 5º registro do DataSet\\n')\n",
    "print(DataSet_Toy.iloc[1:5,:])"
   ]
  },
  {
   "cell_type": "markdown",
   "metadata": {
    "colab_type": "text",
    "id": "kY8O4jyXiup0"
   },
   "source": [
    "22 - Desta vez, exiba os registros com Number variando de 2 até 5 a partir do próprio rótulo Number."
   ]
  },
  {
   "cell_type": "code",
   "execution_count": 23,
   "metadata": {
    "colab": {},
    "colab_type": "code",
    "id": "PyivKqYeiuii",
    "scrolled": false
   },
   "outputs": [
    {
     "name": "stdout",
     "output_type": "stream",
     "text": [
      "\n",
      "Imprimindo do 2º ao 5º registro do DataSet a partir do próprio rótulo\n",
      "\n"
     ]
    },
    {
     "data": {
      "text/html": [
       "<div>\n",
       "<style scoped>\n",
       "    .dataframe tbody tr th:only-of-type {\n",
       "        vertical-align: middle;\n",
       "    }\n",
       "\n",
       "    .dataframe tbody tr th {\n",
       "        vertical-align: top;\n",
       "    }\n",
       "\n",
       "    .dataframe thead th {\n",
       "        text-align: right;\n",
       "    }\n",
       "</style>\n",
       "<table border=\"1\" class=\"dataframe\">\n",
       "  <thead>\n",
       "    <tr style=\"text-align: right;\">\n",
       "      <th></th>\n",
       "      <th>City</th>\n",
       "      <th>Gender</th>\n",
       "      <th>Age</th>\n",
       "      <th>Income</th>\n",
       "      <th>Illness</th>\n",
       "    </tr>\n",
       "    <tr>\n",
       "      <th>Number</th>\n",
       "      <th></th>\n",
       "      <th></th>\n",
       "      <th></th>\n",
       "      <th></th>\n",
       "      <th></th>\n",
       "    </tr>\n",
       "  </thead>\n",
       "  <tbody>\n",
       "    <tr>\n",
       "      <th>2</th>\n",
       "      <td>Dallas</td>\n",
       "      <td>Male</td>\n",
       "      <td>54</td>\n",
       "      <td>45084.0</td>\n",
       "      <td>No</td>\n",
       "    </tr>\n",
       "    <tr>\n",
       "      <th>3</th>\n",
       "      <td>Dallas</td>\n",
       "      <td>Male</td>\n",
       "      <td>42</td>\n",
       "      <td>52483.0</td>\n",
       "      <td>No</td>\n",
       "    </tr>\n",
       "    <tr>\n",
       "      <th>4</th>\n",
       "      <td>Dallas</td>\n",
       "      <td>Male</td>\n",
       "      <td>40</td>\n",
       "      <td>40941.0</td>\n",
       "      <td>No</td>\n",
       "    </tr>\n",
       "    <tr>\n",
       "      <th>5</th>\n",
       "      <td>Dallas</td>\n",
       "      <td>Male</td>\n",
       "      <td>46</td>\n",
       "      <td>50289.0</td>\n",
       "      <td>No</td>\n",
       "    </tr>\n",
       "  </tbody>\n",
       "</table>\n",
       "</div>"
      ],
      "text/plain": [
       "          City Gender  Age   Income Illness\n",
       "Number                                     \n",
       "2       Dallas   Male   54  45084.0      No\n",
       "3       Dallas   Male   42  52483.0      No\n",
       "4       Dallas   Male   40  40941.0      No\n",
       "5       Dallas   Male   46  50289.0      No"
      ]
     },
     "execution_count": 23,
     "metadata": {},
     "output_type": "execute_result"
    }
   ],
   "source": [
    "# Insira a resposta abaixo.\n",
    "print('\\nImprimindo do 2º ao 5º registro do DataSet a partir do próprio rótulo\\n')\n",
    "DataSet_Toy.loc[[2,3,4,5]]"
   ]
  },
  {
   "cell_type": "markdown",
   "metadata": {
    "colab_type": "text",
    "id": "_85K8jGwILdr"
   },
   "source": [
    "23 - Qual a cidade e o gênero da pessoa com a maior renda (Income)?"
   ]
  },
  {
   "cell_type": "code",
   "execution_count": 24,
   "metadata": {
    "colab": {},
    "colab_type": "code",
    "id": "V0Zk-WpiILlg"
   },
   "outputs": [
    {
     "name": "stdout",
     "output_type": "stream",
     "text": [
      "Cidade e Gênero da pessoa\n",
      "\n",
      "City      Mountain View\n",
      "Gender             Male\n",
      "Name: 109351, dtype: object\n",
      "\n",
      "\n",
      "Para fins de conferência o resultado com o valor da coluna Income\n",
      "\n",
      "City      Mountain View\n",
      "Gender             Male\n",
      "Age                  58\n",
      "Income           177157\n",
      "Name: 109351, dtype: object\n"
     ]
    }
   ],
   "source": [
    "# Insira a resposta abaixo.\n",
    "print('Cidade e Gênero da pessoa\\n')\n",
    "print(DataSet_Toy.iloc[-1,0:2])\n",
    "\n",
    "print('\\n\\nPara fins de conferência o resultado com o valor da coluna Income\\n')\n",
    "print(DataSet_Toy.iloc[-1,0:4])"
   ]
  },
  {
   "cell_type": "markdown",
   "metadata": {
    "colab_type": "text",
    "id": "JQLxC3FZYClW"
   },
   "source": [
    "24 - Quantas pessoas moram na cidade de Dallas? "
   ]
  },
  {
   "cell_type": "code",
   "execution_count": 25,
   "metadata": {
    "colab": {},
    "colab_type": "code",
    "id": "L0XPIO7-YCqh"
   },
   "outputs": [
    {
     "name": "stdout",
     "output_type": "stream",
     "text": [
      "Quantidade de pessoas que moram em Dallas\n",
      "\n",
      "19707\n"
     ]
    }
   ],
   "source": [
    "# Insira a resposta abaixo.\n",
    "print('Quantidade de pessoas que moram em Dallas\\n')\n",
    "print(DataSet_Toy.City.value_counts()['Dallas'])"
   ]
  },
  {
   "cell_type": "markdown",
   "metadata": {
    "colab_type": "text",
    "id": "Yk1cNzuaYCwe"
   },
   "source": [
    "25 - Qual a idade média das pessoas que estão doentes? Utilize o atributo Illness para obter essa informação."
   ]
  },
  {
   "cell_type": "code",
   "execution_count": 26,
   "metadata": {
    "colab": {},
    "colab_type": "code",
    "id": "ITImJ5jkYC1K"
   },
   "outputs": [
    {
     "name": "stdout",
     "output_type": "stream",
     "text": [
      "Valor médio das pessoas doentes\n",
      "\n",
      "45.02084191449048\n"
     ]
    }
   ],
   "source": [
    "# Insira a resposta abaixo.\n",
    "\n",
    "print('Valor médio das pessoas doentes\\n')\n",
    "print(DataSet_Toy[DataSet_Toy['Illness'] == 'Yes'].Age.mean())"
   ]
  },
  {
   "cell_type": "markdown",
   "metadata": {
    "colab_type": "text",
    "id": "lic0gp9Pf4WP"
   },
   "source": [
    "26 - Quantas pessoas tem um salário anual maior que R$ 30000?"
   ]
  },
  {
   "cell_type": "code",
   "execution_count": 27,
   "metadata": {
    "colab": {},
    "colab_type": "code",
    "id": "TLG5DAxAf4c8"
   },
   "outputs": [
    {
     "name": "stdout",
     "output_type": "stream",
     "text": [
      "Quantidade de pessoas com sálario maior que R$ 30000\n",
      "\n",
      "148218\n"
     ]
    }
   ],
   "source": [
    "# Insira a resposta abaixo.\n",
    "\n",
    "print('Quantidade de pessoas com sálario maior que R$ 30000\\n')\n",
    "print(DataSet_Toy[(DataSet_Toy.Income>30000)].Income.count())"
   ]
  },
  {
   "cell_type": "markdown",
   "metadata": {
    "colab_type": "text",
    "id": "xYirQSRegB3r"
   },
   "source": [
    "27 - Quantas pessoas estão doentes?"
   ]
  },
  {
   "cell_type": "code",
   "execution_count": 28,
   "metadata": {
    "colab": {},
    "colab_type": "code",
    "id": "yD9reWNbgB88"
   },
   "outputs": [
    {
     "name": "stdout",
     "output_type": "stream",
     "text": [
      "Quantidade de pessoas doentes\n",
      "\n",
      "12139\n"
     ]
    }
   ],
   "source": [
    "# Insira a resposta abaixo.\n",
    "print('Quantidade de pessoas doentes\\n')\n",
    "print(DataSet_Toy[DataSet_Toy['Illness'] == 'Yes'].Illness.count())"
   ]
  },
  {
   "cell_type": "markdown",
   "metadata": {
    "colab_type": "text",
    "id": "swh6nAWH6pAa"
   },
   "source": [
    "28 - Quantas pessoas estão doente e apresentam renda (Income) menor que 35000 ou maior que 50000?"
   ]
  },
  {
   "cell_type": "code",
   "execution_count": 29,
   "metadata": {
    "colab": {},
    "colab_type": "code",
    "id": "3dqh-jVH6pL6"
   },
   "outputs": [
    {
     "name": "stdout",
     "output_type": "stream",
     "text": [
      "Quantas pessoas doentes e com renda menor que 35000 ou maior que 50000\n",
      "\n",
      "12139\n"
     ]
    }
   ],
   "source": [
    "# Insira a resposta abaixo.\n",
    "print('Quantas pessoas doentes e com renda menor que 35000 ou maior que 50000\\n')\n",
    "\n",
    "print(DataSet_Toy[(DataSet_Toy['Illness'] == 'Yes')&\n",
    "                  ((DataSet_Toy['Income']>35000) |\n",
    "                   (DataSet_Toy['Income']<50000))\n",
    "                 ].Illness.count())"
   ]
  },
  {
   "cell_type": "markdown",
   "metadata": {
    "colab_type": "text",
    "id": "gIOB9N0tgNw1"
   },
   "source": [
    "29 - Mostre os registros que apresentam a menor idade encontrada e uma renda entre 40000 e 42000."
   ]
  },
  {
   "cell_type": "code",
   "execution_count": 30,
   "metadata": {
    "colab": {},
    "colab_type": "code",
    "id": "nQ62IHiggPql"
   },
   "outputs": [
    {
     "name": "stdout",
     "output_type": "stream",
     "text": [
      "Registros com a menor idade e renda entre 40000 e 42000\n",
      "\n",
      "                   City  Gender  Age   Income Illness\n",
      "Number                                               \n",
      "2682             Dallas  Female   25  40075.0      No\n",
      "13564            Dallas  Female   25  40076.0      No\n",
      "5640             Dallas    Male   25  40313.0      No\n",
      "14607            Dallas  Female   25  40363.0      No\n",
      "16403            Dallas  Female   25  40389.0      No\n",
      "10740            Dallas    Male   25  40467.0      No\n",
      "128932  Washington D.C.  Female   25  40476.0      No\n",
      "10181            Dallas  Female   25  40761.0      No\n",
      "18191            Dallas  Female   25  40795.0      No\n",
      "2709             Dallas  Female   25  40899.0      No\n",
      "2092             Dallas    Male   25  41013.0      No\n",
      "18503            Dallas    Male   25  41241.0      No\n",
      "7675             Dallas  Female   25  41288.0      No\n",
      "5280             Dallas  Female   25  41365.0      No\n",
      "9956             Dallas  Female   25  41444.0      No\n",
      "8653             Dallas  Female   25  41561.0      No\n",
      "9776             Dallas  Female   25  41612.0      No\n",
      "7931             Dallas    Male   25  41630.0      No\n",
      "6964             Dallas    Male   25  41654.0      No\n",
      "8765             Dallas  Female   25  41975.0      No\n"
     ]
    }
   ],
   "source": [
    "# Insira a resposta abaixo.\n",
    "print('Registros com a menor idade e renda entre 40000 e 42000\\n')\n",
    "print(DataSet_Toy[((DataSet_Toy.Age == DataSet_Toy.Age.min())\n",
    "    & (DataSet_Toy['Income'] > 40000)\n",
    "    & (DataSet_Toy['Income'] < 42000))])\n"
   ]
  },
  {
   "cell_type": "markdown",
   "metadata": {
    "colab_type": "text",
    "id": "wI7SidOsrZ_x"
   },
   "source": [
    "30 - Mostre os registros referentes a cidade de Dallas que apresentam a maior idade e que estão doentes."
   ]
  },
  {
   "cell_type": "code",
   "execution_count": 31,
   "metadata": {
    "colab": {},
    "colab_type": "code",
    "id": "Mom0InHirZ2m"
   },
   "outputs": [
    {
     "name": "stdout",
     "output_type": "stream",
     "text": [
      "Registros da cidade de Dallas que apresentam a maior idade e que estão doentes\n",
      "\n",
      "          City  Gender  Age   Income Illness\n",
      "Number                                      \n",
      "14437   Dallas  Female   65  20732.0     Yes\n",
      "17728   Dallas  Female   65  30468.0     Yes\n",
      "10518   Dallas    Male   65  32516.0     Yes\n",
      "4359    Dallas  Female   65  34712.0     Yes\n",
      "14711   Dallas  Female   65  34991.0     Yes\n",
      "15663   Dallas  Female   65  35688.0     Yes\n",
      "15866   Dallas    Male   65  36590.0     Yes\n",
      "1564    Dallas  Female   65  38193.0     Yes\n",
      "17788   Dallas    Male   65  40675.0     Yes\n",
      "13877   Dallas    Male   65  42107.0     Yes\n",
      "6074    Dallas  Female   65  45253.0     Yes\n",
      "7587    Dallas    Male   65  45705.0     Yes\n",
      "3318    Dallas    Male   65  48022.0     Yes\n",
      "11236   Dallas  Female   65  48395.0     Yes\n",
      "7284    Dallas    Male   65  54156.0     Yes\n",
      "16487   Dallas    Male   65  56236.0     Yes\n",
      "18498   Dallas  Female   65  56754.0     Yes\n",
      "16224   Dallas  Female   65  56795.0     Yes\n",
      "3924    Dallas    Male   65  59748.0     Yes\n",
      "2379    Dallas    Male   65  67526.0     Yes\n"
     ]
    }
   ],
   "source": [
    "# Insira a resposta abaixo.\n",
    "print('Registros da cidade de Dallas que apresentam a maior idade e que estão doentes\\n')\n",
    "\n",
    "print(DataSet_Toy[\n",
    "    (DataSet_Toy.City =='Dallas') &\n",
    "    (DataSet_Toy.Illness == 'Yes') &\n",
    "     (DataSet_Toy.Age == DataSet_Toy.Age.max())\n",
    "])"
   ]
  },
  {
   "cell_type": "markdown",
   "metadata": {
    "colab_type": "text",
    "id": "_8ahxtMb4WNr"
   },
   "source": [
    "31 - Obtenha os registros das pessoas que moram na cidade de Austin e que apresentam idade menor que 26 anos. Exiba cinco amostras."
   ]
  },
  {
   "cell_type": "code",
   "execution_count": 32,
   "metadata": {
    "colab": {},
    "colab_type": "code",
    "id": "0FB-wLis4WtL"
   },
   "outputs": [
    {
     "name": "stdout",
     "output_type": "stream",
     "text": [
      "Pessoas que moram em Austin e possui menos de 26 anos - Exibindo 5 Registos\n",
      "\n",
      "          City  Gender  Age   Income Illness\n",
      "Number                                      \n",
      "149888  Austin  Female   25  66847.0      No\n",
      "144554  Austin    Male   25  67468.0      No\n",
      "147407  Austin  Female   25  68183.0      No\n",
      "146850  Austin  Female   25  68323.0      No\n",
      "149187  Austin  Female   25  69530.0      No\n"
     ]
    }
   ],
   "source": [
    "# Insira a resposta abaixo.\n",
    "print('Pessoas que moram em Austin e possui menos de 26 anos - Exibindo 5 Registos\\n')\n",
    "print(DataSet_Toy[\n",
    "    (DataSet_Toy.City == 'Austin') &\n",
    "    (DataSet_Toy.Age < 26)\n",
    "].head())"
   ]
  },
  {
   "cell_type": "markdown",
   "metadata": {
    "colab_type": "text",
    "id": "4VCVe3ndUA4K"
   },
   "source": [
    "32 - Exiba as informações estatísticas básicas referentes as colunas do dataframe (média, desvio padrão, valor mínimo, valor máximo, primeiro quartil, segundo quartil, terceiro quartil). Dica: o pandas possui uma função para gerar uma estatística descritiva dos dados."
   ]
  },
  {
   "cell_type": "code",
   "execution_count": 33,
   "metadata": {
    "colab": {},
    "colab_type": "code",
    "id": "wYlaOmisTmRI"
   },
   "outputs": [
    {
     "name": "stdout",
     "output_type": "stream",
     "text": [
      "Informações estatísticas básicas. OBs.: Somente das colunas que é possui\n",
      "\n",
      "                 Age         Income\n",
      "count  150000.000000  150000.000000\n",
      "mean       44.950200   91252.798273\n",
      "std        11.572486   24989.500948\n",
      "min        25.000000    -654.000000\n",
      "25%        35.000000   80867.750000\n",
      "50%        45.000000   93655.000000\n",
      "75%        55.000000  104519.000000\n",
      "max        65.000000  177157.000000\n"
     ]
    }
   ],
   "source": [
    "# Insira a resposta abaixo.\n",
    "print('Informações estatísticas básicas. OBs.: Somente das colunas que é possui\\n')\n",
    "print(DataSet_Toy.describe())"
   ]
  },
  {
   "cell_type": "markdown",
   "metadata": {
    "colab_type": "text",
    "id": "oCz6wcQ-4W2l"
   },
   "source": [
    "33 - Apresenta a quantidade de pessoas doentes por cidade.\n"
   ]
  },
  {
   "cell_type": "code",
   "execution_count": 34,
   "metadata": {
    "colab": {},
    "colab_type": "code",
    "id": "_KU14q1N4W--"
   },
   "outputs": [
    {
     "name": "stdout",
     "output_type": "stream",
     "text": [
      "Quantidade de pessoas doentes por cidade\n",
      "\n",
      "                         City\n",
      "Illness City                 \n",
      "Yes     New York City    4021\n",
      "        Los Angeles      2568\n",
      "        Dallas           1613\n",
      "        Mountain View    1178\n",
      "        Austin           1011\n",
      "        Boston            686\n",
      "        Washington D.C.   668\n",
      "        San Diego         394\n"
     ]
    }
   ],
   "source": [
    "# Insira a resposta abaixo.\n",
    "print('Quantidade de pessoas doentes por cidade\\n')\n",
    "print(DataSet_Toy.groupby('Illness').City.value_counts().to_frame().query(\"Illness == 'Yes'\"))"
   ]
  },
  {
   "cell_type": "markdown",
   "metadata": {
    "colab_type": "text",
    "id": "l2N5oOm_1X84"
   },
   "source": [
    "34 - Armazene em uma nova variável o agrupamento dos dados do dataframe usado anteriormente tomando como critério o gênero e a cidade, nessa exata ordem. Utilize a média como função de agregação e exiba somente a idade e salário anual."
   ]
  },
  {
   "cell_type": "code",
   "execution_count": 35,
   "metadata": {
    "colab": {},
    "colab_type": "code",
    "id": "6hrWIFehY3OR"
   },
   "outputs": [
    {
     "name": "stdout",
     "output_type": "stream",
     "text": [
      "Armazemando os dados agrupados em um novo DataFram . . . \n",
      "\n",
      "Dados armazemados.\n",
      "\n",
      "Exibindo os dados:\n",
      "                              Age         Income\n",
      "Gender City                                     \n",
      "Female Austin           44.505478   84958.760631\n",
      "       Boston           45.219112   85978.442530\n",
      "       Dallas           45.141987   39602.533142\n",
      "       Los Angeles      44.963668   89732.511306\n",
      "       Mountain View    45.011791  129476.667463\n",
      "       New York City    45.037976   91171.135035\n",
      "       San Diego        45.093422   95313.831745\n",
      "       Washington D.C.  44.964085   65449.164141\n",
      "Male   Austin           44.764876   94424.246272\n",
      "       Boston           45.180549   96071.649368\n",
      "       Dallas           44.992910   49722.384021\n",
      "       Los Angeles      45.018392   99681.616055\n",
      "       Mountain View    44.977716  139504.523354\n",
      "       New York City    44.830816  101338.023920\n",
      "       San Diego        44.868487  104859.014732\n",
      "       Washington D.C.  44.676471   75327.277217\n"
     ]
    }
   ],
   "source": [
    "# Insira a resposta abaixo.\n",
    "print('Armazemando os dados agrupados em um novo DataFram . . . \\n')\n",
    "DataSet_Toy_Agrupado = DataSet_Toy.groupby(['Gender','City']).mean()\n",
    "print('Dados armazemados.\\n')\n",
    "print('Exibindo os dados:')\n",
    "print(DataSet_Toy_Agrupado)"
   ]
  },
  {
   "cell_type": "markdown",
   "metadata": {
    "colab_type": "text",
    "id": "GKS0nH_l03cQ"
   },
   "source": [
    "35 - Exiba o index do dataframe oriundo do agrupamento realizado na questão anterior."
   ]
  },
  {
   "cell_type": "code",
   "execution_count": 36,
   "metadata": {
    "colab": {},
    "colab_type": "code",
    "id": "5hHCYz-a03i2"
   },
   "outputs": [
    {
     "name": "stdout",
     "output_type": "stream",
     "text": [
      "Exibindo o index do DataFrame criado na questão anterior\n",
      "MultiIndex(levels=[['Female', 'Male'], ['Austin', 'Boston', 'Dallas', 'Los Angeles', 'Mountain View', 'New York City', 'San Diego', 'Washington D.C.']],\n",
      "           codes=[[0, 0, 0, 0, 0, 0, 0, 0, 1, 1, 1, 1, 1, 1, 1, 1], [0, 1, 2, 3, 4, 5, 6, 7, 0, 1, 2, 3, 4, 5, 6, 7]],\n",
      "           names=['Gender', 'City'])\n"
     ]
    }
   ],
   "source": [
    "# Insira a resposta abaixo.\n",
    "print('Exibindo o index do DataFrame criado na questão anterior')\n",
    "print(DataSet_Toy_Agrupado.index)"
   ]
  },
  {
   "cell_type": "markdown",
   "metadata": {
    "colab_type": "text",
    "id": "VptQzCfU2TpT"
   },
   "source": [
    "36 - Como visto na questão anterior, o agrupamento gerou um dataframe com índice multinível. Acesse os dados referentes ao gênero feminino."
   ]
  },
  {
   "cell_type": "code",
   "execution_count": 37,
   "metadata": {
    "colab": {},
    "colab_type": "code",
    "id": "4lV3cMJ72Tuq"
   },
   "outputs": [
    {
     "name": "stdout",
     "output_type": "stream",
     "text": [
      "Acessando dados do gênero feminino\n",
      "                       Age         Income\n",
      "City                                     \n",
      "Austin           44.505478   84958.760631\n",
      "Boston           45.219112   85978.442530\n",
      "Dallas           45.141987   39602.533142\n",
      "Los Angeles      44.963668   89732.511306\n",
      "Mountain View    45.011791  129476.667463\n",
      "New York City    45.037976   91171.135035\n",
      "San Diego        45.093422   95313.831745\n",
      "Washington D.C.  44.964085   65449.164141\n"
     ]
    }
   ],
   "source": [
    "# Insira a resposta abaixo.\n",
    "print('Acessando dados do gênero feminino')\n",
    "print(DataSet_Toy_Agrupado.groupby(['Gender','City']).mean().loc['Female',:])"
   ]
  },
  {
   "cell_type": "markdown",
   "metadata": {
    "colab_type": "text",
    "id": "Fr0Qby7v3bql"
   },
   "source": [
    "37 - Desta vez, liste os dados indexando diretamente pela cidade de Boston. Assim, deve ser exibida a idade média e o salário anual médio para ambos os gêneros."
   ]
  },
  {
   "cell_type": "code",
   "execution_count": 38,
   "metadata": {
    "colab": {},
    "colab_type": "code",
    "id": "4U56iFlV3bya"
   },
   "outputs": [
    {
     "name": "stdout",
     "output_type": "stream",
     "text": [
      "Média da idade e Sálario Anual para a cidade de Boston\n",
      "\n",
      "              Age        Income\n",
      "Gender                         \n",
      "Female  45.219112  85978.442530\n",
      "Male    45.180549  96071.649368\n"
     ]
    }
   ],
   "source": [
    "# Insira a resposta abaixo.\n",
    "print('Média da idade e Sálario Anual para a cidade de Boston\\n')\n",
    "print(DataSet_Toy_Agrupado.groupby(['City','Gender']).mean().loc['Boston',:])"
   ]
  },
  {
   "cell_type": "markdown",
   "metadata": {
    "colab_type": "text",
    "id": "Tn3yMqyk8TD_"
   },
   "source": [
    "38 - Crie duas novas séries compostas de números aleatórios oriundos de uma distribuição normal. As séries devem ter o mesmo número de elementos que o dataframe, utilize como base os índices do dataframe criado anteriormente para construir as séries. Em seguida, concatene as duas séries horizontalmente e defina os títulos das colunas como 'Random 1' e 'Random 2'. Finalmente, concatene horizontalmente o resultado anterior com o dataframe imediatamente anterior aos agrupamentos realizados nas questões anteriores. Dica: lembre-se que o índice Number inicia em 1 quando for criar as séries de números aleatórios."
   ]
  },
  {
   "cell_type": "code",
   "execution_count": 39,
   "metadata": {
    "colab": {},
    "colab_type": "code",
    "id": "Kyeeqw5v8TK7"
   },
   "outputs": [
    {
     "name": "stdout",
     "output_type": "stream",
     "text": [
      "Criando série randomica 1 . . . .\n",
      "\n",
      "\n",
      "Série randomica 1 criada com sucesso\n",
      "\n",
      "Criando série randomica 2 . . . .\n",
      "\n",
      "\n",
      "Série randomica 2 criada com sucesso\n",
      "\n",
      "Concatenando as series e fazendo o join com o DataFrame anterior . . . \n",
      "\n",
      "\n",
      "Exibindo o novo DataFrame\n",
      "                 City  Gender  Age    Income Illness  Random1  Random2\n",
      "Number                                                                \n",
      "246            Dallas  Female   40    -654.0     Yes      NaN      NaN\n",
      "7897           Dallas  Female   34     584.0      No      NaN      NaN\n",
      "18485          Dallas  Female   43    2474.0      No      NaN      NaN\n",
      "9299           Dallas  Female   31    2667.0     Yes      NaN      NaN\n",
      "17136          Dallas  Female   39    3842.0      No      NaN      NaN\n",
      "2119           Dallas  Female   56    4371.0      No      NaN      NaN\n",
      "4247           Dallas  Female   38    5717.0      No      NaN      NaN\n",
      "18986          Dallas  Female   40    6722.0      No      NaN      NaN\n",
      "407            Dallas  Female   65    6733.0      No      NaN      NaN\n",
      "17103          Dallas  Female   40    8129.0      No      NaN      NaN\n",
      "1826           Dallas  Female   59    8182.0      No      NaN      NaN\n",
      "2524           Dallas  Female   36    8279.0      No      NaN      NaN\n",
      "5499           Dallas  Female   63    8548.0      No      NaN      NaN\n",
      "1038           Dallas  Female   42    8613.0      No      NaN      NaN\n",
      "7636           Dallas  Female   26    8719.0      No      NaN      NaN\n",
      "3087           Dallas  Female   51    8812.0      No      NaN      NaN\n",
      "14204          Dallas  Female   49    9046.0      No      NaN      NaN\n",
      "6623           Dallas  Female   40    9531.0      No      NaN      NaN\n",
      "17821          Dallas  Female   57    9760.0     Yes      NaN      NaN\n",
      "11466          Dallas  Female   35   10129.0      No      NaN      NaN\n",
      "4435           Dallas  Female   48   10672.0      No      NaN      NaN\n",
      "16491          Dallas  Female   41   11039.0      No      NaN      NaN\n",
      "5601           Dallas  Female   30   11284.0      No      NaN      NaN\n",
      "18666          Dallas  Female   55   11301.0     Yes      NaN      NaN\n",
      "10955          Dallas  Female   47   11377.0      No      NaN      NaN\n",
      "3024           Dallas  Female   38   11495.0      No      NaN      NaN\n",
      "388            Dallas  Female   56   11535.0      No      NaN      NaN\n",
      "15101          Dallas  Female   49   11551.0      No      NaN      NaN\n",
      "12091          Dallas  Female   62   11662.0      No      NaN      NaN\n",
      "16587          Dallas  Female   25   11792.0      No      NaN      NaN\n",
      "...               ...     ...  ...       ...     ...      ...      ...\n",
      "112403  Mountain View    Male   33  166633.0      No      NaN      NaN\n",
      "112384  Mountain View  Female   58  166673.0      No      NaN      NaN\n",
      "109468  Mountain View    Male   61  167012.0      No      NaN      NaN\n",
      "105108  Mountain View    Male   36  167041.0      No      NaN      NaN\n",
      "104258  Mountain View    Male   43  167077.0      No      NaN      NaN\n",
      "105611  Mountain View    Male   37  167109.0      No      NaN      NaN\n",
      "109424  Mountain View    Male   47  167114.0      No      NaN      NaN\n",
      "113060  Mountain View    Male   45  167414.0      No      NaN      NaN\n",
      "114836  Mountain View    Male   58  167606.0      No      NaN      NaN\n",
      "107397  Mountain View    Male   35  167826.0      No      NaN      NaN\n",
      "112765  Mountain View    Male   45  168117.0      No      NaN      NaN\n",
      "106986  Mountain View    Male   48  168328.0      No      NaN      NaN\n",
      "115101  Mountain View  Female   32  168440.0      No      NaN      NaN\n",
      "107178  Mountain View    Male   49  168505.0      No      NaN      NaN\n",
      "114626  Mountain View    Male   51  168743.0      No      NaN      NaN\n",
      "102763  Mountain View    Male   62  168911.0      No      NaN      NaN\n",
      "115296  Mountain View    Male   46  168918.0      No      NaN      NaN\n",
      "107486  Mountain View    Male   63  169843.0      No      NaN      NaN\n",
      "109556  Mountain View    Male   43  170179.0      No      NaN      NaN\n",
      "114767  Mountain View    Male   48  170289.0      No      NaN      NaN\n",
      "105905  Mountain View    Male   30  170463.0      No      NaN      NaN\n",
      "106021  Mountain View    Male   27  170927.0      No      NaN      NaN\n",
      "107155  Mountain View    Male   31  170937.0      No      NaN      NaN\n",
      "112341  Mountain View    Male   37  170965.0      No      NaN      NaN\n",
      "102882  Mountain View    Male   47  171862.0      No      NaN      NaN\n",
      "112193  Mountain View    Male   58  172825.0      No      NaN      NaN\n",
      "110878  Mountain View    Male   52  173826.0      No      NaN      NaN\n",
      "109061  Mountain View    Male   61  173991.0      No      NaN      NaN\n",
      "105282  Mountain View    Male   41  176746.0      No      NaN      NaN\n",
      "109351  Mountain View    Male   58  177157.0      No      NaN      NaN\n",
      "\n",
      "[150000 rows x 7 columns]\n"
     ]
    }
   ],
   "source": [
    "# Insira a resposta abaixo.\n",
    "print('Criando série randomica 1 . . . .\\n')\n",
    "Random1 = pd.Series(data = np.random.randn(len(DataSet_Toy_Agrupado)), name='Random1')\n",
    "Random1.index +=1\n",
    "print('\\nSérie randomica 1 criada com sucesso\\n')\n",
    "\n",
    "print('Criando série randomica 2 . . . .\\n')\n",
    "Random2 = pd.Series(data = np.random.randn(len(DataSet_Toy_Agrupado)),name='Random2')\n",
    "Random2.index +=1\n",
    "print('\\nSérie randomica 2 criada com sucesso\\n')\n",
    "\n",
    "print('Concatenando as series e fazendo o join com o DataFrame anterior . . . \\n')\n",
    "DataFrameConcat = pd.concat([Random1, Random2],axis=1)\n",
    "New_DataSet_Toy = DataSet_Toy.join(DataFrameConcat)\n",
    "\n",
    "print('\\nExibindo o novo DataFrame')\n",
    "print(New_DataSet_Toy)"
   ]
  },
  {
   "cell_type": "markdown",
   "metadata": {
    "colab_type": "text",
    "id": "js0CXndDftgu"
   },
   "source": [
    "39 - Adicione uma nova linha com valores do tipo NaN (utilize o numpy.nan) no dataframe atual. Em seguida, preencha-a com a mediana dos valores de cada coluna na qual o valor nulo se encontra. Os atributos categóricos como Gender permanecerão como NaN, substitua-os com o valor não-nulo anterior ao registro. \n",
    "\n",
    "Dica: utilize uma nova variável para armazenar o dataframe para evitar modificações desnecessárias enquanto constrói os procedimentos. Para acompanhar o estado do dataframe durante as alterações utilize o método .tail() para exibir as últimas linhas do dataframe. "
   ]
  },
  {
   "cell_type": "code",
   "execution_count": 40,
   "metadata": {
    "colab": {},
    "colab_type": "code",
    "id": "sZo_u7IalmL4"
   },
   "outputs": [
    {
     "name": "stdout",
     "output_type": "stream",
     "text": [
      "Preenchendo a mediana\n"
     ]
    },
    {
     "name": "stderr",
     "output_type": "stream",
     "text": [
      "C:\\Users\\gfsilva\\AppData\\Local\\Continuum\\anaconda3\\lib\\site-packages\\numpy\\lib\\function_base.py:3405: RuntimeWarning: Invalid value encountered in median\n",
      "  r = func(a, **kwargs)\n"
     ]
    },
    {
     "data": {
      "text/html": [
       "<div>\n",
       "<style scoped>\n",
       "    .dataframe tbody tr th:only-of-type {\n",
       "        vertical-align: middle;\n",
       "    }\n",
       "\n",
       "    .dataframe tbody tr th {\n",
       "        vertical-align: top;\n",
       "    }\n",
       "\n",
       "    .dataframe thead th {\n",
       "        text-align: right;\n",
       "    }\n",
       "</style>\n",
       "<table border=\"1\" class=\"dataframe\">\n",
       "  <thead>\n",
       "    <tr style=\"text-align: right;\">\n",
       "      <th></th>\n",
       "      <th>City</th>\n",
       "      <th>Gender</th>\n",
       "      <th>Age</th>\n",
       "      <th>Income</th>\n",
       "      <th>Illness</th>\n",
       "      <th>Random1</th>\n",
       "      <th>Random2</th>\n",
       "    </tr>\n",
       "    <tr>\n",
       "      <th>Number</th>\n",
       "      <th></th>\n",
       "      <th></th>\n",
       "      <th></th>\n",
       "      <th></th>\n",
       "      <th></th>\n",
       "      <th></th>\n",
       "      <th></th>\n",
       "    </tr>\n",
       "  </thead>\n",
       "  <tbody>\n",
       "    <tr>\n",
       "      <th>Mediana</th>\n",
       "      <td>NaN</td>\n",
       "      <td>NaN</td>\n",
       "      <td>45.0</td>\n",
       "      <td>93655.0</td>\n",
       "      <td>NaN</td>\n",
       "      <td>NaN</td>\n",
       "      <td>NaN</td>\n",
       "    </tr>\n",
       "  </tbody>\n",
       "</table>\n",
       "</div>"
      ],
      "text/plain": [
       "        City Gender   Age   Income Illness  Random1  Random2\n",
       "Number                                                      \n",
       "Mediana  NaN    NaN  45.0  93655.0     NaN      NaN      NaN"
      ]
     },
     "execution_count": 40,
     "metadata": {},
     "output_type": "execute_result"
    }
   ],
   "source": [
    "# Insira a resposta abaixo.\n",
    "\n",
    "print('Preenchendo a mediana')\n",
    "Mediana_DataSet_Toy = New_DataSet_Toy.append(pd.Series(name='Mediana'))\n",
    "\n",
    "for col in Mediana_DataSet_Toy.columns:\n",
    "  try:\n",
    "    Mediana_DataSet_Toy.loc['Mediana',col] = np.median(Mediana_DataSet_Toy[col].iloc[:-1]) \n",
    "  except:\n",
    "    pass\n",
    "    \n",
    "Mediana_DataSet_Toy.tail(1)"
   ]
  },
  {
   "cell_type": "markdown",
   "metadata": {
    "colab_type": "text",
    "id": "Ui98CRk8y6IN"
   },
   "source": [
    "40 - Liste sem repetição as cidades que estão presentes no dataframe."
   ]
  },
  {
   "cell_type": "code",
   "execution_count": 41,
   "metadata": {
    "colab": {},
    "colab_type": "code",
    "id": "OPJ1VVfYy6Ow"
   },
   "outputs": [
    {
     "data": {
      "text/plain": [
       "array(['Dallas', 'Washington D.C.', 'Boston', 'Austin', 'Los Angeles',\n",
       "       'New York City', 'San Diego', 'Mountain View'], dtype=object)"
      ]
     },
     "execution_count": 41,
     "metadata": {},
     "output_type": "execute_result"
    }
   ],
   "source": [
    "# Insira a resposta abaixo.\n",
    "New_DataSet_Toy.City.unique()"
   ]
  },
  {
   "cell_type": "markdown",
   "metadata": {
    "colab_type": "text",
    "id": "2sS_Wy4W4XJ4"
   },
   "source": [
    "41 - Crie uma função anônima *lambda* que receba cada idade e a incremente com +1. Aplique essa função na coluna Age do dataframe."
   ]
  },
  {
   "cell_type": "code",
   "execution_count": 44,
   "metadata": {
    "colab": {},
    "colab_type": "code",
    "id": "0f4wVOXh4XTT"
   },
   "outputs": [
    {
     "name": "stdout",
     "output_type": "stream",
     "text": [
      "Criando a função lambda. . . \n",
      "\n",
      "Função criada com sucesso\n",
      "\n",
      "Aplicando a função lambda ... \n",
      "\n",
      "Exibindo o DataFrame após a aplicação da função lambda.\n",
      "\n",
      "          City  Gender  Age  Income Illness  Random1  Random2\n",
      "Number                                                       \n",
      "246     Dallas  Female   41  -654.0     Yes      NaN      NaN\n",
      "7897    Dallas  Female   35   584.0      No      NaN      NaN\n",
      "18485   Dallas  Female   44  2474.0      No      NaN      NaN\n",
      "9299    Dallas  Female   32  2667.0     Yes      NaN      NaN\n",
      "17136   Dallas  Female   40  3842.0      No      NaN      NaN\n"
     ]
    }
   ],
   "source": [
    "# Insira a resposta abaixo.\n",
    "print('Criando a função lambda. . . \\n')\n",
    "\n",
    "flambda = lambda idade: idade+1\n",
    "\n",
    "print('Função criada com sucesso\\n')\n",
    "print('Aplicando a função lambda ... \\n')\n",
    "New_DataSet_Toy.Age = New_DataSet_Toy.Age.apply(flambda)\n",
    "\n",
    "print('Exibindo o DataFrame após a aplicação da função lambda.\\n')\n",
    "print(New_DataSet_Toy.head())"
   ]
  },
  {
   "cell_type": "markdown",
   "metadata": {
    "colab_type": "text",
    "id": "aKJVPHBDr95n"
   },
   "source": [
    "42 - Crie um novo dataframe a partir do \"toy\" dataframe. **Este deve utilizar as diferentes cidades como índices e ambos os gêneros como colunas, informando para cada cidade a idade média**. Dica: considere criar uma pivot table."
   ]
  },
  {
   "cell_type": "code",
   "execution_count": 45,
   "metadata": {
    "colab": {},
    "colab_type": "code",
    "id": "discLRlIr-Ay"
   },
   "outputs": [
    {
     "name": "stdout",
     "output_type": "stream",
     "text": [
      "Criando o novo DataFrame. . . \n",
      "\n",
      "Exibindo o novo DataFrame\n",
      "\n",
      "                       Age                    Income               \n",
      "Gender              Female       Male         Female           Male\n",
      "City                                                               \n",
      "Austin           44.505478  44.764876   84958.760631   94424.246272\n",
      "Boston           45.219112  45.180549   85978.442530   96071.649368\n",
      "Dallas           45.141987  44.992910   39602.533142   49722.384021\n",
      "Los Angeles      44.963668  45.018392   89732.511306   99681.616055\n",
      "Mountain View    45.011791  44.977716  129476.667463  139504.523354\n",
      "New York City    45.037976  44.830816   91171.135035  101338.023920\n",
      "San Diego        45.093422  44.868487   95313.831745  104859.014732\n",
      "Washington D.C.  44.964085  44.676471   65449.164141   75327.277217\n"
     ]
    }
   ],
   "source": [
    "# Insira a resposta abaixo.\n",
    "print('Criando o novo DataFrame. . . \\n')\n",
    "New_CI_DataSet_Toy = DataSet_Toy.pivot_table(index='City', columns = 'Gender')\n",
    "print('Exibindo o novo DataFrame\\n')\n",
    "print(New_CI_DataSet_Toy)"
   ]
  },
  {
   "cell_type": "markdown",
   "metadata": {
    "colab_type": "text",
    "id": "YP0H5BWuKtc7"
   },
   "source": [
    "### Introduzindo as Funções Merge e Join"
   ]
  },
  {
   "cell_type": "markdown",
   "metadata": {
    "colab_type": "text",
    "id": "S5TSUjLbY8jP"
   },
   "source": [
    "43 - Abaixo pode-se conferir dois dicionários referentes à registros de desempenho escolar de estudantes em duas disciplinas diferentes. No dicionário referente a disciplina de Matemática, a lista de CPFs dos alunos pode ser acessada através da chave 'CPF', enquanto para o dicionário de Química a chave referente aos CPFs é denominada 'Matricula'. Dado que alguns estudantes que fazem parte da disciplina de matemática, também estão presentes na turma de química, realize as seguintes operações:\n",
    "1. Crie um dataframe para cada disciplina.\n",
    "2. Utilize as colunas que contêm os dados de CPF para criar um dataframe final contendo somente os registros dos alunos que contemplaram ambas as disciplinas. O dataframe deve conter somente as colunas 'CPF', 'Nome', 'Nota_Matemática', 'Matricula' e 'Nota_Química'."
   ]
  },
  {
   "cell_type": "code",
   "execution_count": 46,
   "metadata": {
    "colab": {},
    "colab_type": "code",
    "id": "7frcKOpvhQA6"
   },
   "outputs": [
    {
     "name": "stdout",
     "output_type": "stream",
     "text": [
      "Criando os DataFrames . . .\n",
      "\n",
      "\n",
      "DataFrames criados com sucesso . . .\n",
      "\n",
      "Fazendo o merge e criando o novo DataFrame\n",
      "\n",
      "Exibindo o DataFrame final\n",
      "\n",
      "           CPF  Nome  NotaFinalMat    Matricula  NotaFinalQui\n",
      "0  63862254062  Noah           9.1  63862254062          7.79\n",
      "1  88415367805   Sam           7.9  88415367805          8.20\n"
     ]
    }
   ],
   "source": [
    "matematica = {'CPF': [34160272215, 63862254062, 88415367805, 88134932070], 'Nome':['Álex', 'Noah', 'Sam', 'Kim'], 'Nota': [8.95, 9.1, 7.9, 9.2]}\n",
    "quimica = {'Matricula': [63862254062, 24208455012, 27440174003, 88415367805], 'Nome':['Noah', 'Dirceu', 'Dominique', 'Sam'], 'Nota': [7.79, 8.2, 7.5, 8.2]}\n",
    "\n",
    "# Insira a resposta abaixo.\n",
    "\n",
    "# Passo 1\n",
    "print('Criando os DataFrames . . .\\n')\n",
    "DataFrame_Mat = pd.DataFrame(matematica)\n",
    "DataFrame_Qui = pd.DataFrame(quimica)\n",
    "print('\\nDataFrames criados com sucesso . . .\\n')\n",
    "# Passo 2\n",
    "print('Fazendo o merge e criando o novo DataFrame\\n')\n",
    "Notas_DataFrame = pd.merge(DataFrame_Mat,\n",
    "                           DataFrame_Qui, \n",
    "                           on='Nome', \n",
    "                           suffixes=('FinalMat','FinalQui'))\n",
    "print('Exibindo o DataFrame final\\n')\n",
    "print(Notas_DataFrame)"
   ]
  },
  {
   "cell_type": "markdown",
   "metadata": {
    "colab_type": "text",
    "id": "vfI3yq17h1mE"
   },
   "source": [
    "44 - A partir da questão anterior, utilize os dois dataframes criados para cada disciplina e defina o CPF como o índice de ambos os objetos. Em seguida, utilize os índices do dataframe para criar uma nova base contendo somente os registros dos alunos que contemplaram ambas as disciplinas. O dataframe deve conter as colunas 'CPF', 'Nome', 'Nota_Matemática', 'Matricula' e 'Nota_Química'."
   ]
  },
  {
   "cell_type": "code",
   "execution_count": 47,
   "metadata": {
    "colab": {},
    "colab_type": "code",
    "id": "K7L4F3QDh1tS"
   },
   "outputs": [
    {
     "name": "stdout",
     "output_type": "stream",
     "text": [
      "Realizando as operações solicitadas...\n",
      "\n",
      "\n",
      "Imprimindo o DataFram Final\n",
      "\n"
     ]
    },
    {
     "data": {
      "text/html": [
       "<div>\n",
       "<style scoped>\n",
       "    .dataframe tbody tr th:only-of-type {\n",
       "        vertical-align: middle;\n",
       "    }\n",
       "\n",
       "    .dataframe tbody tr th {\n",
       "        vertical-align: top;\n",
       "    }\n",
       "\n",
       "    .dataframe thead th {\n",
       "        text-align: right;\n",
       "    }\n",
       "</style>\n",
       "<table border=\"1\" class=\"dataframe\">\n",
       "  <thead>\n",
       "    <tr style=\"text-align: right;\">\n",
       "      <th></th>\n",
       "      <th>Nome</th>\n",
       "      <th>Nota</th>\n",
       "      <th>Nota_Matemática</th>\n",
       "      <th>Matricula</th>\n",
       "      <th>Nota_Química</th>\n",
       "    </tr>\n",
       "    <tr>\n",
       "      <th>CPF</th>\n",
       "      <th></th>\n",
       "      <th></th>\n",
       "      <th></th>\n",
       "      <th></th>\n",
       "      <th></th>\n",
       "    </tr>\n",
       "  </thead>\n",
       "  <tbody>\n",
       "    <tr>\n",
       "      <th>63862254062</th>\n",
       "      <td>Noah</td>\n",
       "      <td>9.1</td>\n",
       "      <td>9.1</td>\n",
       "      <td>63862254062</td>\n",
       "      <td>7.79</td>\n",
       "    </tr>\n",
       "    <tr>\n",
       "      <th>88415367805</th>\n",
       "      <td>Sam</td>\n",
       "      <td>7.9</td>\n",
       "      <td>7.9</td>\n",
       "      <td>88415367805</td>\n",
       "      <td>8.20</td>\n",
       "    </tr>\n",
       "  </tbody>\n",
       "</table>\n",
       "</div>"
      ],
      "text/plain": [
       "             Nome  Nota  Nota_Matemática    Matricula  Nota_Química\n",
       "CPF                                                                \n",
       "63862254062  Noah   9.1              9.1  63862254062          7.79\n",
       "88415367805   Sam   7.9              7.9  88415367805          8.20"
      ]
     },
     "execution_count": 47,
     "metadata": {},
     "output_type": "execute_result"
    }
   ],
   "source": [
    "# Insira a resposta abaixo.\n",
    "print('Realizando as operações solicitadas...\\n')\n",
    "\n",
    "DataFrame_Qui = pd.merge(DataFrame_Mat,DataFrame_Qui, how='inner', on='Nome', suffixes=('_Matemática','_Química'))\n",
    "DataFrame_Qui.set_index('CPF', inplace=True)\n",
    "DataFrame_Mat.set_index('CPF', inplace=True)\n",
    "DataFrame_Final = DataFrame_Mat.join(DataFrame_Qui.drop('Nome', axis=1), lsuffix='_Matemática', rsuffix='_Química',how='inner') \n",
    "\n",
    "print('\\nImprimindo o DataFram Final\\n')\n",
    "DataFrame_Final\n"
   ]
  },
  {
   "cell_type": "markdown",
   "metadata": {
    "colab_type": "text",
    "id": "MwSL2UxOpfrb"
   },
   "source": [
    "45 - Ainda utilizando o dataframe da questão anterior, apresente desta vez a união entre ambos, de forma a apresentar todos os alunos que contenplaram alguma das disciplinas"
   ]
  },
  {
   "cell_type": "code",
   "execution_count": 48,
   "metadata": {
    "colab": {},
    "colab_type": "code",
    "id": "h1ht-01xpfXm"
   },
   "outputs": [
    {
     "name": "stdout",
     "output_type": "stream",
     "text": [
      "Criando novo DataSet\n",
      "\n",
      "Exibindo novo DataSet\n",
      "\n",
      "   Nome  Nota  Nota_Matemática     Matricula  Nota_Química\n",
      "0  Álex  8.95              NaN           NaN           NaN\n",
      "1  Noah  9.10              9.1  6.386225e+10          7.79\n",
      "2   Sam  7.90              7.9  8.841537e+10          8.20\n",
      "3   Kim  9.20              NaN           NaN           NaN\n"
     ]
    }
   ],
   "source": [
    "# Insira a resposta abaixo.\n",
    "print('Criando novo DataSet\\n')\n",
    "New_DataFrame_Final = pd.merge(DataFrame_Mat, DataFrame_Qui, how ='outer', on='Nome', suffixes= ('_Matemática', '_Química'))\n",
    "print('Exibindo novo DataSet\\n')\n",
    "\n",
    "print(New_DataFrame_Final)"
   ]
  },
  {
   "cell_type": "markdown",
   "metadata": {
    "colab_type": "text",
    "id": "DNw4QgcihG5O"
   },
   "source": [
    "46 - Salve o dataframe resultante da questão anterior em um csv. "
   ]
  },
  {
   "cell_type": "code",
   "execution_count": 49,
   "metadata": {
    "colab": {},
    "colab_type": "code",
    "id": "1BxocGtDhHDQ"
   },
   "outputs": [
    {
     "name": "stdout",
     "output_type": "stream",
     "text": [
      "Salvando o DataFram em .CSV\n"
     ]
    }
   ],
   "source": [
    "# Insira a resposta abaixo.\n",
    "print('Salvando o DataFram em .CSV')\n",
    "New_DataFrame_Final.to_csv('New_DataFrame_Final.csv')"
   ]
  },
  {
   "cell_type": "code",
   "execution_count": null,
   "metadata": {},
   "outputs": [],
   "source": []
  }
 ],
 "metadata": {
  "colab": {
   "collapsed_sections": [],
   "name": "Exercicios_Parte03_1 - Perguntas.ipynb",
   "provenance": [],
   "version": "0.3.2"
  },
  "kernelspec": {
   "display_name": "Python 3",
   "language": "python",
   "name": "python3"
  },
  "language_info": {
   "codemirror_mode": {
    "name": "ipython",
    "version": 3
   },
   "file_extension": ".py",
   "mimetype": "text/x-python",
   "name": "python",
   "nbconvert_exporter": "python",
   "pygments_lexer": "ipython3",
   "version": "3.6.7"
  }
 },
 "nbformat": 4,
 "nbformat_minor": 1
}
