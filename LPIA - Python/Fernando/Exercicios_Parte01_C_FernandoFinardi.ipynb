{
  "nbformat": 4,
  "nbformat_minor": 0,
  "metadata": {
    "colab": {
      "name": "Exercicios_Parte01-C- FernandoFinardi.ipynb",
      "provenance": [],
      "collapsed_sections": []
    },
    "kernelspec": {
      "display_name": "Python 3",
      "language": "python",
      "name": "python3"
    },
    "language_info": {
      "codemirror_mode": {
        "name": "ipython",
        "version": 3
      },
      "file_extension": ".py",
      "mimetype": "text/x-python",
      "name": "python",
      "nbconvert_exporter": "python",
      "pygments_lexer": "ipython3",
      "version": "3.6.4"
    }
  },
  "cells": [
    {
      "cell_type": "markdown",
      "metadata": {
        "colab_type": "text",
        "id": "-S18HnsCtKqj"
      },
      "source": [
        "## Funções"
      ]
    },
    {
      "cell_type": "markdown",
      "metadata": {
        "colab_type": "text",
        "id": "cA_GKn6o46WH"
      },
      "source": [
        "33 - Crie uma função que calcule o fatorial de um número passado como argumento. Caso o número seja negativo, retorne um valor nulo. Caso positivo, retorne o resultado do fatorial. Dica: utilize recursividade e lembre-se de considerar que o fatorial de 0 é 1.\n"
      ]
    },
    {
      "cell_type": "code",
      "metadata": {
        "colab_type": "code",
        "id": "_hs1s18U45_P",
        "colab": {}
      },
      "source": [
        "# Insira a resposta abaixo\n",
        "def fatorial(n):\n",
        "  if n == 0:\n",
        "    return 1\n",
        "  if n == 1:\n",
        "    return 1\n",
        "  else:\n",
        "    return n * fatorial(n-1)\n"
      ],
      "execution_count": 1,
      "outputs": []
    },
    {
      "cell_type": "markdown",
      "metadata": {
        "colab_type": "text",
        "id": "XiVGNaWwEBRl"
      },
      "source": [
        "34 - Define uma função que receba um número arbitrário de argumentos e retorne a sua soma. Exiba o resultado de uma chamada dessa função passando como argumentos números inteiros."
      ]
    },
    {
      "cell_type": "code",
      "metadata": {
        "colab_type": "code",
        "id": "0SmmOKbJIw-X",
        "colab": {}
      },
      "source": [
        "# Insira a resposta abaixo.\n",
        "def soma_args(*args):\n",
        "  import numpy as np\n",
        "  return np.sum(args)"
      ],
      "execution_count": 2,
      "outputs": []
    },
    {
      "cell_type": "markdown",
      "metadata": {
        "colab_type": "text",
        "id": "vbGhkdcjp5cm"
      },
      "source": [
        "### Funções Especiais\n",
        "\n",
        "Nessa sessão serão explorados exercícios baseados em funções especiais do Python, tais como range, lambda, map, filter, enumerate e zip."
      ]
    },
    {
      "cell_type": "markdown",
      "metadata": {
        "colab_type": "text",
        "id": "wHkgbW1ICOp_"
      },
      "source": [
        "35 - Utilize a função *range* para criar uma lista de números inteiros que vai de 100 a -100, seguindo uma ordem decrescente e com intervalos de duas unidades. Exiba a lista gerada."
      ]
    },
    {
      "cell_type": "code",
      "metadata": {
        "colab_type": "code",
        "id": "s01McQtz1Szd",
        "colab": {
          "base_uri": "https://localhost:8080/",
          "height": 1000
        },
        "outputId": "fbbd7180-edc7-4ce0-c880-71329721d333"
      },
      "source": [
        "# Insira a resposta abaixo.\n",
        "lista = range(-100,100)\n",
        "lista = list(filter(lambda x : x % 2 == 0,lista))\n",
        "lista.reverse()\n",
        "\n",
        "lista"
      ],
      "execution_count": 3,
      "outputs": [
        {
          "output_type": "execute_result",
          "data": {
            "text/plain": [
              "[98,\n",
              " 96,\n",
              " 94,\n",
              " 92,\n",
              " 90,\n",
              " 88,\n",
              " 86,\n",
              " 84,\n",
              " 82,\n",
              " 80,\n",
              " 78,\n",
              " 76,\n",
              " 74,\n",
              " 72,\n",
              " 70,\n",
              " 68,\n",
              " 66,\n",
              " 64,\n",
              " 62,\n",
              " 60,\n",
              " 58,\n",
              " 56,\n",
              " 54,\n",
              " 52,\n",
              " 50,\n",
              " 48,\n",
              " 46,\n",
              " 44,\n",
              " 42,\n",
              " 40,\n",
              " 38,\n",
              " 36,\n",
              " 34,\n",
              " 32,\n",
              " 30,\n",
              " 28,\n",
              " 26,\n",
              " 24,\n",
              " 22,\n",
              " 20,\n",
              " 18,\n",
              " 16,\n",
              " 14,\n",
              " 12,\n",
              " 10,\n",
              " 8,\n",
              " 6,\n",
              " 4,\n",
              " 2,\n",
              " 0,\n",
              " -2,\n",
              " -4,\n",
              " -6,\n",
              " -8,\n",
              " -10,\n",
              " -12,\n",
              " -14,\n",
              " -16,\n",
              " -18,\n",
              " -20,\n",
              " -22,\n",
              " -24,\n",
              " -26,\n",
              " -28,\n",
              " -30,\n",
              " -32,\n",
              " -34,\n",
              " -36,\n",
              " -38,\n",
              " -40,\n",
              " -42,\n",
              " -44,\n",
              " -46,\n",
              " -48,\n",
              " -50,\n",
              " -52,\n",
              " -54,\n",
              " -56,\n",
              " -58,\n",
              " -60,\n",
              " -62,\n",
              " -64,\n",
              " -66,\n",
              " -68,\n",
              " -70,\n",
              " -72,\n",
              " -74,\n",
              " -76,\n",
              " -78,\n",
              " -80,\n",
              " -82,\n",
              " -84,\n",
              " -86,\n",
              " -88,\n",
              " -90,\n",
              " -92,\n",
              " -94,\n",
              " -96,\n",
              " -98,\n",
              " -100]"
            ]
          },
          "metadata": {
            "tags": []
          },
          "execution_count": 3
        }
      ]
    },
    {
      "cell_type": "markdown",
      "metadata": {
        "colab_type": "text",
        "id": "mGKZ9A4K111M"
      },
      "source": [
        "36 - Crie uma função anônima que tenha como entrada um único parâmetro e retorne a sua raiz caso o número informado seja maior ou igual a 0. Em caso de números negativos, retorne um valor nulo. Teste a função para os valores -9, 0, 9. Dica: utilize a biblioteca math para acessar operações matemáticas."
      ]
    },
    {
      "cell_type": "code",
      "metadata": {
        "colab_type": "code",
        "id": "Gp-HAS1z12CO",
        "colab": {
          "base_uri": "https://localhost:8080/",
          "height": 68
        },
        "outputId": "5e4e9a3e-005d-4658-ab16-1d2b3877c955"
      },
      "source": [
        "# Insira a resposta abaixo.\n",
        "func = lambda x : x ** (1/2) if x >= 0 else 0\n",
        "print(func(-9))\n",
        "print(func(0))\n",
        "print(func(9))"
      ],
      "execution_count": 4,
      "outputs": [
        {
          "output_type": "stream",
          "text": [
            "0\n",
            "0.0\n",
            "3.0\n"
          ],
          "name": "stdout"
        }
      ]
    },
    {
      "cell_type": "markdown",
      "metadata": {
        "colab_type": "text",
        "id": "qh2Wc1d5_r4S"
      },
      "source": [
        "37 - Uma pesquisa de satisfação dos empregados de uma determinada empresa reuniu dados referente a um questionário no qual foi computado o nível de satisfação do empregado em relação ao salário recebido. Os valores salariais estão armazenados na variávei 'salarios' e pontuação do questionário está armazenada na variável 'satisfacao_empregado'. Realize os seguintes procedimentos.\n",
        "\n",
        "1. A partir da lista satisfacao_empregados, gere uma nova lista com valores normalizados entre 0 e 1.  Fórmula para normalização: $ \\frac{x_i - x_{min}}{x_{max} - x_{min}} $\n",
        "2. Crie a seguinte função: $ f(x) = 0.0004x -0.4 $. A função recebe como entrada um unico número inteiro.\n",
        "3. Utilize a função criada no passo anterior para criar uma nova lista a partir da lista '*salarios*'. Armazene-a em uma variável denominada '*satisfacao_estimada*'.\n",
        "4. Crie uma função que receba como entrada duas listas e compute $ \\frac{1}{n}\\sum_{i=0}^{n}(a_i - b_i)^2 $. Assuma que $n$ seja o número de elementos de qualquer uma das listas e $a$ e $b$ correspondam a valores das listas em uma mesma posição $i$.\n",
        "\n",
        "Dica: considere utilizar a função map e a função anônima lambda para os procedimentos simples como, por exemplo, dos passos 1 ao 3."
      ]
    },
    {
      "cell_type": "code",
      "metadata": {
        "colab_type": "code",
        "id": "MoGWCkce_r_6",
        "colab": {
          "base_uri": "https://localhost:8080/",
          "height": 51
        },
        "outputId": "0cb24d31-0edd-45ad-e231-60f08773a750"
      },
      "source": [
        "# Insira a resposta abaixo.\n",
        "salarios = [1000, 1500, 2000, 2500, 3000, 3500]\n",
        "satisfacao_empregados = [40, 50, 60, 70, 80, 90]\n",
        "\n",
        "# Insira abaixo a funcao para normalizar a lista satisfacao_empregados\n",
        "minimo = min(satisfacao_empregados)\n",
        "maximo = max(satisfacao_empregados)\n",
        "satisfacao_empregados_normalizado = list(map(lambda i:(i-minimo)/(maximo-minimo), satisfacao_empregados))\n",
        "\n",
        "#1\n",
        "print(satisfacao_empregados_normalizado)\n",
        "\n",
        "#2\n",
        "f_ = lambda x : 0.0004 * x - 0.4\n",
        "\n",
        "#3\n",
        "satisfacao_estimada = map(lambda i:f_(i), salarios)\n",
        "\n",
        "#4\n",
        "def erro_medio(lst1, lst2):\n",
        "  soma = sum([(n1 - n2)**2 for n1, n2 in zip(lst1, lst2)])\n",
        "  erro_medio = soma / len(lst1)\n",
        "  return erro_medio\n",
        "\n",
        "print(erro_medio(satisfacao_empregados_normalizado, satisfacao_estimada))"
      ],
      "execution_count": 5,
      "outputs": [
        {
          "output_type": "stream",
          "text": [
            "[0.0, 0.2, 0.4, 0.6, 0.8, 1.0]\n",
            "2.5679065925163146e-33\n"
          ],
          "name": "stdout"
        }
      ]
    },
    {
      "cell_type": "markdown",
      "metadata": {
        "colab_type": "text",
        "id": "UxrISLw--kIE"
      },
      "source": [
        "38 - A partir da lista definida abaixo, filtre-a de forma que somente as palavras com menos de 3 caracteres sejam mantidas. Dica: utilize a função filter."
      ]
    },
    {
      "cell_type": "code",
      "metadata": {
        "colab_type": "code",
        "id": "onMCh04A-kQF",
        "colab": {
          "base_uri": "https://localhost:8080/",
          "height": 34
        },
        "outputId": "40d347bc-ae70-41a0-ec0a-387ef1d9a18d"
      },
      "source": [
        "lista = ['tempor', 'erat,', 'in,', 'elit', 'Etiam', 'tincidunt.', 'rutrum', 'ut,', 'lacinia', 'Integer', 'Nam', 'turpis', 'Nulla', 'non.', 'vehicula', 'diam', 'porttitor', 'blandit', 'Sed', 'pharetra', 'erat', 'hendrerit', 'tristique', 'vulputate', 'faucibus.', 'augue.', 'potenti.', 'vel', 'eros', 'imperdiet,', 'a.', 'dolor.', 'pretium', 'Fusce', 'sit', 'ornare', 'Morbi', 'quis', 'fringilla', 'lobortis', 'tempus', 'mauris', 'ante,', 'lacus', 'porta.', 'faucibus,', 'quis.', 'vestibulum', 'primis', 'luctus,', 'ullamcorper.', 'augue', 'nec', 'mollis', 'lectus', 'dolor', 'sodales', 'ligula,', 'dignissim', 'sem', 'varius', 'mi', 'eu', 'elit.', 'semper', 'id,', 'tempus.', 'finibus.', 'neque', 'quam.', 'scelerisque', 'lorem', 'diam,', 'Cras', 'nisi', 'Lorem', 'leo,', 'Ut', 'ut', 'feugiat.', 'ante', 'venenatis', 'fermentum', 'congue', 'urna', 'Praesent', 'Donec', 'Vestibulum', 'purus.', 'Nullam', 'tincidunt', 'efficitur', 'velit', 'commodo.', 'iaculis', 'sed,', 'volutpat', 'amet', 'mauris.', 'odio', 'a', 'Interdum', 'neque.', 'risus', 'vitae', 'consectetur', 'adipiscing', 'at', 'Aliquam', 'molestie', 'euismod', 'odio.', 'sed', 'in', 'suscipit', 'augue,', 'sapien', 'posuere', 'euismod,', 'ipsum', 'et.', 'maximus.', 'risus,', 'Suspendisse', 'et', 'facilisis', 'elementum', 'efficitur,', 'ac', 'nulla.', 'quam', 'arcu', 'fames', 'Nunc', 'pharetra,', 'laoreet', 'ligula', 'fermentum,', 'auctor', 'tortor,', 'Curabitur', 'eget', 'finibus', 'ultrices', 'malesuada', 'purus', 'congue,', 'amet,', 'fermentum.', 'dui']\n",
        "\n",
        "# Insira a resposta abaixo.\n",
        "menos_3_chars = list(filter(lambda x : len(x) < 3,lista))\n",
        "menos_3_chars"
      ],
      "execution_count": 6,
      "outputs": [
        {
          "output_type": "execute_result",
          "data": {
            "text/plain": [
              "['a.', 'mi', 'eu', 'Ut', 'ut', 'a', 'at', 'in', 'et', 'ac']"
            ]
          },
          "metadata": {
            "tags": []
          },
          "execution_count": 6
        }
      ]
    },
    {
      "cell_type": "markdown",
      "metadata": {
        "colab_type": "text",
        "id": "Mvu_3JcQ0JZj"
      },
      "source": [
        "39 - A partir da lista definida abaixo, gere automaticamente e exiba um dicionário enumerado do tipo:\n",
        "\n",
        "```\n",
        "dicionario = {0: 'Preprocessing', 1: 'Feature Extraction', 2: 'Feature Selection' ...}\n",
        "\n",
        "```\n",
        "\n",
        "Em seguida, gere a seguinte saída:\n",
        "\n",
        "Step 1 - Preprocessing\n",
        "\n",
        "Step 2 - Feature Extraction\n",
        "\n",
        "Step 3 - Feature Selection\n",
        "\n",
        "Step 4 - Classification\n",
        "\n",
        "Step 5 - Post Processing"
      ]
    },
    {
      "cell_type": "code",
      "metadata": {
        "colab_type": "code",
        "id": "jNIHsLKw0Jhm",
        "colab": {
          "base_uri": "https://localhost:8080/",
          "height": 119
        },
        "outputId": "e5db355b-a17a-4281-c214-492ea5228533"
      },
      "source": [
        "lst = [\"Preprocessing\", \"Feature Extraction\", \"Feature Selection\", \"Classification\", \"Post Processing\"]\n",
        "\n",
        "# Insira a resposta abaixo.\n",
        "dict = {}\n",
        "for i in range(0,len(lst)):\n",
        "  dict[i] = lst[i]\n",
        "\n",
        "print(dict)\n",
        "for i in list(dict):\n",
        "  print('Step {} - {}'.format(str(i+1),dict[i]))\n"
      ],
      "execution_count": 7,
      "outputs": [
        {
          "output_type": "stream",
          "text": [
            "{0: 'Preprocessing', 1: 'Feature Extraction', 2: 'Feature Selection', 3: 'Classification', 4: 'Post Processing'}\n",
            "Step 1 - Preprocessing\n",
            "Step 2 - Feature Extraction\n",
            "Step 3 - Feature Selection\n",
            "Step 4 - Classification\n",
            "Step 5 - Post Processing\n"
          ],
          "name": "stdout"
        }
      ]
    },
    {
      "cell_type": "markdown",
      "metadata": {
        "colab_type": "text",
        "id": "wb6C_-EszkKA"
      },
      "source": [
        "40 - Realize os seguintes procedimentos:\n",
        "1. Crie uma lista de números inteiros de 1 a 4 com incremento de 1 em 1.\n",
        "2. Crie uma lista contendo quatro strings.\n",
        "3. Utilize uma única estrutura de repetição do tipo *for* para iterar paralelamente sobre os quatro elementos de cada uma das duas listas. Exiba os elementos."
      ]
    },
    {
      "cell_type": "code",
      "metadata": {
        "colab_type": "code",
        "id": "2bEJ3OYmzkQy",
        "colab": {
          "base_uri": "https://localhost:8080/",
          "height": 153
        },
        "outputId": "8bf5809a-8aba-4afe-ae0f-013e204251a8"
      },
      "source": [
        "# Insira o código abaixo.\n",
        "lista = range(1,5)\n",
        "lista_string = ['a','b','c','d']\n",
        "for i in range(0,len(lista)):\n",
        "  print(lista[i])\n",
        "  print(lista_string[i])"
      ],
      "execution_count": 8,
      "outputs": [
        {
          "output_type": "stream",
          "text": [
            "1\n",
            "a\n",
            "2\n",
            "b\n",
            "3\n",
            "c\n",
            "4\n",
            "d\n"
          ],
          "name": "stdout"
        }
      ]
    },
    {
      "cell_type": "markdown",
      "metadata": {
        "colab_type": "text",
        "id": "4a94p1n85MRN"
      },
      "source": [
        "## Orientação  Objetos"
      ]
    },
    {
      "cell_type": "markdown",
      "metadata": {
        "colab_type": "text",
        "id": "2nkmK2xGAeIV"
      },
      "source": [
        "41 - Crie uma classe que modele um ser humano, esta deve possuir os seguintes atributos e métodos:\n",
        "* nome\n",
        "* idade\n",
        "* peso\n",
        "* altura\n",
        "* envelhecer()\n",
        "* engordar()\n",
        "* emagrecer()\n",
        "* crescer()\n",
        "\n",
        "O acesso aos atributos deve ser realizado através de métodos. O método envelhecer adicionar +1 na idade, o método engordar adiciona +1 no peso, o método emagrecer subtrai -1 no peso e o método crescer adicionar +1 na altura. Considere que a cada ano em que a pessoa envelhece, ela deve crescer 1 cm caso a idade dela seja menor que 20 anos."
      ]
    },
    {
      "cell_type": "code",
      "metadata": {
        "colab_type": "code",
        "id": "KEMBcimDAeUi",
        "colab": {}
      },
      "source": [
        "# Insira a resposta abaixo.\n",
        "class Humano:\n",
        "  def __init__(self, nome, idade, peso, altura):\n",
        "    self.__nome = nome\n",
        "    self.__idade = idade\n",
        "    self.__peso = peso\n",
        "    self.__altura = altura\n",
        "\n",
        "  @property\n",
        "  def nome(self):\n",
        "    return self.__nome\n",
        "\n",
        "  @property\n",
        "  def idade(self):\n",
        "    return self.__idade\n",
        "\n",
        "  @property\n",
        "  def peso(self):\n",
        "    return self.__peso\n",
        "\n",
        "  @property\n",
        "  def altura(self):\n",
        "    return self.__altura\n",
        "\n",
        "  @nome.setter\n",
        "  def nome(self,nome):\n",
        "    self.__nome = nome\n",
        "\n",
        "  @idade.setter\n",
        "  def idade(self,idade):\n",
        "    self.__idade = idade\n",
        "\n",
        "  @peso.setter\n",
        "  def peso(self,peso):\n",
        "    self.__peso = peso\n",
        "\n",
        "  @peso.setter\n",
        "  def altura(self,altura):\n",
        "    self.__altura = altura\n",
        "\n",
        "  def envelhecer(self):\n",
        "    self.__idade += 1\n",
        "    self.__altura = self.__altura + 1 if self.__idade < 20 else self.__altura\n",
        "\n",
        "  def engordar(self):\n",
        "    self.__peso += 1\n",
        "\n",
        "  def emagrecer(self):\n",
        "    self.__peso -= 1\n",
        "\n",
        "  def crescer(self):\n",
        "    self.__altura += 1"
      ],
      "execution_count": 9,
      "outputs": []
    },
    {
      "cell_type": "markdown",
      "metadata": {
        "colab_type": "text",
        "id": "vBDbxIOj3eUN"
      },
      "source": [
        "42 - Instancie um objeto da classe Humano com 17 anos, 170 cm de altura e 70 quilos e realize os seguintes passos:\n",
        "* Exiba a idade e altura antes e após chamar o método envelhecer.\n",
        "* Exiba o peso antes e após chamar o método engordar.\n",
        "* Exiba o peso antes e após chamar o método emagrecer."
      ]
    },
    {
      "cell_type": "code",
      "metadata": {
        "colab_type": "code",
        "id": "Q-YQ8EOE3edK",
        "colab": {
          "base_uri": "https://localhost:8080/",
          "height": 119
        },
        "outputId": "13047f23-c302-4fd9-d924-cbada23b36d6"
      },
      "source": [
        "# Insira a resposta abaixo.\n",
        "human = Humano('human',17,70,170)\n",
        "print('Idade : ' + str(human.idade) + ', Altura : ' + str(human.altura))\n",
        "human.envelhecer()\n",
        "print('Idade : ' + str(human.idade) + ', Altura : ' + str(human.altura))\n",
        "print('Peso : ' + str(human.peso))\n",
        "human.engordar()\n",
        "print('Peso : ' + str(human.peso))\n",
        "print('Peso : ' + str(human.peso))\n",
        "human.emagrecer()\n",
        "print('Peso : ' + str(human.peso))"
      ],
      "execution_count": 10,
      "outputs": [
        {
          "output_type": "stream",
          "text": [
            "Idade : 17, Altura : 70\n",
            "Idade : 18, Altura : 70\n",
            "Peso : 70\n",
            "Peso : 71\n",
            "Peso : 71\n",
            "Peso : 70\n"
          ],
          "name": "stdout"
        }
      ]
    },
    {
      "cell_type": "markdown",
      "metadata": {
        "colab_type": "text",
        "id": "om2ykVS9qRyR"
      },
      "source": [
        "43 - Crie uma classe que modele um Funcionario, ela deve herdar todas as características da classe Humano, além dos seguintes atributos:\n",
        "\n",
        "* profissao\n",
        "* salario\n",
        "\n",
        "O acesso aos atributos deve ser realizado através de métodos."
      ]
    },
    {
      "cell_type": "code",
      "metadata": {
        "colab_type": "code",
        "id": "3xQeEwFFqR3k",
        "colab": {}
      },
      "source": [
        "# Insira a resposta abaixo.\n",
        "class Funcionario(Humano):\n",
        "  def __init__(self, nome, idade, peso, altura, profissao, salario):\n",
        "    Humano.__init__(self, nome, idade, peso, altura)\n",
        "    self.__profissao = profissao\n",
        "    self.__salario = salario\n",
        "\n",
        "  @property\n",
        "  def profissao(self):\n",
        "    return self.__profissao\n",
        "  \n",
        "  @property\n",
        "  def salario(self):\n",
        "    return self.__salario\n",
        "\n",
        "  @profissao.setter\n",
        "  def profissao(self,profissao):\n",
        "    self.__profissao = profissao\n",
        "  \n",
        "  @salario.setter\n",
        "  def salario(self,salario):\n",
        "    self.__salario = salario"
      ],
      "execution_count": 11,
      "outputs": []
    },
    {
      "cell_type": "markdown",
      "metadata": {
        "colab_type": "text",
        "id": "V8ciqsFO3_ZC"
      },
      "source": [
        "44 - Crie um objeto da classe Funcionario que realize os seguintes passos:\n",
        "* Exiba o nome do funcionário\n",
        "* Exiba a profissao inicial e uma nova profissão assinalada ao objeto.\n",
        "* Exiba o salário inicial e o salário após um aumento de 500 reais."
      ]
    },
    {
      "cell_type": "code",
      "metadata": {
        "colab_type": "code",
        "id": "WleD7MY_3_eq",
        "colab": {
          "base_uri": "https://localhost:8080/",
          "height": 102
        },
        "outputId": "a1c4353d-62a2-4e3b-a40e-0641738bab9e"
      },
      "source": [
        "# Insira a resposta abaixo.\n",
        "funcionario = Funcionario('human',17,70,170,'Dev',0)\n",
        "print(funcionario.nome)\n",
        "print(funcionario.profissao)\n",
        "funcionario.profissao = 'Arquiteto'\n",
        "print(funcionario.profissao)\n",
        "print(funcionario.salario)\n",
        "funcionario.salario += 500\n",
        "print(funcionario.salario)"
      ],
      "execution_count": 12,
      "outputs": [
        {
          "output_type": "stream",
          "text": [
            "human\n",
            "Dev\n",
            "Arquiteto\n",
            "0\n",
            "500\n"
          ],
          "name": "stdout"
        }
      ]
    }
  ]
}