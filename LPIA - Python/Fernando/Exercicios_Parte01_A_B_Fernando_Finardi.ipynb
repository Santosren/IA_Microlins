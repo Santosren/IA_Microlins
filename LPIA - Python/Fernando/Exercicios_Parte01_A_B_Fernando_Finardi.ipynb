{
 "cells": [
  {
   "cell_type": "markdown",
   "metadata": {
    "colab_type": "text",
    "id": "DVEozxMjq4qT"
   },
   "source": [
    "## Introduzindo Operações Básicas com Tipos Numéricos e Booleanos"
   ]
  },
  {
   "cell_type": "markdown",
   "metadata": {
    "colab_type": "text",
    "id": "k3RWYbNB5clO"
   },
   "source": [
    "1 - Compute a saída da seguinte expressão matemática sem realizar nenhuma simplificação:\n",
    "$ a^{2} + \\frac{3}{4} \\times b \\times 987(c - \\frac{10^{-9}}{\\sqrt{0.5^{3}}}) $. Assuma que os valores das variáveis a, b e c correpondam a 2, 4 e 8, respectivamente. Armazene o resultado em uma variável.\n",
    "\n",
    "Dica: consulte os operadores aritméticos disponíveis no Python. Utilize a biblioteca math para operação de raiz."
   ]
  },
  {
   "cell_type": "code",
   "execution_count": 1,
   "metadata": {
    "colab": {},
    "colab_type": "code",
    "id": "Y6UcwvJw57MC"
   },
   "outputs": [
    {
     "data": {
      "text/plain": [
       "23691.999991625027"
      ]
     },
     "execution_count": 1,
     "metadata": {},
     "output_type": "execute_result"
    }
   ],
   "source": [
    "# Insira a resposta abaixo.\n",
    "import math\n",
    "a,b,c = 2,4,8\n",
    "res = a ** 2 + (3/4) * b * (987 * (c - 10 ** -9 / math.sqrt(0.5**3)))\n",
    "res\n"
   ]
  },
  {
   "cell_type": "markdown",
   "metadata": {
    "colab_type": "text",
    "id": "YTUAjlIWVM6C"
   },
   "source": [
    "2 - Armazene em uma variável o resto da divisão da expressão anterior por 23691."
   ]
  },
  {
   "cell_type": "code",
   "execution_count": 2,
   "metadata": {
    "colab": {},
    "colab_type": "code",
    "id": "hPB1-d0GVM_9"
   },
   "outputs": [
    {
     "data": {
      "text/plain": [
       "0.9999916250271781"
      ]
     },
     "execution_count": 2,
     "metadata": {},
     "output_type": "execute_result"
    }
   ],
   "source": [
    "# Insira a resposta abaixo.\n",
    "res2 = res % 23691\n",
    "res2"
   ]
  },
  {
   "cell_type": "markdown",
   "metadata": {
    "colab_type": "text",
    "id": "Xddy2CmgIqzJ"
   },
   "source": [
    "3 - Cheque se a saída do resto da divisão é ***i) igual a 1***, ***ii) maior que 1***, ***iii) menor ou igual que 1*** e ***iv) diferente de 1***. Utilize a função *print* para exibir a saída de cada checagem. Consulte os operadores relacionais disponívels no Python."
   ]
  },
  {
   "cell_type": "code",
   "execution_count": 3,
   "metadata": {
    "colab": {},
    "colab_type": "code",
    "id": "HfNOkdqdJMVG"
   },
   "outputs": [
    {
     "name": "stdout",
     "output_type": "stream",
     "text": [
      "é menor ou igual a 1\n",
      "é diferente de 1\n"
     ]
    }
   ],
   "source": [
    "# Insira a resposta abaixo.\n",
    "if res2 == 1.0:\n",
    "    print('é igual a 1')\n",
    "if res2 > 1.0:\n",
    "    print('é maior que 1')\n",
    "if res2 <= 1.0:\n",
    "    print('é menor ou igual a 1')\n",
    "if res2 != 1.0:\n",
    "    print('é diferente de 1')"
   ]
  },
  {
   "cell_type": "markdown",
   "metadata": {
    "colab_type": "text",
    "id": "lqXrELgV-qoc"
   },
   "source": [
    "4 - Exiba a saída de operações booleanas do tipo **AND** e do tipo **OR** entre dois termos que apresentem valores: \n",
    "1. **verdadeiros**;\n",
    "2. **verdadeiro e falso**;\n",
    "3. **falsos**.\n",
    "\n",
    "Ao todo devem ser apresentadas seis operações."
   ]
  },
  {
   "cell_type": "code",
   "execution_count": 4,
   "metadata": {
    "colab": {},
    "colab_type": "code",
    "id": "iwYPHG8zAzEx"
   },
   "outputs": [
    {
     "name": "stdout",
     "output_type": "stream",
     "text": [
      "False\n",
      "True\n",
      "False\n",
      "True\n",
      "True\n",
      "True\n"
     ]
    }
   ],
   "source": [
    "# Insira a resposta abaixo.\n",
    "print(True and False)\n",
    "print(True or False)\n",
    "print((1 > 2) and ('str' in ['str',1,2]))\n",
    "print((2 > len([1,2,3]) or ('str' in ['str',1,2])))\n",
    "print(5 == 2 or True and 1 in [0,1])\n",
    "print((not True and 0 == 0) or ('str' in ['str',1,2]))\n"
   ]
  },
  {
   "cell_type": "markdown",
   "metadata": {
    "colab_type": "text",
    "id": "OhCPDEUc6INz"
   },
   "source": [
    "5 - Escreva a seguinte expressão booleana **(A + B) . (¬B . A)**. Considere que \"+\" indica uma operação  OR; \".\" indica uma operação AND e ''¬'' indica uma operação de negação (NOT). Defina previamente a variávei *A* com valor verdadeiro e a variávei *B* com valor falso."
   ]
  },
  {
   "cell_type": "code",
   "execution_count": 5,
   "metadata": {
    "colab": {},
    "colab_type": "code",
    "id": "uDy9e_grMP2m"
   },
   "outputs": [
    {
     "data": {
      "text/plain": [
       "True"
      ]
     },
     "execution_count": 5,
     "metadata": {},
     "output_type": "execute_result"
    }
   ],
   "source": [
    "# Insira a resposta abaixo.\n",
    "a,b = True,False\n",
    "exp = (a or b) and (not b and a)\n",
    "exp"
   ]
  },
  {
   "cell_type": "markdown",
   "metadata": {
    "colab_type": "text",
    "id": "WrAa05rZ-qxj"
   },
   "source": [
    "6 - Cheque se a saída da expressão booleana da questão imediatamente anterior é falsa."
   ]
  },
  {
   "cell_type": "code",
   "execution_count": 6,
   "metadata": {
    "colab": {},
    "colab_type": "code",
    "id": "vJY1q4-_0X6B"
   },
   "outputs": [
    {
     "data": {
      "text/plain": [
       "False"
      ]
     },
     "execution_count": 6,
     "metadata": {},
     "output_type": "execute_result"
    }
   ],
   "source": [
    "# Insira a resposta abaixo.\n",
    "exp == False"
   ]
  },
  {
   "cell_type": "markdown",
   "metadata": {
    "colab_type": "text",
    "id": "WqIZVzrCpuqp"
   },
   "source": [
    "## Introduzindo Operações com Strings\n",
    "\n",
    "Dica: você pode utilizar a função *help(arg)* para visualizar os métodos que podem ser acessados a partir de uma variável de um tipo qualquer.\n",
    "\n",
    "Segue abaixo alguns exemplos:\n",
    "\n",
    "```\n",
    "# Exemplo usando como argumento a função que representa o tipo de dado\n",
    "help(str)\n",
    "\n",
    "# Exemplo usando uma variavel qualquer\n",
    "a = \"teste\"\n",
    "help(a)\n",
    "\n",
    "# Exemplo utilizando uma variavel do tipo dicionário\n",
    "dicionario = {\"chave\":\"valor\"}\n",
    "help(dicionario)\n",
    "\n",
    "```\n",
    "\n"
   ]
  },
  {
   "cell_type": "markdown",
   "metadata": {
    "colab_type": "text",
    "id": "V_Du1ew3MXy8"
   },
   "source": [
    "7 - Defina uma variável com o valor \"hello wORld\". Utilize as funções de string do Python para reproduzir as seguintes saídas: \"Hello World\", \"hello world\", \"HELLO WORLD\".  Dica: para visualizar as funções disponíveis digite em uma célula de código `'str' ` e em seguida tecle tab.\n"
   ]
  },
  {
   "cell_type": "code",
   "execution_count": 7,
   "metadata": {
    "colab": {},
    "colab_type": "code",
    "id": "tRPJVsT0tbsh"
   },
   "outputs": [
    {
     "name": "stdout",
     "output_type": "stream",
     "text": [
      "Hello World\n",
      "hello world\n",
      "HELLO WORLD\n"
     ]
    }
   ],
   "source": [
    "# Insira a resposta abaixo.\n",
    "hello_world = 'hello wORld'\n",
    "\n",
    "print(hello_world.title())\n",
    "print(hello_world.lower())\n",
    "print(hello_world.upper())"
   ]
  },
  {
   "cell_type": "markdown",
   "metadata": {
    "colab_type": "text",
    "id": "-x6qgUMjN4Po"
   },
   "source": [
    "8 - Dada a seguinte frase \" *Esse é o seu primeiro tweet.* \", remova os espaços em branco das extremidades. Em seguida, substitua a palavra *'primeiro'* por *'segundo'*. \n",
    "\n",
    "\n",
    "\n",
    "**Observação:** a operação para remoção de espaços não atua em um modo '*in-place*', isto é, não altera diretamente o objeto, apenas retorna uma cópia modificada que pode ser armazenada em uma variável. A seguir, pode-se conferir um exemplo de uma operação que não é in-place e requer que assinalemos uma variável para receber a modificação. "
   ]
  },
  {
   "cell_type": "code",
   "execution_count": 8,
   "metadata": {
    "colab": {},
    "colab_type": "code",
    "id": "j-5VN4jTy3vn"
   },
   "outputs": [
    {
     "name": "stdout",
     "output_type": "stream",
     "text": [
      "teste\n",
      "testa\n"
     ]
    }
   ],
   "source": [
    "# EXEMPLO: operação que não atua em modo 'in-place'\n",
    "\n",
    "a = 'teste'\n",
    "\n",
    "# primeiro caso\n",
    "a.replace('ste', 'sta')\n",
    "print(a)\n",
    "\n",
    "# segundo caso\n",
    "a = a.replace('ste', 'sta')\n",
    "print(a)"
   ]
  },
  {
   "cell_type": "code",
   "execution_count": 9,
   "metadata": {
    "colab": {},
    "colab_type": "code",
    "id": "FStrq8MgO-w1",
    "scrolled": true
   },
   "outputs": [
    {
     "name": "stdout",
     "output_type": "stream",
     "text": [
      "Esse é o seu primeiro tweet.\n",
      "Esse é o seu segundo tweet. \n",
      "Esse é o seu segundo tweet.\n"
     ]
    }
   ],
   "source": [
    "# Insira a resposta abaixo.\n",
    "tweet = 'Esse é o seu primeiro tweet. '\n",
    "print(tweet.strip())\n",
    "print(tweet.replace('primeiro','segundo'))\n",
    "\n",
    "tweet = tweet.strip()\n",
    "tweet = tweet.replace('primeiro','segundo')\n",
    "print(tweet)"
   ]
  },
  {
   "cell_type": "markdown",
   "metadata": {
    "colab_type": "text",
    "id": "-hy5Hx4mjKpZ"
   },
   "source": [
    "9 - Fazendo uso do resultado da questão anterior, exiba a quantidade de ocorrências da palavra *'segundo'* e em seguida a quantidade de caracteres *'s'*."
   ]
  },
  {
   "cell_type": "code",
   "execution_count": 10,
   "metadata": {
    "colab": {},
    "colab_type": "code",
    "id": "2bqwnWxo2brg"
   },
   "outputs": [
    {
     "name": "stdout",
     "output_type": "stream",
     "text": [
      "1\n",
      "4\n"
     ]
    }
   ],
   "source": [
    "# Insira a resposta abaixo.\n",
    "print(tweet.count('segundo'))\n",
    "print(tweet.count('s'))"
   ]
  },
  {
   "cell_type": "markdown",
   "metadata": {
    "colab_type": "text",
    "id": "Ah4Io41N3q5w"
   },
   "source": [
    "10 - Concatene duas variáveis do tipo strings com valores arbitrários e exiba o resultado.\n",
    "\n",
    "**Observação:** A string resultante deve possuir no mínimo quatro caracteres."
   ]
  },
  {
   "cell_type": "code",
   "execution_count": 11,
   "metadata": {
    "colab": {},
    "colab_type": "code",
    "id": "VQklMBD-2agi"
   },
   "outputs": [
    {
     "name": "stdout",
     "output_type": "stream",
     "text": [
      "hello world\n"
     ]
    }
   ],
   "source": [
    "# Insira a resposta abaixo.\n",
    "hello,world = 'hello',' world'\n",
    "print(hello + world)"
   ]
  },
  {
   "cell_type": "markdown",
   "metadata": {
    "colab_type": "text",
    "id": "-8Oy9MrNDJPV"
   },
   "source": [
    "11 - Utilize a indexação e exiba apenas do segundo ao quarto caractere da variável do tipo string resultante questão imediatamente anterior."
   ]
  },
  {
   "cell_type": "code",
   "execution_count": 12,
   "metadata": {
    "colab": {},
    "colab_type": "code",
    "id": "1qQLmrNrDXmM"
   },
   "outputs": [
    {
     "data": {
      "text/plain": [
       "'ell'"
      ]
     },
     "execution_count": 12,
     "metadata": {},
     "output_type": "execute_result"
    }
   ],
   "source": [
    "# Insira a resposta abaixo.\n",
    "hello_world = hello + world\n",
    "hello_world[1:4]"
   ]
  },
  {
   "cell_type": "markdown",
   "metadata": {
    "colab_type": "text",
    "id": "KsBiozVOxEEF"
   },
   "source": [
    "12 - Exiba a string \"Mensagem: \" seguida pela string armazenada na variável *msg* definida abaixo. Dica: utilize a função format()."
   ]
  },
  {
   "cell_type": "code",
   "execution_count": 13,
   "metadata": {
    "colab": {},
    "colab_type": "code",
    "id": "nRqtTDFTxDuL"
   },
   "outputs": [
    {
     "name": "stdout",
     "output_type": "stream",
     "text": [
      "Mensagem: This is your first tweet.\n"
     ]
    }
   ],
   "source": [
    "msg = \"This is your first tweet.\"\n",
    "# Insira a resposta abaixo.\n",
    "print('Mensagem: {}'.format(msg))"
   ]
  },
  {
   "cell_type": "markdown",
   "metadata": {
    "colab_type": "text",
    "id": "6afUv7-Q8XRT"
   },
   "source": [
    "13  - Reproduza as próximas três mensagens a partir das variáveis definidas na célula de código."
   ]
  },
  {
   "cell_type": "markdown",
   "metadata": {
    "colab_type": "text",
    "id": "j4__WoXI_XGe"
   },
   "source": [
    "**Mensagem**: Definir uma string com três aspas simples permite construir textos com quebra de linha automática."
   ]
  },
  {
   "cell_type": "code",
   "execution_count": 14,
   "metadata": {
    "colab": {},
    "colab_type": "code",
    "id": "Iluu-cdN_WSD"
   },
   "outputs": [
    {
     "name": "stdout",
     "output_type": "stream",
     "text": [
      "Definir uma string com três aspas simples permite construir textos com quebra de linha automática\n"
     ]
    }
   ],
   "source": [
    "tipo_var = \"string\"\n",
    "qtd = \"três\"\n",
    "# Insira a resposta abaixo.\n",
    "\n",
    "print('Definir uma {} com {} aspas simples permite construir textos com quebra de linha automática'.format(tipo_var,qtd))"
   ]
  },
  {
   "cell_type": "markdown",
   "metadata": {
    "colab_type": "text",
    "id": "9bj-p6aVAYSF"
   },
   "source": [
    "**Mensagem**:  O número pi é aproximadamente 3.14"
   ]
  },
  {
   "cell_type": "code",
   "execution_count": 15,
   "metadata": {
    "colab": {},
    "colab_type": "code",
    "id": "cUJ1s40-8UIu"
   },
   "outputs": [
    {
     "name": "stdout",
     "output_type": "stream",
     "text": [
      "O número pi é aproximadamente 3.141590\n"
     ]
    }
   ],
   "source": [
    "pi = 3.14159\n",
    "# Insira a resposta abaixo.\n",
    "\n",
    "print('O número pi é aproximadamente {:2f}'.format(pi))"
   ]
  },
  {
   "cell_type": "markdown",
   "metadata": {
    "colab_type": "text",
    "id": "pkdZ39rrhx4q"
   },
   "source": [
    "**Mensagem**: O meu nome é [*receber string via input*] e eu tenho [*receber inteiro via input*] anos."
   ]
  },
  {
   "cell_type": "code",
   "execution_count": 16,
   "metadata": {
    "colab": {},
    "colab_type": "code",
    "id": "8ukjvm0ghyD1"
   },
   "outputs": [
    {
     "name": "stdout",
     "output_type": "stream",
     "text": [
      "Qual seu nome? Fernando\n",
      "Quantos anos vc tem? 25\n",
      "O meu nome é Fernando e eu tenho 25 anos.\n"
     ]
    }
   ],
   "source": [
    "# Insira a resposta abaixo.\n",
    "print('O meu nome é {} e eu tenho {} anos.'.format(input('Qual seu nome? '),input('Quantos anos vc tem? ')))"
   ]
  },
  {
   "cell_type": "markdown",
   "metadata": {
    "colab_type": "text",
    "id": "WKfYhv8Cqr4u"
   },
   "source": [
    "## Introduzindo Estruturas de Dados\n",
    "\n",
    "Nessa sessão serão exploradas as estruturas de dados do tipo lista, tupla e dicionário. Para realizar os exercícios abaixos baseados em listas podem ser utilizados métodos como *sum(arg), extend(), reverse(), append(), insert(index, element), sort()*."
   ]
  },
  {
   "cell_type": "markdown",
   "metadata": {
    "colab_type": "text",
    "id": "jdd5yFSNrljL"
   },
   "source": [
    "### Listas "
   ]
  },
  {
   "cell_type": "markdown",
   "metadata": {
    "colab_type": "text",
    "id": "NUOrqskrkZdF"
   },
   "source": [
    "14 - Realize as seguintes operações:\n",
    "\n",
    "\n",
    "1. Crie uma lista vazia.\n",
    "2. Adicione três elementos do tipo inteiro ao final da lista (*o método para adição de novos elementos em uma lista atua de forma in-place, portanto, basta invocá-lo.*).\n",
    "3. Adicione um novo elemento na segunda posição da lista (*método in-place).\n",
    "4. Exiba a soma dos quatro elementos (*python já possui uma função built-in para esssa operação*.)\n",
    "5. Re-assinale o elemento da terceiro posição com um valor do tipo float.\n",
    "6. Repita o passo 4.\n",
    "7. Inverta os elementos da lista atual. (*função para inversão é in-place*)\n",
    "8. Re-ordene os elementos da lista.\n",
    "9. Armazene uma nova lista em uma variável qualquer com 2 números inteiros.\n",
    "10. Concatena a nova lista criada com a lista resultante do passo 7.\n",
    "11. Exiba o valor máximo e mínimo da resultante do passo anterior.\n"
   ]
  },
  {
   "cell_type": "code",
   "execution_count": 17,
   "metadata": {
    "colab": {},
    "colab_type": "code",
    "id": "xnPmawBlRuIz"
   },
   "outputs": [
    {
     "name": "stdout",
     "output_type": "stream",
     "text": [
      "[1, 2, 3]\n",
      "[1, 5, 2, 3]\n",
      "11\n",
      "[1, 5, 1.0, 3]\n",
      "10.0\n",
      "[3, 1.0, 5, 1]\n",
      "[1.0, 1, 3, 5]\n",
      "[3, 1.0, 5, 1, 10, 11]\n",
      "11\n",
      "1.0\n"
     ]
    }
   ],
   "source": [
    "# Insira a resposta abaixo.\n",
    "lista = []\n",
    "lista.append(1)\n",
    "lista.append(2)\n",
    "lista.append(3)\n",
    "print(lista)\n",
    "lista.insert(1,5)\n",
    "print(lista)\n",
    "print(sum(lista))\n",
    "lista[2] = 1.0\n",
    "print(lista)\n",
    "print(sum(lista))\n",
    "lista.reverse()\n",
    "lista_aux = lista.copy()\n",
    "print(lista)\n",
    "lista.sort()\n",
    "print(lista)\n",
    "lista2 = [10,11]\n",
    "lista = lista_aux + lista2\n",
    "print(lista)\n",
    "print(max(lista))\n",
    "print(min(lista))"
   ]
  },
  {
   "cell_type": "markdown",
   "metadata": {
    "colab_type": "text",
    "id": "0Z5yLIA2hDW3"
   },
   "source": [
    "15 - Converta a string definida abaixo em uma lista de palavras, armazene a lista em uma variável. Dica: cheque as operações disponíveis para strings."
   ]
  },
  {
   "cell_type": "code",
   "execution_count": 18,
   "metadata": {
    "colab": {},
    "colab_type": "code",
    "id": "ZBsyU1D7hDfA"
   },
   "outputs": [
    {
     "data": {
      "text/plain": [
       "['Formação',\n",
       " 'de',\n",
       " 'Recursos',\n",
       " 'Humanos',\n",
       " 'Qualificados',\n",
       " 'em',\n",
       " 'Inteligência',\n",
       " 'Artificial']"
      ]
     },
     "execution_count": 18,
     "metadata": {},
     "output_type": "execute_result"
    }
   ],
   "source": [
    "frase = \"Formação de Recursos Humanos Qualificados em Inteligência Artificial\"\n",
    "\n",
    "# Insira a resposta abaixo.\n",
    "lista_palavras = frase.split()\n",
    "lista_palavras"
   ]
  },
  {
   "cell_type": "markdown",
   "metadata": {
    "colab_type": "text",
    "id": "Ty3XskmQl95g"
   },
   "source": [
    "16 - Verifique se a palavra \"Humanos\" está contida na lista de palavras criada anteriormente. Exiba True ou False para indicar a resposta."
   ]
  },
  {
   "cell_type": "code",
   "execution_count": 19,
   "metadata": {
    "colab": {},
    "colab_type": "code",
    "id": "qHQtRHw7l9_q"
   },
   "outputs": [
    {
     "data": {
      "text/plain": [
       "True"
      ]
     },
     "execution_count": 19,
     "metadata": {},
     "output_type": "execute_result"
    }
   ],
   "source": [
    "# Insira a resposta abaixo.\n",
    "'Humanos' in lista_palavras"
   ]
  },
  {
   "cell_type": "markdown",
   "metadata": {
    "colab_type": "text",
    "id": "GJVq-7Fzo0Xo"
   },
   "source": [
    "17 - Crie automaticamente uma lista contendo 50 elementos de valor 3 e armazene-a em uma variável. Dica: utilize o operador de multiplicação."
   ]
  },
  {
   "cell_type": "code",
   "execution_count": 20,
   "metadata": {
    "colab": {},
    "colab_type": "code",
    "id": "dORyLchqo0fE"
   },
   "outputs": [
    {
     "data": {
      "text/plain": [
       "[3,\n",
       " 3,\n",
       " 3,\n",
       " 3,\n",
       " 3,\n",
       " 3,\n",
       " 3,\n",
       " 3,\n",
       " 3,\n",
       " 3,\n",
       " 3,\n",
       " 3,\n",
       " 3,\n",
       " 3,\n",
       " 3,\n",
       " 3,\n",
       " 3,\n",
       " 3,\n",
       " 3,\n",
       " 3,\n",
       " 3,\n",
       " 3,\n",
       " 3,\n",
       " 3,\n",
       " 3,\n",
       " 3,\n",
       " 3,\n",
       " 3,\n",
       " 3,\n",
       " 3,\n",
       " 3,\n",
       " 3,\n",
       " 3,\n",
       " 3,\n",
       " 3,\n",
       " 3,\n",
       " 3,\n",
       " 3,\n",
       " 3,\n",
       " 3,\n",
       " 3,\n",
       " 3,\n",
       " 3,\n",
       " 3,\n",
       " 3,\n",
       " 3,\n",
       " 3,\n",
       " 3,\n",
       " 3,\n",
       " 3]"
      ]
     },
     "execution_count": 20,
     "metadata": {},
     "output_type": "execute_result"
    }
   ],
   "source": [
    "# Insira a resposta abaixo.\n",
    "lista_valores = [3] * 50 \n",
    "lista_valores"
   ]
  },
  {
   "cell_type": "markdown",
   "metadata": {
    "colab_type": "text",
    "id": "tjXYlf9drhd-"
   },
   "source": [
    "### Tuplas"
   ]
  },
  {
   "cell_type": "markdown",
   "metadata": {
    "colab_type": "text",
    "id": "mK1S6LhTx8NT"
   },
   "source": [
    "18 - Converta a lista resultante da primeira questão sobre Listas para uma tupla e exiba o tipo de dados do objeto criado. Após realizar o casting, utilize a indexação para exibir todos os elementos com exceção do primeiro e último."
   ]
  },
  {
   "cell_type": "code",
   "execution_count": 21,
   "metadata": {
    "colab": {},
    "colab_type": "code",
    "id": "VRRDYbbAx7ti"
   },
   "outputs": [
    {
     "name": "stdout",
     "output_type": "stream",
     "text": [
      "(3, 1.0, 5, 1, 10, 11)\n"
     ]
    },
    {
     "data": {
      "text/plain": [
       "tuple"
      ]
     },
     "execution_count": 21,
     "metadata": {},
     "output_type": "execute_result"
    }
   ],
   "source": [
    "# Insira a resposta abaixo.\n",
    "lista_tupla = tuple(lista)\n",
    "print(lista_tupla)\n",
    "type(lista_tupla)"
   ]
  },
  {
   "cell_type": "markdown",
   "metadata": {
    "colab_type": "text",
    "id": "ItO6S8D2_FlO"
   },
   "source": [
    "19 - Exiba os atributos/métodos disponíveis a partir objetos do tipo lista e tuple utilizados na questão anterior. Dica: utilize o método dir."
   ]
  },
  {
   "cell_type": "code",
   "execution_count": 22,
   "metadata": {
    "colab": {},
    "colab_type": "code",
    "id": "eZ-QZUaq_Fr4"
   },
   "outputs": [
    {
     "name": "stdout",
     "output_type": "stream",
     "text": [
      "Lista: ['__add__', '__class__', '__contains__', '__delattr__', '__delitem__', '__dir__', '__doc__', '__eq__', '__format__', '__ge__', '__getattribute__', '__getitem__', '__gt__', '__hash__', '__iadd__', '__imul__', '__init__', '__init_subclass__', '__iter__', '__le__', '__len__', '__lt__', '__mul__', '__ne__', '__new__', '__reduce__', '__reduce_ex__', '__repr__', '__reversed__', '__rmul__', '__setattr__', '__setitem__', '__sizeof__', '__str__', '__subclasshook__', 'append', 'clear', 'copy', 'count', 'extend', 'index', 'insert', 'pop', 'remove', 'reverse', 'sort']\n"
     ]
    }
   ],
   "source": [
    "# Insira a resposta abaixo.\n",
    "print('Lista: ' + str(dir(lista)))"
   ]
  },
  {
   "cell_type": "code",
   "execution_count": 23,
   "metadata": {
    "colab": {},
    "colab_type": "code",
    "id": "ya18WXmWRuJo"
   },
   "outputs": [
    {
     "name": "stdout",
     "output_type": "stream",
     "text": [
      "Tupla: ['__add__', '__class__', '__contains__', '__delattr__', '__dir__', '__doc__', '__eq__', '__format__', '__ge__', '__getattribute__', '__getitem__', '__getnewargs__', '__gt__', '__hash__', '__init__', '__init_subclass__', '__iter__', '__le__', '__len__', '__lt__', '__mul__', '__ne__', '__new__', '__reduce__', '__reduce_ex__', '__repr__', '__rmul__', '__setattr__', '__sizeof__', '__str__', '__subclasshook__', 'count', 'index']\n"
     ]
    }
   ],
   "source": [
    "# Insira a resposta abaixo.\n",
    "print('Tupla: ' + str(dir(lista_tupla)))"
   ]
  },
  {
   "cell_type": "markdown",
   "metadata": {
    "colab_type": "text",
    "id": "9oBDwrKrRuJw"
   },
   "source": [
    "20 - Crie uma tupla contendo 5 números inteiros quaisquer. Em seguida, exiba o valor máximo e o valor mínimo da tupla criada."
   ]
  },
  {
   "cell_type": "code",
   "execution_count": 24,
   "metadata": {
    "colab": {},
    "colab_type": "code",
    "id": "BelsTpyYRuJx"
   },
   "outputs": [
    {
     "name": "stdout",
     "output_type": "stream",
     "text": [
      "9\n",
      "1\n"
     ]
    }
   ],
   "source": [
    "# Insira a resposta abaixo.\n",
    "tupla = (1,2,9,5,6)\n",
    "print(max(tupla))\n",
    "print(min(tupla))"
   ]
  },
  {
   "cell_type": "markdown",
   "metadata": {
    "colab_type": "text",
    "id": "BaCwt9hTrafF"
   },
   "source": [
    "### Dicionários"
   ]
  },
  {
   "cell_type": "markdown",
   "metadata": {
    "colab_type": "text",
    "id": "lSpj33z39Wej"
   },
   "source": [
    "21 - A partir do dicionário inicializado abaixo com quatro items, adicione três novos items com chaves \"three\", \"four\" e \"five\" e valores \"três\", \"quatro\" e \"cinco\"."
   ]
  },
  {
   "cell_type": "code",
   "execution_count": 25,
   "metadata": {
    "colab": {},
    "colab_type": "code",
    "id": "3Bomk_PZ9W2g"
   },
   "outputs": [],
   "source": [
    "my_dict = {}\n",
    "my_dict[\"one\"] = \"um\"\n",
    "my_dict[\"two\"] = \"dois\"\n",
    "my_dict[(1,2)] = [\"um\",\"dois\"]\n",
    "my_dict[1.3] = \"um ponto três\"\n",
    "\n",
    "my_dict[\"three\"] = \"três\"\n",
    "my_dict[\"four\"] = \"quatro\"\n",
    "my_dict[\"five\"] = \"cinco\""
   ]
  },
  {
   "cell_type": "markdown",
   "metadata": {
    "colab_type": "text",
    "id": "FEt_w8_jRuKA"
   },
   "source": [
    "22 - A partir do dicionário definido anteriormente, remova o item (\"one\", \"um\") do dicionário."
   ]
  },
  {
   "cell_type": "code",
   "execution_count": 26,
   "metadata": {
    "colab": {},
    "colab_type": "code",
    "id": "QnRHYNaIRuKB"
   },
   "outputs": [
    {
     "data": {
      "text/plain": [
       "{'two': 'dois',\n",
       " (1, 2): ['um', 'dois'],\n",
       " 1.3: 'um ponto três',\n",
       " 'three': 'três',\n",
       " 'four': 'quatro',\n",
       " 'five': 'cinco'}"
      ]
     },
     "execution_count": 26,
     "metadata": {},
     "output_type": "execute_result"
    }
   ],
   "source": [
    "# Insira a resposta abaixo\n",
    "del my_dict[\"one\"]\n",
    "my_dict"
   ]
  },
  {
   "cell_type": "markdown",
   "metadata": {
    "colab_type": "text",
    "id": "Pl1J-LIM9XHl"
   },
   "source": [
    "23 - A partir do dicionário definido anteriormente, realize as seguintes operações ordenadamente.\n",
    "\n",
    "1.   Exiba a quantidade de items do dicionário.\n",
    "2.   Gere automaticamente uma lista contendo as  chaves do dicionário.\n",
    "3.   Gere automaticamente uma lista contendo os valores do dicionário.\n",
    "4.   Gere automaticamente uma lista composta por tuplas do tipo (chave, valor).\n",
    "5.   Remova os items cuja chaves são (1,2) e 1.3.\n",
    "6.   Exiba o dicionário final\n",
    "\n",
    "\n",
    "\n",
    "\n",
    "\n"
   ]
  },
  {
   "cell_type": "code",
   "execution_count": 27,
   "metadata": {
    "colab": {},
    "colab_type": "code",
    "id": "YJpLd5yxRuKI"
   },
   "outputs": [
    {
     "name": "stdout",
     "output_type": "stream",
     "text": [
      "6\n",
      "dict_keys(['two', (1, 2), 1.3, 'three', 'four', 'five'])\n",
      "dict_values(['dois', ['um', 'dois'], 'um ponto três', 'três', 'quatro', 'cinco'])\n",
      "dict_items([('two', 'dois'), ((1, 2), ['um', 'dois']), (1.3, 'um ponto três'), ('three', 'três'), ('four', 'quatro'), ('five', 'cinco')])\n",
      "{'two': 'dois', 'three': 'três', 'four': 'quatro', 'five': 'cinco'}\n"
     ]
    }
   ],
   "source": [
    "# Insira a resposta abaixo\n",
    "\n",
    "# Passo 1\n",
    "print(len(my_dict))\n",
    "\n",
    "# Passo 2\n",
    "print(my_dict.keys())\n",
    "\n",
    "# Passo 3\n",
    "print(my_dict.values())\n",
    "\n",
    "# Passo 4 \n",
    "print(my_dict.items())\n",
    "\n",
    "# Passo 5\n",
    "del my_dict[(1,2)]\n",
    "del my_dict[1.3]\n",
    "\n",
    "# Passo 6\n",
    "print(my_dict)      "
   ]
  },
  {
   "cell_type": "markdown",
   "metadata": {
    "colab_type": "text",
    "id": "iNDUUfFPqNsC"
   },
   "source": [
    "24 - A partir dos dicionários '*en*' e '*pt_br*' definidos abaixo, crie um terceiro dicionário denominado '*translator*' cujas chaves são, respectivamente, 'en' e 'pt_br' e os valores sejam os dicionários correspondentes. Exiba o dicionário criado."
   ]
  },
  {
   "cell_type": "code",
   "execution_count": 28,
   "metadata": {
    "colab": {},
    "colab_type": "code",
    "id": "iIv7lR8zqNy1"
   },
   "outputs": [
    {
     "data": {
      "text/plain": [
       "{'en': {1: 'um', 2: 'dois', 3: 'tres'},\n",
       " 'pt_br': {1: 'one', 2: 'two', 3: 'three'}}"
      ]
     },
     "execution_count": 28,
     "metadata": {},
     "output_type": "execute_result"
    }
   ],
   "source": [
    "en = {1:\"um\", 2:\"dois\", 3:\"tres\"}\n",
    "pt_br = {1:\"one\", 2:\"two\", 3:\"three\"}\n",
    "\n",
    "# Insira a resposta abaixo\n",
    "\n",
    "translator = {\"en\": en, \"pt_br\": pt_br}\n",
    "translator"
   ]
  },
  {
   "cell_type": "markdown",
   "metadata": {
    "colab_type": "text",
    "id": "cK-nN01LpxwW"
   },
   "source": [
    "### Estruturas de Decisão"
   ]
  },
  {
   "cell_type": "markdown",
   "metadata": {
    "colab_type": "text",
    "id": "PDkLty8ayY9p"
   },
   "source": [
    "25 - Utilize estruturas de decisão se-senão para construir um script que simule a árvore de decisão disposta na figura abaixo. Para cada nó da árvore, o usuário deve fornecer um valor a ser armazenado em uma variável e utilizado para verificar o fluxo que deve ser seguido até atingir uma das folha, exibindo algum dos valores \"Opção 1\", \"Opção 2\" ou \"Opção 3\".\n",
    "\n",
    "\n",
    "![alt text](https://docs.google.com/uc?export=download&id=1O4rn7YIeOpUcFibD40ir2zJAqfobZIs2)"
   ]
  },
  {
   "cell_type": "code",
   "execution_count": 29,
   "metadata": {
    "colab": {},
    "colab_type": "code",
    "id": "YjVkjZGCyZAi"
   },
   "outputs": [
    {
     "name": "stdout",
     "output_type": "stream",
     "text": [
      "x1: 1\n",
      "x2: 1\n",
      "x3: 1\n",
      "Opção 2\n"
     ]
    }
   ],
   "source": [
    "if float(input('x1: ')) > 3.77:\n",
    "    print('Opção 1')\n",
    "else:\n",
    "    if float(input('x2: ')) > 0.5:\n",
    "        if float(input('x3: ')) >= 0.78:\n",
    "            print('Opção 2')\n",
    "        else:\n",
    "            print('Opção 1')\n",
    "    else:\n",
    "        x4 = float(input('x4: '))\n",
    "        if 0.25 < x4 < 0.5:\n",
    "            print('Opção 1')\n",
    "        elif x4 == 0.5:\n",
    "            print('Opção 3')\n",
    "        elif x4 > 0.5:\n",
    "            print('Opção 2')"
   ]
  },
  {
   "cell_type": "markdown",
   "metadata": {
    "colab_type": "text",
    "id": "b-Td-fgNp2HM"
   },
   "source": [
    "### Estruturas de Repetição\n",
    "\n",
    "for (with range), while, list comprehension"
   ]
  },
  {
   "cell_type": "markdown",
   "metadata": {
    "colab_type": "text",
    "id": "mIhOW0di8iZh"
   },
   "source": [
    "26 - Crie um programa que receba do usuário uma entrada referente a string \"Please, type 'q' to quit\". Enquanto o usuário não digitar o caractere 'q', o programa deve exibir \"Sorry, try again.\" e continuar solicitando a informação. Dica: utilize o comando break para interrupção."
   ]
  },
  {
   "cell_type": "code",
   "execution_count": 30,
   "metadata": {
    "colab": {},
    "colab_type": "code",
    "id": "BKxPv3BB8ihm"
   },
   "outputs": [
    {
     "name": "stdout",
     "output_type": "stream",
     "text": [
      "Please, type 'q' to quit  f\n",
      "Sorry, try again.  f\n",
      "Sorry, try again.  q\n"
     ]
    }
   ],
   "source": [
    "# Insira a resposta abaixo.\n",
    "string = input(\"Please, type 'q' to quit  \")\n",
    "while string != 'q':\n",
    "    string = input(\"Sorry, try again.  \")"
   ]
  },
  {
   "cell_type": "markdown",
   "metadata": {
    "colab_type": "text",
    "id": "nnA67LDY8iqI"
   },
   "source": [
    "27 - Crie um programa que imprima apenas os números ímpares entre 1 e 100."
   ]
  },
  {
   "cell_type": "code",
   "execution_count": 31,
   "metadata": {
    "colab": {},
    "colab_type": "code",
    "id": "2_x3vAUe8izO"
   },
   "outputs": [
    {
     "name": "stdout",
     "output_type": "stream",
     "text": [
      "3\n",
      "6\n",
      "9\n",
      "12\n",
      "15\n",
      "18\n",
      "21\n",
      "24\n",
      "27\n",
      "30\n",
      "33\n",
      "36\n",
      "39\n",
      "42\n",
      "45\n",
      "48\n",
      "51\n",
      "54\n",
      "57\n",
      "60\n",
      "63\n",
      "66\n",
      "69\n",
      "72\n",
      "75\n",
      "78\n",
      "81\n",
      "84\n",
      "87\n",
      "90\n",
      "93\n",
      "96\n",
      "99\n"
     ]
    }
   ],
   "source": [
    "# Insira a resposta abaixo.\n",
    "for i in range(1,100):\n",
    "    if i % 3 == 0:\n",
    "        print(i)"
   ]
  },
  {
   "cell_type": "markdown",
   "metadata": {
    "colab_type": "text",
    "id": "m0QJ9fIe7rOl"
   },
   "source": [
    "28 - A partir da lista definida abaixo, crie uma nova lista contendo apenas os números negativos. Dica: considere utilizar o modo list comprehension."
   ]
  },
  {
   "cell_type": "code",
   "execution_count": 32,
   "metadata": {
    "colab": {},
    "colab_type": "code",
    "id": "CHAeZEOw7rWc"
   },
   "outputs": [
    {
     "name": "stdout",
     "output_type": "stream",
     "text": [
      "[-6, -22, -17, -21, -11]\n"
     ]
    }
   ],
   "source": [
    "lista = [-6, 21, -22, 4, -17, -21, 22, -11, 3, 28]\n",
    "# Insira a resposta abaixo.\n",
    "new_lista = []\n",
    "for i in lista:\n",
    "    if i < 0:\n",
    "        new_lista.append(i)\n",
    "print(new_lista)"
   ]
  },
  {
   "cell_type": "markdown",
   "metadata": {
    "colab_type": "text",
    "id": "U_aYQhC5LPXi"
   },
   "source": [
    "29 - Converta a string definida abaixo em uma lista de palavras. Em seguida, crie um dicionário cujas chaves são as palavras contidas no texto e os valores representem a quantidade de ocorrências da palavra em questão.\n",
    "\n",
    "\n"
   ]
  },
  {
   "cell_type": "code",
   "execution_count": 33,
   "metadata": {
    "colab": {},
    "colab_type": "code",
    "id": "EW3G73kBLQD_"
   },
   "outputs": [
    {
     "data": {
      "text/plain": [
       "{'Lorem': 3,\n",
       " 'ipsum': 3,\n",
       " 'dolor': 3,\n",
       " 'sit': 4,\n",
       " 'amet': 4,\n",
       " 'consectetur': 3,\n",
       " 'adipiscing': 3,\n",
       " 'elit': 4,\n",
       " 'Maecenas': 1,\n",
       " 'maximus': 2,\n",
       " 'consequat': 1,\n",
       " 'libero': 2,\n",
       " 'sed': 1,\n",
       " 'eleifend': 1,\n",
       " 'Mauris': 2,\n",
       " 'pulvinar': 1,\n",
       " 'quam': 1,\n",
       " 'pharetra': 2,\n",
       " 'est': 2,\n",
       " 'efficitur': 1,\n",
       " 'tincidunt': 1,\n",
       " 'neque': 3,\n",
       " 'cursus': 2,\n",
       " 'ante': 2,\n",
       " 'vehicula': 1,\n",
       " 'viverra': 2,\n",
       " 'Nullam': 1,\n",
       " 'lobortis': 1,\n",
       " 'ut': 2,\n",
       " 'lacinia': 1,\n",
       " 'in': 1,\n",
       " 'euismod': 1,\n",
       " 'non': 1,\n",
       " 'purus': 4,\n",
       " 'Quisque': 1,\n",
       " 'egestas': 2,\n",
       " 'pellentesque': 2,\n",
       " 'nulla': 1,\n",
       " 'eget': 1,\n",
       " 'In': 1,\n",
       " 'sem': 2,\n",
       " 'felis': 1,\n",
       " 'bibendum': 1,\n",
       " 'hendrerit': 1,\n",
       " 'varius': 1,\n",
       " 'dapibus': 1,\n",
       " 'blandit': 1,\n",
       " 'Nunc': 1,\n",
       " 'fermentum': 1,\n",
       " 'id': 2,\n",
       " 'risus': 2,\n",
       " 'vel': 1,\n",
       " 'suscipit': 1,\n",
       " 'Aenean': 1,\n",
       " 'laoreet': 1,\n",
       " 'posuere': 1,\n",
       " 'ac': 1,\n",
       " 'Sed': 1,\n",
       " 'vitae': 2,\n",
       " 'finibus': 1,\n",
       " 'tempor': 1,\n",
       " 'magna': 1,\n",
       " 'a': 3,\n",
       " 'iaculis': 1,\n",
       " 'ex': 1,\n",
       " 'Pellentesque': 1,\n",
       " 'scelerisque': 1,\n",
       " 'quis': 1,\n",
       " 'volutpat': 1,\n",
       " 'Nulla': 1,\n",
       " 'metus': 1,\n",
       " 'molestie': 1,\n",
       " 'porta': 1,\n",
       " 'Praesent': 1,\n",
       " 'odio': 1,\n",
       " 'auctor': 1,\n",
       " 'porttitor': 1}"
      ]
     },
     "execution_count": 33,
     "metadata": {},
     "output_type": "execute_result"
    }
   ],
   "source": [
    "texto = '''\n",
    "Lorem ipsum dolor sit amet, consectetur adipiscing elit. Maecenas maximus consequat libero sed eleifend. Mauris pulvinar quam pharetra \n",
    "est efficitur maximus. Mauris tincidunt neque cursus ante vehicula viverra. Nullam neque neque, lobortis ut lacinia in, euismod non purus. \n",
    "Quisque egestas pellentesque nulla eget egestas. In sem felis, pellentesque bibendum hendrerit varius, dapibus blandit libero. Nunc \n",
    "fermentum id risus vel suscipit. Aenean laoreet posuere purus ac viverra. Sed vitae sem finibus, tempor magna a, iaculis ex. Pellentesque \n",
    "sit amet scelerisque purus, quis volutpat ante. Lorem ipsum dolor sit amet, consectetur adipiscing elit. Nulla cursus est metus, vitae \n",
    "molestie elit porta a. Praesent pharetra odio id purus auctor porttitor a ut risus. Lorem ipsum dolor sit amet, consectetur adipiscing elit.\n",
    "'''\n",
    "# Insira a resposota abaixo.\n",
    "\n",
    "lista_palavras = texto.replace('.','')\n",
    "lista_palavras = lista_palavras.replace(',','')\n",
    "lista_palavras = lista_palavras.split()\n",
    "\n",
    "dict_palavras = {key: lista_palavras.count(key) for key in lista_palavras}\n",
    "dict_palavras"
   ]
  },
  {
   "cell_type": "markdown",
   "metadata": {
    "colab_type": "text",
    "id": "KEmS5Nr-otZR"
   },
   "source": [
    "30 - Imprima o dicionário gerado no passo anterior seguindo uma ordem alfabética. \n",
    "\n",
    "Dicas: \n",
    "1. Python já possui uma função built-in ordenação de listas\n",
    "2. É possível utilizar uma estrutura de repetição para construir um novo dicionário."
   ]
  },
  {
   "cell_type": "code",
   "execution_count": 34,
   "metadata": {
    "colab": {},
    "colab_type": "code",
    "id": "dcPK7SXzotiB"
   },
   "outputs": [
    {
     "name": "stdout",
     "output_type": "stream",
     "text": [
      "['Lorem', 'ipsum', 'dolor', 'sit', 'amet', 'consectetur', 'adipiscing', 'elit', 'Maecenas', 'maximus', 'consequat', 'libero', 'sed', 'eleifend', 'Mauris', 'pulvinar', 'quam', 'pharetra', 'est', 'efficitur', 'tincidunt', 'neque', 'cursus', 'ante', 'vehicula', 'viverra', 'Nullam', 'lobortis', 'ut', 'lacinia', 'in', 'euismod', 'non', 'purus', 'Quisque', 'egestas', 'pellentesque', 'nulla', 'eget', 'In', 'sem', 'felis', 'bibendum', 'hendrerit', 'varius', 'dapibus', 'blandit', 'Nunc', 'fermentum', 'id', 'risus', 'vel', 'suscipit', 'Aenean', 'laoreet', 'posuere', 'ac', 'Sed', 'vitae', 'finibus', 'tempor', 'magna', 'a', 'iaculis', 'ex', 'Pellentesque', 'scelerisque', 'quis', 'volutpat', 'Nulla', 'metus', 'molestie', 'porta', 'Praesent', 'odio', 'auctor', 'porttitor']\n",
      "['Aenean', 'In', 'Lorem', 'Maecenas', 'Mauris', 'Nulla', 'Nullam', 'Nunc', 'Pellentesque', 'Praesent', 'Quisque', 'Sed', 'a', 'ac', 'adipiscing', 'amet', 'ante', 'auctor', 'bibendum', 'blandit', 'consectetur', 'consequat', 'cursus', 'dapibus', 'dolor', 'efficitur', 'egestas', 'eget', 'eleifend', 'elit', 'est', 'euismod', 'ex', 'felis', 'fermentum', 'finibus', 'hendrerit', 'iaculis', 'id', 'in', 'ipsum', 'lacinia', 'laoreet', 'libero', 'lobortis', 'magna', 'maximus', 'metus', 'molestie', 'neque', 'non', 'nulla', 'odio', 'pellentesque', 'pharetra', 'porta', 'porttitor', 'posuere', 'pulvinar', 'purus', 'quam', 'quis', 'risus', 'scelerisque', 'sed', 'sem', 'sit', 'suscipit', 'tempor', 'tincidunt', 'ut', 'varius', 'vehicula', 'vel', 'vitae', 'viverra', 'volutpat']\n"
     ]
    },
    {
     "data": {
      "text/plain": [
       "{'Aenean': 1,\n",
       " 'In': 1,\n",
       " 'Lorem': 3,\n",
       " 'Maecenas': 1,\n",
       " 'Mauris': 2,\n",
       " 'Nulla': 1,\n",
       " 'Nullam': 1,\n",
       " 'Nunc': 1,\n",
       " 'Pellentesque': 1,\n",
       " 'Praesent': 1,\n",
       " 'Quisque': 1,\n",
       " 'Sed': 1,\n",
       " 'a': 3,\n",
       " 'ac': 1,\n",
       " 'adipiscing': 3,\n",
       " 'amet': 4,\n",
       " 'ante': 2,\n",
       " 'auctor': 1,\n",
       " 'bibendum': 1,\n",
       " 'blandit': 1,\n",
       " 'consectetur': 3,\n",
       " 'consequat': 1,\n",
       " 'cursus': 2,\n",
       " 'dapibus': 1,\n",
       " 'dolor': 3,\n",
       " 'efficitur': 1,\n",
       " 'egestas': 2,\n",
       " 'eget': 1,\n",
       " 'eleifend': 1,\n",
       " 'elit': 4,\n",
       " 'est': 2,\n",
       " 'euismod': 1,\n",
       " 'ex': 1,\n",
       " 'felis': 1,\n",
       " 'fermentum': 1,\n",
       " 'finibus': 1,\n",
       " 'hendrerit': 1,\n",
       " 'iaculis': 1,\n",
       " 'id': 2,\n",
       " 'in': 1,\n",
       " 'ipsum': 3,\n",
       " 'lacinia': 1,\n",
       " 'laoreet': 1,\n",
       " 'libero': 2,\n",
       " 'lobortis': 1,\n",
       " 'magna': 1,\n",
       " 'maximus': 2,\n",
       " 'metus': 1,\n",
       " 'molestie': 1,\n",
       " 'neque': 3,\n",
       " 'non': 1,\n",
       " 'nulla': 1,\n",
       " 'odio': 1,\n",
       " 'pellentesque': 2,\n",
       " 'pharetra': 2,\n",
       " 'porta': 1,\n",
       " 'porttitor': 1,\n",
       " 'posuere': 1,\n",
       " 'pulvinar': 1,\n",
       " 'purus': 4,\n",
       " 'quam': 1,\n",
       " 'quis': 1,\n",
       " 'risus': 2,\n",
       " 'scelerisque': 1,\n",
       " 'sed': 1,\n",
       " 'sem': 2,\n",
       " 'sit': 4,\n",
       " 'suscipit': 1,\n",
       " 'tempor': 1,\n",
       " 'tincidunt': 1,\n",
       " 'ut': 2,\n",
       " 'varius': 1,\n",
       " 'vehicula': 1,\n",
       " 'vel': 1,\n",
       " 'vitae': 2,\n",
       " 'viverra': 2,\n",
       " 'volutpat': 1}"
      ]
     },
     "execution_count": 34,
     "metadata": {},
     "output_type": "execute_result"
    }
   ],
   "source": [
    "# Insira a resposta abaixo.\n",
    "sorted_list = list(dict_palavras.keys())\n",
    "print(sorted_list)\n",
    "sorted_list.sort()\n",
    "print(sorted_list)\n",
    "new_dict = {}\n",
    "for i in sorted_list:\n",
    "    new_dict[i] = dict_palavras[i]\n",
    "new_dict"
   ]
  },
  {
   "cell_type": "markdown",
   "metadata": {
    "colab_type": "text",
    "id": "ix_iQWRj21d-"
   },
   "source": [
    "31 - Na lista 'colors' definida abaixo têm-se três tipos diferentes de cores. A partir dela, crie uma nova lista na qual cada string deve assumir uma lista com valores inteiros seguindo uma estratégia binária da seguinte forma:\n",
    "\n",
    "```\n",
    "red,\tgreen,\tblue\n",
    "[1,\t\t0,\t\t0]\n",
    "[0,\t\t1,\t\t0]\n",
    "[0,\t\t0,\t\t1]\n",
    "\n",
    "```\n",
    "\n",
    "Dica: crie uma lista com os três possíveis valores e utilize a posição do elemento.\n",
    "\n"
   ]
  },
  {
   "cell_type": "code",
   "execution_count": 35,
   "metadata": {
    "colab": {},
    "colab_type": "code",
    "id": "h9lQSh8w21pI"
   },
   "outputs": [
    {
     "name": "stdout",
     "output_type": "stream",
     "text": [
      "[[0, 0, 1], [0, 0, 1], [0, 1, 0], [0, 0, 1], [1, 0, 0], [1, 0, 0], [0, 1, 0], [0, 0, 1], [0, 1, 0], [1, 0, 0]]\n"
     ]
    }
   ],
   "source": [
    "colors = ['blue', 'blue', 'green', 'blue', 'red', 'red', 'green', 'blue', 'green', 'red']\n",
    "\n",
    "# Insira a resposta abaixo\n",
    "lista = []\n",
    "for i in colors:\n",
    "    if i == 'red':\n",
    "        lista.append([1,0,0])\n",
    "    elif i == 'green':\n",
    "        lista.append([0,1,0])\n",
    "    elif i == 'blue':\n",
    "        lista.append([0,0,1])\n",
    "print(lista)"
   ]
  },
  {
   "cell_type": "markdown",
   "metadata": {
    "colab_type": "text",
    "id": "BWeuTJxZpOuG"
   },
   "source": [
    "32 - A partir da lista resultante da questão imediatamente anterior,  reverta o processo e retorne uma lista contendo as strings 'blue', 'green' e 'red'."
   ]
  },
  {
   "cell_type": "code",
   "execution_count": 36,
   "metadata": {
    "colab": {},
    "colab_type": "code",
    "id": "C12-oQ27pO8x"
   },
   "outputs": [
    {
     "name": "stdout",
     "output_type": "stream",
     "text": [
      "['blue', 'blue', 'green', 'blue', 'red', 'red', 'green', 'blue', 'green', 'red']\n"
     ]
    }
   ],
   "source": [
    "# Insira a resposta abaixo\n",
    "lista_colors = []\n",
    "for i in lista:\n",
    "    if i[0] == 1:\n",
    "        lista_colors.append('red')\n",
    "    elif i[1] == 1:\n",
    "        lista_colors.append('green')\n",
    "    elif i[2] == 1:\n",
    "        lista_colors.append('blue')\n",
    "print(lista_colors)"
   ]
  }
 ],
 "metadata": {
  "colab": {
   "collapsed_sections": [],
   "name": "Exercicios_Parte01-A-B.ipynb",
   "provenance": []
  },
  "kernelspec": {
   "display_name": "Python 3",
   "language": "python",
   "name": "python3"
  },
  "language_info": {
   "codemirror_mode": {
    "name": "ipython",
    "version": 3
   },
   "file_extension": ".py",
   "mimetype": "text/x-python",
   "name": "python",
   "nbconvert_exporter": "python",
   "pygments_lexer": "ipython3",
   "version": "3.7.3"
  }
 },
 "nbformat": 4,
 "nbformat_minor": 1
}
