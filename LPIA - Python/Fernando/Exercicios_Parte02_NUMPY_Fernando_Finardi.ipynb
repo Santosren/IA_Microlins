{
 "cells": [
  {
   "cell_type": "markdown",
   "metadata": {
    "id": "VGz5Hi19AHfe"
   },
   "source": [
    "### Numpy"
   ]
  },
  {
   "cell_type": "markdown",
   "metadata": {
    "id": "jOgJ673PAVe9"
   },
   "source": [
    "1 - Utilize o método numpy.info para obter informações do método numpy.add."
   ]
  },
  {
   "cell_type": "code",
   "execution_count": 1,
   "metadata": {
    "id": "dd9qnc_KAFDd"
   },
   "outputs": [
    {
     "name": "stdout",
     "output_type": "stream",
     "text": [
      "add(x1, x2, /, out=None, *, where=True, casting='same_kind', order='K', dtype=None, subok=True[, signature, extobj])\n",
      "\n",
      "Add arguments element-wise.\n",
      "\n",
      "Parameters\n",
      "----------\n",
      "x1, x2 : array_like\n",
      "    The arrays to be added.  If ``x1.shape != x2.shape``, they must be\n",
      "    broadcastable to a common shape (which may be the shape of one or\n",
      "    the other).\n",
      "out : ndarray, None, or tuple of ndarray and None, optional\n",
      "    A location into which the result is stored. If provided, it must have\n",
      "    a shape that the inputs broadcast to. If not provided or `None`,\n",
      "    a freshly-allocated array is returned. A tuple (possible only as a\n",
      "    keyword argument) must have length equal to the number of outputs.\n",
      "where : array_like, optional\n",
      "    Values of True indicate to calculate the ufunc at that position, values\n",
      "    of False indicate to leave the value in the output alone.\n",
      "**kwargs\n",
      "    For other keyword-only arguments, see the\n",
      "    :ref:`ufunc docs <ufuncs.kwargs>`.\n",
      "\n",
      "Returns\n",
      "-------\n",
      "add : ndarray or scalar\n",
      "    The sum of `x1` and `x2`, element-wise.\n",
      "    This is a scalar if both `x1` and `x2` are scalars.\n",
      "\n",
      "Notes\n",
      "-----\n",
      "Equivalent to `x1` + `x2` in terms of array broadcasting.\n",
      "\n",
      "Examples\n",
      "--------\n",
      ">>> np.add(1.0, 4.0)\n",
      "5.0\n",
      ">>> x1 = np.arange(9.0).reshape((3, 3))\n",
      ">>> x2 = np.arange(3.0)\n",
      ">>> np.add(x1, x2)\n",
      "array([[  0.,   2.,   4.],\n",
      "       [  3.,   5.,   7.],\n",
      "       [  6.,   8.,  10.]])\n"
     ]
    }
   ],
   "source": [
    "# Insira a resposta abaixo.\n",
    "import numpy as np\n",
    "np.info(np.add)"
   ]
  },
  {
   "cell_type": "markdown",
   "metadata": {
    "id": "Q5efGWHZh56U"
   },
   "source": [
    "2 - Utilize a função *range* do python para criar automaticamente uma lista de números variando de 0 até 15. "
   ]
  },
  {
   "cell_type": "code",
   "execution_count": 2,
   "metadata": {
    "colab": {
     "base_uri": "https://localhost:8080/",
     "height": 34
    },
    "id": "GVsgl1nch5SO",
    "outputId": "9b78d4e7-bf99-4c95-864d-660e5bb9c870"
   },
   "outputs": [
    {
     "data": {
      "text/plain": [
       "range(0, 16)"
      ]
     },
     "execution_count": 2,
     "metadata": {},
     "output_type": "execute_result"
    }
   ],
   "source": [
    "# Insira a resposta abaixo.\n",
    "list = range(0,16)\n",
    "list"
   ]
  },
  {
   "cell_type": "markdown",
   "metadata": {
    "id": "dy8uX84YkCEl"
   },
   "source": [
    "3 - Converta a lista criada para um objeto do tipo numpy array."
   ]
  },
  {
   "cell_type": "code",
   "execution_count": 3,
   "metadata": {
    "colab": {
     "base_uri": "https://localhost:8080/",
     "height": 34
    },
    "id": "NlFDOAPykCLL",
    "outputId": "fc4f7c6d-cb1c-4bce-e6d0-151f22b1ccd8"
   },
   "outputs": [
    {
     "data": {
      "text/plain": [
       "array([ 0,  1,  2,  3,  4,  5,  6,  7,  8,  9, 10, 11, 12, 13, 14, 15])"
      ]
     },
     "execution_count": 3,
     "metadata": {},
     "output_type": "execute_result"
    }
   ],
   "source": [
    "# Insira a resposta abaixo.\n",
    "list_array = np.array(list)\n",
    "list_array"
   ]
  },
  {
   "cell_type": "markdown",
   "metadata": {
    "id": "FcO_NxsCvyeU"
   },
   "source": [
    "4 - Crie um  novo array equivalente ao anterior utilizando diretamente os recursos do numpy."
   ]
  },
  {
   "cell_type": "code",
   "execution_count": 4,
   "metadata": {
    "colab": {
     "base_uri": "https://localhost:8080/",
     "height": 34
    },
    "id": "c7_sWaDCvzE4",
    "outputId": "96b29dc0-d3d5-48f7-b930-f2eea4a70ec0"
   },
   "outputs": [
    {
     "data": {
      "text/plain": [
       "array([ 0,  1,  2,  3,  4,  5,  6,  7,  8,  9, 10, 11, 12, 13, 14, 15])"
      ]
     },
     "execution_count": 4,
     "metadata": {},
     "output_type": "execute_result"
    }
   ],
   "source": [
    "# Insira a resposta abaixo.\n",
    "list_numpy = np.arange(16)\n",
    "list_numpy"
   ]
  },
  {
   "cell_type": "markdown",
   "metadata": {
    "id": "gJY_WOENd6HG"
   },
   "source": [
    "5 - Utilize o array criado anteriormente para exibir o tipo de dado antes e após convertê-lo para um tipo float. Em seguida, converta novamente o array para um tipo de dado inteiro de 32 bits e exiba o tipo numérico  atual."
   ]
  },
  {
   "cell_type": "code",
   "execution_count": 5,
   "metadata": {
    "colab": {
     "base_uri": "https://localhost:8080/",
     "height": 68
    },
    "id": "2wPQee-td6Me",
    "outputId": "620338bf-c743-4340-99dd-475f8049e297"
   },
   "outputs": [
    {
     "name": "stdout",
     "output_type": "stream",
     "text": [
      "int32\n",
      "float64\n",
      "int32\n"
     ]
    }
   ],
   "source": [
    "# Insira a resposta abaixo.\n",
    "print(list_numpy.dtype)\n",
    "list_numpy.dtype = 'float'\n",
    "print(list_numpy.dtype)\n",
    "list_numpy.dtype = 'int32'\n",
    "print(list_numpy.dtype)\n"
   ]
  },
  {
   "cell_type": "markdown",
   "metadata": {
    "id": "2ziDHfRniNJO"
   },
   "source": [
    "6 - A partir do último array utilizado anteriormente, realize os seguintes procedimentos:\n",
    "\n",
    "1. Exiba o formato atual do array.\n",
    "2. Altere o formato para (4, 4).\n",
    "3. Exiba novamente o formato do array após redimensioná-lo."
   ]
  },
  {
   "cell_type": "code",
   "execution_count": 6,
   "metadata": {
    "colab": {
     "base_uri": "https://localhost:8080/",
     "height": 51
    },
    "id": "XwO6gC8HiNP-",
    "outputId": "ece39f6a-377c-4731-c87f-56a2234a1d63"
   },
   "outputs": [
    {
     "name": "stdout",
     "output_type": "stream",
     "text": [
      "(16,)\n",
      "(4, 4)\n"
     ]
    }
   ],
   "source": [
    "# Insira a resposta abaixo.\n",
    "list_numpy = np.arange(16)\n",
    "# Passo 1 \n",
    "print(list_numpy.shape)\n",
    "# Passo 2\n",
    "list_numpy = list_numpy.reshape((4,4))\n",
    "# Passo 3\n",
    "print(list_numpy.shape)"
   ]
  },
  {
   "cell_type": "markdown",
   "metadata": {
    "id": "0nPZclb0iM5g"
   },
   "source": [
    "7 - Compute a média, mediana e o desvio padrão do array resultante da questão anterior."
   ]
  },
  {
   "cell_type": "code",
   "execution_count": 7,
   "metadata": {
    "colab": {
     "base_uri": "https://localhost:8080/",
     "height": 68
    },
    "id": "FU6RU4zdiNAH",
    "outputId": "58fdf0c8-b925-4386-92ee-367444de55ea"
   },
   "outputs": [
    {
     "name": "stdout",
     "output_type": "stream",
     "text": [
      "Média:7.5\n",
      "Mediana:7.5\n",
      "Desvio padrão:4.6097722286464435\n"
     ]
    }
   ],
   "source": [
    "# Insira a resposta abaixo.\n",
    "print('Média:' + str(list_numpy.mean()))\n",
    "print('Mediana:' + str(np.median(list_numpy)))\n",
    "print('Desvio padrão:' + str(list_numpy.std()))"
   ]
  },
  {
   "cell_type": "markdown",
   "metadata": {
    "id": "qAoocu6Gpe2e"
   },
   "source": [
    "8 - Crie uma cópia do array atual  e transforme todos os números em valores negativos."
   ]
  },
  {
   "cell_type": "code",
   "execution_count": 8,
   "metadata": {
    "colab": {
     "base_uri": "https://localhost:8080/",
     "height": 85
    },
    "id": "-8nm9e13pe9L",
    "outputId": "61c60e72-26ad-4c80-82ed-a4d7f18390d0"
   },
   "outputs": [
    {
     "data": {
      "text/plain": [
       "array([[  0,  -1,  -2,  -3],\n",
       "       [ -4,  -5,  -6,  -7],\n",
       "       [ -8,  -9, -10, -11],\n",
       "       [-12, -13, -14, -15]])"
      ]
     },
     "execution_count": 8,
     "metadata": {},
     "output_type": "execute_result"
    }
   ],
   "source": [
    "# Insira a resposta abaixo.\n",
    "list_numpy_copy = list_numpy.copy()\n",
    "list_numpy_copy = np.negative(list_numpy_copy)\n",
    "list_numpy_copy"
   ]
  },
  {
   "cell_type": "markdown",
   "metadata": {
    "id": "pRzaEWYD9_S5"
   },
   "source": [
    "9 - Realize os seguintes procedimentos:\n",
    "1. Concatene verticalmente (*row-wise*) o array de números positivos com o array de números negativos.\n",
    "2.  Concatene horizontalmente (*column-wise*) o array resultante do passo 1 com ele mesmo. \n",
    "3. Concatene em profundidade três cópias do array resultante do passo anterior, exibindo o formato final."
   ]
  },
  {
   "cell_type": "code",
   "execution_count": 9,
   "metadata": {
    "colab": {
     "base_uri": "https://localhost:8080/",
     "height": 1000
    },
    "id": "1MfG1qNZlmww",
    "outputId": "ad5cc02a-6129-4e58-dce2-d601e4bb5e78"
   },
   "outputs": [
    {
     "name": "stdout",
     "output_type": "stream",
     "text": [
      "[[  0   1   2   3]\n",
      " [  4   5   6   7]\n",
      " [  8   9  10  11]\n",
      " [ 12  13  14  15]\n",
      " [  0  -1  -2  -3]\n",
      " [ -4  -5  -6  -7]\n",
      " [ -8  -9 -10 -11]\n",
      " [-12 -13 -14 -15]]\n",
      "\n",
      "\n",
      "\n",
      "\n",
      "[[  0   1   2   3   0   1   2   3]\n",
      " [  4   5   6   7   4   5   6   7]\n",
      " [  8   9  10  11   8   9  10  11]\n",
      " [ 12  13  14  15  12  13  14  15]\n",
      " [  0  -1  -2  -3   0  -1  -2  -3]\n",
      " [ -4  -5  -6  -7  -4  -5  -6  -7]\n",
      " [ -8  -9 -10 -11  -8  -9 -10 -11]\n",
      " [-12 -13 -14 -15 -12 -13 -14 -15]]\n",
      "\n",
      "\n",
      "\n",
      "\n",
      "[[[  0   0   0]\n",
      "  [  1   1   1]\n",
      "  [  2   2   2]\n",
      "  [  3   3   3]\n",
      "  [  0   0   0]\n",
      "  [  1   1   1]\n",
      "  [  2   2   2]\n",
      "  [  3   3   3]]\n",
      "\n",
      " [[  4   4   4]\n",
      "  [  5   5   5]\n",
      "  [  6   6   6]\n",
      "  [  7   7   7]\n",
      "  [  4   4   4]\n",
      "  [  5   5   5]\n",
      "  [  6   6   6]\n",
      "  [  7   7   7]]\n",
      "\n",
      " [[  8   8   8]\n",
      "  [  9   9   9]\n",
      "  [ 10  10  10]\n",
      "  [ 11  11  11]\n",
      "  [  8   8   8]\n",
      "  [  9   9   9]\n",
      "  [ 10  10  10]\n",
      "  [ 11  11  11]]\n",
      "\n",
      " [[ 12  12  12]\n",
      "  [ 13  13  13]\n",
      "  [ 14  14  14]\n",
      "  [ 15  15  15]\n",
      "  [ 12  12  12]\n",
      "  [ 13  13  13]\n",
      "  [ 14  14  14]\n",
      "  [ 15  15  15]]\n",
      "\n",
      " [[  0   0   0]\n",
      "  [ -1  -1  -1]\n",
      "  [ -2  -2  -2]\n",
      "  [ -3  -3  -3]\n",
      "  [  0   0   0]\n",
      "  [ -1  -1  -1]\n",
      "  [ -2  -2  -2]\n",
      "  [ -3  -3  -3]]\n",
      "\n",
      " [[ -4  -4  -4]\n",
      "  [ -5  -5  -5]\n",
      "  [ -6  -6  -6]\n",
      "  [ -7  -7  -7]\n",
      "  [ -4  -4  -4]\n",
      "  [ -5  -5  -5]\n",
      "  [ -6  -6  -6]\n",
      "  [ -7  -7  -7]]\n",
      "\n",
      " [[ -8  -8  -8]\n",
      "  [ -9  -9  -9]\n",
      "  [-10 -10 -10]\n",
      "  [-11 -11 -11]\n",
      "  [ -8  -8  -8]\n",
      "  [ -9  -9  -9]\n",
      "  [-10 -10 -10]\n",
      "  [-11 -11 -11]]\n",
      "\n",
      " [[-12 -12 -12]\n",
      "  [-13 -13 -13]\n",
      "  [-14 -14 -14]\n",
      "  [-15 -15 -15]\n",
      "  [-12 -12 -12]\n",
      "  [-13 -13 -13]\n",
      "  [-14 -14 -14]\n",
      "  [-15 -15 -15]]]\n"
     ]
    }
   ],
   "source": [
    "# Insira a resposta abaixo.\n",
    "\n",
    "# Passo 1\n",
    "vstack_list = np.vstack((list_numpy,list_numpy_copy))\n",
    "print(vstack_list)\n",
    "print('\\n\\n\\n')\n",
    "# Passo 2\n",
    "hstack_list = np.hstack((vstack_list,vstack_list))\n",
    "print(hstack_list)\n",
    "print('\\n\\n\\n')\n",
    "# Passo 3\n",
    "dstack_list = np.dstack((hstack_list,hstack_list,hstack_list))\n",
    "print(dstack_list)"
   ]
  },
  {
   "cell_type": "markdown",
   "metadata": {
    "id": "EqJGutyuqOQP"
   },
   "source": [
    "10 - Utilize o array do passo 1 da questão anterior e transforme os valores da segunda e terceira colunas em 1."
   ]
  },
  {
   "cell_type": "code",
   "execution_count": 10,
   "metadata": {
    "colab": {
     "base_uri": "https://localhost:8080/",
     "height": 153
    },
    "id": "TqhdooB0qOXv",
    "outputId": "a9bd2a80-cb4e-4a8f-aae8-f4132ee4b8e1"
   },
   "outputs": [
    {
     "name": "stdout",
     "output_type": "stream",
     "text": [
      "[[  0   1   1   3]\n",
      " [  4   1   1   7]\n",
      " [  8   1   1  11]\n",
      " [ 12   1   1  15]\n",
      " [  0   1   1  -3]\n",
      " [ -4   1   1  -7]\n",
      " [ -8   1   1 -11]\n",
      " [-12   1   1 -15]]\n"
     ]
    }
   ],
   "source": [
    "# Insira a resposta abaixo.\n",
    "vstack_list[:,1:3] = 1\n",
    "print(vstack_list)"
   ]
  },
  {
   "cell_type": "markdown",
   "metadata": {
    "id": "f0MyTxFXroNr"
   },
   "source": [
    "11 - Adicione 2.5 a todos os valores presentes no array resultante da etapa anterior."
   ]
  },
  {
   "cell_type": "code",
   "execution_count": 11,
   "metadata": {
    "colab": {
     "base_uri": "https://localhost:8080/",
     "height": 153
    },
    "id": "kgfy9kHEroVi",
    "outputId": "6a78839f-4d4a-4ab6-b23b-f0b5c8828353"
   },
   "outputs": [
    {
     "data": {
      "text/plain": [
       "array([[  2.5,   3.5,   3.5,   5.5],\n",
       "       [  6.5,   3.5,   3.5,   9.5],\n",
       "       [ 10.5,   3.5,   3.5,  13.5],\n",
       "       [ 14.5,   3.5,   3.5,  17.5],\n",
       "       [  2.5,   3.5,   3.5,  -0.5],\n",
       "       [ -1.5,   3.5,   3.5,  -4.5],\n",
       "       [ -5.5,   3.5,   3.5,  -8.5],\n",
       "       [ -9.5,   3.5,   3.5, -12.5]])"
      ]
     },
     "execution_count": 11,
     "metadata": {},
     "output_type": "execute_result"
    }
   ],
   "source": [
    "# Insira a resposta abaixo.\n",
    "vstack_list = np.add(vstack_list,2.5)\n",
    "vstack_list"
   ]
  },
  {
   "cell_type": "markdown",
   "metadata": {
    "id": "_1sAVEKf-Adl"
   },
   "source": [
    "12 - Apresente uma contagem dos valores únicos que estão presentes no array criado na questão anterior. \n",
    " \n",
    " Siga o seguinte template: \"Quantidade de ocorrências do elemento {}: {}\""
   ]
  },
  {
   "cell_type": "code",
   "execution_count": 12,
   "metadata": {
    "colab": {
     "base_uri": "https://localhost:8080/",
     "height": 289
    },
    "id": "VGgNM6Nf-Aj0",
    "outputId": "70942166-554f-48d2-d834-cdfa249f7b70"
   },
   "outputs": [
    {
     "name": "stdout",
     "output_type": "stream",
     "text": [
      " unique(ar, return_index=False, return_inverse=False, return_counts=False,\n",
      "        axis=None)\n",
      "\n",
      "Find the unique elements of an array.\n",
      "\n",
      "Returns the sorted unique elements of an array. There are three optional\n",
      "outputs in addition to the unique elements:\n",
      "\n",
      "* the indices of the input array that give the unique values\n",
      "* the indices of the unique array that reconstruct the input array\n",
      "* the number of times each unique value comes up in the input array\n",
      "\n",
      "Parameters\n",
      "----------\n",
      "ar : array_like\n",
      "    Input array. Unless `axis` is specified, this will be flattened if it\n",
      "    is not already 1-D.\n",
      "return_index : bool, optional\n",
      "    If True, also return the indices of `ar` (along the specified axis,\n",
      "    if provided, or in the flattened array) that result in the unique array.\n",
      "return_inverse : bool, optional\n",
      "    If True, also return the indices of the unique array (for the specified\n",
      "    axis, if provided) that can be used to reconstruct `ar`.\n",
      "return_counts : bool, optional\n",
      "    If True, also return the number of times each unique item appears\n",
      "    in `ar`.\n",
      "\n",
      "    .. versionadded:: 1.9.0\n",
      "\n",
      "axis : int or None, optional\n",
      "    The axis to operate on. If None, `ar` will be flattened. If an integer,\n",
      "    the subarrays indexed by the given axis will be flattened and treated\n",
      "    as the elements of a 1-D array with the dimension of the given axis,\n",
      "    see the notes for more details.  Object arrays or structured arrays\n",
      "    that contain objects are not supported if the `axis` kwarg is used. The\n",
      "    default is None.\n",
      "\n",
      "    .. versionadded:: 1.13.0\n",
      "\n",
      "Returns\n",
      "-------\n",
      "unique : ndarray\n",
      "    The sorted unique values.\n",
      "unique_indices : ndarray, optional\n",
      "    The indices of the first occurrences of the unique values in the\n",
      "    original array. Only provided if `return_index` is True.\n",
      "unique_inverse : ndarray, optional\n",
      "    The indices to reconstruct the original array from the\n",
      "    unique array. Only provided if `return_inverse` is True.\n",
      "unique_counts : ndarray, optional\n",
      "    The number of times each of the unique values comes up in the\n",
      "    original array. Only provided if `return_counts` is True.\n",
      "\n",
      "    .. versionadded:: 1.9.0\n",
      "\n",
      "See Also\n",
      "--------\n",
      "numpy.lib.arraysetops : Module with a number of other functions for\n",
      "                        performing set operations on arrays.\n",
      "\n",
      "Notes\n",
      "-----\n",
      "When an axis is specified the subarrays indexed by the axis are sorted.\n",
      "This is done by making the specified axis the first dimension of the array\n",
      "and then flattening the subarrays in C order. The flattened subarrays are\n",
      "then viewed as a structured type with each element given a label, with the\n",
      "effect that we end up with a 1-D array of structured types that can be\n",
      "treated in the same way as any other 1-D array. The result is that the\n",
      "flattened subarrays are sorted in lexicographic order starting with the\n",
      "first element.\n",
      "\n",
      "Examples\n",
      "--------\n",
      ">>> np.unique([1, 1, 2, 2, 3, 3])\n",
      "array([1, 2, 3])\n",
      ">>> a = np.array([[1, 1], [2, 3]])\n",
      ">>> np.unique(a)\n",
      "array([1, 2, 3])\n",
      "\n",
      "Return the unique rows of a 2D array\n",
      "\n",
      ">>> a = np.array([[1, 0, 0], [1, 0, 0], [2, 3, 4]])\n",
      ">>> np.unique(a, axis=0)\n",
      "array([[1, 0, 0], [2, 3, 4]])\n",
      "\n",
      "Return the indices of the original array that give the unique values:\n",
      "\n",
      ">>> a = np.array(['a', 'b', 'b', 'c', 'a'])\n",
      ">>> u, indices = np.unique(a, return_index=True)\n",
      ">>> u\n",
      "array(['a', 'b', 'c'],\n",
      "       dtype='|S1')\n",
      ">>> indices\n",
      "array([0, 1, 3])\n",
      ">>> a[indices]\n",
      "array(['a', 'b', 'c'],\n",
      "       dtype='|S1')\n",
      "\n",
      "Reconstruct the input array from the unique values:\n",
      "\n",
      ">>> a = np.array([1, 2, 6, 4, 2, 3, 2])\n",
      ">>> u, indices = np.unique(a, return_inverse=True)\n",
      ">>> u\n",
      "array([1, 2, 3, 4, 6])\n",
      ">>> indices\n",
      "array([0, 1, 4, 3, 1, 2, 1])\n",
      ">>> u[indices]\n",
      "array([1, 2, 6, 4, 2, 3, 2])\n",
      "Quantidade de ocorrências do elemento -12.5: 1\n",
      "Quantidade de ocorrências do elemento -9.5: 1\n",
      "Quantidade de ocorrências do elemento -8.5: 1\n",
      "Quantidade de ocorrências do elemento -5.5: 1\n",
      "Quantidade de ocorrências do elemento -4.5: 1\n",
      "Quantidade de ocorrências do elemento -1.5: 1\n",
      "Quantidade de ocorrências do elemento -0.5: 1\n",
      "Quantidade de ocorrências do elemento 2.5: 2\n",
      "Quantidade de ocorrências do elemento 3.5: 16\n",
      "Quantidade de ocorrências do elemento 5.5: 1\n",
      "Quantidade de ocorrências do elemento 6.5: 1\n",
      "Quantidade de ocorrências do elemento 9.5: 1\n",
      "Quantidade de ocorrências do elemento 10.5: 1\n",
      "Quantidade de ocorrências do elemento 13.5: 1\n",
      "Quantidade de ocorrências do elemento 14.5: 1\n",
      "Quantidade de ocorrências do elemento 17.5: 1\n"
     ]
    }
   ],
   "source": [
    "# Insira a resposta abaixo.\n",
    "import numpy as np\n",
    "np.info(np.unique)\n",
    "\n",
    "unique, counts = np.unique(vstack_list, return_counts=True)\n",
    "for i in range(unique.size):\n",
    "  print(\"Quantidade de ocorrências do elemento {}: {}\".format(unique[i],counts[i]))\n"
   ]
  },
  {
   "cell_type": "markdown",
   "metadata": {
    "id": "zyQGpUvQiNW-"
   },
   "source": [
    "13 - Realize as seguintes operações:\n",
    "1. Crie uma matriz com valor 3 em todas as posições com dimensionalidade (4, 2).\n",
    "2. Crie uma matriz identidade de dimensionalidade (4, 4).\n",
    "3. Compute o produto entre a transposta da primeira matriz e a matriz identidade, apresentando o resultado final."
   ]
  },
  {
   "cell_type": "code",
   "execution_count": 13,
   "metadata": {
    "colab": {
     "base_uri": "https://localhost:8080/",
     "height": 187
    },
    "id": "ncBYLgsSiNdm",
    "outputId": "7e4fa57b-2e01-441e-d9ae-0b2a5ae0a299"
   },
   "outputs": [
    {
     "name": "stdout",
     "output_type": "stream",
     "text": [
      "[[3. 3.]\n",
      " [3. 3.]\n",
      " [3. 3.]\n",
      " [3. 3.]]\n",
      "[[1. 0. 0. 0.]\n",
      " [0. 1. 0. 0.]\n",
      " [0. 0. 1. 0.]\n",
      " [0. 0. 0. 1.]]\n",
      "[[3. 3. 3. 3.]\n",
      " [3. 3. 3. 3.]]\n"
     ]
    }
   ],
   "source": [
    "# Insira a resposta abaixo.\n",
    "\n",
    "# Passo 1\n",
    "array = np.zeros((4,2))\n",
    "array = np.add(array,3)\n",
    "print(array)\n",
    "\n",
    "# Passo 2\n",
    "identidade = np.eye(4)\n",
    "print(identidade)\n",
    "\n",
    "# Passo 3\n",
    "produto = np.dot(array.T, identidade)\n",
    "print(produto)\n"
   ]
  },
  {
   "cell_type": "markdown",
   "metadata": {
    "id": "HxFz7WugiOiT"
   },
   "source": [
    "14 - Realize as seguintes operações:\n",
    "1. Crie uma nova matriz de valores inteiros de 25 até 49 com dimensionalidade (5,5).\n",
    "2. Crie uma nova matriz com valores uniformemente espaçados entre 0 e 1 e defina a sua dimensionalidade em (5,1).\n",
    "3. Concatene horizontalmente as duas matrizes criadas anteriormente."
   ]
  },
  {
   "cell_type": "code",
   "execution_count": 14,
   "metadata": {
    "colab": {
     "base_uri": "https://localhost:8080/",
     "height": 272
    },
    "id": "nzxfA0UNZ9Fv",
    "outputId": "c2b07c6a-12a8-4b51-a311-b062f9975d93"
   },
   "outputs": [
    {
     "name": "stdout",
     "output_type": "stream",
     "text": [
      "[[25 26 27 28 29]\n",
      " [30 31 32 33 34]\n",
      " [35 36 37 38 39]\n",
      " [40 41 42 43 44]\n",
      " [45 46 47 48 49]]\n",
      "[[0.  ]\n",
      " [0.25]\n",
      " [0.5 ]\n",
      " [0.75]\n",
      " [1.  ]]\n",
      "[[25.   26.   27.   28.   29.    0.  ]\n",
      " [30.   31.   32.   33.   34.    0.25]\n",
      " [35.   36.   37.   38.   39.    0.5 ]\n",
      " [40.   41.   42.   43.   44.    0.75]\n",
      " [45.   46.   47.   48.   49.    1.  ]]\n"
     ]
    }
   ],
   "source": [
    "# Insira a resposta abaixo.\n",
    "\n",
    "# Passo 1\n",
    "array = np.arange(25,50)\n",
    "array = np.reshape(array,(5,5))\n",
    "print(array)\n",
    "\n",
    "# Passo 2\n",
    "array_2 = np.linspace(0,1,5)\n",
    "array_2 = np.reshape(array_2,(5,1))\n",
    "print(array_2)\n",
    "\n",
    "# Passo 3\n",
    "array_stack = np.hstack((array,array_2))\n",
    "print(array_stack)"
   ]
  },
  {
   "cell_type": "markdown",
   "metadata": {
    "id": "6897aBLlcw8E"
   },
   "source": [
    "15 - Crie uma nova matriz com dimensionalidade (5,1) com números uniformemente espaçados utilizando um espaço logarítmico ao invés de um espaço linear. "
   ]
  },
  {
   "cell_type": "code",
   "execution_count": 15,
   "metadata": {
    "colab": {
     "base_uri": "https://localhost:8080/",
     "height": 102
    },
    "id": "bUZNJgYHcxKR",
    "outputId": "ec42746b-6e41-4881-b6fe-3ddbf6af24ef"
   },
   "outputs": [
    {
     "data": {
      "text/plain": [
       "array([[ 1.        ],\n",
       "       [ 1.77827941],\n",
       "       [ 3.16227766],\n",
       "       [ 5.62341325],\n",
       "       [10.        ]])"
      ]
     },
     "execution_count": 15,
     "metadata": {},
     "output_type": "execute_result"
    }
   ],
   "source": [
    "# Insira a resposta abaixo.\n",
    "array_log = np.logspace(0,1,5)\n",
    "array_log = np.reshape(array_log,(5,1))\n",
    "array_log"
   ]
  },
  {
   "cell_type": "markdown",
   "metadata": {
    "id": "R-V4DIT5k3db"
   },
   "source": [
    "16 - Crie uma função que receba um array e adicione uma borda composta de zeros nos quatro lados do array. Utilize o array resultante da questão anterior para testar o método criado. "
   ]
  },
  {
   "cell_type": "code",
   "execution_count": 16,
   "metadata": {
    "colab": {
     "base_uri": "https://localhost:8080/",
     "height": 136
    },
    "id": "jCPkpBUfiQvF",
    "outputId": "c8018ead-892e-4361-c390-1c3c5fe443aa"
   },
   "outputs": [
    {
     "name": "stdout",
     "output_type": "stream",
     "text": [
      "[[ 0.          0.          0.        ]\n",
      " [ 0.          1.          0.        ]\n",
      " [ 0.          1.77827941  0.        ]\n",
      " [ 0.          3.16227766  0.        ]\n",
      " [ 0.          5.62341325  0.        ]\n",
      " [ 0.         10.          0.        ]\n",
      " [ 0.          0.          0.        ]]\n"
     ]
    }
   ],
   "source": [
    "# Insira a resposta abaixo.\n",
    "def add_borders(array):\n",
    "  new_array = np.zeros((array.shape[0]+1,1))\n",
    "  array = np.concatenate((np.zeros((1,array.shape[1])),array))\n",
    "  array = np.hstack((new_array,array))\n",
    "  h_zeros = np.zeros((array.shape[0],1))\n",
    "  array = np.hstack((array,h_zeros))\n",
    "  v_zeros = np.zeros((1,array.shape[1]))\n",
    "  array = np.vstack((array,v_zeros))\n",
    "  return array\n",
    "\n",
    "print(add_borders(array_log))"
   ]
  },
  {
   "cell_type": "markdown",
   "metadata": {
    "id": "pfhKurRymAve"
   },
   "source": [
    "17 - Crie um array de 36 números aleatórios oriundos de uma distribuição normal. Exiba o valor máximo, mínimo, a média e o desvio padrão desse array."
   ]
  },
  {
   "cell_type": "code",
   "execution_count": 17,
   "metadata": {
    "colab": {
     "base_uri": "https://localhost:8080/",
     "height": 85
    },
    "id": "ocDrzobIlEFE",
    "outputId": "e2030dad-c553-4885-a4f6-7fe5502c8976"
   },
   "outputs": [
    {
     "name": "stdout",
     "output_type": "stream",
     "text": [
      "Mínimo:7\n",
      "Máximo:4\n",
      "Média:51.27777777777778\n",
      "Desvio padrão:31.117707633999355\n"
     ]
    }
   ],
   "source": [
    "# Insira a resposta abaixo.\n",
    "array = np.random.choice(100,36)\n",
    "print('Mínimo:' + str(array.argmax()))\n",
    "print('Máximo:' + str(array.argmin()))\n",
    "print('Média:' + str(array.mean()))\n",
    "print('Desvio padrão:' + str(array.std()))"
   ]
  },
  {
   "cell_type": "markdown",
   "metadata": {
    "id": "-xPxpBp0rAnP"
   },
   "source": [
    "18 - Crie uma matriz de dimensões (50,50) com valores aleatórios entre 0 e 1 (distribuição uniforme). Exiba as duas últimas linhas da matriz.\n"
   ]
  },
  {
   "cell_type": "code",
   "execution_count": 18,
   "metadata": {
    "colab": {
     "base_uri": "https://localhost:8080/",
     "height": 323
    },
    "id": "ESCDN7hRhVSb",
    "outputId": "f825cb39-eb02-4ca8-f2c4-040440370159"
   },
   "outputs": [
    {
     "name": "stdout",
     "output_type": "stream",
     "text": [
      "[[0.56403569 0.12896976 0.34318692 0.20720518 0.11733365 0.00720234\n",
      "  0.46079163 0.51181438 0.79980579 0.38807596 0.702487   0.4658953\n",
      "  0.43313891 0.72359776 0.47149854 0.9674666  0.84210807 0.74923697\n",
      "  0.70068074 0.66311292 0.74633585 0.57377788 0.65002266 0.52981593\n",
      "  0.6017803  0.75752643 0.45472516 0.51957044 0.50024454 0.02634958\n",
      "  0.66888191 0.53657096 0.20328414 0.61826846 0.69448751 0.84437436\n",
      "  0.389202   0.521122   0.58958385 0.80857554 0.10769947 0.42562605\n",
      "  0.05472335 0.14069159 0.20473427 0.93942841 0.31496752 0.34111024\n",
      "  0.55509644 0.33299889]\n",
      " [0.51942752 0.47272256 0.92622615 0.69990827 0.00374288 0.06963967\n",
      "  0.94779791 0.03045197 0.38835602 0.84760123 0.44387538 0.90554832\n",
      "  0.12447032 0.38338433 0.19926638 0.0094483  0.52364159 0.38293043\n",
      "  0.78797117 0.02422482 0.35779733 0.3211538  0.83963521 0.85203432\n",
      "  0.60443926 0.07621424 0.02718948 0.41060247 0.3577164  0.7542973\n",
      "  0.08950446 0.70369425 0.85732367 0.82011958 0.28403092 0.60781293\n",
      "  0.11891556 0.71469344 0.36638724 0.23523906 0.21113993 0.2367794\n",
      "  0.81525919 0.36220766 0.37371893 0.49098157 0.65750195 0.96726747\n",
      "  0.46326171 0.96436332]]\n"
     ]
    }
   ],
   "source": [
    "# Insira a resposta abaixo.\n",
    "random_array = np.random.random((50,50))\n",
    "print(random_array[random_array.shape[0] - 2 : random_array.shape[0] , ])"
   ]
  },
  {
   "cell_type": "markdown",
   "metadata": {
    "id": "UVN8kv2setze"
   },
   "source": [
    "19 - Utilize o array de números aleatórios anterior e apresenta a soma de cada coluna. Em seguida, apresente a soma de cada linha."
   ]
  },
  {
   "cell_type": "code",
   "execution_count": 19,
   "metadata": {
    "colab": {
     "base_uri": "https://localhost:8080/",
     "height": 323
    },
    "id": "Jh_CFf93et59",
    "outputId": "08cb2a3f-c09d-4d17-8d5a-3a4fe3062ea1"
   },
   "outputs": [
    {
     "name": "stdout",
     "output_type": "stream",
     "text": [
      "[21.97352508 25.75510463 24.65009068 25.16758881 27.22248162 25.19060553\n",
      " 27.37622122 25.58815466 24.73573349 21.69324959 25.07283148 26.32487494\n",
      " 26.91902644 25.61626804 24.67239709 22.8349182  25.90818561 24.14535408\n",
      " 26.35575217 26.72387206 25.74602074 23.4942776  23.84495457 23.58295491\n",
      " 23.81658509 18.7464245  25.09461177 27.20148426 27.27318592 25.37019455\n",
      " 20.64191526 28.92066099 27.73489965 26.96912606 24.15971547 24.49988885\n",
      " 21.43487072 25.06554892 21.44919112 25.03529013 25.82171146 23.08244234\n",
      " 27.13164778 23.94903118 24.57930226 26.21061585 20.09727151 26.86654968\n",
      " 24.89921983 23.63191728]\n",
      "[24.00775842 25.08531311 19.35008306 21.65384677 26.40127758 26.34622661\n",
      " 25.21541933 27.93207922 25.5232121  23.97617379 25.77643016 23.2895528\n",
      " 26.81510133 25.50031776 25.22070418 25.34525262 27.35295203 26.03768091\n",
      " 24.65268526 23.71506469 23.75875655 21.61087151 22.21883288 31.32434977\n",
      " 24.0110963  22.67931685 21.81498844 25.87112788 26.24777845 21.92339129\n",
      " 25.40400599 24.25061336 23.3311642  27.73090517 23.14713271 25.32524173\n",
      " 25.77567866 24.28846222 26.24609943 25.5816073  26.11087458 23.55262841\n",
      " 25.02864983 26.99501619 25.0475221  25.01986243 23.66339232 25.71025956\n",
      " 22.97483295 24.43615488]\n"
     ]
    }
   ],
   "source": [
    "# Insira a reposta abaixo.\n",
    "print(np.sum(random_array,axis=1))\n",
    "print(np.sum(random_array,axis=0))"
   ]
  },
  {
   "cell_type": "markdown",
   "metadata": {
    "id": "Q3xEYT7JbNfa"
   },
   "source": [
    "20 - Escreve uma função que receba um array como entrada e uma probabilidade *p* entre 0 e 1.  Existe uma probabilidade *p* de que a função retorne o logaritmo do array, caso contrário o array original deve ser retornado. Teste a função utilizando o array da questão anterior. Dica: considere utilizar a biblioteca random do numpy."
   ]
  },
  {
   "cell_type": "code",
   "execution_count": 20,
   "metadata": {
    "colab": {
     "base_uri": "https://localhost:8080/",
     "height": 238
    },
    "id": "3AjD10aHbNsK",
    "outputId": "bf1f4d73-72a7-44ad-b3c7-b484eb2a7e3c"
   },
   "outputs": [
    {
     "name": "stdout",
     "output_type": "stream",
     "text": [
      "[[-2.4472382  -0.09258695 -1.49064546 ... -0.05945727 -0.96522219\n",
      "  -3.10582382]\n",
      " [-2.52692649 -0.59876152 -0.06416622 ... -0.36351995 -1.99254731\n",
      "  -5.88870536]\n",
      " [-2.19744973 -0.44463362 -1.9511446  ... -1.33817359 -0.85565239\n",
      "  -1.10010477]\n",
      " ...\n",
      " [-0.46453851 -3.04586244 -0.04011742 ... -0.54391433 -0.48138132\n",
      "  -0.55184316]\n",
      " [-0.57263776 -2.04817732 -1.06948002 ... -1.07554958 -0.58861342\n",
      "  -1.09961613]\n",
      " [-0.65502801 -0.74924662 -0.07663685 ... -0.03328022 -0.76946313\n",
      "  -0.03628717]]\n"
     ]
    }
   ],
   "source": [
    "# Insira a resposta abaixo.\n",
    "def func(array,p):\n",
    "  if p > np.random.random(1)[0]:\n",
    "    log_array = np.log(array)\n",
    "    return log_array\n",
    "  else:\n",
    "    return array\n",
    "\n",
    "\n",
    "print(func(random_array,np.random.random(1)[0]))"
   ]
  },
  {
   "cell_type": "markdown",
   "metadata": {
    "id": "X0LOUFwUjp3k"
   },
   "source": [
    "21 - Crie dois arrays de 30 elementos contendo números aleatórios entre 1 e 3. Utilize os dois arrays  para derivar um novo array contendo uma comparação entre os valores de forma a indicar True caso elementos em uma mesma posição apresentam o mesmo valor e False caso contrário. Dica: não é necessário utilizar uma estrutura de repetição.\n",
    "\n",
    "Exemplo.:\n",
    "\n",
    "*inputs*:\n",
    "\n",
    "array([1,3,2])\n",
    "\n",
    "array([1,2,2])\n",
    "\n",
    "*output*:\n",
    "\n",
    "array([True, False, True])"
   ]
  },
  {
   "cell_type": "code",
   "execution_count": 21,
   "metadata": {
    "colab": {
     "base_uri": "https://localhost:8080/",
     "height": 85
    },
    "id": "K4Z1Ls-LjqSY",
    "outputId": "f2479a85-8486-44e4-d471-ba3ce3f4313b"
   },
   "outputs": [
    {
     "data": {
      "text/plain": [
       "array([False,  True,  True,  True, False,  True, False, False, False,\n",
       "       False, False, False, False,  True, False,  True, False,  True,\n",
       "       False, False, False, False, False, False, False,  True, False,\n",
       "        True, False,  True])"
      ]
     },
     "execution_count": 21,
     "metadata": {},
     "output_type": "execute_result"
    }
   ],
   "source": [
    "# Insira a resposta abaixo.\n",
    "array_1 =  np.random.randint(1,4,30)\n",
    "array_2 = np.random.randint(1,4,30)\n",
    "array_comparacao = array_1 == array_2\n",
    "array_comparacao"
   ]
  },
  {
   "cell_type": "markdown",
   "metadata": {
    "id": "NLNhhMT7kZrf"
   },
   "source": [
    "22 - Compare os dois arrays acima de forma a retornar de uma única só vez um valor booleando indicando se todos os valores contidos em ambos os objetos são iguais."
   ]
  },
  {
   "cell_type": "code",
   "execution_count": 22,
   "metadata": {
    "colab": {
     "base_uri": "https://localhost:8080/",
     "height": 34
    },
    "id": "eLvTlf2TkZ4S",
    "outputId": "459304b3-3eec-49b2-b63b-3200d40b86ac"
   },
   "outputs": [
    {
     "data": {
      "text/plain": [
       "False"
      ]
     },
     "execution_count": 22,
     "metadata": {},
     "output_type": "execute_result"
    }
   ],
   "source": [
    "# Insira a resposta abaixo.\n",
    "comparacao = np.array_equal(array_1,array_2)\n",
    "comparacao"
   ]
  },
  {
   "cell_type": "markdown",
   "metadata": {
    "id": "VwNBP2TVUd0c"
   },
   "source": [
    "23 - Realize os seguintes procedimentos:\n",
    "\n",
    "1. Crie um array com formato 5x5 contendo somente valores verdadeiros. \n",
    "2. Dado que se conhece o número de linhas e colunas do array, selecione aleatoriamente trẽs coordenadas (pode haver repetição de coordenadas) e as transforme em False.\n",
    "3. Crie um array de dimensionalidade 5x5 a partir de um intervalo com valores de 0 até 24.\n",
    "4. Utilize o array booleano para indexar o array criado no passo anterior."
   ]
  },
  {
   "cell_type": "code",
   "execution_count": 23,
   "metadata": {
    "colab": {
     "base_uri": "https://localhost:8080/",
     "height": 34
    },
    "id": "Lr8gNlt8UeQL",
    "outputId": "21516515-3675-4dfa-ba8e-db2890c118b6"
   },
   "outputs": [
    {
     "name": "stdout",
     "output_type": "stream",
     "text": [
      "[[ True  True  True  True  True]\n",
      " [ True  True  True  True  True]\n",
      " [ True  True  True  True  True]\n",
      " [ True  True  True  True  True]\n",
      " [ True  True  True  True  True]]\n",
      "[[ True  True  True  True  True]\n",
      " [ True  True  True False  True]\n",
      " [ True  True False  True  True]\n",
      " [ True  True  True  True  True]\n",
      " [ True  True  True False  True]]\n",
      "[[ 0  1  2  3  4]\n",
      " [ 5  6  7  8  9]\n",
      " [10 11 12 13 14]\n",
      " [15 16 17 18 19]\n",
      " [20 21 22 23 24]]\n"
     ]
    }
   ],
   "source": [
    "# Insira a resposta abaixo.\n",
    "\n",
    "# Passo 1\n",
    "array_true = np.ones((5,5),dtype='bool')\n",
    "print(array_true)\n",
    "\n",
    "# Passo 2\n",
    "for i in range(3):\n",
    "  array_true[np.random.randint(0,5),np.random.randint(0,5)] = False\n",
    "print(array_true)\n",
    "\n",
    "# Passo 3\n",
    "array_nums = np.arange(0,25)\n",
    "array_nums = np.reshape(array_nums,(5,5))\n",
    "print(array_nums)\n",
    "# Passo 4"
   ]
  }
 ],
 "metadata": {
  "colab": {
   "collapsed_sections": [],
   "name": "Cópia de Exercicios_Parte02-NUMPY_Perguntas.ipynb",
   "provenance": []
  },
  "kernelspec": {
   "display_name": "Python 3",
   "language": "python",
   "name": "python3"
  },
  "language_info": {
   "codemirror_mode": {
    "name": "ipython",
    "version": 3
   },
   "file_extension": ".py",
   "mimetype": "text/x-python",
   "name": "python",
   "nbconvert_exporter": "python",
   "pygments_lexer": "ipython3",
   "version": "3.7.4"
  }
 },
 "nbformat": 4,
 "nbformat_minor": 1
}
