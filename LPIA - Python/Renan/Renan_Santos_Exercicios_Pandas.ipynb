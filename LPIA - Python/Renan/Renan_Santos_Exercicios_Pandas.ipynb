{
  "nbformat": 4,
  "nbformat_minor": 0,
  "metadata": {
    "colab": {
      "name": "Renan_Santos_Exercicios_Pandas.ipynb",
      "provenance": [],
      "collapsed_sections": [],
      "toc_visible": true
    },
    "kernelspec": {
      "display_name": "Python 3",
      "language": "python",
      "name": "python3"
    },
    "language_info": {
      "codemirror_mode": {
        "name": "ipython",
        "version": 3
      },
      "file_extension": ".py",
      "mimetype": "text/x-python",
      "name": "python",
      "nbconvert_exporter": "python",
      "pygments_lexer": "ipython3",
      "version": "3.6.4"
    }
  },
  "cells": [
    {
      "cell_type": "markdown",
      "metadata": {
        "id": "AeBGPBkxdHJ6"
      },
      "source": [
        "## Pandas"
      ]
    },
    {
      "cell_type": "markdown",
      "metadata": {
        "id": "Z7UScd3ofS8k"
      },
      "source": [
        "### Instalação do Pandas"
      ]
    },
    {
      "cell_type": "code",
      "metadata": {
        "id": "-_bng8fefWVJ"
      },
      "source": [
        "# Alternativa 1\n",
        "!pip install pandas # alternative: conda install pandas"
      ],
      "execution_count": null,
      "outputs": []
    },
    {
      "cell_type": "markdown",
      "metadata": {
        "id": "xRrsSzVezUhj"
      },
      "source": [
        "### Introduzindo Séries de Dados do Pandas"
      ]
    },
    {
      "cell_type": "markdown",
      "metadata": {
        "id": "VDK_Ly29gals"
      },
      "source": [
        "1 - Importe as bibliotecas pandas e numpy com os aliases 'pd' e 'np', respectivamente."
      ]
    },
    {
      "cell_type": "code",
      "metadata": {
        "id": "_M2QbWdPgauN"
      },
      "source": [
        "import pandas as pd\n",
        "import numpy as np"
      ],
      "execution_count": 1,
      "outputs": []
    },
    {
      "cell_type": "markdown",
      "metadata": {
        "id": "LdbbLUK7fm7o"
      },
      "source": [
        "2 - Utilize o numpy para criar um array com 10 elementos de números inteiros aleatórios entre 50 e 100. Em seguida, transforme-o em uma série do pandas e a exiba."
      ]
    },
    {
      "cell_type": "code",
      "metadata": {
        "id": "wFiHFFelfnCZ",
        "outputId": "27844bd2-2c3b-4d86-c168-c2a510379ff6",
        "colab": {
          "base_uri": "https://localhost:8080/",
          "height": 204
        }
      },
      "source": [
        "# Insira a resposta abaixo.\n",
        "\n",
        "a = np.random.randint(50,100,10)\n",
        "a = pd.Series(a)\n",
        "display(a)\n"
      ],
      "execution_count": null,
      "outputs": [
        {
          "output_type": "display_data",
          "data": {
            "text/plain": [
              "0    54\n",
              "1    78\n",
              "2    95\n",
              "3    75\n",
              "4    56\n",
              "5    60\n",
              "6    89\n",
              "7    57\n",
              "8    54\n",
              "9    96\n",
              "dtype: int64"
            ]
          },
          "metadata": {
            "tags": []
          }
        }
      ]
    },
    {
      "cell_type": "markdown",
      "metadata": {
        "id": "5SxiYJirsY-X"
      },
      "source": [
        "3 - Utilize a função range do Python para criar uma série do Pandas contendo 10 elementos cujos índices sejam uma sequência ascendente de números ímpares  e os valores sejam uma sequência descendente de números inteiros de 10 a 1. Em seguida, converta o tipo numérico da série criada para 'int32' e exiba a série."
      ]
    },
    {
      "cell_type": "code",
      "metadata": {
        "id": "DunzR3rBsZHY",
        "outputId": "f83004a2-c619-413e-8c2d-82708ba1c940",
        "colab": {
          "base_uri": "https://localhost:8080/",
          "height": 204
        }
      },
      "source": [
        "# Insira a resposta abaixo.\n",
        "a = pd.Series(data = range(10,0,-1), index = range(1,21,2))\n",
        "a = a.astype('int32')\n",
        "display(a)"
      ],
      "execution_count": null,
      "outputs": [
        {
          "output_type": "display_data",
          "data": {
            "text/plain": [
              "1     10\n",
              "3      9\n",
              "5      8\n",
              "7      7\n",
              "9      6\n",
              "11     5\n",
              "13     4\n",
              "15     3\n",
              "17     2\n",
              "19     1\n",
              "dtype: int32"
            ]
          },
          "metadata": {
            "tags": []
          }
        }
      ]
    },
    {
      "cell_type": "markdown",
      "metadata": {
        "id": "Y3VEvHJ-zZBb"
      },
      "source": [
        "4 - Abaixo são definidos dois dicionários contendo capitais brasileiras com a população estimada para os anos de 2000 e 2018. Utilize ambos os dicionários definidos abaixos para criar dois objetos do tipo Series."
      ]
    },
    {
      "cell_type": "code",
      "metadata": {
        "id": "9fbQCt3azUoD"
      },
      "source": [
        "populacao2000 = {'São Paulo': 10405867, 'Rio de Janeiro': 5851914, 'Salvador': 2440828, 'Belo Horizonte':2232747, 'Fortaleza':2138234\t}\n",
        "populacao2018 = {'São Paulo': 12176866, 'Rio de Janeiro': 6688927, 'Brasília': 2974703, 'Salvador': 2857329, 'Fortaleza': 2643247}\n",
        "\n",
        "# Insira a resposta abaixo.\n",
        "\n",
        "pop2000 = pd.Series(populacao2000)\n",
        "pop2018 = pd.Series(populacao2018)"
      ],
      "execution_count": null,
      "outputs": []
    },
    {
      "cell_type": "markdown",
      "metadata": {
        "id": "Au1q_EAezSRI"
      },
      "source": [
        "#### Operações Aritméticas com Séries"
      ]
    },
    {
      "cell_type": "markdown",
      "metadata": {
        "id": "4Lbr0016g9SQ"
      },
      "source": [
        "5 - Crie uma nova série contendo a diferença entre as populações de 2018 e 2010."
      ]
    },
    {
      "cell_type": "code",
      "metadata": {
        "id": "LbKoEIRAg9ZL",
        "outputId": "4e1d973c-bb4b-4965-d30c-a1d83c44e401",
        "colab": {
          "base_uri": "https://localhost:8080/",
          "height": 136
        }
      },
      "source": [
        "# Insira a resposta abaixo.\n",
        "difpop = pop2018.subtract(pop2000)\n",
        "difpop"
      ],
      "execution_count": null,
      "outputs": [
        {
          "output_type": "execute_result",
          "data": {
            "text/plain": [
              "Belo Horizonte          NaN\n",
              "Brasília                NaN\n",
              "Fortaleza          505013.0\n",
              "Rio de Janeiro     837013.0\n",
              "Salvador           416501.0\n",
              "São Paulo         1770999.0\n",
              "dtype: float64"
            ]
          },
          "metadata": {
            "tags": []
          },
          "execution_count": 4
        }
      ]
    },
    {
      "cell_type": "markdown",
      "metadata": {
        "id": "JK6NbPy_zQYM"
      },
      "source": [
        "6 - Crie uma nova série contendo a média entre as duas séries iniciais."
      ]
    },
    {
      "cell_type": "code",
      "metadata": {
        "id": "jVN_W1bduy0M",
        "outputId": "75bd96e0-2a72-48f6-9859-b3238d553f0a",
        "colab": {
          "base_uri": "https://localhost:8080/",
          "height": 153
        }
      },
      "source": [
        "# Insira a resposta abaixo.\n",
        "\n",
        "popmean = pd.concat([pop2018, pop2000], keys=['2018','2000'], names=['Ano', 'Cidade'])\n",
        "popmean = popmean.groupby(level='Cidade').mean()\n",
        "display(popmean)"
      ],
      "execution_count": null,
      "outputs": [
        {
          "output_type": "display_data",
          "data": {
            "text/plain": [
              "Cidade\n",
              "Belo Horizonte     2232747.0\n",
              "Brasília           2974703.0\n",
              "Fortaleza          2390740.5\n",
              "Rio de Janeiro     6270420.5\n",
              "Salvador           2649078.5\n",
              "São Paulo         11291366.5\n",
              "dtype: float64"
            ]
          },
          "metadata": {
            "tags": []
          }
        }
      ]
    },
    {
      "cell_type": "markdown",
      "metadata": {
        "id": "C8-PDmX91LpE"
      },
      "source": [
        "### Introduzindo Dataframes"
      ]
    },
    {
      "cell_type": "markdown",
      "metadata": {
        "id": "XpDXbeFY3e8R"
      },
      "source": [
        "7 - Crie um dicionário cujas chaves sejam: 2000, 2018, 'diferenca', 'media'. Utilize como valores as séries correspondentes criadas nas questões anteriores. Utilize esse dicionário para criar um dataframe."
      ]
    },
    {
      "cell_type": "code",
      "metadata": {
        "id": "BBGcpyt83ftD",
        "outputId": "d6e00384-f6d9-4945-f1cd-61e98e3a82da",
        "colab": {
          "base_uri": "https://localhost:8080/",
          "height": 235
        }
      },
      "source": [
        "# Insira a resposta abaixo.\n",
        "dic = {2000:pop2000, 2018: pop2018, 'diferença':difpop , 'media':popmean}\n",
        "df = pd.DataFrame(dic)\n",
        "df"
      ],
      "execution_count": null,
      "outputs": [
        {
          "output_type": "execute_result",
          "data": {
            "text/html": [
              "<div>\n",
              "<style scoped>\n",
              "    .dataframe tbody tr th:only-of-type {\n",
              "        vertical-align: middle;\n",
              "    }\n",
              "\n",
              "    .dataframe tbody tr th {\n",
              "        vertical-align: top;\n",
              "    }\n",
              "\n",
              "    .dataframe thead th {\n",
              "        text-align: right;\n",
              "    }\n",
              "</style>\n",
              "<table border=\"1\" class=\"dataframe\">\n",
              "  <thead>\n",
              "    <tr style=\"text-align: right;\">\n",
              "      <th></th>\n",
              "      <th>2000</th>\n",
              "      <th>2018</th>\n",
              "      <th>diferença</th>\n",
              "      <th>media</th>\n",
              "    </tr>\n",
              "  </thead>\n",
              "  <tbody>\n",
              "    <tr>\n",
              "      <th>Belo Horizonte</th>\n",
              "      <td>2232747.0</td>\n",
              "      <td>NaN</td>\n",
              "      <td>NaN</td>\n",
              "      <td>2232747.0</td>\n",
              "    </tr>\n",
              "    <tr>\n",
              "      <th>Brasília</th>\n",
              "      <td>NaN</td>\n",
              "      <td>2974703.0</td>\n",
              "      <td>NaN</td>\n",
              "      <td>2974703.0</td>\n",
              "    </tr>\n",
              "    <tr>\n",
              "      <th>Fortaleza</th>\n",
              "      <td>2138234.0</td>\n",
              "      <td>2643247.0</td>\n",
              "      <td>505013.0</td>\n",
              "      <td>2390740.5</td>\n",
              "    </tr>\n",
              "    <tr>\n",
              "      <th>Rio de Janeiro</th>\n",
              "      <td>5851914.0</td>\n",
              "      <td>6688927.0</td>\n",
              "      <td>837013.0</td>\n",
              "      <td>6270420.5</td>\n",
              "    </tr>\n",
              "    <tr>\n",
              "      <th>Salvador</th>\n",
              "      <td>2440828.0</td>\n",
              "      <td>2857329.0</td>\n",
              "      <td>416501.0</td>\n",
              "      <td>2649078.5</td>\n",
              "    </tr>\n",
              "    <tr>\n",
              "      <th>São Paulo</th>\n",
              "      <td>10405867.0</td>\n",
              "      <td>12176866.0</td>\n",
              "      <td>1770999.0</td>\n",
              "      <td>11291366.5</td>\n",
              "    </tr>\n",
              "  </tbody>\n",
              "</table>\n",
              "</div>"
            ],
            "text/plain": [
              "                      2000        2018  diferença       media\n",
              "Belo Horizonte   2232747.0         NaN        NaN   2232747.0\n",
              "Brasília               NaN   2974703.0        NaN   2974703.0\n",
              "Fortaleza        2138234.0   2643247.0   505013.0   2390740.5\n",
              "Rio de Janeiro   5851914.0   6688927.0   837013.0   6270420.5\n",
              "Salvador         2440828.0   2857329.0   416501.0   2649078.5\n",
              "São Paulo       10405867.0  12176866.0  1770999.0  11291366.5"
            ]
          },
          "metadata": {
            "tags": []
          },
          "execution_count": 64
        }
      ]
    },
    {
      "cell_type": "markdown",
      "metadata": {
        "id": "Ypf2B_IMXCBp"
      },
      "source": [
        "8 - Desta vez, crie um dataframe equivalente ao criado na questão anterior concatenando as quatro séries (referentes a 2000, 2018, diferença e média). Lembre-se de inserir os mesmos títulos para as colunas."
      ]
    },
    {
      "cell_type": "code",
      "metadata": {
        "id": "CnsXCKTIXCPK",
        "outputId": "f147ed39-2e77-4bc7-8bcc-fba97448a2cb",
        "colab": {
          "base_uri": "https://localhost:8080/",
          "height": 235
        }
      },
      "source": [
        "# Inserir a resposta abaixo.\n",
        "df = pd.DataFrame(data=[pop2000, pop2018, difpop, popmean]).T\n",
        "df.columns = ['2000','2018', 'diferença','media']\n",
        "df.sort_index()"
      ],
      "execution_count": null,
      "outputs": [
        {
          "output_type": "execute_result",
          "data": {
            "text/html": [
              "<div>\n",
              "<style scoped>\n",
              "    .dataframe tbody tr th:only-of-type {\n",
              "        vertical-align: middle;\n",
              "    }\n",
              "\n",
              "    .dataframe tbody tr th {\n",
              "        vertical-align: top;\n",
              "    }\n",
              "\n",
              "    .dataframe thead th {\n",
              "        text-align: right;\n",
              "    }\n",
              "</style>\n",
              "<table border=\"1\" class=\"dataframe\">\n",
              "  <thead>\n",
              "    <tr style=\"text-align: right;\">\n",
              "      <th></th>\n",
              "      <th>2000</th>\n",
              "      <th>2018</th>\n",
              "      <th>diferença</th>\n",
              "      <th>media</th>\n",
              "    </tr>\n",
              "  </thead>\n",
              "  <tbody>\n",
              "    <tr>\n",
              "      <th>Belo Horizonte</th>\n",
              "      <td>2232747.0</td>\n",
              "      <td>NaN</td>\n",
              "      <td>NaN</td>\n",
              "      <td>2232747.0</td>\n",
              "    </tr>\n",
              "    <tr>\n",
              "      <th>Brasília</th>\n",
              "      <td>NaN</td>\n",
              "      <td>2974703.0</td>\n",
              "      <td>NaN</td>\n",
              "      <td>2974703.0</td>\n",
              "    </tr>\n",
              "    <tr>\n",
              "      <th>Fortaleza</th>\n",
              "      <td>2138234.0</td>\n",
              "      <td>2643247.0</td>\n",
              "      <td>505013.0</td>\n",
              "      <td>2390740.5</td>\n",
              "    </tr>\n",
              "    <tr>\n",
              "      <th>Rio de Janeiro</th>\n",
              "      <td>5851914.0</td>\n",
              "      <td>6688927.0</td>\n",
              "      <td>837013.0</td>\n",
              "      <td>6270420.5</td>\n",
              "    </tr>\n",
              "    <tr>\n",
              "      <th>Salvador</th>\n",
              "      <td>2440828.0</td>\n",
              "      <td>2857329.0</td>\n",
              "      <td>416501.0</td>\n",
              "      <td>2649078.5</td>\n",
              "    </tr>\n",
              "    <tr>\n",
              "      <th>São Paulo</th>\n",
              "      <td>10405867.0</td>\n",
              "      <td>12176866.0</td>\n",
              "      <td>1770999.0</td>\n",
              "      <td>11291366.5</td>\n",
              "    </tr>\n",
              "  </tbody>\n",
              "</table>\n",
              "</div>"
            ],
            "text/plain": [
              "                      2000        2018  diferença       media\n",
              "Belo Horizonte   2232747.0         NaN        NaN   2232747.0\n",
              "Brasília               NaN   2974703.0        NaN   2974703.0\n",
              "Fortaleza        2138234.0   2643247.0   505013.0   2390740.5\n",
              "Rio de Janeiro   5851914.0   6688927.0   837013.0   6270420.5\n",
              "Salvador         2440828.0   2857329.0   416501.0   2649078.5\n",
              "São Paulo       10405867.0  12176866.0  1770999.0  11291366.5"
            ]
          },
          "metadata": {
            "tags": []
          },
          "execution_count": 14
        }
      ]
    },
    {
      "cell_type": "markdown",
      "metadata": {
        "id": "Fb0mFiAWA3pa"
      },
      "source": [
        "9 - Adicione uma nova coluna ao dataframe anterior chamada 2019, esta deve conter um acréscimo de 50000 sobre os valores da coluna 2018."
      ]
    },
    {
      "cell_type": "code",
      "metadata": {
        "id": "jPwiPongA3xO",
        "outputId": "d05d8a66-2fab-434e-8e13-5c260bcd16e0",
        "colab": {
          "base_uri": "https://localhost:8080/",
          "height": 235
        }
      },
      "source": [
        "# Insira a resposta abaixo.\n",
        "df['2019'] = df['2018']+50000\n",
        "df = df[['2000','2018','2019','diferença','media']]\n",
        "df"
      ],
      "execution_count": null,
      "outputs": [
        {
          "output_type": "execute_result",
          "data": {
            "text/html": [
              "<div>\n",
              "<style scoped>\n",
              "    .dataframe tbody tr th:only-of-type {\n",
              "        vertical-align: middle;\n",
              "    }\n",
              "\n",
              "    .dataframe tbody tr th {\n",
              "        vertical-align: top;\n",
              "    }\n",
              "\n",
              "    .dataframe thead th {\n",
              "        text-align: right;\n",
              "    }\n",
              "</style>\n",
              "<table border=\"1\" class=\"dataframe\">\n",
              "  <thead>\n",
              "    <tr style=\"text-align: right;\">\n",
              "      <th></th>\n",
              "      <th>2000</th>\n",
              "      <th>2018</th>\n",
              "      <th>2019</th>\n",
              "      <th>diferença</th>\n",
              "      <th>media</th>\n",
              "    </tr>\n",
              "  </thead>\n",
              "  <tbody>\n",
              "    <tr>\n",
              "      <th>São Paulo</th>\n",
              "      <td>10405867.0</td>\n",
              "      <td>12176866.0</td>\n",
              "      <td>12226866.0</td>\n",
              "      <td>1770999.0</td>\n",
              "      <td>11291366.5</td>\n",
              "    </tr>\n",
              "    <tr>\n",
              "      <th>Rio de Janeiro</th>\n",
              "      <td>5851914.0</td>\n",
              "      <td>6688927.0</td>\n",
              "      <td>6738927.0</td>\n",
              "      <td>837013.0</td>\n",
              "      <td>6270420.5</td>\n",
              "    </tr>\n",
              "    <tr>\n",
              "      <th>Salvador</th>\n",
              "      <td>2440828.0</td>\n",
              "      <td>2857329.0</td>\n",
              "      <td>2907329.0</td>\n",
              "      <td>416501.0</td>\n",
              "      <td>2649078.5</td>\n",
              "    </tr>\n",
              "    <tr>\n",
              "      <th>Belo Horizonte</th>\n",
              "      <td>2232747.0</td>\n",
              "      <td>NaN</td>\n",
              "      <td>NaN</td>\n",
              "      <td>NaN</td>\n",
              "      <td>2232747.0</td>\n",
              "    </tr>\n",
              "    <tr>\n",
              "      <th>Fortaleza</th>\n",
              "      <td>2138234.0</td>\n",
              "      <td>2643247.0</td>\n",
              "      <td>2693247.0</td>\n",
              "      <td>505013.0</td>\n",
              "      <td>2390740.5</td>\n",
              "    </tr>\n",
              "    <tr>\n",
              "      <th>Brasília</th>\n",
              "      <td>NaN</td>\n",
              "      <td>2974703.0</td>\n",
              "      <td>3024703.0</td>\n",
              "      <td>NaN</td>\n",
              "      <td>2974703.0</td>\n",
              "    </tr>\n",
              "  </tbody>\n",
              "</table>\n",
              "</div>"
            ],
            "text/plain": [
              "                      2000        2018        2019  diferença       media\n",
              "São Paulo       10405867.0  12176866.0  12226866.0  1770999.0  11291366.5\n",
              "Rio de Janeiro   5851914.0   6688927.0   6738927.0   837013.0   6270420.5\n",
              "Salvador         2440828.0   2857329.0   2907329.0   416501.0   2649078.5\n",
              "Belo Horizonte   2232747.0         NaN         NaN        NaN   2232747.0\n",
              "Fortaleza        2138234.0   2643247.0   2693247.0   505013.0   2390740.5\n",
              "Brasília               NaN   2974703.0   3024703.0        NaN   2974703.0"
            ]
          },
          "metadata": {
            "tags": []
          },
          "execution_count": 17
        }
      ]
    },
    {
      "cell_type": "markdown",
      "metadata": {
        "id": "BCB_sBTKacwr"
      },
      "source": [
        "10 - Exiba somente os dados referentes a Salvador."
      ]
    },
    {
      "cell_type": "code",
      "metadata": {
        "id": "Hnax97HBac7y",
        "outputId": "82959c2b-c0ae-4a0d-aaa5-f42517055692",
        "colab": {
          "base_uri": "https://localhost:8080/",
          "height": 119
        }
      },
      "source": [
        "# Insira a resposta abaixo.\n",
        "df.loc['Salvador']"
      ],
      "execution_count": null,
      "outputs": [
        {
          "output_type": "execute_result",
          "data": {
            "text/plain": [
              "2000         2440828.0\n",
              "2018         2857329.0\n",
              "2019         2907329.0\n",
              "diferença     416501.0\n",
              "media        2649078.5\n",
              "Name: Salvador, dtype: float64"
            ]
          },
          "metadata": {
            "tags": []
          },
          "execution_count": 21
        }
      ]
    },
    {
      "cell_type": "markdown",
      "metadata": {
        "id": "hG4JP1_ZpIxL"
      },
      "source": [
        "11 - Exiba ** a terceira linha** do dataframe utilizando o seu posicionamento no dataframe."
      ]
    },
    {
      "cell_type": "code",
      "metadata": {
        "id": "voAWVOg3pJBG",
        "outputId": "4b2d8716-7ebf-4cd6-d3a5-99a99e704749",
        "colab": {
          "base_uri": "https://localhost:8080/",
          "height": 119
        }
      },
      "source": [
        "# Insira a resposta abaixo.\n",
        "df.iloc[2]"
      ],
      "execution_count": null,
      "outputs": [
        {
          "output_type": "execute_result",
          "data": {
            "text/plain": [
              "2000         2440828.0\n",
              "2018         2857329.0\n",
              "2019         2907329.0\n",
              "diferença     416501.0\n",
              "media        2649078.5\n",
              "Name: Salvador, dtype: float64"
            ]
          },
          "metadata": {
            "tags": []
          },
          "execution_count": 24
        }
      ]
    },
    {
      "cell_type": "markdown",
      "metadata": {
        "id": "wZ-8j5YHZENp"
      },
      "source": [
        "12 - Exiba as **três primeiras linhas** do dataframe a partir da posição."
      ]
    },
    {
      "cell_type": "code",
      "metadata": {
        "id": "D7E2hQ52ZEUu",
        "outputId": "9b65d81b-084e-46c4-a4b8-0e4dd39e839c",
        "colab": {
          "base_uri": "https://localhost:8080/",
          "height": 142
        }
      },
      "source": [
        "# Insira a resposta abaixo.\n",
        "df.iloc[:3]"
      ],
      "execution_count": null,
      "outputs": [
        {
          "output_type": "execute_result",
          "data": {
            "text/html": [
              "<div>\n",
              "<style scoped>\n",
              "    .dataframe tbody tr th:only-of-type {\n",
              "        vertical-align: middle;\n",
              "    }\n",
              "\n",
              "    .dataframe tbody tr th {\n",
              "        vertical-align: top;\n",
              "    }\n",
              "\n",
              "    .dataframe thead th {\n",
              "        text-align: right;\n",
              "    }\n",
              "</style>\n",
              "<table border=\"1\" class=\"dataframe\">\n",
              "  <thead>\n",
              "    <tr style=\"text-align: right;\">\n",
              "      <th></th>\n",
              "      <th>2000</th>\n",
              "      <th>2018</th>\n",
              "      <th>2019</th>\n",
              "      <th>diferença</th>\n",
              "      <th>media</th>\n",
              "    </tr>\n",
              "  </thead>\n",
              "  <tbody>\n",
              "    <tr>\n",
              "      <th>São Paulo</th>\n",
              "      <td>10405867.0</td>\n",
              "      <td>12176866.0</td>\n",
              "      <td>12226866.0</td>\n",
              "      <td>1770999.0</td>\n",
              "      <td>11291366.5</td>\n",
              "    </tr>\n",
              "    <tr>\n",
              "      <th>Rio de Janeiro</th>\n",
              "      <td>5851914.0</td>\n",
              "      <td>6688927.0</td>\n",
              "      <td>6738927.0</td>\n",
              "      <td>837013.0</td>\n",
              "      <td>6270420.5</td>\n",
              "    </tr>\n",
              "    <tr>\n",
              "      <th>Salvador</th>\n",
              "      <td>2440828.0</td>\n",
              "      <td>2857329.0</td>\n",
              "      <td>2907329.0</td>\n",
              "      <td>416501.0</td>\n",
              "      <td>2649078.5</td>\n",
              "    </tr>\n",
              "  </tbody>\n",
              "</table>\n",
              "</div>"
            ],
            "text/plain": [
              "                      2000        2018        2019  diferença       media\n",
              "São Paulo       10405867.0  12176866.0  12226866.0  1770999.0  11291366.5\n",
              "Rio de Janeiro   5851914.0   6688927.0   6738927.0   837013.0   6270420.5\n",
              "Salvador         2440828.0   2857329.0   2907329.0   416501.0   2649078.5"
            ]
          },
          "metadata": {
            "tags": []
          },
          "execution_count": 26
        }
      ]
    },
    {
      "cell_type": "markdown",
      "metadata": {
        "id": "MguA1q5BbG4C"
      },
      "source": [
        "13 - Remova a coluna 2019 criada anteriormente."
      ]
    },
    {
      "cell_type": "code",
      "metadata": {
        "id": "GX96UlEKbG-1",
        "outputId": "b3cebcd5-e632-4b3e-e04c-db96e3cd2b7d",
        "colab": {
          "base_uri": "https://localhost:8080/",
          "height": 235
        }
      },
      "source": [
        "# Insira a resposta abaixo.\n",
        "df = df.drop(['2019'],axis=1)\n",
        "df"
      ],
      "execution_count": null,
      "outputs": [
        {
          "output_type": "execute_result",
          "data": {
            "text/html": [
              "<div>\n",
              "<style scoped>\n",
              "    .dataframe tbody tr th:only-of-type {\n",
              "        vertical-align: middle;\n",
              "    }\n",
              "\n",
              "    .dataframe tbody tr th {\n",
              "        vertical-align: top;\n",
              "    }\n",
              "\n",
              "    .dataframe thead th {\n",
              "        text-align: right;\n",
              "    }\n",
              "</style>\n",
              "<table border=\"1\" class=\"dataframe\">\n",
              "  <thead>\n",
              "    <tr style=\"text-align: right;\">\n",
              "      <th></th>\n",
              "      <th>2000</th>\n",
              "      <th>2018</th>\n",
              "      <th>diferença</th>\n",
              "      <th>media</th>\n",
              "    </tr>\n",
              "  </thead>\n",
              "  <tbody>\n",
              "    <tr>\n",
              "      <th>São Paulo</th>\n",
              "      <td>10405867.0</td>\n",
              "      <td>12176866.0</td>\n",
              "      <td>1770999.0</td>\n",
              "      <td>11291366.5</td>\n",
              "    </tr>\n",
              "    <tr>\n",
              "      <th>Rio de Janeiro</th>\n",
              "      <td>5851914.0</td>\n",
              "      <td>6688927.0</td>\n",
              "      <td>837013.0</td>\n",
              "      <td>6270420.5</td>\n",
              "    </tr>\n",
              "    <tr>\n",
              "      <th>Salvador</th>\n",
              "      <td>2440828.0</td>\n",
              "      <td>2857329.0</td>\n",
              "      <td>416501.0</td>\n",
              "      <td>2649078.5</td>\n",
              "    </tr>\n",
              "    <tr>\n",
              "      <th>Belo Horizonte</th>\n",
              "      <td>2232747.0</td>\n",
              "      <td>NaN</td>\n",
              "      <td>NaN</td>\n",
              "      <td>2232747.0</td>\n",
              "    </tr>\n",
              "    <tr>\n",
              "      <th>Fortaleza</th>\n",
              "      <td>2138234.0</td>\n",
              "      <td>2643247.0</td>\n",
              "      <td>505013.0</td>\n",
              "      <td>2390740.5</td>\n",
              "    </tr>\n",
              "    <tr>\n",
              "      <th>Brasília</th>\n",
              "      <td>NaN</td>\n",
              "      <td>2974703.0</td>\n",
              "      <td>NaN</td>\n",
              "      <td>2974703.0</td>\n",
              "    </tr>\n",
              "  </tbody>\n",
              "</table>\n",
              "</div>"
            ],
            "text/plain": [
              "                      2000        2018  diferença       media\n",
              "São Paulo       10405867.0  12176866.0  1770999.0  11291366.5\n",
              "Rio de Janeiro   5851914.0   6688927.0   837013.0   6270420.5\n",
              "Salvador         2440828.0   2857329.0   416501.0   2649078.5\n",
              "Belo Horizonte   2232747.0         NaN        NaN   2232747.0\n",
              "Fortaleza        2138234.0   2643247.0   505013.0   2390740.5\n",
              "Brasília               NaN   2974703.0        NaN   2974703.0"
            ]
          },
          "metadata": {
            "tags": []
          },
          "execution_count": 30
        }
      ]
    },
    {
      "cell_type": "markdown",
      "metadata": {
        "id": "Gf1KCDk7cHQG"
      },
      "source": [
        "14 - Remova os registros que apresentam valores nulos."
      ]
    },
    {
      "cell_type": "code",
      "metadata": {
        "id": "t7GfFUtDcHWz",
        "outputId": "22eec3be-89f4-41af-aba8-754774f0cded",
        "colab": {
          "base_uri": "https://localhost:8080/",
          "height": 173
        }
      },
      "source": [
        "# Insira a resposta abaixo.\n",
        "df = df.dropna()\n",
        "df"
      ],
      "execution_count": null,
      "outputs": [
        {
          "output_type": "execute_result",
          "data": {
            "text/html": [
              "<div>\n",
              "<style scoped>\n",
              "    .dataframe tbody tr th:only-of-type {\n",
              "        vertical-align: middle;\n",
              "    }\n",
              "\n",
              "    .dataframe tbody tr th {\n",
              "        vertical-align: top;\n",
              "    }\n",
              "\n",
              "    .dataframe thead th {\n",
              "        text-align: right;\n",
              "    }\n",
              "</style>\n",
              "<table border=\"1\" class=\"dataframe\">\n",
              "  <thead>\n",
              "    <tr style=\"text-align: right;\">\n",
              "      <th></th>\n",
              "      <th>2000</th>\n",
              "      <th>2018</th>\n",
              "      <th>diferença</th>\n",
              "      <th>media</th>\n",
              "    </tr>\n",
              "  </thead>\n",
              "  <tbody>\n",
              "    <tr>\n",
              "      <th>São Paulo</th>\n",
              "      <td>10405867.0</td>\n",
              "      <td>12176866.0</td>\n",
              "      <td>1770999.0</td>\n",
              "      <td>11291366.5</td>\n",
              "    </tr>\n",
              "    <tr>\n",
              "      <th>Rio de Janeiro</th>\n",
              "      <td>5851914.0</td>\n",
              "      <td>6688927.0</td>\n",
              "      <td>837013.0</td>\n",
              "      <td>6270420.5</td>\n",
              "    </tr>\n",
              "    <tr>\n",
              "      <th>Salvador</th>\n",
              "      <td>2440828.0</td>\n",
              "      <td>2857329.0</td>\n",
              "      <td>416501.0</td>\n",
              "      <td>2649078.5</td>\n",
              "    </tr>\n",
              "    <tr>\n",
              "      <th>Fortaleza</th>\n",
              "      <td>2138234.0</td>\n",
              "      <td>2643247.0</td>\n",
              "      <td>505013.0</td>\n",
              "      <td>2390740.5</td>\n",
              "    </tr>\n",
              "  </tbody>\n",
              "</table>\n",
              "</div>"
            ],
            "text/plain": [
              "                      2000        2018  diferença       media\n",
              "São Paulo       10405867.0  12176866.0  1770999.0  11291366.5\n",
              "Rio de Janeiro   5851914.0   6688927.0   837013.0   6270420.5\n",
              "Salvador         2440828.0   2857329.0   416501.0   2649078.5\n",
              "Fortaleza        2138234.0   2643247.0   505013.0   2390740.5"
            ]
          },
          "metadata": {
            "tags": []
          },
          "execution_count": 31
        }
      ]
    },
    {
      "cell_type": "markdown",
      "metadata": {
        "id": "vvg70YllmjYN"
      },
      "source": [
        "### Exercícios com base de dados fictícia (toy dataset)"
      ]
    },
    {
      "cell_type": "markdown",
      "metadata": {
        "id": "WxSVpF1fP3Wm"
      },
      "source": [
        "Execute o bloco de código abaixo para realizar o download de uma pequena base de dados que será utilizada para os próximos experimentos. A base de dados poderá ser acessada através do arquivo toy_dataset.csv. Caso a sessão se encerre, re-execute essa célula de código."
      ]
    },
    {
      "cell_type": "code",
      "metadata": {
        "id": "l3bKq4SBP3cx",
        "outputId": "5f4a62ef-47a6-4459-eebf-c10fa1f4ba1d",
        "colab": {
          "base_uri": "https://localhost:8080/",
          "height": 102
        }
      },
      "source": [
        "!pip install -q kaggle\n",
        "import os\n",
        "os.environ['KAGGLE_USERNAME'] = \"victorlundgren\"\n",
        "os.environ['KAGGLE_KEY'] = \"851b67a8b7e626eb6336620bf1cb0d31\"\n",
        "\n",
        "!kaggle datasets download -d carlolepelaars/toy-dataset\n",
        "!unzip toy-dataset.zip # OU tar -xy no Windows10"
      ],
      "execution_count": 3,
      "outputs": [
        {
          "output_type": "stream",
          "text": [
            "Downloading toy-dataset.zip to /content\n",
            "\r  0% 0.00/1.13M [00:00<?, ?B/s]\n",
            "\r100% 1.13M/1.13M [00:00<00:00, 35.1MB/s]\n",
            "Archive:  toy-dataset.zip\n",
            "  inflating: toy_dataset.csv         \n"
          ],
          "name": "stdout"
        }
      ]
    },
    {
      "cell_type": "markdown",
      "metadata": {
        "id": "hZJwgYWBSfTg"
      },
      "source": [
        "15 - Execute a leitura do Toy Dataset diretamente em um dataframe."
      ]
    },
    {
      "cell_type": "code",
      "metadata": {
        "id": "H18ZsFySSfri",
        "outputId": "6980e235-8605-4b59-ff9a-576ebd4f7544",
        "colab": {
          "base_uri": "https://localhost:8080/",
          "height": 204
        }
      },
      "source": [
        "# Insira a resposta abaixo.\n",
        "df = pd.read_csv('./toy_dataset.csv')\n",
        "df.head()"
      ],
      "execution_count": 4,
      "outputs": [
        {
          "output_type": "execute_result",
          "data": {
            "text/html": [
              "<div>\n",
              "<style scoped>\n",
              "    .dataframe tbody tr th:only-of-type {\n",
              "        vertical-align: middle;\n",
              "    }\n",
              "\n",
              "    .dataframe tbody tr th {\n",
              "        vertical-align: top;\n",
              "    }\n",
              "\n",
              "    .dataframe thead th {\n",
              "        text-align: right;\n",
              "    }\n",
              "</style>\n",
              "<table border=\"1\" class=\"dataframe\">\n",
              "  <thead>\n",
              "    <tr style=\"text-align: right;\">\n",
              "      <th></th>\n",
              "      <th>Number</th>\n",
              "      <th>City</th>\n",
              "      <th>Gender</th>\n",
              "      <th>Age</th>\n",
              "      <th>Income</th>\n",
              "      <th>Illness</th>\n",
              "    </tr>\n",
              "  </thead>\n",
              "  <tbody>\n",
              "    <tr>\n",
              "      <th>0</th>\n",
              "      <td>1</td>\n",
              "      <td>Dallas</td>\n",
              "      <td>Male</td>\n",
              "      <td>41</td>\n",
              "      <td>40367.0</td>\n",
              "      <td>No</td>\n",
              "    </tr>\n",
              "    <tr>\n",
              "      <th>1</th>\n",
              "      <td>2</td>\n",
              "      <td>Dallas</td>\n",
              "      <td>Male</td>\n",
              "      <td>54</td>\n",
              "      <td>45084.0</td>\n",
              "      <td>No</td>\n",
              "    </tr>\n",
              "    <tr>\n",
              "      <th>2</th>\n",
              "      <td>3</td>\n",
              "      <td>Dallas</td>\n",
              "      <td>Male</td>\n",
              "      <td>42</td>\n",
              "      <td>52483.0</td>\n",
              "      <td>No</td>\n",
              "    </tr>\n",
              "    <tr>\n",
              "      <th>3</th>\n",
              "      <td>4</td>\n",
              "      <td>Dallas</td>\n",
              "      <td>Male</td>\n",
              "      <td>40</td>\n",
              "      <td>40941.0</td>\n",
              "      <td>No</td>\n",
              "    </tr>\n",
              "    <tr>\n",
              "      <th>4</th>\n",
              "      <td>5</td>\n",
              "      <td>Dallas</td>\n",
              "      <td>Male</td>\n",
              "      <td>46</td>\n",
              "      <td>50289.0</td>\n",
              "      <td>No</td>\n",
              "    </tr>\n",
              "  </tbody>\n",
              "</table>\n",
              "</div>"
            ],
            "text/plain": [
              "   Number    City Gender  Age   Income Illness\n",
              "0       1  Dallas   Male   41  40367.0      No\n",
              "1       2  Dallas   Male   54  45084.0      No\n",
              "2       3  Dallas   Male   42  52483.0      No\n",
              "3       4  Dallas   Male   40  40941.0      No\n",
              "4       5  Dallas   Male   46  50289.0      No"
            ]
          },
          "metadata": {
            "tags": []
          },
          "execution_count": 4
        }
      ]
    },
    {
      "cell_type": "markdown",
      "metadata": {
        "id": "8N9Nt4oETf5x"
      },
      "source": [
        "16 - Exiba o tipo de dados de cada coluna do dataframe."
      ]
    },
    {
      "cell_type": "code",
      "metadata": {
        "id": "d2DP3VBuTf_O",
        "outputId": "da8187e4-3967-466d-abc8-901aa7ac6ba3",
        "colab": {
          "base_uri": "https://localhost:8080/",
          "height": 136
        }
      },
      "source": [
        "# Insira a resposta abaixo.\n",
        "df.dtypes"
      ],
      "execution_count": null,
      "outputs": [
        {
          "output_type": "execute_result",
          "data": {
            "text/plain": [
              "Number       int64\n",
              "City        object\n",
              "Gender      object\n",
              "Age          int64\n",
              "Income     float64\n",
              "Illness     object\n",
              "dtype: object"
            ]
          },
          "metadata": {
            "tags": []
          },
          "execution_count": 37
        }
      ]
    },
    {
      "cell_type": "markdown",
      "metadata": {
        "id": "6DSkip22TRQc"
      },
      "source": [
        "17 - Utilize a função .head() para exibir o cabeçalho do dataframe e assim conhecer as colunas, o índice e as linhas iniciais da base de dados."
      ]
    },
    {
      "cell_type": "code",
      "metadata": {
        "id": "DoD2Ud8oTRWm",
        "outputId": "13bdfa9a-2673-461d-865f-a57fd8fc58a7",
        "colab": {
          "base_uri": "https://localhost:8080/",
          "height": 204
        }
      },
      "source": [
        "# Insira a resposta abaixo.\n",
        "df.head()"
      ],
      "execution_count": null,
      "outputs": [
        {
          "output_type": "execute_result",
          "data": {
            "text/html": [
              "<div>\n",
              "<style scoped>\n",
              "    .dataframe tbody tr th:only-of-type {\n",
              "        vertical-align: middle;\n",
              "    }\n",
              "\n",
              "    .dataframe tbody tr th {\n",
              "        vertical-align: top;\n",
              "    }\n",
              "\n",
              "    .dataframe thead th {\n",
              "        text-align: right;\n",
              "    }\n",
              "</style>\n",
              "<table border=\"1\" class=\"dataframe\">\n",
              "  <thead>\n",
              "    <tr style=\"text-align: right;\">\n",
              "      <th></th>\n",
              "      <th>Number</th>\n",
              "      <th>City</th>\n",
              "      <th>Gender</th>\n",
              "      <th>Age</th>\n",
              "      <th>Income</th>\n",
              "      <th>Illness</th>\n",
              "    </tr>\n",
              "  </thead>\n",
              "  <tbody>\n",
              "    <tr>\n",
              "      <th>0</th>\n",
              "      <td>1</td>\n",
              "      <td>Dallas</td>\n",
              "      <td>Male</td>\n",
              "      <td>41</td>\n",
              "      <td>40367.0</td>\n",
              "      <td>No</td>\n",
              "    </tr>\n",
              "    <tr>\n",
              "      <th>1</th>\n",
              "      <td>2</td>\n",
              "      <td>Dallas</td>\n",
              "      <td>Male</td>\n",
              "      <td>54</td>\n",
              "      <td>45084.0</td>\n",
              "      <td>No</td>\n",
              "    </tr>\n",
              "    <tr>\n",
              "      <th>2</th>\n",
              "      <td>3</td>\n",
              "      <td>Dallas</td>\n",
              "      <td>Male</td>\n",
              "      <td>42</td>\n",
              "      <td>52483.0</td>\n",
              "      <td>No</td>\n",
              "    </tr>\n",
              "    <tr>\n",
              "      <th>3</th>\n",
              "      <td>4</td>\n",
              "      <td>Dallas</td>\n",
              "      <td>Male</td>\n",
              "      <td>40</td>\n",
              "      <td>40941.0</td>\n",
              "      <td>No</td>\n",
              "    </tr>\n",
              "    <tr>\n",
              "      <th>4</th>\n",
              "      <td>5</td>\n",
              "      <td>Dallas</td>\n",
              "      <td>Male</td>\n",
              "      <td>46</td>\n",
              "      <td>50289.0</td>\n",
              "      <td>No</td>\n",
              "    </tr>\n",
              "  </tbody>\n",
              "</table>\n",
              "</div>"
            ],
            "text/plain": [
              "   Number    City Gender  Age   Income Illness\n",
              "0       1  Dallas   Male   41  40367.0      No\n",
              "1       2  Dallas   Male   54  45084.0      No\n",
              "2       3  Dallas   Male   42  52483.0      No\n",
              "3       4  Dallas   Male   40  40941.0      No\n",
              "4       5  Dallas   Male   46  50289.0      No"
            ]
          },
          "metadata": {
            "tags": []
          },
          "execution_count": 38
        }
      ]
    },
    {
      "cell_type": "markdown",
      "metadata": {
        "id": "8oqPwJv9g1yq"
      },
      "source": [
        "18 - Realize as seguintes operações:\n",
        "\n",
        "- Adicione uma nova coluna chamada NumberAge e que apresente a soma entre os valores da coluna Number com os valores da coluna Age.\n",
        "- Exiba o cabeçalho do dataframe resultante.\n",
        "- Remova a coluna NumberAge.\n",
        "- Exiba o cabeçalho do dataframe resultante."
      ]
    },
    {
      "cell_type": "code",
      "metadata": {
        "id": "fzA8Sd4dg12m",
        "outputId": "0957264a-ad8f-4401-812e-a2970fbac355",
        "colab": {
          "base_uri": "https://localhost:8080/",
          "height": 391
        }
      },
      "source": [
        "# Insira a resposta abaixo.\n",
        "df['NumberAge'] = df['Number']+df.Age\n",
        "display(df.head())\n",
        "df = df.drop(['NumberAge'], axis=1)\n",
        "display(df.head())"
      ],
      "execution_count": null,
      "outputs": [
        {
          "output_type": "display_data",
          "data": {
            "text/html": [
              "<div>\n",
              "<style scoped>\n",
              "    .dataframe tbody tr th:only-of-type {\n",
              "        vertical-align: middle;\n",
              "    }\n",
              "\n",
              "    .dataframe tbody tr th {\n",
              "        vertical-align: top;\n",
              "    }\n",
              "\n",
              "    .dataframe thead th {\n",
              "        text-align: right;\n",
              "    }\n",
              "</style>\n",
              "<table border=\"1\" class=\"dataframe\">\n",
              "  <thead>\n",
              "    <tr style=\"text-align: right;\">\n",
              "      <th></th>\n",
              "      <th>Number</th>\n",
              "      <th>City</th>\n",
              "      <th>Gender</th>\n",
              "      <th>Age</th>\n",
              "      <th>Income</th>\n",
              "      <th>Illness</th>\n",
              "      <th>NumberAge</th>\n",
              "    </tr>\n",
              "  </thead>\n",
              "  <tbody>\n",
              "    <tr>\n",
              "      <th>0</th>\n",
              "      <td>1</td>\n",
              "      <td>Dallas</td>\n",
              "      <td>Male</td>\n",
              "      <td>41</td>\n",
              "      <td>40367.0</td>\n",
              "      <td>No</td>\n",
              "      <td>42</td>\n",
              "    </tr>\n",
              "    <tr>\n",
              "      <th>1</th>\n",
              "      <td>2</td>\n",
              "      <td>Dallas</td>\n",
              "      <td>Male</td>\n",
              "      <td>54</td>\n",
              "      <td>45084.0</td>\n",
              "      <td>No</td>\n",
              "      <td>56</td>\n",
              "    </tr>\n",
              "    <tr>\n",
              "      <th>2</th>\n",
              "      <td>3</td>\n",
              "      <td>Dallas</td>\n",
              "      <td>Male</td>\n",
              "      <td>42</td>\n",
              "      <td>52483.0</td>\n",
              "      <td>No</td>\n",
              "      <td>45</td>\n",
              "    </tr>\n",
              "    <tr>\n",
              "      <th>3</th>\n",
              "      <td>4</td>\n",
              "      <td>Dallas</td>\n",
              "      <td>Male</td>\n",
              "      <td>40</td>\n",
              "      <td>40941.0</td>\n",
              "      <td>No</td>\n",
              "      <td>44</td>\n",
              "    </tr>\n",
              "    <tr>\n",
              "      <th>4</th>\n",
              "      <td>5</td>\n",
              "      <td>Dallas</td>\n",
              "      <td>Male</td>\n",
              "      <td>46</td>\n",
              "      <td>50289.0</td>\n",
              "      <td>No</td>\n",
              "      <td>51</td>\n",
              "    </tr>\n",
              "  </tbody>\n",
              "</table>\n",
              "</div>"
            ],
            "text/plain": [
              "   Number    City Gender  Age   Income Illness  NumberAge\n",
              "0       1  Dallas   Male   41  40367.0      No         42\n",
              "1       2  Dallas   Male   54  45084.0      No         56\n",
              "2       3  Dallas   Male   42  52483.0      No         45\n",
              "3       4  Dallas   Male   40  40941.0      No         44\n",
              "4       5  Dallas   Male   46  50289.0      No         51"
            ]
          },
          "metadata": {
            "tags": []
          }
        },
        {
          "output_type": "display_data",
          "data": {
            "text/html": [
              "<div>\n",
              "<style scoped>\n",
              "    .dataframe tbody tr th:only-of-type {\n",
              "        vertical-align: middle;\n",
              "    }\n",
              "\n",
              "    .dataframe tbody tr th {\n",
              "        vertical-align: top;\n",
              "    }\n",
              "\n",
              "    .dataframe thead th {\n",
              "        text-align: right;\n",
              "    }\n",
              "</style>\n",
              "<table border=\"1\" class=\"dataframe\">\n",
              "  <thead>\n",
              "    <tr style=\"text-align: right;\">\n",
              "      <th></th>\n",
              "      <th>Number</th>\n",
              "      <th>City</th>\n",
              "      <th>Gender</th>\n",
              "      <th>Age</th>\n",
              "      <th>Income</th>\n",
              "      <th>Illness</th>\n",
              "    </tr>\n",
              "  </thead>\n",
              "  <tbody>\n",
              "    <tr>\n",
              "      <th>0</th>\n",
              "      <td>1</td>\n",
              "      <td>Dallas</td>\n",
              "      <td>Male</td>\n",
              "      <td>41</td>\n",
              "      <td>40367.0</td>\n",
              "      <td>No</td>\n",
              "    </tr>\n",
              "    <tr>\n",
              "      <th>1</th>\n",
              "      <td>2</td>\n",
              "      <td>Dallas</td>\n",
              "      <td>Male</td>\n",
              "      <td>54</td>\n",
              "      <td>45084.0</td>\n",
              "      <td>No</td>\n",
              "    </tr>\n",
              "    <tr>\n",
              "      <th>2</th>\n",
              "      <td>3</td>\n",
              "      <td>Dallas</td>\n",
              "      <td>Male</td>\n",
              "      <td>42</td>\n",
              "      <td>52483.0</td>\n",
              "      <td>No</td>\n",
              "    </tr>\n",
              "    <tr>\n",
              "      <th>3</th>\n",
              "      <td>4</td>\n",
              "      <td>Dallas</td>\n",
              "      <td>Male</td>\n",
              "      <td>40</td>\n",
              "      <td>40941.0</td>\n",
              "      <td>No</td>\n",
              "    </tr>\n",
              "    <tr>\n",
              "      <th>4</th>\n",
              "      <td>5</td>\n",
              "      <td>Dallas</td>\n",
              "      <td>Male</td>\n",
              "      <td>46</td>\n",
              "      <td>50289.0</td>\n",
              "      <td>No</td>\n",
              "    </tr>\n",
              "  </tbody>\n",
              "</table>\n",
              "</div>"
            ],
            "text/plain": [
              "   Number    City Gender  Age   Income Illness\n",
              "0       1  Dallas   Male   41  40367.0      No\n",
              "1       2  Dallas   Male   54  45084.0      No\n",
              "2       3  Dallas   Male   42  52483.0      No\n",
              "3       4  Dallas   Male   40  40941.0      No\n",
              "4       5  Dallas   Male   46  50289.0      No"
            ]
          },
          "metadata": {
            "tags": []
          }
        }
      ]
    },
    {
      "cell_type": "markdown",
      "metadata": {
        "id": "qI5Keo5qYCZw"
      },
      "source": [
        "19 - Realize as seguintes operações a partir do dataframe definido anteriormente:\n",
        "\n",
        "- Exiba as cinco primeiras linhas do dataframe, todos os atributos devem ser apresentados com exceção do primeiro e último.\n",
        "\n",
        "- Exiba as cinco últimas linhas do dataframe, exiba somente o atributo City."
      ]
    },
    {
      "cell_type": "code",
      "metadata": {
        "id": "h-p0mDxGYCfz",
        "outputId": "1dfb0da9-4c98-490f-bb1b-26cce138c134",
        "colab": {
          "base_uri": "https://localhost:8080/",
          "height": 306
        }
      },
      "source": [
        "# Insira a resposta abaixo.\n",
        "display(df.iloc[:,1:-1].head())\n",
        "\n",
        "display(df.loc[:,'City'].tail())"
      ],
      "execution_count": null,
      "outputs": [
        {
          "output_type": "display_data",
          "data": {
            "text/html": [
              "<div>\n",
              "<style scoped>\n",
              "    .dataframe tbody tr th:only-of-type {\n",
              "        vertical-align: middle;\n",
              "    }\n",
              "\n",
              "    .dataframe tbody tr th {\n",
              "        vertical-align: top;\n",
              "    }\n",
              "\n",
              "    .dataframe thead th {\n",
              "        text-align: right;\n",
              "    }\n",
              "</style>\n",
              "<table border=\"1\" class=\"dataframe\">\n",
              "  <thead>\n",
              "    <tr style=\"text-align: right;\">\n",
              "      <th></th>\n",
              "      <th>City</th>\n",
              "      <th>Gender</th>\n",
              "      <th>Age</th>\n",
              "      <th>Income</th>\n",
              "    </tr>\n",
              "  </thead>\n",
              "  <tbody>\n",
              "    <tr>\n",
              "      <th>0</th>\n",
              "      <td>Dallas</td>\n",
              "      <td>Male</td>\n",
              "      <td>41</td>\n",
              "      <td>40367.0</td>\n",
              "    </tr>\n",
              "    <tr>\n",
              "      <th>1</th>\n",
              "      <td>Dallas</td>\n",
              "      <td>Male</td>\n",
              "      <td>54</td>\n",
              "      <td>45084.0</td>\n",
              "    </tr>\n",
              "    <tr>\n",
              "      <th>2</th>\n",
              "      <td>Dallas</td>\n",
              "      <td>Male</td>\n",
              "      <td>42</td>\n",
              "      <td>52483.0</td>\n",
              "    </tr>\n",
              "    <tr>\n",
              "      <th>3</th>\n",
              "      <td>Dallas</td>\n",
              "      <td>Male</td>\n",
              "      <td>40</td>\n",
              "      <td>40941.0</td>\n",
              "    </tr>\n",
              "    <tr>\n",
              "      <th>4</th>\n",
              "      <td>Dallas</td>\n",
              "      <td>Male</td>\n",
              "      <td>46</td>\n",
              "      <td>50289.0</td>\n",
              "    </tr>\n",
              "  </tbody>\n",
              "</table>\n",
              "</div>"
            ],
            "text/plain": [
              "     City Gender  Age   Income\n",
              "0  Dallas   Male   41  40367.0\n",
              "1  Dallas   Male   54  45084.0\n",
              "2  Dallas   Male   42  52483.0\n",
              "3  Dallas   Male   40  40941.0\n",
              "4  Dallas   Male   46  50289.0"
            ]
          },
          "metadata": {
            "tags": []
          }
        },
        {
          "output_type": "display_data",
          "data": {
            "text/plain": [
              "149995    Austin\n",
              "149996    Austin\n",
              "149997    Austin\n",
              "149998    Austin\n",
              "149999    Austin\n",
              "Name: City, dtype: object"
            ]
          },
          "metadata": {
            "tags": []
          }
        }
      ]
    },
    {
      "cell_type": "markdown",
      "metadata": {
        "id": "ABvg8q8_-vHl"
      },
      "source": [
        "20 - Ordene de forma ascendente as amostras utilizando como critério o salário anual. Em seguida, resete os índices dos registros."
      ]
    },
    {
      "cell_type": "code",
      "metadata": {
        "id": "L37Nscj--vRi",
        "outputId": "1df1a787-91d8-46d1-a771-98771b3aae31",
        "colab": {
          "base_uri": "https://localhost:8080/",
          "height": 204
        }
      },
      "source": [
        "# Insira a resposta abaixo.\n",
        "df = df.sort_values(['Income'])\n",
        "df = df.reset_index().drop(['index'],axis=1)\n",
        "df.head()"
      ],
      "execution_count": null,
      "outputs": [
        {
          "output_type": "execute_result",
          "data": {
            "text/html": [
              "<div>\n",
              "<style scoped>\n",
              "    .dataframe tbody tr th:only-of-type {\n",
              "        vertical-align: middle;\n",
              "    }\n",
              "\n",
              "    .dataframe tbody tr th {\n",
              "        vertical-align: top;\n",
              "    }\n",
              "\n",
              "    .dataframe thead th {\n",
              "        text-align: right;\n",
              "    }\n",
              "</style>\n",
              "<table border=\"1\" class=\"dataframe\">\n",
              "  <thead>\n",
              "    <tr style=\"text-align: right;\">\n",
              "      <th></th>\n",
              "      <th>Number</th>\n",
              "      <th>City</th>\n",
              "      <th>Gender</th>\n",
              "      <th>Age</th>\n",
              "      <th>Income</th>\n",
              "      <th>Illness</th>\n",
              "    </tr>\n",
              "  </thead>\n",
              "  <tbody>\n",
              "    <tr>\n",
              "      <th>0</th>\n",
              "      <td>246</td>\n",
              "      <td>Dallas</td>\n",
              "      <td>Female</td>\n",
              "      <td>40</td>\n",
              "      <td>-654.0</td>\n",
              "      <td>Yes</td>\n",
              "    </tr>\n",
              "    <tr>\n",
              "      <th>1</th>\n",
              "      <td>7897</td>\n",
              "      <td>Dallas</td>\n",
              "      <td>Female</td>\n",
              "      <td>34</td>\n",
              "      <td>584.0</td>\n",
              "      <td>No</td>\n",
              "    </tr>\n",
              "    <tr>\n",
              "      <th>2</th>\n",
              "      <td>18485</td>\n",
              "      <td>Dallas</td>\n",
              "      <td>Female</td>\n",
              "      <td>43</td>\n",
              "      <td>2474.0</td>\n",
              "      <td>No</td>\n",
              "    </tr>\n",
              "    <tr>\n",
              "      <th>3</th>\n",
              "      <td>9299</td>\n",
              "      <td>Dallas</td>\n",
              "      <td>Female</td>\n",
              "      <td>31</td>\n",
              "      <td>2667.0</td>\n",
              "      <td>Yes</td>\n",
              "    </tr>\n",
              "    <tr>\n",
              "      <th>4</th>\n",
              "      <td>17136</td>\n",
              "      <td>Dallas</td>\n",
              "      <td>Female</td>\n",
              "      <td>39</td>\n",
              "      <td>3842.0</td>\n",
              "      <td>No</td>\n",
              "    </tr>\n",
              "  </tbody>\n",
              "</table>\n",
              "</div>"
            ],
            "text/plain": [
              "   Number    City  Gender  Age  Income Illness\n",
              "0     246  Dallas  Female   40  -654.0     Yes\n",
              "1    7897  Dallas  Female   34   584.0      No\n",
              "2   18485  Dallas  Female   43  2474.0      No\n",
              "3    9299  Dallas  Female   31  2667.0     Yes\n",
              "4   17136  Dallas  Female   39  3842.0      No"
            ]
          },
          "metadata": {
            "tags": []
          },
          "execution_count": 56
        }
      ]
    },
    {
      "cell_type": "markdown",
      "metadata": {
        "id": "djZG9RbF-83m"
      },
      "source": [
        "**21 - Defina a coluna 'Number' como o índice do dataframe. Em seguida, exiba do segundo até o quinto registro a partir do posicionamento.**"
      ]
    },
    {
      "cell_type": "code",
      "metadata": {
        "id": "542ZgC-i-89B",
        "outputId": "f3429e69-0108-4ba9-bbb4-287a437351bb",
        "colab": {
          "base_uri": "https://localhost:8080/",
          "height": 204
        }
      },
      "source": [
        "# Insira a resposta abaixo.\n",
        "df = df.set_index(['Number'])\n",
        "df.iloc[1:5,:]"
      ],
      "execution_count": 6,
      "outputs": [
        {
          "output_type": "execute_result",
          "data": {
            "text/html": [
              "<div>\n",
              "<style scoped>\n",
              "    .dataframe tbody tr th:only-of-type {\n",
              "        vertical-align: middle;\n",
              "    }\n",
              "\n",
              "    .dataframe tbody tr th {\n",
              "        vertical-align: top;\n",
              "    }\n",
              "\n",
              "    .dataframe thead th {\n",
              "        text-align: right;\n",
              "    }\n",
              "</style>\n",
              "<table border=\"1\" class=\"dataframe\">\n",
              "  <thead>\n",
              "    <tr style=\"text-align: right;\">\n",
              "      <th></th>\n",
              "      <th>City</th>\n",
              "      <th>Gender</th>\n",
              "      <th>Age</th>\n",
              "      <th>Income</th>\n",
              "      <th>Illness</th>\n",
              "    </tr>\n",
              "    <tr>\n",
              "      <th>Number</th>\n",
              "      <th></th>\n",
              "      <th></th>\n",
              "      <th></th>\n",
              "      <th></th>\n",
              "      <th></th>\n",
              "    </tr>\n",
              "  </thead>\n",
              "  <tbody>\n",
              "    <tr>\n",
              "      <th>2</th>\n",
              "      <td>Dallas</td>\n",
              "      <td>Male</td>\n",
              "      <td>54</td>\n",
              "      <td>45084.0</td>\n",
              "      <td>No</td>\n",
              "    </tr>\n",
              "    <tr>\n",
              "      <th>3</th>\n",
              "      <td>Dallas</td>\n",
              "      <td>Male</td>\n",
              "      <td>42</td>\n",
              "      <td>52483.0</td>\n",
              "      <td>No</td>\n",
              "    </tr>\n",
              "    <tr>\n",
              "      <th>4</th>\n",
              "      <td>Dallas</td>\n",
              "      <td>Male</td>\n",
              "      <td>40</td>\n",
              "      <td>40941.0</td>\n",
              "      <td>No</td>\n",
              "    </tr>\n",
              "    <tr>\n",
              "      <th>5</th>\n",
              "      <td>Dallas</td>\n",
              "      <td>Male</td>\n",
              "      <td>46</td>\n",
              "      <td>50289.0</td>\n",
              "      <td>No</td>\n",
              "    </tr>\n",
              "  </tbody>\n",
              "</table>\n",
              "</div>"
            ],
            "text/plain": [
              "          City Gender  Age   Income Illness\n",
              "Number                                     \n",
              "2       Dallas   Male   54  45084.0      No\n",
              "3       Dallas   Male   42  52483.0      No\n",
              "4       Dallas   Male   40  40941.0      No\n",
              "5       Dallas   Male   46  50289.0      No"
            ]
          },
          "metadata": {
            "tags": []
          },
          "execution_count": 6
        }
      ]
    },
    {
      "cell_type": "markdown",
      "metadata": {
        "id": "kY8O4jyXiup0"
      },
      "source": [
        "22 - Desta vez, exiba os registros com Number variando de 2 até 5 a partir do próprio rótulo Number."
      ]
    },
    {
      "cell_type": "code",
      "metadata": {
        "id": "PyivKqYeiuii",
        "outputId": "6ef4310d-2d18-4f7c-d535-0d41397691e0",
        "colab": {
          "base_uri": "https://localhost:8080/",
          "height": 204
        }
      },
      "source": [
        "# Insira a resposta abaixo.\n",
        "df.loc[2:5,:]"
      ],
      "execution_count": 7,
      "outputs": [
        {
          "output_type": "execute_result",
          "data": {
            "text/html": [
              "<div>\n",
              "<style scoped>\n",
              "    .dataframe tbody tr th:only-of-type {\n",
              "        vertical-align: middle;\n",
              "    }\n",
              "\n",
              "    .dataframe tbody tr th {\n",
              "        vertical-align: top;\n",
              "    }\n",
              "\n",
              "    .dataframe thead th {\n",
              "        text-align: right;\n",
              "    }\n",
              "</style>\n",
              "<table border=\"1\" class=\"dataframe\">\n",
              "  <thead>\n",
              "    <tr style=\"text-align: right;\">\n",
              "      <th></th>\n",
              "      <th>City</th>\n",
              "      <th>Gender</th>\n",
              "      <th>Age</th>\n",
              "      <th>Income</th>\n",
              "      <th>Illness</th>\n",
              "    </tr>\n",
              "    <tr>\n",
              "      <th>Number</th>\n",
              "      <th></th>\n",
              "      <th></th>\n",
              "      <th></th>\n",
              "      <th></th>\n",
              "      <th></th>\n",
              "    </tr>\n",
              "  </thead>\n",
              "  <tbody>\n",
              "    <tr>\n",
              "      <th>2</th>\n",
              "      <td>Dallas</td>\n",
              "      <td>Male</td>\n",
              "      <td>54</td>\n",
              "      <td>45084.0</td>\n",
              "      <td>No</td>\n",
              "    </tr>\n",
              "    <tr>\n",
              "      <th>3</th>\n",
              "      <td>Dallas</td>\n",
              "      <td>Male</td>\n",
              "      <td>42</td>\n",
              "      <td>52483.0</td>\n",
              "      <td>No</td>\n",
              "    </tr>\n",
              "    <tr>\n",
              "      <th>4</th>\n",
              "      <td>Dallas</td>\n",
              "      <td>Male</td>\n",
              "      <td>40</td>\n",
              "      <td>40941.0</td>\n",
              "      <td>No</td>\n",
              "    </tr>\n",
              "    <tr>\n",
              "      <th>5</th>\n",
              "      <td>Dallas</td>\n",
              "      <td>Male</td>\n",
              "      <td>46</td>\n",
              "      <td>50289.0</td>\n",
              "      <td>No</td>\n",
              "    </tr>\n",
              "  </tbody>\n",
              "</table>\n",
              "</div>"
            ],
            "text/plain": [
              "          City Gender  Age   Income Illness\n",
              "Number                                     \n",
              "2       Dallas   Male   54  45084.0      No\n",
              "3       Dallas   Male   42  52483.0      No\n",
              "4       Dallas   Male   40  40941.0      No\n",
              "5       Dallas   Male   46  50289.0      No"
            ]
          },
          "metadata": {
            "tags": []
          },
          "execution_count": 7
        }
      ]
    },
    {
      "cell_type": "markdown",
      "metadata": {
        "id": "_85K8jGwILdr"
      },
      "source": [
        "23 - Qual a cidade e o gênero da pessoa com a maior renda (Income)?"
      ]
    },
    {
      "cell_type": "code",
      "metadata": {
        "id": "V0Zk-WpiILlg",
        "outputId": "ada58e19-8dc9-4857-915e-fb82fada0ff8",
        "colab": {
          "base_uri": "https://localhost:8080/",
          "height": 68
        }
      },
      "source": [
        "# Insira a resposta abaixo.\n",
        "df.iloc[-1,0:2]"
      ],
      "execution_count": null,
      "outputs": [
        {
          "output_type": "execute_result",
          "data": {
            "text/plain": [
              "City      Mountain View\n",
              "Gender             Male\n",
              "Name: 109351, dtype: object"
            ]
          },
          "metadata": {
            "tags": []
          },
          "execution_count": 70
        }
      ]
    },
    {
      "cell_type": "markdown",
      "metadata": {
        "id": "JQLxC3FZYClW"
      },
      "source": [
        "24 - Quantas pessoas moram na cidade de Dallas? "
      ]
    },
    {
      "cell_type": "code",
      "metadata": {
        "id": "L0XPIO7-YCqh",
        "outputId": "288573fd-92f6-401c-f7a9-c67fd41d9d34",
        "colab": {
          "base_uri": "https://localhost:8080/",
          "height": 34
        }
      },
      "source": [
        "# Insira a resposta abaixo.\n",
        "df.City.value_counts()['Dallas']"
      ],
      "execution_count": 13,
      "outputs": [
        {
          "output_type": "execute_result",
          "data": {
            "text/plain": [
              "19707"
            ]
          },
          "metadata": {
            "tags": []
          },
          "execution_count": 13
        }
      ]
    },
    {
      "cell_type": "markdown",
      "metadata": {
        "id": "Yk1cNzuaYCwe"
      },
      "source": [
        "25 - Qual a idade média das pessoas que estão doentes? Utilize o atributo Illness para obter essa informação."
      ]
    },
    {
      "cell_type": "code",
      "metadata": {
        "id": "ITImJ5jkYC1K",
        "outputId": "5b07bc91-f100-41d4-8d84-1278e69bb289",
        "colab": {
          "base_uri": "https://localhost:8080/",
          "height": 34
        }
      },
      "source": [
        "# Insira a resposta abaixo.\n",
        "df[(df['Illness']=='Yes')].Age.mean()"
      ],
      "execution_count": null,
      "outputs": [
        {
          "output_type": "execute_result",
          "data": {
            "text/plain": [
              "45.02084191449048"
            ]
          },
          "metadata": {
            "tags": []
          },
          "execution_count": 79
        }
      ]
    },
    {
      "cell_type": "markdown",
      "metadata": {
        "id": "lic0gp9Pf4WP"
      },
      "source": [
        "26 - Quantas pessoas tem um salário anual maior que R$ 30000?"
      ]
    },
    {
      "cell_type": "code",
      "metadata": {
        "id": "TLG5DAxAf4c8",
        "outputId": "d71aff83-715a-41f0-b35a-eb591f163612",
        "colab": {
          "base_uri": "https://localhost:8080/",
          "height": 34
        }
      },
      "source": [
        "# Insira a resposta abaixo.\n",
        "df[(df.Income>30000)].Income.count()"
      ],
      "execution_count": null,
      "outputs": [
        {
          "output_type": "execute_result",
          "data": {
            "text/plain": [
              "148218"
            ]
          },
          "metadata": {
            "tags": []
          },
          "execution_count": 83
        }
      ]
    },
    {
      "cell_type": "markdown",
      "metadata": {
        "id": "xYirQSRegB3r"
      },
      "source": [
        "27 - Quantas pessoas estão doentes?"
      ]
    },
    {
      "cell_type": "code",
      "metadata": {
        "id": "yD9reWNbgB88",
        "outputId": "7037fa23-1a50-4dad-e7d7-aecf10a1ef18",
        "colab": {
          "base_uri": "https://localhost:8080/",
          "height": 34
        }
      },
      "source": [
        "# Insira a resposta abaixo.\n",
        "df[(df.Illness=='Yes')].Illness.count()"
      ],
      "execution_count": null,
      "outputs": [
        {
          "output_type": "execute_result",
          "data": {
            "text/plain": [
              "12139"
            ]
          },
          "metadata": {
            "tags": []
          },
          "execution_count": 85
        }
      ]
    },
    {
      "cell_type": "markdown",
      "metadata": {
        "id": "swh6nAWH6pAa"
      },
      "source": [
        "28 - Quantas pessoas estão doente e apresentam renda (Income) menor que 35000 ou maior que 50000?"
      ]
    },
    {
      "cell_type": "code",
      "metadata": {
        "id": "3dqh-jVH6pL6",
        "outputId": "f2232bea-2c56-4802-d8ad-e3d48e671d3b",
        "colab": {
          "base_uri": "https://localhost:8080/",
          "height": 34
        }
      },
      "source": [
        "# Insira a resposta abaixo.\n",
        "df[(df.Illness=='Yes')&((df.Income<35000)|(df.Income>50000))].Illness.count()"
      ],
      "execution_count": null,
      "outputs": [
        {
          "output_type": "execute_result",
          "data": {
            "text/plain": [
              "11386"
            ]
          },
          "metadata": {
            "tags": []
          },
          "execution_count": 89
        }
      ]
    },
    {
      "cell_type": "markdown",
      "metadata": {
        "id": "gIOB9N0tgNw1"
      },
      "source": [
        "29 - Mostre os registros que apresentam a menor idade encontrada e uma renda entre 40000 e 42000."
      ]
    },
    {
      "cell_type": "code",
      "metadata": {
        "id": "nQ62IHiggPql",
        "outputId": "96aa3ec9-b58e-4cc3-f4f4-37c0c44584b3",
        "colab": {
          "base_uri": "https://localhost:8080/",
          "height": 700
        }
      },
      "source": [
        "# Insira a resposta abaixo.\n",
        "df[((df.Age == df.Age.min()) & (df.Income>40000) & (df.Income<42000))]"
      ],
      "execution_count": null,
      "outputs": [
        {
          "output_type": "execute_result",
          "data": {
            "text/html": [
              "<div>\n",
              "<style scoped>\n",
              "    .dataframe tbody tr th:only-of-type {\n",
              "        vertical-align: middle;\n",
              "    }\n",
              "\n",
              "    .dataframe tbody tr th {\n",
              "        vertical-align: top;\n",
              "    }\n",
              "\n",
              "    .dataframe thead th {\n",
              "        text-align: right;\n",
              "    }\n",
              "</style>\n",
              "<table border=\"1\" class=\"dataframe\">\n",
              "  <thead>\n",
              "    <tr style=\"text-align: right;\">\n",
              "      <th></th>\n",
              "      <th>City</th>\n",
              "      <th>Gender</th>\n",
              "      <th>Age</th>\n",
              "      <th>Income</th>\n",
              "      <th>Illness</th>\n",
              "    </tr>\n",
              "    <tr>\n",
              "      <th>Number</th>\n",
              "      <th></th>\n",
              "      <th></th>\n",
              "      <th></th>\n",
              "      <th></th>\n",
              "      <th></th>\n",
              "    </tr>\n",
              "  </thead>\n",
              "  <tbody>\n",
              "    <tr>\n",
              "      <th>2682</th>\n",
              "      <td>Dallas</td>\n",
              "      <td>Female</td>\n",
              "      <td>25</td>\n",
              "      <td>40075.0</td>\n",
              "      <td>No</td>\n",
              "    </tr>\n",
              "    <tr>\n",
              "      <th>13564</th>\n",
              "      <td>Dallas</td>\n",
              "      <td>Female</td>\n",
              "      <td>25</td>\n",
              "      <td>40076.0</td>\n",
              "      <td>No</td>\n",
              "    </tr>\n",
              "    <tr>\n",
              "      <th>5640</th>\n",
              "      <td>Dallas</td>\n",
              "      <td>Male</td>\n",
              "      <td>25</td>\n",
              "      <td>40313.0</td>\n",
              "      <td>No</td>\n",
              "    </tr>\n",
              "    <tr>\n",
              "      <th>14607</th>\n",
              "      <td>Dallas</td>\n",
              "      <td>Female</td>\n",
              "      <td>25</td>\n",
              "      <td>40363.0</td>\n",
              "      <td>No</td>\n",
              "    </tr>\n",
              "    <tr>\n",
              "      <th>16403</th>\n",
              "      <td>Dallas</td>\n",
              "      <td>Female</td>\n",
              "      <td>25</td>\n",
              "      <td>40389.0</td>\n",
              "      <td>No</td>\n",
              "    </tr>\n",
              "    <tr>\n",
              "      <th>10740</th>\n",
              "      <td>Dallas</td>\n",
              "      <td>Male</td>\n",
              "      <td>25</td>\n",
              "      <td>40467.0</td>\n",
              "      <td>No</td>\n",
              "    </tr>\n",
              "    <tr>\n",
              "      <th>128932</th>\n",
              "      <td>Washington D.C.</td>\n",
              "      <td>Female</td>\n",
              "      <td>25</td>\n",
              "      <td>40476.0</td>\n",
              "      <td>No</td>\n",
              "    </tr>\n",
              "    <tr>\n",
              "      <th>10181</th>\n",
              "      <td>Dallas</td>\n",
              "      <td>Female</td>\n",
              "      <td>25</td>\n",
              "      <td>40761.0</td>\n",
              "      <td>No</td>\n",
              "    </tr>\n",
              "    <tr>\n",
              "      <th>18191</th>\n",
              "      <td>Dallas</td>\n",
              "      <td>Female</td>\n",
              "      <td>25</td>\n",
              "      <td>40795.0</td>\n",
              "      <td>No</td>\n",
              "    </tr>\n",
              "    <tr>\n",
              "      <th>2709</th>\n",
              "      <td>Dallas</td>\n",
              "      <td>Female</td>\n",
              "      <td>25</td>\n",
              "      <td>40899.0</td>\n",
              "      <td>No</td>\n",
              "    </tr>\n",
              "    <tr>\n",
              "      <th>2092</th>\n",
              "      <td>Dallas</td>\n",
              "      <td>Male</td>\n",
              "      <td>25</td>\n",
              "      <td>41013.0</td>\n",
              "      <td>No</td>\n",
              "    </tr>\n",
              "    <tr>\n",
              "      <th>18503</th>\n",
              "      <td>Dallas</td>\n",
              "      <td>Male</td>\n",
              "      <td>25</td>\n",
              "      <td>41241.0</td>\n",
              "      <td>No</td>\n",
              "    </tr>\n",
              "    <tr>\n",
              "      <th>7675</th>\n",
              "      <td>Dallas</td>\n",
              "      <td>Female</td>\n",
              "      <td>25</td>\n",
              "      <td>41288.0</td>\n",
              "      <td>No</td>\n",
              "    </tr>\n",
              "    <tr>\n",
              "      <th>5280</th>\n",
              "      <td>Dallas</td>\n",
              "      <td>Female</td>\n",
              "      <td>25</td>\n",
              "      <td>41365.0</td>\n",
              "      <td>No</td>\n",
              "    </tr>\n",
              "    <tr>\n",
              "      <th>9956</th>\n",
              "      <td>Dallas</td>\n",
              "      <td>Female</td>\n",
              "      <td>25</td>\n",
              "      <td>41444.0</td>\n",
              "      <td>No</td>\n",
              "    </tr>\n",
              "    <tr>\n",
              "      <th>8653</th>\n",
              "      <td>Dallas</td>\n",
              "      <td>Female</td>\n",
              "      <td>25</td>\n",
              "      <td>41561.0</td>\n",
              "      <td>No</td>\n",
              "    </tr>\n",
              "    <tr>\n",
              "      <th>9776</th>\n",
              "      <td>Dallas</td>\n",
              "      <td>Female</td>\n",
              "      <td>25</td>\n",
              "      <td>41612.0</td>\n",
              "      <td>No</td>\n",
              "    </tr>\n",
              "    <tr>\n",
              "      <th>7931</th>\n",
              "      <td>Dallas</td>\n",
              "      <td>Male</td>\n",
              "      <td>25</td>\n",
              "      <td>41630.0</td>\n",
              "      <td>No</td>\n",
              "    </tr>\n",
              "    <tr>\n",
              "      <th>6964</th>\n",
              "      <td>Dallas</td>\n",
              "      <td>Male</td>\n",
              "      <td>25</td>\n",
              "      <td>41654.0</td>\n",
              "      <td>No</td>\n",
              "    </tr>\n",
              "    <tr>\n",
              "      <th>8765</th>\n",
              "      <td>Dallas</td>\n",
              "      <td>Female</td>\n",
              "      <td>25</td>\n",
              "      <td>41975.0</td>\n",
              "      <td>No</td>\n",
              "    </tr>\n",
              "  </tbody>\n",
              "</table>\n",
              "</div>"
            ],
            "text/plain": [
              "                   City  Gender  Age   Income Illness\n",
              "Number                                               \n",
              "2682             Dallas  Female   25  40075.0      No\n",
              "13564            Dallas  Female   25  40076.0      No\n",
              "5640             Dallas    Male   25  40313.0      No\n",
              "14607            Dallas  Female   25  40363.0      No\n",
              "16403            Dallas  Female   25  40389.0      No\n",
              "10740            Dallas    Male   25  40467.0      No\n",
              "128932  Washington D.C.  Female   25  40476.0      No\n",
              "10181            Dallas  Female   25  40761.0      No\n",
              "18191            Dallas  Female   25  40795.0      No\n",
              "2709             Dallas  Female   25  40899.0      No\n",
              "2092             Dallas    Male   25  41013.0      No\n",
              "18503            Dallas    Male   25  41241.0      No\n",
              "7675             Dallas  Female   25  41288.0      No\n",
              "5280             Dallas  Female   25  41365.0      No\n",
              "9956             Dallas  Female   25  41444.0      No\n",
              "8653             Dallas  Female   25  41561.0      No\n",
              "9776             Dallas  Female   25  41612.0      No\n",
              "7931             Dallas    Male   25  41630.0      No\n",
              "6964             Dallas    Male   25  41654.0      No\n",
              "8765             Dallas  Female   25  41975.0      No"
            ]
          },
          "metadata": {
            "tags": []
          },
          "execution_count": 93
        }
      ]
    },
    {
      "cell_type": "markdown",
      "metadata": {
        "id": "wI7SidOsrZ_x"
      },
      "source": [
        "30 - Mostre os registros referentes a cidade de Dallas que apresentam a maior idade e que estão doentes."
      ]
    },
    {
      "cell_type": "code",
      "metadata": {
        "id": "Mom0InHirZ2m",
        "outputId": "8956a095-e4c0-450e-bb4c-fa216696bdc9",
        "colab": {
          "base_uri": "https://localhost:8080/",
          "height": 700
        }
      },
      "source": [
        "# Insira a resposta abaixo.\n",
        "df[(df.City == 'Dallas')&(df.Age == df.Age.max())&(df.Illness=='Yes')]"
      ],
      "execution_count": null,
      "outputs": [
        {
          "output_type": "execute_result",
          "data": {
            "text/html": [
              "<div>\n",
              "<style scoped>\n",
              "    .dataframe tbody tr th:only-of-type {\n",
              "        vertical-align: middle;\n",
              "    }\n",
              "\n",
              "    .dataframe tbody tr th {\n",
              "        vertical-align: top;\n",
              "    }\n",
              "\n",
              "    .dataframe thead th {\n",
              "        text-align: right;\n",
              "    }\n",
              "</style>\n",
              "<table border=\"1\" class=\"dataframe\">\n",
              "  <thead>\n",
              "    <tr style=\"text-align: right;\">\n",
              "      <th></th>\n",
              "      <th>City</th>\n",
              "      <th>Gender</th>\n",
              "      <th>Age</th>\n",
              "      <th>Income</th>\n",
              "      <th>Illness</th>\n",
              "    </tr>\n",
              "    <tr>\n",
              "      <th>Number</th>\n",
              "      <th></th>\n",
              "      <th></th>\n",
              "      <th></th>\n",
              "      <th></th>\n",
              "      <th></th>\n",
              "    </tr>\n",
              "  </thead>\n",
              "  <tbody>\n",
              "    <tr>\n",
              "      <th>14437</th>\n",
              "      <td>Dallas</td>\n",
              "      <td>Female</td>\n",
              "      <td>65</td>\n",
              "      <td>20732.0</td>\n",
              "      <td>Yes</td>\n",
              "    </tr>\n",
              "    <tr>\n",
              "      <th>17728</th>\n",
              "      <td>Dallas</td>\n",
              "      <td>Female</td>\n",
              "      <td>65</td>\n",
              "      <td>30468.0</td>\n",
              "      <td>Yes</td>\n",
              "    </tr>\n",
              "    <tr>\n",
              "      <th>10518</th>\n",
              "      <td>Dallas</td>\n",
              "      <td>Male</td>\n",
              "      <td>65</td>\n",
              "      <td>32516.0</td>\n",
              "      <td>Yes</td>\n",
              "    </tr>\n",
              "    <tr>\n",
              "      <th>4359</th>\n",
              "      <td>Dallas</td>\n",
              "      <td>Female</td>\n",
              "      <td>65</td>\n",
              "      <td>34712.0</td>\n",
              "      <td>Yes</td>\n",
              "    </tr>\n",
              "    <tr>\n",
              "      <th>14711</th>\n",
              "      <td>Dallas</td>\n",
              "      <td>Female</td>\n",
              "      <td>65</td>\n",
              "      <td>34991.0</td>\n",
              "      <td>Yes</td>\n",
              "    </tr>\n",
              "    <tr>\n",
              "      <th>15663</th>\n",
              "      <td>Dallas</td>\n",
              "      <td>Female</td>\n",
              "      <td>65</td>\n",
              "      <td>35688.0</td>\n",
              "      <td>Yes</td>\n",
              "    </tr>\n",
              "    <tr>\n",
              "      <th>15866</th>\n",
              "      <td>Dallas</td>\n",
              "      <td>Male</td>\n",
              "      <td>65</td>\n",
              "      <td>36590.0</td>\n",
              "      <td>Yes</td>\n",
              "    </tr>\n",
              "    <tr>\n",
              "      <th>1564</th>\n",
              "      <td>Dallas</td>\n",
              "      <td>Female</td>\n",
              "      <td>65</td>\n",
              "      <td>38193.0</td>\n",
              "      <td>Yes</td>\n",
              "    </tr>\n",
              "    <tr>\n",
              "      <th>17788</th>\n",
              "      <td>Dallas</td>\n",
              "      <td>Male</td>\n",
              "      <td>65</td>\n",
              "      <td>40675.0</td>\n",
              "      <td>Yes</td>\n",
              "    </tr>\n",
              "    <tr>\n",
              "      <th>13877</th>\n",
              "      <td>Dallas</td>\n",
              "      <td>Male</td>\n",
              "      <td>65</td>\n",
              "      <td>42107.0</td>\n",
              "      <td>Yes</td>\n",
              "    </tr>\n",
              "    <tr>\n",
              "      <th>6074</th>\n",
              "      <td>Dallas</td>\n",
              "      <td>Female</td>\n",
              "      <td>65</td>\n",
              "      <td>45253.0</td>\n",
              "      <td>Yes</td>\n",
              "    </tr>\n",
              "    <tr>\n",
              "      <th>7587</th>\n",
              "      <td>Dallas</td>\n",
              "      <td>Male</td>\n",
              "      <td>65</td>\n",
              "      <td>45705.0</td>\n",
              "      <td>Yes</td>\n",
              "    </tr>\n",
              "    <tr>\n",
              "      <th>3318</th>\n",
              "      <td>Dallas</td>\n",
              "      <td>Male</td>\n",
              "      <td>65</td>\n",
              "      <td>48022.0</td>\n",
              "      <td>Yes</td>\n",
              "    </tr>\n",
              "    <tr>\n",
              "      <th>11236</th>\n",
              "      <td>Dallas</td>\n",
              "      <td>Female</td>\n",
              "      <td>65</td>\n",
              "      <td>48395.0</td>\n",
              "      <td>Yes</td>\n",
              "    </tr>\n",
              "    <tr>\n",
              "      <th>7284</th>\n",
              "      <td>Dallas</td>\n",
              "      <td>Male</td>\n",
              "      <td>65</td>\n",
              "      <td>54156.0</td>\n",
              "      <td>Yes</td>\n",
              "    </tr>\n",
              "    <tr>\n",
              "      <th>16487</th>\n",
              "      <td>Dallas</td>\n",
              "      <td>Male</td>\n",
              "      <td>65</td>\n",
              "      <td>56236.0</td>\n",
              "      <td>Yes</td>\n",
              "    </tr>\n",
              "    <tr>\n",
              "      <th>18498</th>\n",
              "      <td>Dallas</td>\n",
              "      <td>Female</td>\n",
              "      <td>65</td>\n",
              "      <td>56754.0</td>\n",
              "      <td>Yes</td>\n",
              "    </tr>\n",
              "    <tr>\n",
              "      <th>16224</th>\n",
              "      <td>Dallas</td>\n",
              "      <td>Female</td>\n",
              "      <td>65</td>\n",
              "      <td>56795.0</td>\n",
              "      <td>Yes</td>\n",
              "    </tr>\n",
              "    <tr>\n",
              "      <th>3924</th>\n",
              "      <td>Dallas</td>\n",
              "      <td>Male</td>\n",
              "      <td>65</td>\n",
              "      <td>59748.0</td>\n",
              "      <td>Yes</td>\n",
              "    </tr>\n",
              "    <tr>\n",
              "      <th>2379</th>\n",
              "      <td>Dallas</td>\n",
              "      <td>Male</td>\n",
              "      <td>65</td>\n",
              "      <td>67526.0</td>\n",
              "      <td>Yes</td>\n",
              "    </tr>\n",
              "  </tbody>\n",
              "</table>\n",
              "</div>"
            ],
            "text/plain": [
              "          City  Gender  Age   Income Illness\n",
              "Number                                      \n",
              "14437   Dallas  Female   65  20732.0     Yes\n",
              "17728   Dallas  Female   65  30468.0     Yes\n",
              "10518   Dallas    Male   65  32516.0     Yes\n",
              "4359    Dallas  Female   65  34712.0     Yes\n",
              "14711   Dallas  Female   65  34991.0     Yes\n",
              "15663   Dallas  Female   65  35688.0     Yes\n",
              "15866   Dallas    Male   65  36590.0     Yes\n",
              "1564    Dallas  Female   65  38193.0     Yes\n",
              "17788   Dallas    Male   65  40675.0     Yes\n",
              "13877   Dallas    Male   65  42107.0     Yes\n",
              "6074    Dallas  Female   65  45253.0     Yes\n",
              "7587    Dallas    Male   65  45705.0     Yes\n",
              "3318    Dallas    Male   65  48022.0     Yes\n",
              "11236   Dallas  Female   65  48395.0     Yes\n",
              "7284    Dallas    Male   65  54156.0     Yes\n",
              "16487   Dallas    Male   65  56236.0     Yes\n",
              "18498   Dallas  Female   65  56754.0     Yes\n",
              "16224   Dallas  Female   65  56795.0     Yes\n",
              "3924    Dallas    Male   65  59748.0     Yes\n",
              "2379    Dallas    Male   65  67526.0     Yes"
            ]
          },
          "metadata": {
            "tags": []
          },
          "execution_count": 94
        }
      ]
    },
    {
      "cell_type": "markdown",
      "metadata": {
        "id": "_8ahxtMb4WNr"
      },
      "source": [
        "31 - Obtenha os registros das pessoas que moram na cidade de Austin e que apresentam idade menor que 26 anos. Exiba cinco amostras."
      ]
    },
    {
      "cell_type": "code",
      "metadata": {
        "id": "0FB-wLis4WtL",
        "outputId": "c821ca2c-59ef-4ddc-98e7-b2fc83b35c4c",
        "colab": {
          "base_uri": "https://localhost:8080/",
          "height": 235
        }
      },
      "source": [
        "# Insira a resposta abaixo.\n",
        "df[(df.City == 'Austin')&(df.Age < 26)].head()"
      ],
      "execution_count": null,
      "outputs": [
        {
          "output_type": "execute_result",
          "data": {
            "text/html": [
              "<div>\n",
              "<style scoped>\n",
              "    .dataframe tbody tr th:only-of-type {\n",
              "        vertical-align: middle;\n",
              "    }\n",
              "\n",
              "    .dataframe tbody tr th {\n",
              "        vertical-align: top;\n",
              "    }\n",
              "\n",
              "    .dataframe thead th {\n",
              "        text-align: right;\n",
              "    }\n",
              "</style>\n",
              "<table border=\"1\" class=\"dataframe\">\n",
              "  <thead>\n",
              "    <tr style=\"text-align: right;\">\n",
              "      <th></th>\n",
              "      <th>City</th>\n",
              "      <th>Gender</th>\n",
              "      <th>Age</th>\n",
              "      <th>Income</th>\n",
              "      <th>Illness</th>\n",
              "    </tr>\n",
              "    <tr>\n",
              "      <th>Number</th>\n",
              "      <th></th>\n",
              "      <th></th>\n",
              "      <th></th>\n",
              "      <th></th>\n",
              "      <th></th>\n",
              "    </tr>\n",
              "  </thead>\n",
              "  <tbody>\n",
              "    <tr>\n",
              "      <th>149888</th>\n",
              "      <td>Austin</td>\n",
              "      <td>Female</td>\n",
              "      <td>25</td>\n",
              "      <td>66847.0</td>\n",
              "      <td>No</td>\n",
              "    </tr>\n",
              "    <tr>\n",
              "      <th>144554</th>\n",
              "      <td>Austin</td>\n",
              "      <td>Male</td>\n",
              "      <td>25</td>\n",
              "      <td>67468.0</td>\n",
              "      <td>No</td>\n",
              "    </tr>\n",
              "    <tr>\n",
              "      <th>147407</th>\n",
              "      <td>Austin</td>\n",
              "      <td>Female</td>\n",
              "      <td>25</td>\n",
              "      <td>68183.0</td>\n",
              "      <td>No</td>\n",
              "    </tr>\n",
              "    <tr>\n",
              "      <th>146850</th>\n",
              "      <td>Austin</td>\n",
              "      <td>Female</td>\n",
              "      <td>25</td>\n",
              "      <td>68323.0</td>\n",
              "      <td>No</td>\n",
              "    </tr>\n",
              "    <tr>\n",
              "      <th>149187</th>\n",
              "      <td>Austin</td>\n",
              "      <td>Female</td>\n",
              "      <td>25</td>\n",
              "      <td>69530.0</td>\n",
              "      <td>No</td>\n",
              "    </tr>\n",
              "  </tbody>\n",
              "</table>\n",
              "</div>"
            ],
            "text/plain": [
              "          City  Gender  Age   Income Illness\n",
              "Number                                      \n",
              "149888  Austin  Female   25  66847.0      No\n",
              "144554  Austin    Male   25  67468.0      No\n",
              "147407  Austin  Female   25  68183.0      No\n",
              "146850  Austin  Female   25  68323.0      No\n",
              "149187  Austin  Female   25  69530.0      No"
            ]
          },
          "metadata": {
            "tags": []
          },
          "execution_count": 95
        }
      ]
    },
    {
      "cell_type": "markdown",
      "metadata": {
        "id": "4VCVe3ndUA4K"
      },
      "source": [
        "32 - Exiba as informações estatísticas básicas referentes as colunas do dataframe (média, desvio padrão, valor mínimo, valor máximo, primeiro quartil, segundo quartil, terceiro quartil). Dica: o pandas possui uma função para gerar uma estatística descritiva dos dados."
      ]
    },
    {
      "cell_type": "code",
      "metadata": {
        "id": "wYlaOmisTmRI",
        "outputId": "7114e4b7-f2bc-4210-aa9d-d5debd389fe3",
        "colab": {
          "base_uri": "https://localhost:8080/",
          "height": 297
        }
      },
      "source": [
        "# Insira a resposta abaixo.\n",
        "df.describe()"
      ],
      "execution_count": null,
      "outputs": [
        {
          "output_type": "execute_result",
          "data": {
            "text/html": [
              "<div>\n",
              "<style scoped>\n",
              "    .dataframe tbody tr th:only-of-type {\n",
              "        vertical-align: middle;\n",
              "    }\n",
              "\n",
              "    .dataframe tbody tr th {\n",
              "        vertical-align: top;\n",
              "    }\n",
              "\n",
              "    .dataframe thead th {\n",
              "        text-align: right;\n",
              "    }\n",
              "</style>\n",
              "<table border=\"1\" class=\"dataframe\">\n",
              "  <thead>\n",
              "    <tr style=\"text-align: right;\">\n",
              "      <th></th>\n",
              "      <th>Age</th>\n",
              "      <th>Income</th>\n",
              "    </tr>\n",
              "  </thead>\n",
              "  <tbody>\n",
              "    <tr>\n",
              "      <th>count</th>\n",
              "      <td>150000.000000</td>\n",
              "      <td>150000.000000</td>\n",
              "    </tr>\n",
              "    <tr>\n",
              "      <th>mean</th>\n",
              "      <td>44.950200</td>\n",
              "      <td>91252.798273</td>\n",
              "    </tr>\n",
              "    <tr>\n",
              "      <th>std</th>\n",
              "      <td>11.572486</td>\n",
              "      <td>24989.500948</td>\n",
              "    </tr>\n",
              "    <tr>\n",
              "      <th>min</th>\n",
              "      <td>25.000000</td>\n",
              "      <td>-654.000000</td>\n",
              "    </tr>\n",
              "    <tr>\n",
              "      <th>25%</th>\n",
              "      <td>35.000000</td>\n",
              "      <td>80867.750000</td>\n",
              "    </tr>\n",
              "    <tr>\n",
              "      <th>50%</th>\n",
              "      <td>45.000000</td>\n",
              "      <td>93655.000000</td>\n",
              "    </tr>\n",
              "    <tr>\n",
              "      <th>75%</th>\n",
              "      <td>55.000000</td>\n",
              "      <td>104519.000000</td>\n",
              "    </tr>\n",
              "    <tr>\n",
              "      <th>max</th>\n",
              "      <td>65.000000</td>\n",
              "      <td>177157.000000</td>\n",
              "    </tr>\n",
              "  </tbody>\n",
              "</table>\n",
              "</div>"
            ],
            "text/plain": [
              "                 Age         Income\n",
              "count  150000.000000  150000.000000\n",
              "mean       44.950200   91252.798273\n",
              "std        11.572486   24989.500948\n",
              "min        25.000000    -654.000000\n",
              "25%        35.000000   80867.750000\n",
              "50%        45.000000   93655.000000\n",
              "75%        55.000000  104519.000000\n",
              "max        65.000000  177157.000000"
            ]
          },
          "metadata": {
            "tags": []
          },
          "execution_count": 96
        }
      ]
    },
    {
      "cell_type": "markdown",
      "metadata": {
        "id": "oCz6wcQ-4W2l"
      },
      "source": [
        "33 - Apresenta a quantidade de pessoas doentes por cidade.\n"
      ]
    },
    {
      "cell_type": "code",
      "metadata": {
        "id": "_KU14q1N4W--",
        "outputId": "f7f7addd-4bd0-4844-9866-62558745adbd",
        "colab": {
          "base_uri": "https://localhost:8080/",
          "height": 328
        }
      },
      "source": [
        "# Insira a resposta abaixo.\n",
        "df.groupby('Illness').City.value_counts().to_frame().query(\"Illness == 'Yes'\")"
      ],
      "execution_count": null,
      "outputs": [
        {
          "output_type": "execute_result",
          "data": {
            "text/html": [
              "<div>\n",
              "<style scoped>\n",
              "    .dataframe tbody tr th:only-of-type {\n",
              "        vertical-align: middle;\n",
              "    }\n",
              "\n",
              "    .dataframe tbody tr th {\n",
              "        vertical-align: top;\n",
              "    }\n",
              "\n",
              "    .dataframe thead th {\n",
              "        text-align: right;\n",
              "    }\n",
              "</style>\n",
              "<table border=\"1\" class=\"dataframe\">\n",
              "  <thead>\n",
              "    <tr style=\"text-align: right;\">\n",
              "      <th></th>\n",
              "      <th></th>\n",
              "      <th>City</th>\n",
              "    </tr>\n",
              "    <tr>\n",
              "      <th>Illness</th>\n",
              "      <th>City</th>\n",
              "      <th></th>\n",
              "    </tr>\n",
              "  </thead>\n",
              "  <tbody>\n",
              "    <tr>\n",
              "      <th rowspan=\"8\" valign=\"top\">Yes</th>\n",
              "      <th>New York City</th>\n",
              "      <td>4021</td>\n",
              "    </tr>\n",
              "    <tr>\n",
              "      <th>Los Angeles</th>\n",
              "      <td>2568</td>\n",
              "    </tr>\n",
              "    <tr>\n",
              "      <th>Dallas</th>\n",
              "      <td>1613</td>\n",
              "    </tr>\n",
              "    <tr>\n",
              "      <th>Mountain View</th>\n",
              "      <td>1178</td>\n",
              "    </tr>\n",
              "    <tr>\n",
              "      <th>Austin</th>\n",
              "      <td>1011</td>\n",
              "    </tr>\n",
              "    <tr>\n",
              "      <th>Boston</th>\n",
              "      <td>686</td>\n",
              "    </tr>\n",
              "    <tr>\n",
              "      <th>Washington D.C.</th>\n",
              "      <td>668</td>\n",
              "    </tr>\n",
              "    <tr>\n",
              "      <th>San Diego</th>\n",
              "      <td>394</td>\n",
              "    </tr>\n",
              "  </tbody>\n",
              "</table>\n",
              "</div>"
            ],
            "text/plain": [
              "                         City\n",
              "Illness City                 \n",
              "Yes     New York City    4021\n",
              "        Los Angeles      2568\n",
              "        Dallas           1613\n",
              "        Mountain View    1178\n",
              "        Austin           1011\n",
              "        Boston            686\n",
              "        Washington D.C.   668\n",
              "        San Diego         394"
            ]
          },
          "metadata": {
            "tags": []
          },
          "execution_count": 134
        }
      ]
    },
    {
      "cell_type": "markdown",
      "metadata": {
        "id": "l2N5oOm_1X84"
      },
      "source": [
        "34 - Armazene em uma nova variável o agrupamento dos dados do dataframe usado anteriormente tomando como critério o gênero e a cidade, nessa exata ordem. Utilize a média como função de agregação e exiba somente a idade e salário anual."
      ]
    },
    {
      "cell_type": "code",
      "metadata": {
        "id": "6hrWIFehY3OR",
        "outputId": "62bb323a-8411-49c2-f1f2-256d18970be2",
        "colab": {
          "base_uri": "https://localhost:8080/",
          "height": 576
        }
      },
      "source": [
        "# Insira a resposta abaixo.\n",
        "df1 = df.groupby(['Gender','City']).mean()\n",
        "df1"
      ],
      "execution_count": null,
      "outputs": [
        {
          "output_type": "execute_result",
          "data": {
            "text/html": [
              "<div>\n",
              "<style scoped>\n",
              "    .dataframe tbody tr th:only-of-type {\n",
              "        vertical-align: middle;\n",
              "    }\n",
              "\n",
              "    .dataframe tbody tr th {\n",
              "        vertical-align: top;\n",
              "    }\n",
              "\n",
              "    .dataframe thead th {\n",
              "        text-align: right;\n",
              "    }\n",
              "</style>\n",
              "<table border=\"1\" class=\"dataframe\">\n",
              "  <thead>\n",
              "    <tr style=\"text-align: right;\">\n",
              "      <th></th>\n",
              "      <th></th>\n",
              "      <th>Age</th>\n",
              "      <th>Income</th>\n",
              "    </tr>\n",
              "    <tr>\n",
              "      <th>Gender</th>\n",
              "      <th>City</th>\n",
              "      <th></th>\n",
              "      <th></th>\n",
              "    </tr>\n",
              "  </thead>\n",
              "  <tbody>\n",
              "    <tr>\n",
              "      <th rowspan=\"8\" valign=\"top\">Female</th>\n",
              "      <th>Austin</th>\n",
              "      <td>44.505478</td>\n",
              "      <td>84958.760631</td>\n",
              "    </tr>\n",
              "    <tr>\n",
              "      <th>Boston</th>\n",
              "      <td>45.219112</td>\n",
              "      <td>85978.442530</td>\n",
              "    </tr>\n",
              "    <tr>\n",
              "      <th>Dallas</th>\n",
              "      <td>45.141987</td>\n",
              "      <td>39602.533142</td>\n",
              "    </tr>\n",
              "    <tr>\n",
              "      <th>Los Angeles</th>\n",
              "      <td>44.963668</td>\n",
              "      <td>89732.511306</td>\n",
              "    </tr>\n",
              "    <tr>\n",
              "      <th>Mountain View</th>\n",
              "      <td>45.011791</td>\n",
              "      <td>129476.667463</td>\n",
              "    </tr>\n",
              "    <tr>\n",
              "      <th>New York City</th>\n",
              "      <td>45.037976</td>\n",
              "      <td>91171.135035</td>\n",
              "    </tr>\n",
              "    <tr>\n",
              "      <th>San Diego</th>\n",
              "      <td>45.093422</td>\n",
              "      <td>95313.831745</td>\n",
              "    </tr>\n",
              "    <tr>\n",
              "      <th>Washington D.C.</th>\n",
              "      <td>44.964085</td>\n",
              "      <td>65449.164141</td>\n",
              "    </tr>\n",
              "    <tr>\n",
              "      <th rowspan=\"8\" valign=\"top\">Male</th>\n",
              "      <th>Austin</th>\n",
              "      <td>44.764876</td>\n",
              "      <td>94424.246272</td>\n",
              "    </tr>\n",
              "    <tr>\n",
              "      <th>Boston</th>\n",
              "      <td>45.180549</td>\n",
              "      <td>96071.649368</td>\n",
              "    </tr>\n",
              "    <tr>\n",
              "      <th>Dallas</th>\n",
              "      <td>44.992910</td>\n",
              "      <td>49722.384021</td>\n",
              "    </tr>\n",
              "    <tr>\n",
              "      <th>Los Angeles</th>\n",
              "      <td>45.018392</td>\n",
              "      <td>99681.616055</td>\n",
              "    </tr>\n",
              "    <tr>\n",
              "      <th>Mountain View</th>\n",
              "      <td>44.977716</td>\n",
              "      <td>139504.523354</td>\n",
              "    </tr>\n",
              "    <tr>\n",
              "      <th>New York City</th>\n",
              "      <td>44.830816</td>\n",
              "      <td>101338.023920</td>\n",
              "    </tr>\n",
              "    <tr>\n",
              "      <th>San Diego</th>\n",
              "      <td>44.868487</td>\n",
              "      <td>104859.014732</td>\n",
              "    </tr>\n",
              "    <tr>\n",
              "      <th>Washington D.C.</th>\n",
              "      <td>44.676471</td>\n",
              "      <td>75327.277217</td>\n",
              "    </tr>\n",
              "  </tbody>\n",
              "</table>\n",
              "</div>"
            ],
            "text/plain": [
              "                              Age         Income\n",
              "Gender City                                     \n",
              "Female Austin           44.505478   84958.760631\n",
              "       Boston           45.219112   85978.442530\n",
              "       Dallas           45.141987   39602.533142\n",
              "       Los Angeles      44.963668   89732.511306\n",
              "       Mountain View    45.011791  129476.667463\n",
              "       New York City    45.037976   91171.135035\n",
              "       San Diego        45.093422   95313.831745\n",
              "       Washington D.C.  44.964085   65449.164141\n",
              "Male   Austin           44.764876   94424.246272\n",
              "       Boston           45.180549   96071.649368\n",
              "       Dallas           44.992910   49722.384021\n",
              "       Los Angeles      45.018392   99681.616055\n",
              "       Mountain View    44.977716  139504.523354\n",
              "       New York City    44.830816  101338.023920\n",
              "       San Diego        44.868487  104859.014732\n",
              "       Washington D.C.  44.676471   75327.277217"
            ]
          },
          "metadata": {
            "tags": []
          },
          "execution_count": 91
        }
      ]
    },
    {
      "cell_type": "markdown",
      "metadata": {
        "id": "GKS0nH_l03cQ"
      },
      "source": [
        "35 - Exiba o index do dataframe oriundo do agrupamento realizado na questão anterior."
      ]
    },
    {
      "cell_type": "code",
      "metadata": {
        "id": "5hHCYz-a03i2",
        "outputId": "b9e1886d-3d2e-4080-8526-5160a7b94e70",
        "colab": {
          "base_uri": "https://localhost:8080/",
          "height": 306
        }
      },
      "source": [
        "# Insira a resposta abaixo.\n",
        "df1.index"
      ],
      "execution_count": null,
      "outputs": [
        {
          "output_type": "execute_result",
          "data": {
            "text/plain": [
              "MultiIndex([('Female',          'Austin'),\n",
              "            ('Female',          'Boston'),\n",
              "            ('Female',          'Dallas'),\n",
              "            ('Female',     'Los Angeles'),\n",
              "            ('Female',   'Mountain View'),\n",
              "            ('Female',   'New York City'),\n",
              "            ('Female',       'San Diego'),\n",
              "            ('Female', 'Washington D.C.'),\n",
              "            (  'Male',          'Austin'),\n",
              "            (  'Male',          'Boston'),\n",
              "            (  'Male',          'Dallas'),\n",
              "            (  'Male',     'Los Angeles'),\n",
              "            (  'Male',   'Mountain View'),\n",
              "            (  'Male',   'New York City'),\n",
              "            (  'Male',       'San Diego'),\n",
              "            (  'Male', 'Washington D.C.')],\n",
              "           names=['Gender', 'City'])"
            ]
          },
          "metadata": {
            "tags": []
          },
          "execution_count": 92
        }
      ]
    },
    {
      "cell_type": "markdown",
      "metadata": {
        "id": "VptQzCfU2TpT"
      },
      "source": [
        "36 - Como visto na questão anterior, o agrupamento gerou um dataframe com índice multinível. Acesse os dados referentes ao gênero feminino."
      ]
    },
    {
      "cell_type": "code",
      "metadata": {
        "id": "4lV3cMJ72Tuq",
        "outputId": "5caf84df-4f38-4752-972e-0dd327a6b927",
        "colab": {
          "base_uri": "https://localhost:8080/",
          "height": 328
        }
      },
      "source": [
        "# Insira a resposta abaixo.\n",
        "df.groupby(['Gender','City']).mean().loc['Female',:]\n"
      ],
      "execution_count": null,
      "outputs": [
        {
          "output_type": "execute_result",
          "data": {
            "text/html": [
              "<div>\n",
              "<style scoped>\n",
              "    .dataframe tbody tr th:only-of-type {\n",
              "        vertical-align: middle;\n",
              "    }\n",
              "\n",
              "    .dataframe tbody tr th {\n",
              "        vertical-align: top;\n",
              "    }\n",
              "\n",
              "    .dataframe thead th {\n",
              "        text-align: right;\n",
              "    }\n",
              "</style>\n",
              "<table border=\"1\" class=\"dataframe\">\n",
              "  <thead>\n",
              "    <tr style=\"text-align: right;\">\n",
              "      <th></th>\n",
              "      <th>Age</th>\n",
              "      <th>Income</th>\n",
              "    </tr>\n",
              "    <tr>\n",
              "      <th>City</th>\n",
              "      <th></th>\n",
              "      <th></th>\n",
              "    </tr>\n",
              "  </thead>\n",
              "  <tbody>\n",
              "    <tr>\n",
              "      <th>Austin</th>\n",
              "      <td>44.505478</td>\n",
              "      <td>84958.760631</td>\n",
              "    </tr>\n",
              "    <tr>\n",
              "      <th>Boston</th>\n",
              "      <td>45.219112</td>\n",
              "      <td>85978.442530</td>\n",
              "    </tr>\n",
              "    <tr>\n",
              "      <th>Dallas</th>\n",
              "      <td>45.141987</td>\n",
              "      <td>39602.533142</td>\n",
              "    </tr>\n",
              "    <tr>\n",
              "      <th>Los Angeles</th>\n",
              "      <td>44.963668</td>\n",
              "      <td>89732.511306</td>\n",
              "    </tr>\n",
              "    <tr>\n",
              "      <th>Mountain View</th>\n",
              "      <td>45.011791</td>\n",
              "      <td>129476.667463</td>\n",
              "    </tr>\n",
              "    <tr>\n",
              "      <th>New York City</th>\n",
              "      <td>45.037976</td>\n",
              "      <td>91171.135035</td>\n",
              "    </tr>\n",
              "    <tr>\n",
              "      <th>San Diego</th>\n",
              "      <td>45.093422</td>\n",
              "      <td>95313.831745</td>\n",
              "    </tr>\n",
              "    <tr>\n",
              "      <th>Washington D.C.</th>\n",
              "      <td>44.964085</td>\n",
              "      <td>65449.164141</td>\n",
              "    </tr>\n",
              "  </tbody>\n",
              "</table>\n",
              "</div>"
            ],
            "text/plain": [
              "                       Age         Income\n",
              "City                                     \n",
              "Austin           44.505478   84958.760631\n",
              "Boston           45.219112   85978.442530\n",
              "Dallas           45.141987   39602.533142\n",
              "Los Angeles      44.963668   89732.511306\n",
              "Mountain View    45.011791  129476.667463\n",
              "New York City    45.037976   91171.135035\n",
              "San Diego        45.093422   95313.831745\n",
              "Washington D.C.  44.964085   65449.164141"
            ]
          },
          "metadata": {
            "tags": []
          },
          "execution_count": 110
        }
      ]
    },
    {
      "cell_type": "markdown",
      "metadata": {
        "id": "Fr0Qby7v3bql"
      },
      "source": [
        "37 - Desta vez, liste os dados indexando diretamente pela cidade de Boston. Assim, deve ser exibida a idade média e o salário anual médio para ambos os gêneros."
      ]
    },
    {
      "cell_type": "code",
      "metadata": {
        "id": "4U56iFlV3bya",
        "outputId": "c72ff7ad-8464-4f50-aa29-03f64c1f9c35",
        "colab": {
          "base_uri": "https://localhost:8080/",
          "height": 142
        }
      },
      "source": [
        "# Insira a resposta abaixo.\n",
        "df.groupby(['City','Gender']).mean().loc['Boston',:]"
      ],
      "execution_count": null,
      "outputs": [
        {
          "output_type": "execute_result",
          "data": {
            "text/html": [
              "<div>\n",
              "<style scoped>\n",
              "    .dataframe tbody tr th:only-of-type {\n",
              "        vertical-align: middle;\n",
              "    }\n",
              "\n",
              "    .dataframe tbody tr th {\n",
              "        vertical-align: top;\n",
              "    }\n",
              "\n",
              "    .dataframe thead th {\n",
              "        text-align: right;\n",
              "    }\n",
              "</style>\n",
              "<table border=\"1\" class=\"dataframe\">\n",
              "  <thead>\n",
              "    <tr style=\"text-align: right;\">\n",
              "      <th></th>\n",
              "      <th>Age</th>\n",
              "      <th>Income</th>\n",
              "    </tr>\n",
              "    <tr>\n",
              "      <th>Gender</th>\n",
              "      <th></th>\n",
              "      <th></th>\n",
              "    </tr>\n",
              "  </thead>\n",
              "  <tbody>\n",
              "    <tr>\n",
              "      <th>Female</th>\n",
              "      <td>45.219112</td>\n",
              "      <td>85978.442530</td>\n",
              "    </tr>\n",
              "    <tr>\n",
              "      <th>Male</th>\n",
              "      <td>45.180549</td>\n",
              "      <td>96071.649368</td>\n",
              "    </tr>\n",
              "  </tbody>\n",
              "</table>\n",
              "</div>"
            ],
            "text/plain": [
              "              Age        Income\n",
              "Gender                         \n",
              "Female  45.219112  85978.442530\n",
              "Male    45.180549  96071.649368"
            ]
          },
          "metadata": {
            "tags": []
          },
          "execution_count": 111
        }
      ]
    },
    {
      "cell_type": "markdown",
      "metadata": {
        "id": "Tn3yMqyk8TD_"
      },
      "source": [
        "38 - Crie duas novas séries compostas de números aleatórios oriundos de uma distribuição normal. As séries devem ter o mesmo número de elementos que o dataframe, utilize como base os índices do dataframe criado anteriormente para construir as séries. Em seguida, concatene as duas séries horizontalmente e defina os títulos das colunas como 'Random 1' e 'Random 2'. Finalmente, concatene horizontalmente o resultado anterior com o dataframe imediatamente anterior aos agrupamentos realizados nas questões anteriores. Dica: lembre-se que o índice Number inicia em 1 quando for criar as séries de números aleatórios."
      ]
    },
    {
      "cell_type": "code",
      "metadata": {
        "id": "Kyeeqw5v8TK7",
        "outputId": "1da5ce39-9aa5-4f2a-a1f1-38890fba61ca",
        "colab": {
          "base_uri": "https://localhost:8080/",
          "height": 450
        }
      },
      "source": [
        "# Insira a resposta abaixo.\n",
        "rand1 = pd.Series(data = np.random.randn(len(df)), name='Random1')\n",
        "rand1.index +=1\n",
        "rand2 = pd.Series(data = np.random.randn(len(df)), name='Random2')\n",
        "rand2.index +=1\n",
        "\n",
        "dfr = pd.concat([rand1, rand2],axis=1)\n",
        "\n",
        "df2 = df.join(dfr)\n",
        "df2"
      ],
      "execution_count": null,
      "outputs": [
        {
          "output_type": "execute_result",
          "data": {
            "text/html": [
              "<div>\n",
              "<style scoped>\n",
              "    .dataframe tbody tr th:only-of-type {\n",
              "        vertical-align: middle;\n",
              "    }\n",
              "\n",
              "    .dataframe tbody tr th {\n",
              "        vertical-align: top;\n",
              "    }\n",
              "\n",
              "    .dataframe thead th {\n",
              "        text-align: right;\n",
              "    }\n",
              "</style>\n",
              "<table border=\"1\" class=\"dataframe\">\n",
              "  <thead>\n",
              "    <tr style=\"text-align: right;\">\n",
              "      <th></th>\n",
              "      <th>City</th>\n",
              "      <th>Gender</th>\n",
              "      <th>Age</th>\n",
              "      <th>Income</th>\n",
              "      <th>Illness</th>\n",
              "      <th>Random1</th>\n",
              "      <th>Random2</th>\n",
              "    </tr>\n",
              "    <tr>\n",
              "      <th>Number</th>\n",
              "      <th></th>\n",
              "      <th></th>\n",
              "      <th></th>\n",
              "      <th></th>\n",
              "      <th></th>\n",
              "      <th></th>\n",
              "      <th></th>\n",
              "    </tr>\n",
              "  </thead>\n",
              "  <tbody>\n",
              "    <tr>\n",
              "      <th>1</th>\n",
              "      <td>Dallas</td>\n",
              "      <td>Male</td>\n",
              "      <td>41</td>\n",
              "      <td>40367.0</td>\n",
              "      <td>No</td>\n",
              "      <td>-1.057720</td>\n",
              "      <td>-0.138124</td>\n",
              "    </tr>\n",
              "    <tr>\n",
              "      <th>2</th>\n",
              "      <td>Dallas</td>\n",
              "      <td>Male</td>\n",
              "      <td>54</td>\n",
              "      <td>45084.0</td>\n",
              "      <td>No</td>\n",
              "      <td>-0.606215</td>\n",
              "      <td>0.047433</td>\n",
              "    </tr>\n",
              "    <tr>\n",
              "      <th>3</th>\n",
              "      <td>Dallas</td>\n",
              "      <td>Male</td>\n",
              "      <td>42</td>\n",
              "      <td>52483.0</td>\n",
              "      <td>No</td>\n",
              "      <td>-0.842708</td>\n",
              "      <td>-0.183531</td>\n",
              "    </tr>\n",
              "    <tr>\n",
              "      <th>4</th>\n",
              "      <td>Dallas</td>\n",
              "      <td>Male</td>\n",
              "      <td>40</td>\n",
              "      <td>40941.0</td>\n",
              "      <td>No</td>\n",
              "      <td>-0.458416</td>\n",
              "      <td>1.125373</td>\n",
              "    </tr>\n",
              "    <tr>\n",
              "      <th>5</th>\n",
              "      <td>Dallas</td>\n",
              "      <td>Male</td>\n",
              "      <td>46</td>\n",
              "      <td>50289.0</td>\n",
              "      <td>No</td>\n",
              "      <td>1.114688</td>\n",
              "      <td>-0.034956</td>\n",
              "    </tr>\n",
              "    <tr>\n",
              "      <th>...</th>\n",
              "      <td>...</td>\n",
              "      <td>...</td>\n",
              "      <td>...</td>\n",
              "      <td>...</td>\n",
              "      <td>...</td>\n",
              "      <td>...</td>\n",
              "      <td>...</td>\n",
              "    </tr>\n",
              "    <tr>\n",
              "      <th>149996</th>\n",
              "      <td>Austin</td>\n",
              "      <td>Male</td>\n",
              "      <td>48</td>\n",
              "      <td>93669.0</td>\n",
              "      <td>No</td>\n",
              "      <td>-1.246838</td>\n",
              "      <td>0.063590</td>\n",
              "    </tr>\n",
              "    <tr>\n",
              "      <th>149997</th>\n",
              "      <td>Austin</td>\n",
              "      <td>Male</td>\n",
              "      <td>25</td>\n",
              "      <td>96748.0</td>\n",
              "      <td>No</td>\n",
              "      <td>-0.139579</td>\n",
              "      <td>-0.945837</td>\n",
              "    </tr>\n",
              "    <tr>\n",
              "      <th>149998</th>\n",
              "      <td>Austin</td>\n",
              "      <td>Male</td>\n",
              "      <td>26</td>\n",
              "      <td>111885.0</td>\n",
              "      <td>No</td>\n",
              "      <td>-0.483918</td>\n",
              "      <td>0.772218</td>\n",
              "    </tr>\n",
              "    <tr>\n",
              "      <th>149999</th>\n",
              "      <td>Austin</td>\n",
              "      <td>Male</td>\n",
              "      <td>25</td>\n",
              "      <td>111878.0</td>\n",
              "      <td>No</td>\n",
              "      <td>0.570747</td>\n",
              "      <td>0.775496</td>\n",
              "    </tr>\n",
              "    <tr>\n",
              "      <th>150000</th>\n",
              "      <td>Austin</td>\n",
              "      <td>Female</td>\n",
              "      <td>37</td>\n",
              "      <td>87251.0</td>\n",
              "      <td>No</td>\n",
              "      <td>-0.206708</td>\n",
              "      <td>1.150827</td>\n",
              "    </tr>\n",
              "  </tbody>\n",
              "</table>\n",
              "<p>150000 rows × 7 columns</p>\n",
              "</div>"
            ],
            "text/plain": [
              "          City  Gender  Age    Income Illness   Random1   Random2\n",
              "Number                                                           \n",
              "1       Dallas    Male   41   40367.0      No -1.057720 -0.138124\n",
              "2       Dallas    Male   54   45084.0      No -0.606215  0.047433\n",
              "3       Dallas    Male   42   52483.0      No -0.842708 -0.183531\n",
              "4       Dallas    Male   40   40941.0      No -0.458416  1.125373\n",
              "5       Dallas    Male   46   50289.0      No  1.114688 -0.034956\n",
              "...        ...     ...  ...       ...     ...       ...       ...\n",
              "149996  Austin    Male   48   93669.0      No -1.246838  0.063590\n",
              "149997  Austin    Male   25   96748.0      No -0.139579 -0.945837\n",
              "149998  Austin    Male   26  111885.0      No -0.483918  0.772218\n",
              "149999  Austin    Male   25  111878.0      No  0.570747  0.775496\n",
              "150000  Austin  Female   37   87251.0      No -0.206708  1.150827\n",
              "\n",
              "[150000 rows x 7 columns]"
            ]
          },
          "metadata": {
            "tags": []
          },
          "execution_count": 127
        }
      ]
    },
    {
      "cell_type": "markdown",
      "metadata": {
        "id": "js0CXndDftgu"
      },
      "source": [
        "39 - Adicione uma nova linha com valores do tipo NaN (utilize o numpy.nan) no dataframe atual. Em seguida, preencha-a com a mediana dos valores de cada coluna na qual o valor nulo se encontra. Os atributos categóricos como Gender permanecerão como NaN, substitua-os com o valor não-nulo anterior ao registro. \n",
        "\n",
        "Dica: utilize uma nova variável para armazenar o dataframe para evitar modificações desnecessárias enquanto constrói os procedimentos. Para acompanhar o estado do dataframe durante as alterações utilize o método .tail() para exibir as últimas linhas do dataframe. "
      ]
    },
    {
      "cell_type": "code",
      "metadata": {
        "id": "sZo_u7IalmL4",
        "outputId": "e3933691-4a76-4697-f6ba-227d1936b963",
        "colab": {
          "base_uri": "https://localhost:8080/",
          "height": 216
        }
      },
      "source": [
        "# Insira a resposta abaixo.\n",
        "df3 = df2.append(pd.Series(name='Mediana'))\n",
        "\n",
        "for col in df3.columns:\n",
        "  try:\n",
        "    df3.loc['Mediana',col] = np.median(df3[col].iloc[:-1]) \n",
        "  except:\n",
        "    print('Coluna {} não tem valores numéricos'.format(col))\n",
        "    pass\n",
        "    \n",
        "df3.tail(1)\n"
      ],
      "execution_count": null,
      "outputs": [
        {
          "output_type": "stream",
          "text": [
            "/usr/local/lib/python3.6/dist-packages/ipykernel_launcher.py:2: DeprecationWarning: The default dtype for empty Series will be 'object' instead of 'float64' in a future version. Specify a dtype explicitly to silence this warning.\n",
            "  \n"
          ],
          "name": "stderr"
        },
        {
          "output_type": "stream",
          "text": [
            "Coluna City não tem valores numéricos\n",
            "Coluna Gender não tem valores numéricos\n",
            "Coluna Illness não tem valores numéricos\n"
          ],
          "name": "stdout"
        },
        {
          "output_type": "execute_result",
          "data": {
            "text/html": [
              "<div>\n",
              "<style scoped>\n",
              "    .dataframe tbody tr th:only-of-type {\n",
              "        vertical-align: middle;\n",
              "    }\n",
              "\n",
              "    .dataframe tbody tr th {\n",
              "        vertical-align: top;\n",
              "    }\n",
              "\n",
              "    .dataframe thead th {\n",
              "        text-align: right;\n",
              "    }\n",
              "</style>\n",
              "<table border=\"1\" class=\"dataframe\">\n",
              "  <thead>\n",
              "    <tr style=\"text-align: right;\">\n",
              "      <th></th>\n",
              "      <th>City</th>\n",
              "      <th>Gender</th>\n",
              "      <th>Age</th>\n",
              "      <th>Income</th>\n",
              "      <th>Illness</th>\n",
              "      <th>Random1</th>\n",
              "      <th>Random2</th>\n",
              "    </tr>\n",
              "    <tr>\n",
              "      <th>Number</th>\n",
              "      <th></th>\n",
              "      <th></th>\n",
              "      <th></th>\n",
              "      <th></th>\n",
              "      <th></th>\n",
              "      <th></th>\n",
              "      <th></th>\n",
              "    </tr>\n",
              "  </thead>\n",
              "  <tbody>\n",
              "    <tr>\n",
              "      <th>Mediana</th>\n",
              "      <td>NaN</td>\n",
              "      <td>NaN</td>\n",
              "      <td>45.0</td>\n",
              "      <td>93655.0</td>\n",
              "      <td>NaN</td>\n",
              "      <td>-0.005037</td>\n",
              "      <td>-0.001515</td>\n",
              "    </tr>\n",
              "  </tbody>\n",
              "</table>\n",
              "</div>"
            ],
            "text/plain": [
              "        City Gender   Age   Income Illness   Random1   Random2\n",
              "Number                                                        \n",
              "Mediana  NaN    NaN  45.0  93655.0     NaN -0.005037 -0.001515"
            ]
          },
          "metadata": {
            "tags": []
          },
          "execution_count": 150
        }
      ]
    },
    {
      "cell_type": "markdown",
      "metadata": {
        "id": "Ui98CRk8y6IN"
      },
      "source": [
        "40 - Liste sem repetição as cidades que estão presentes no dataframe."
      ]
    },
    {
      "cell_type": "code",
      "metadata": {
        "id": "OPJ1VVfYy6Ow",
        "outputId": "b64cbf1a-dc8e-43c4-c217-2667f4c5313b",
        "colab": {
          "base_uri": "https://localhost:8080/",
          "height": 51
        }
      },
      "source": [
        "# Insira a resposta abaixo.\n",
        "df.City.unique()"
      ],
      "execution_count": null,
      "outputs": [
        {
          "output_type": "execute_result",
          "data": {
            "text/plain": [
              "array(['Dallas', 'New York City', 'Los Angeles', 'Mountain View',\n",
              "       'Boston', 'Washington D.C.', 'San Diego', 'Austin'], dtype=object)"
            ]
          },
          "metadata": {
            "tags": []
          },
          "execution_count": 151
        }
      ]
    },
    {
      "cell_type": "markdown",
      "metadata": {
        "id": "2sS_Wy4W4XJ4"
      },
      "source": [
        "41 - Crie uma função anônima *lambda* que receba cada idade e a incremente com +1. Aplique essa função na coluna Age do dataframe."
      ]
    },
    {
      "cell_type": "code",
      "metadata": {
        "id": "0f4wVOXh4XTT",
        "outputId": "99157263-0445-4d3b-ae01-b5187984bc2e",
        "colab": {
          "base_uri": "https://localhost:8080/",
          "height": 329
        }
      },
      "source": [
        "# Insira a resposta abaixo.\n",
        "ap1 = lambda x: x+1\n",
        "\n",
        "df3 = df.copy()\n",
        "df3.Age = df.Age.apply(ap1)\n",
        "\n",
        "display(df.head(3))\n",
        "display(df3.head(3))"
      ],
      "execution_count": null,
      "outputs": [
        {
          "output_type": "display_data",
          "data": {
            "text/html": [
              "<div>\n",
              "<style scoped>\n",
              "    .dataframe tbody tr th:only-of-type {\n",
              "        vertical-align: middle;\n",
              "    }\n",
              "\n",
              "    .dataframe tbody tr th {\n",
              "        vertical-align: top;\n",
              "    }\n",
              "\n",
              "    .dataframe thead th {\n",
              "        text-align: right;\n",
              "    }\n",
              "</style>\n",
              "<table border=\"1\" class=\"dataframe\">\n",
              "  <thead>\n",
              "    <tr style=\"text-align: right;\">\n",
              "      <th></th>\n",
              "      <th>City</th>\n",
              "      <th>Gender</th>\n",
              "      <th>Age</th>\n",
              "      <th>Income</th>\n",
              "      <th>Illness</th>\n",
              "    </tr>\n",
              "    <tr>\n",
              "      <th>Number</th>\n",
              "      <th></th>\n",
              "      <th></th>\n",
              "      <th></th>\n",
              "      <th></th>\n",
              "      <th></th>\n",
              "    </tr>\n",
              "  </thead>\n",
              "  <tbody>\n",
              "    <tr>\n",
              "      <th>1</th>\n",
              "      <td>Dallas</td>\n",
              "      <td>Male</td>\n",
              "      <td>41</td>\n",
              "      <td>40367.0</td>\n",
              "      <td>No</td>\n",
              "    </tr>\n",
              "    <tr>\n",
              "      <th>2</th>\n",
              "      <td>Dallas</td>\n",
              "      <td>Male</td>\n",
              "      <td>54</td>\n",
              "      <td>45084.0</td>\n",
              "      <td>No</td>\n",
              "    </tr>\n",
              "    <tr>\n",
              "      <th>3</th>\n",
              "      <td>Dallas</td>\n",
              "      <td>Male</td>\n",
              "      <td>42</td>\n",
              "      <td>52483.0</td>\n",
              "      <td>No</td>\n",
              "    </tr>\n",
              "  </tbody>\n",
              "</table>\n",
              "</div>"
            ],
            "text/plain": [
              "          City Gender  Age   Income Illness\n",
              "Number                                     \n",
              "1       Dallas   Male   41  40367.0      No\n",
              "2       Dallas   Male   54  45084.0      No\n",
              "3       Dallas   Male   42  52483.0      No"
            ]
          },
          "metadata": {
            "tags": []
          }
        },
        {
          "output_type": "display_data",
          "data": {
            "text/html": [
              "<div>\n",
              "<style scoped>\n",
              "    .dataframe tbody tr th:only-of-type {\n",
              "        vertical-align: middle;\n",
              "    }\n",
              "\n",
              "    .dataframe tbody tr th {\n",
              "        vertical-align: top;\n",
              "    }\n",
              "\n",
              "    .dataframe thead th {\n",
              "        text-align: right;\n",
              "    }\n",
              "</style>\n",
              "<table border=\"1\" class=\"dataframe\">\n",
              "  <thead>\n",
              "    <tr style=\"text-align: right;\">\n",
              "      <th></th>\n",
              "      <th>City</th>\n",
              "      <th>Gender</th>\n",
              "      <th>Age</th>\n",
              "      <th>Income</th>\n",
              "      <th>Illness</th>\n",
              "    </tr>\n",
              "    <tr>\n",
              "      <th>Number</th>\n",
              "      <th></th>\n",
              "      <th></th>\n",
              "      <th></th>\n",
              "      <th></th>\n",
              "      <th></th>\n",
              "    </tr>\n",
              "  </thead>\n",
              "  <tbody>\n",
              "    <tr>\n",
              "      <th>1</th>\n",
              "      <td>Dallas</td>\n",
              "      <td>Male</td>\n",
              "      <td>42</td>\n",
              "      <td>40367.0</td>\n",
              "      <td>No</td>\n",
              "    </tr>\n",
              "    <tr>\n",
              "      <th>2</th>\n",
              "      <td>Dallas</td>\n",
              "      <td>Male</td>\n",
              "      <td>55</td>\n",
              "      <td>45084.0</td>\n",
              "      <td>No</td>\n",
              "    </tr>\n",
              "    <tr>\n",
              "      <th>3</th>\n",
              "      <td>Dallas</td>\n",
              "      <td>Male</td>\n",
              "      <td>43</td>\n",
              "      <td>52483.0</td>\n",
              "      <td>No</td>\n",
              "    </tr>\n",
              "  </tbody>\n",
              "</table>\n",
              "</div>"
            ],
            "text/plain": [
              "          City Gender  Age   Income Illness\n",
              "Number                                     \n",
              "1       Dallas   Male   42  40367.0      No\n",
              "2       Dallas   Male   55  45084.0      No\n",
              "3       Dallas   Male   43  52483.0      No"
            ]
          },
          "metadata": {
            "tags": []
          }
        }
      ]
    },
    {
      "cell_type": "markdown",
      "metadata": {
        "id": "aKJVPHBDr95n"
      },
      "source": [
        "42 - Crie um novo dataframe a partir do \"toy\" dataframe. **Este deve utilizar as diferentes cidades como índices e ambos os gêneros como colunas, informando para cada cidade a idade média**. Dica: considere criar uma pivot table."
      ]
    },
    {
      "cell_type": "code",
      "metadata": {
        "id": "discLRlIr-Ay",
        "outputId": "645ad6ca-3e25-43fb-a8ae-03bb3b09d20a",
        "colab": {
          "base_uri": "https://localhost:8080/",
          "height": 359
        }
      },
      "source": [
        "# Insira a resposta abaixo.\n",
        "\n",
        "df.pivot_table(index='City', columns = 'Gender')\n"
      ],
      "execution_count": null,
      "outputs": [
        {
          "output_type": "execute_result",
          "data": {
            "text/html": [
              "<div>\n",
              "<style scoped>\n",
              "    .dataframe tbody tr th:only-of-type {\n",
              "        vertical-align: middle;\n",
              "    }\n",
              "\n",
              "    .dataframe tbody tr th {\n",
              "        vertical-align: top;\n",
              "    }\n",
              "\n",
              "    .dataframe thead tr th {\n",
              "        text-align: left;\n",
              "    }\n",
              "\n",
              "    .dataframe thead tr:last-of-type th {\n",
              "        text-align: right;\n",
              "    }\n",
              "</style>\n",
              "<table border=\"1\" class=\"dataframe\">\n",
              "  <thead>\n",
              "    <tr>\n",
              "      <th></th>\n",
              "      <th colspan=\"2\" halign=\"left\">Age</th>\n",
              "      <th colspan=\"2\" halign=\"left\">Income</th>\n",
              "    </tr>\n",
              "    <tr>\n",
              "      <th>Gender</th>\n",
              "      <th>Female</th>\n",
              "      <th>Male</th>\n",
              "      <th>Female</th>\n",
              "      <th>Male</th>\n",
              "    </tr>\n",
              "    <tr>\n",
              "      <th>City</th>\n",
              "      <th></th>\n",
              "      <th></th>\n",
              "      <th></th>\n",
              "      <th></th>\n",
              "    </tr>\n",
              "  </thead>\n",
              "  <tbody>\n",
              "    <tr>\n",
              "      <th>Austin</th>\n",
              "      <td>44.505478</td>\n",
              "      <td>44.764876</td>\n",
              "      <td>84958.760631</td>\n",
              "      <td>94424.246272</td>\n",
              "    </tr>\n",
              "    <tr>\n",
              "      <th>Boston</th>\n",
              "      <td>45.219112</td>\n",
              "      <td>45.180549</td>\n",
              "      <td>85978.442530</td>\n",
              "      <td>96071.649368</td>\n",
              "    </tr>\n",
              "    <tr>\n",
              "      <th>Dallas</th>\n",
              "      <td>45.141987</td>\n",
              "      <td>44.992910</td>\n",
              "      <td>39602.533142</td>\n",
              "      <td>49722.384021</td>\n",
              "    </tr>\n",
              "    <tr>\n",
              "      <th>Los Angeles</th>\n",
              "      <td>44.963668</td>\n",
              "      <td>45.018392</td>\n",
              "      <td>89732.511306</td>\n",
              "      <td>99681.616055</td>\n",
              "    </tr>\n",
              "    <tr>\n",
              "      <th>Mountain View</th>\n",
              "      <td>45.011791</td>\n",
              "      <td>44.977716</td>\n",
              "      <td>129476.667463</td>\n",
              "      <td>139504.523354</td>\n",
              "    </tr>\n",
              "    <tr>\n",
              "      <th>New York City</th>\n",
              "      <td>45.037976</td>\n",
              "      <td>44.830816</td>\n",
              "      <td>91171.135035</td>\n",
              "      <td>101338.023920</td>\n",
              "    </tr>\n",
              "    <tr>\n",
              "      <th>San Diego</th>\n",
              "      <td>45.093422</td>\n",
              "      <td>44.868487</td>\n",
              "      <td>95313.831745</td>\n",
              "      <td>104859.014732</td>\n",
              "    </tr>\n",
              "    <tr>\n",
              "      <th>Washington D.C.</th>\n",
              "      <td>44.964085</td>\n",
              "      <td>44.676471</td>\n",
              "      <td>65449.164141</td>\n",
              "      <td>75327.277217</td>\n",
              "    </tr>\n",
              "  </tbody>\n",
              "</table>\n",
              "</div>"
            ],
            "text/plain": [
              "                       Age                    Income               \n",
              "Gender              Female       Male         Female           Male\n",
              "City                                                               \n",
              "Austin           44.505478  44.764876   84958.760631   94424.246272\n",
              "Boston           45.219112  45.180549   85978.442530   96071.649368\n",
              "Dallas           45.141987  44.992910   39602.533142   49722.384021\n",
              "Los Angeles      44.963668  45.018392   89732.511306   99681.616055\n",
              "Mountain View    45.011791  44.977716  129476.667463  139504.523354\n",
              "New York City    45.037976  44.830816   91171.135035  101338.023920\n",
              "San Diego        45.093422  44.868487   95313.831745  104859.014732\n",
              "Washington D.C.  44.964085  44.676471   65449.164141   75327.277217"
            ]
          },
          "metadata": {
            "tags": []
          },
          "execution_count": 159
        }
      ]
    },
    {
      "cell_type": "markdown",
      "metadata": {
        "id": "YP0H5BWuKtc7"
      },
      "source": [
        "### Introduzindo as Funções Merge e Join"
      ]
    },
    {
      "cell_type": "markdown",
      "metadata": {
        "id": "S5TSUjLbY8jP"
      },
      "source": [
        "43 - Abaixo pode-se conferir dois dicionários referentes à registros de desempenho escolar de estudantes em duas disciplinas diferentes. No dicionário referente a disciplina de Matemática, a lista de CPFs dos alunos pode ser acessada através da chave 'CPF', enquanto para o dicionário de Química a chave referente aos CPFs é denominada 'Matricula'. Dado que alguns estudantes que fazem parte da disciplina de matemática, também estão presentes na turma de química, realize as seguintes operações:\n",
        "1. Crie um dataframe para cada disciplina.\n",
        "2. Utilize as colunas que contêm os dados de CPF para criar um dataframe final contendo somente os registros dos alunos que contemplaram ambas as disciplinas. O dataframe deve conter somente as colunas 'CPF', 'Nome', 'Nota_Matemática', 'Matricula' e 'Nota_Química'."
      ]
    },
    {
      "cell_type": "code",
      "metadata": {
        "id": "7frcKOpvhQA6",
        "outputId": "19cfb55d-4d1a-4482-98a2-b16be7c2ebe9",
        "colab": {
          "base_uri": "https://localhost:8080/",
          "height": 111
        }
      },
      "source": [
        "matematica = {'CPF': [34160272215, 63862254062, 88415367805, 88134932070], 'Nome':['Álex', 'Noah', 'Sam', 'Kim'], 'Nota': [8.95, 9.1, 7.9, 9.2]}\n",
        "quimica = {'Matricula': [63862254062, 24208455012, 27440174003, 88415367805], 'Nome':['Noah', 'Dirceu', 'Dominique', 'Sam'], 'Nota': [7.79, 8.2, 7.5, 8.2]}\n",
        "\n",
        "# Insira a resposta abaixo.\n",
        "# Passo 1\n",
        "mat = pd.DataFrame(matematica)\n",
        "qui = pd.DataFrame(quimica)\n",
        "\n",
        "# Passo 2\n",
        "df = pd.merge(mat,qui, how='inner', on='Nome', suffixes=('_Matemática','_Química'))\n",
        "df\n"
      ],
      "execution_count": null,
      "outputs": [
        {
          "output_type": "execute_result",
          "data": {
            "text/html": [
              "<div>\n",
              "<style scoped>\n",
              "    .dataframe tbody tr th:only-of-type {\n",
              "        vertical-align: middle;\n",
              "    }\n",
              "\n",
              "    .dataframe tbody tr th {\n",
              "        vertical-align: top;\n",
              "    }\n",
              "\n",
              "    .dataframe thead th {\n",
              "        text-align: right;\n",
              "    }\n",
              "</style>\n",
              "<table border=\"1\" class=\"dataframe\">\n",
              "  <thead>\n",
              "    <tr style=\"text-align: right;\">\n",
              "      <th></th>\n",
              "      <th>CPF</th>\n",
              "      <th>Nome</th>\n",
              "      <th>Nota_Matemática</th>\n",
              "      <th>Matricula</th>\n",
              "      <th>Nota_Química</th>\n",
              "    </tr>\n",
              "  </thead>\n",
              "  <tbody>\n",
              "    <tr>\n",
              "      <th>0</th>\n",
              "      <td>63862254062</td>\n",
              "      <td>Noah</td>\n",
              "      <td>9.1</td>\n",
              "      <td>63862254062</td>\n",
              "      <td>7.79</td>\n",
              "    </tr>\n",
              "    <tr>\n",
              "      <th>1</th>\n",
              "      <td>88415367805</td>\n",
              "      <td>Sam</td>\n",
              "      <td>7.9</td>\n",
              "      <td>88415367805</td>\n",
              "      <td>8.20</td>\n",
              "    </tr>\n",
              "  </tbody>\n",
              "</table>\n",
              "</div>"
            ],
            "text/plain": [
              "           CPF  Nome  Nota_Matemática    Matricula  Nota_Química\n",
              "0  63862254062  Noah              9.1  63862254062          7.79\n",
              "1  88415367805   Sam              7.9  88415367805          8.20"
            ]
          },
          "metadata": {
            "tags": []
          },
          "execution_count": 39
        }
      ]
    },
    {
      "cell_type": "markdown",
      "metadata": {
        "id": "vfI3yq17h1mE"
      },
      "source": [
        "44 - A partir da questão anterior, utilize os dois dataframes criados para cada disciplina e defina o CPF como o índice de ambos os objetos. Em seguida, utilize os índices do dataframe para criar uma nova base contendo somente os registros dos alunos que contemplaram ambas as disciplinas. O dataframe deve conter as colunas 'CPF', 'Nome', 'Nota_Matemática', 'Matricula' e 'Nota_Química'."
      ]
    },
    {
      "cell_type": "code",
      "metadata": {
        "id": "K7L4F3QDh1tS",
        "outputId": "60575dcc-01ab-42a0-bacd-d8e2f24fd0e7",
        "colab": {
          "base_uri": "https://localhost:8080/",
          "height": 142
        }
      },
      "source": [
        "# Insira a resposta abaixo.\n",
        "qui = pd.merge(mat[['CPF','Nome']],qui, how='inner', on='Nome', suffixes=('_Matemática','_Química'))\n",
        "\n",
        "qui.set_index('CPF', inplace=True)\n",
        "mat.set_index('CPF', inplace=True)\n",
        "\n",
        "\n",
        "df = mat.join(qui.drop('Nome', axis=1), lsuffix='_Matemática', rsuffix='_Química',how='inner') \n",
        "df"
      ],
      "execution_count": null,
      "outputs": [
        {
          "output_type": "execute_result",
          "data": {
            "text/html": [
              "<div>\n",
              "<style scoped>\n",
              "    .dataframe tbody tr th:only-of-type {\n",
              "        vertical-align: middle;\n",
              "    }\n",
              "\n",
              "    .dataframe tbody tr th {\n",
              "        vertical-align: top;\n",
              "    }\n",
              "\n",
              "    .dataframe thead th {\n",
              "        text-align: right;\n",
              "    }\n",
              "</style>\n",
              "<table border=\"1\" class=\"dataframe\">\n",
              "  <thead>\n",
              "    <tr style=\"text-align: right;\">\n",
              "      <th></th>\n",
              "      <th>Nome</th>\n",
              "      <th>Nota_Matemática</th>\n",
              "      <th>Matricula</th>\n",
              "      <th>Nota_Química</th>\n",
              "    </tr>\n",
              "    <tr>\n",
              "      <th>CPF</th>\n",
              "      <th></th>\n",
              "      <th></th>\n",
              "      <th></th>\n",
              "      <th></th>\n",
              "    </tr>\n",
              "  </thead>\n",
              "  <tbody>\n",
              "    <tr>\n",
              "      <th>63862254062</th>\n",
              "      <td>Noah</td>\n",
              "      <td>9.1</td>\n",
              "      <td>63862254062</td>\n",
              "      <td>7.79</td>\n",
              "    </tr>\n",
              "    <tr>\n",
              "      <th>88415367805</th>\n",
              "      <td>Sam</td>\n",
              "      <td>7.9</td>\n",
              "      <td>88415367805</td>\n",
              "      <td>8.20</td>\n",
              "    </tr>\n",
              "  </tbody>\n",
              "</table>\n",
              "</div>"
            ],
            "text/plain": [
              "             Nome  Nota_Matemática    Matricula  Nota_Química\n",
              "CPF                                                          \n",
              "63862254062  Noah              9.1  63862254062          7.79\n",
              "88415367805   Sam              7.9  88415367805          8.20"
            ]
          },
          "metadata": {
            "tags": []
          },
          "execution_count": 36
        }
      ]
    },
    {
      "cell_type": "markdown",
      "metadata": {
        "id": "MwSL2UxOpfrb"
      },
      "source": [
        "45 - Ainda utilizando o dataframe da questão anterior, apresente desta vez a união entre ambos, de forma a apresentar todos os alunos que contenplaram alguma das disciplinas"
      ]
    },
    {
      "cell_type": "code",
      "metadata": {
        "id": "h1ht-01xpfXm",
        "outputId": "cfa72926-82ff-45fb-e6ff-19de7d17e3a9",
        "colab": {
          "base_uri": "https://localhost:8080/",
          "height": 235
        }
      },
      "source": [
        "# Insira a resposta abaixo.\n",
        "\n",
        "df = pd.merge(mat, qui, how ='outer', on='Nome', suffixes= ('_Matemática', '_Química'))\n",
        "df"
      ],
      "execution_count": null,
      "outputs": [
        {
          "output_type": "execute_result",
          "data": {
            "text/html": [
              "<div>\n",
              "<style scoped>\n",
              "    .dataframe tbody tr th:only-of-type {\n",
              "        vertical-align: middle;\n",
              "    }\n",
              "\n",
              "    .dataframe tbody tr th {\n",
              "        vertical-align: top;\n",
              "    }\n",
              "\n",
              "    .dataframe thead th {\n",
              "        text-align: right;\n",
              "    }\n",
              "</style>\n",
              "<table border=\"1\" class=\"dataframe\">\n",
              "  <thead>\n",
              "    <tr style=\"text-align: right;\">\n",
              "      <th></th>\n",
              "      <th>CPF</th>\n",
              "      <th>Nome</th>\n",
              "      <th>Nota_Matemática</th>\n",
              "      <th>Matricula</th>\n",
              "      <th>Nota_Química</th>\n",
              "    </tr>\n",
              "  </thead>\n",
              "  <tbody>\n",
              "    <tr>\n",
              "      <th>0</th>\n",
              "      <td>3.416027e+10</td>\n",
              "      <td>Álex</td>\n",
              "      <td>8.95</td>\n",
              "      <td>NaN</td>\n",
              "      <td>NaN</td>\n",
              "    </tr>\n",
              "    <tr>\n",
              "      <th>1</th>\n",
              "      <td>6.386225e+10</td>\n",
              "      <td>Noah</td>\n",
              "      <td>9.10</td>\n",
              "      <td>6.386225e+10</td>\n",
              "      <td>7.79</td>\n",
              "    </tr>\n",
              "    <tr>\n",
              "      <th>2</th>\n",
              "      <td>8.841537e+10</td>\n",
              "      <td>Sam</td>\n",
              "      <td>7.90</td>\n",
              "      <td>8.841537e+10</td>\n",
              "      <td>8.20</td>\n",
              "    </tr>\n",
              "    <tr>\n",
              "      <th>3</th>\n",
              "      <td>8.813493e+10</td>\n",
              "      <td>Kim</td>\n",
              "      <td>9.20</td>\n",
              "      <td>NaN</td>\n",
              "      <td>NaN</td>\n",
              "    </tr>\n",
              "    <tr>\n",
              "      <th>4</th>\n",
              "      <td>NaN</td>\n",
              "      <td>Dirceu</td>\n",
              "      <td>NaN</td>\n",
              "      <td>2.420846e+10</td>\n",
              "      <td>8.20</td>\n",
              "    </tr>\n",
              "    <tr>\n",
              "      <th>5</th>\n",
              "      <td>NaN</td>\n",
              "      <td>Dominique</td>\n",
              "      <td>NaN</td>\n",
              "      <td>2.744017e+10</td>\n",
              "      <td>7.50</td>\n",
              "    </tr>\n",
              "  </tbody>\n",
              "</table>\n",
              "</div>"
            ],
            "text/plain": [
              "            CPF       Nome  Nota_Matemática     Matricula  Nota_Química\n",
              "0  3.416027e+10       Álex             8.95           NaN           NaN\n",
              "1  6.386225e+10       Noah             9.10  6.386225e+10          7.79\n",
              "2  8.841537e+10        Sam             7.90  8.841537e+10          8.20\n",
              "3  8.813493e+10        Kim             9.20           NaN           NaN\n",
              "4           NaN     Dirceu              NaN  2.420846e+10          8.20\n",
              "5           NaN  Dominique              NaN  2.744017e+10          7.50"
            ]
          },
          "metadata": {
            "tags": []
          },
          "execution_count": 49
        }
      ]
    },
    {
      "cell_type": "markdown",
      "metadata": {
        "id": "DNw4QgcihG5O"
      },
      "source": [
        "46 - Salve o dataframe resultante da questão anterior em um csv. "
      ]
    },
    {
      "cell_type": "code",
      "metadata": {
        "id": "1BxocGtDhHDQ"
      },
      "source": [
        "# Insira a resposta abaixo."
      ],
      "execution_count": null,
      "outputs": []
    },
    {
      "cell_type": "code",
      "metadata": {
        "id": "g61LRakPvzuX"
      },
      "source": [
        "df.to_csv('df.csv')"
      ],
      "execution_count": null,
      "outputs": []
    }
  ]
}