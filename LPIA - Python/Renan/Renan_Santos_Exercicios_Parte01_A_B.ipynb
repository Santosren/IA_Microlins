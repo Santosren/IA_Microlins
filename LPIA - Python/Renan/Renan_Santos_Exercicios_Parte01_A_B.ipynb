{
  "nbformat": 4,
  "nbformat_minor": 0,
  "metadata": {
    "colab": {
      "name": "Renan_Santos_Exercicios_Parte01-A-B.ipynb",
      "provenance": [],
      "collapsed_sections": []
    },
    "kernelspec": {
      "display_name": "Python 3",
      "language": "python",
      "name": "python3"
    },
    "language_info": {
      "codemirror_mode": {
        "name": "ipython",
        "version": 3
      },
      "file_extension": ".py",
      "mimetype": "text/x-python",
      "name": "python",
      "nbconvert_exporter": "python",
      "pygments_lexer": "ipython3",
      "version": "3.6.4"
    }
  },
  "cells": [
    {
      "cell_type": "markdown",
      "metadata": {
        "colab_type": "text",
        "id": "DVEozxMjq4qT"
      },
      "source": [
        "## Introduzindo Operações Básicas com Tipos Numéricos e Booleanos"
      ]
    },
    {
      "cell_type": "markdown",
      "metadata": {
        "colab_type": "text",
        "id": "k3RWYbNB5clO"
      },
      "source": [
        "1 - Compute a saída da seguinte expressão matemática sem realizar nenhuma simplificação:\n",
        "$ a^{2} + \\frac{3}{4} \\times b \\times 987(c - \\frac{10^{-9}}{\\sqrt{0.5^{3}}}) $. Assuma que os valores das variáveis a, b e c correpondam a 2, 4 e 8, respectivamente. Armazene o resultado em uma variável.\n",
        "\n",
        "Dica: consulte os operadores aritméticos disponíveis no Python. Utilize a biblioteca math para operação de raiz."
      ]
    },
    {
      "cell_type": "code",
      "metadata": {
        "colab_type": "code",
        "id": "Y6UcwvJw57MC",
        "colab": {
          "base_uri": "https://localhost:8080/",
          "height": 34
        },
        "outputId": "51cdf86a-a94e-400e-88e9-f8c73b6c2d12"
      },
      "source": [
        "# Insira a resposta abaixo.\n",
        "import math\n",
        "\n",
        "a=2\n",
        "b=4\n",
        "c=8\n",
        "\n",
        "d = a**2 + ((3/4)*b*987*(c-(1e-9/math.sqrt(0.5**3))))\n",
        "\n",
        "print(d)\n"
      ],
      "execution_count": null,
      "outputs": [
        {
          "output_type": "stream",
          "text": [
            "23691.999991625027\n"
          ],
          "name": "stdout"
        }
      ]
    },
    {
      "cell_type": "markdown",
      "metadata": {
        "colab_type": "text",
        "id": "YTUAjlIWVM6C"
      },
      "source": [
        "2 - Armazene em uma variável o resto da divisão da expressão anterior por 23691."
      ]
    },
    {
      "cell_type": "code",
      "metadata": {
        "colab_type": "code",
        "id": "hPB1-d0GVM_9",
        "colab": {
          "base_uri": "https://localhost:8080/",
          "height": 34
        },
        "outputId": "d890f8da-6e17-44fe-89e0-ec013d83e65d"
      },
      "source": [
        "# Insira a resposta abaixo.\n",
        "\n",
        "e =d%23691\n",
        "print(e)"
      ],
      "execution_count": null,
      "outputs": [
        {
          "output_type": "stream",
          "text": [
            "0.9999916250271781\n"
          ],
          "name": "stdout"
        }
      ]
    },
    {
      "cell_type": "markdown",
      "metadata": {
        "colab_type": "text",
        "id": "Xddy2CmgIqzJ"
      },
      "source": [
        "3 - Cheque se a saída do resto da divisão é ***i) igual a 1***, ***ii) maior que 1***, ***iii) menor ou igual que 1*** e ***iv) diferente de 1***. Utilize a função *print* para exibir a saída de cada checagem. Consulte os operadores relacionais disponívels no Python."
      ]
    },
    {
      "cell_type": "code",
      "metadata": {
        "colab_type": "code",
        "id": "HfNOkdqdJMVG",
        "colab": {
          "base_uri": "https://localhost:8080/",
          "height": 85
        },
        "outputId": "90e34987-3a92-425f-b233-27d04a787fad"
      },
      "source": [
        "# Insira a resposta abaixo.\n",
        "print(e == 1)\n",
        "print(e > 1)\n",
        "print(e <= 1)\n",
        "print(e != 1)"
      ],
      "execution_count": null,
      "outputs": [
        {
          "output_type": "stream",
          "text": [
            "False\n",
            "False\n",
            "True\n",
            "True\n"
          ],
          "name": "stdout"
        }
      ]
    },
    {
      "cell_type": "markdown",
      "metadata": {
        "colab_type": "text",
        "id": "lqXrELgV-qoc"
      },
      "source": [
        "4 - Exiba a saída de operações booleanas do tipo **AND** e do tipo **OR** entre dois termos que apresentem valores: \n",
        "1. **verdadeiros**;\n",
        "2. **verdadeiro e falso**;\n",
        "3. **falsos**.\n",
        "\n",
        "Ao todo devem ser apresentadas seis operações."
      ]
    },
    {
      "cell_type": "code",
      "metadata": {
        "colab_type": "code",
        "id": "iwYPHG8zAzEx",
        "colab": {
          "base_uri": "https://localhost:8080/",
          "height": 119
        },
        "outputId": "2dce1ffe-b26d-4cdb-833b-fdf4618b5643"
      },
      "source": [
        "# Insira a resposta abaixo.\n",
        "print(1==1 and 2==2)\n",
        "print(1==1 and 2!=2)\n",
        "print(1!=1 and 2!=2)\n",
        "print(1==1 or 2==2)\n",
        "print(1==1 or 2!=2)\n",
        "print(1!=1 or 2!=2)"
      ],
      "execution_count": null,
      "outputs": [
        {
          "output_type": "stream",
          "text": [
            "True\n",
            "False\n",
            "False\n",
            "True\n",
            "True\n",
            "False\n"
          ],
          "name": "stdout"
        }
      ]
    },
    {
      "cell_type": "markdown",
      "metadata": {
        "colab_type": "text",
        "id": "OhCPDEUc6INz"
      },
      "source": [
        "5 - Escreva a seguinte expressão booleana **(A + B) . (¬B . A)**. Considere que \"+\" indica uma operação  OR; \".\" indica uma operação AND e ''¬'' indica uma operação de negação (NOT). Defina previamente a variávei *A* com valor verdadeiro e a variávei *B* com valor falso."
      ]
    },
    {
      "cell_type": "code",
      "metadata": {
        "colab_type": "code",
        "id": "uDy9e_grMP2m",
        "colab": {
          "base_uri": "https://localhost:8080/",
          "height": 34
        },
        "outputId": "e70a456c-24c5-47ee-f7db-3c37be619e5e"
      },
      "source": [
        "# Insira a resposta abaixo.\n",
        "A=True\n",
        "B=False\n",
        "\n",
        "C = (A or B) and (not B and A)\n",
        "print(C)"
      ],
      "execution_count": null,
      "outputs": [
        {
          "output_type": "stream",
          "text": [
            "True\n"
          ],
          "name": "stdout"
        }
      ]
    },
    {
      "cell_type": "markdown",
      "metadata": {
        "colab_type": "text",
        "id": "WrAa05rZ-qxj"
      },
      "source": [
        "6 - Cheque se a saída da expressão booleana da questão imediatamente anterior é falsa."
      ]
    },
    {
      "cell_type": "code",
      "metadata": {
        "colab_type": "code",
        "id": "vJY1q4-_0X6B",
        "colab": {
          "base_uri": "https://localhost:8080/",
          "height": 34
        },
        "outputId": "b1acbc46-0c39-4d4f-cec9-bacca779bedd"
      },
      "source": [
        "# Insira a resposta abaixo.\n",
        "C is False"
      ],
      "execution_count": null,
      "outputs": [
        {
          "output_type": "execute_result",
          "data": {
            "text/plain": [
              "False"
            ]
          },
          "metadata": {
            "tags": []
          },
          "execution_count": 77
        }
      ]
    },
    {
      "cell_type": "markdown",
      "metadata": {
        "colab_type": "text",
        "id": "WqIZVzrCpuqp"
      },
      "source": [
        "## Introduzindo Operações com Strings\n",
        "\n",
        "Dica: você pode utilizar a função *help(arg)* para visualizar os métodos que podem ser acessados a partir de uma variável de um tipo qualquer.\n",
        "\n",
        "Segue abaixo alguns exemplos:\n",
        "\n",
        "```\n",
        "# Exemplo usando como argumento a função que representa o tipo de dado\n",
        "help(str)\n",
        "\n",
        "# Exemplo usando uma variavel qualquer\n",
        "a = \"teste\"\n",
        "help(a)\n",
        "\n",
        "# Exemplo utilizando uma variavel do tipo dicionário\n",
        "dicionario = {\"chave\":\"valor\"}\n",
        "help(dicionario)\n",
        "\n",
        "```\n",
        "\n"
      ]
    },
    {
      "cell_type": "markdown",
      "metadata": {
        "colab_type": "text",
        "id": "V_Du1ew3MXy8"
      },
      "source": [
        "7 - Defina uma variável com o valor \"hello wORld\". Utilize as funções de string do Python para reproduzir as seguintes saídas: \"Hello World\", \"hello world\", \"HELLO WORLD\".  Dica: para visualizar as funções disponíveis digite em uma célula de código `'str' ` e em seguida tecle tab.\n"
      ]
    },
    {
      "cell_type": "code",
      "metadata": {
        "colab_type": "code",
        "id": "tRPJVsT0tbsh",
        "colab": {
          "base_uri": "https://localhost:8080/",
          "height": 68
        },
        "outputId": "8ff6b17f-cad0-407a-c260-9ff5dc511812"
      },
      "source": [
        "# Insira a resposta abaixo.\n",
        "var = 'hello wORld'\n",
        "var1 = str.title(var)\n",
        "var2 = str.lower(var)\n",
        "var3 = str.upper(var)\n",
        "print(var1)\n",
        "print(var2)\n",
        "print(var3)\n"
      ],
      "execution_count": null,
      "outputs": [
        {
          "output_type": "stream",
          "text": [
            "Hello World\n",
            "hello world\n",
            "HELLO WORLD\n"
          ],
          "name": "stdout"
        }
      ]
    },
    {
      "cell_type": "markdown",
      "metadata": {
        "colab_type": "text",
        "id": "-x6qgUMjN4Po"
      },
      "source": [
        "8 - Dada a seguinte frase \" *Esse é o seu primeiro tweet.* \", remova os espaços em branco das extremidades. Em seguida, substitua a palavra *'primeiro'* por *'segundo'*. \n",
        "\n",
        "\n",
        "\n",
        "**Observação:** a operação para remoção de espaços não atua em um modo '*in-place*', isto é, não altera diretamente o objeto, apenas retorna uma cópia modificada que pode ser armazenada em uma variável. A seguir, pode-se conferir um exemplo de uma operação que não é in-place e requer que assinalemos uma variável para receber a modificação. "
      ]
    },
    {
      "cell_type": "code",
      "metadata": {
        "colab_type": "code",
        "id": "j-5VN4jTy3vn",
        "colab": {
          "base_uri": "https://localhost:8080/",
          "height": 34
        },
        "outputId": "3d87e513-b6bf-4a62-9b80-c4d2ae63f4ce"
      },
      "source": [
        "# EXEMPLO: operação que não atua em modo 'in-place'\n",
        "\n",
        "a = ' Esse é o seu primeiro tweet. '\n",
        "a = a[1:-2]\n",
        "\n",
        "print(a)"
      ],
      "execution_count": null,
      "outputs": [
        {
          "output_type": "stream",
          "text": [
            "Esse é o seu primeiro tweet\n"
          ],
          "name": "stdout"
        }
      ]
    },
    {
      "cell_type": "code",
      "metadata": {
        "colab_type": "code",
        "id": "FStrq8MgO-w1",
        "colab": {
          "base_uri": "https://localhost:8080/",
          "height": 34
        },
        "outputId": "fdcb6c6a-d30b-4279-f553-e33eed2ecfd2"
      },
      "source": [
        "# Insira a resposta abaixo.\n",
        "b = a.replace('primeiro', 'segundo')\n",
        "print(b)"
      ],
      "execution_count": null,
      "outputs": [
        {
          "output_type": "stream",
          "text": [
            "Esse é o seu segundo tweet\n"
          ],
          "name": "stdout"
        }
      ]
    },
    {
      "cell_type": "markdown",
      "metadata": {
        "colab_type": "text",
        "id": "-hy5Hx4mjKpZ"
      },
      "source": [
        "9 - Fazendo uso do resultado da questão anterior, exiba a quantidade de ocorrências da palavra *'segundo'* e em seguida a quantidade de caracteres *'s'*."
      ]
    },
    {
      "cell_type": "code",
      "metadata": {
        "colab_type": "code",
        "id": "2bqwnWxo2brg",
        "colab": {
          "base_uri": "https://localhost:8080/",
          "height": 51
        },
        "outputId": "4784a920-5f54-4df3-ee8b-1ec8b68873e8"
      },
      "source": [
        "# Insira a resposta abaixo.\n",
        "print('a quantidade de \"segundo\" é: ', b.count('segundo'))\n",
        "print('a quantidade de \"s\" é: ', b.count('s'))"
      ],
      "execution_count": null,
      "outputs": [
        {
          "output_type": "stream",
          "text": [
            "a quantidade de \"segundo\" é:  1\n",
            "a quantidade de \"s\" é:  4\n"
          ],
          "name": "stdout"
        }
      ]
    },
    {
      "cell_type": "markdown",
      "metadata": {
        "colab_type": "text",
        "id": "Ah4Io41N3q5w"
      },
      "source": [
        "10 - Concatene duas variáveis do tipo strings com valores arbitrários e exiba o resultado.\n",
        "\n",
        "**Observação:** A string resultante deve possuir no mínimo quatro caracteres."
      ]
    },
    {
      "cell_type": "code",
      "metadata": {
        "colab_type": "code",
        "id": "VQklMBD-2agi",
        "colab": {
          "base_uri": "https://localhost:8080/",
          "height": 34
        },
        "outputId": "d9c0e7dd-22d7-464f-e2a5-3cdaad2bd66f"
      },
      "source": [
        "# Insira a resposta abaixo.\n",
        "a ='Eu estou fazendo '\n",
        "b = 'uma lista de exercícios'\n",
        "c = a+b\n",
        "print(c)"
      ],
      "execution_count": null,
      "outputs": [
        {
          "output_type": "stream",
          "text": [
            "Eu estou fazendo uma lista de exercícios\n"
          ],
          "name": "stdout"
        }
      ]
    },
    {
      "cell_type": "markdown",
      "metadata": {
        "colab_type": "text",
        "id": "-8Oy9MrNDJPV"
      },
      "source": [
        "11 - Utilize a indexação e exiba apenas do segundo ao quarto caractere da variável do tipo string resultante questão imediatamente anterior."
      ]
    },
    {
      "cell_type": "code",
      "metadata": {
        "colab_type": "code",
        "id": "1qQLmrNrDXmM",
        "colab": {
          "base_uri": "https://localhost:8080/",
          "height": 34
        },
        "outputId": "9f5f09f9-5c11-496c-e89f-21a01e5c0470"
      },
      "source": [
        "# Insira a resposta abaixo.\n",
        "print(c[1:4])"
      ],
      "execution_count": null,
      "outputs": [
        {
          "output_type": "stream",
          "text": [
            "u e\n"
          ],
          "name": "stdout"
        }
      ]
    },
    {
      "cell_type": "markdown",
      "metadata": {
        "colab_type": "text",
        "id": "KsBiozVOxEEF"
      },
      "source": [
        "12 - Exiba a string \"Mensagem: \" seguida pela string armazenada na variável *msg* definida abaixo. Dica: utilize a função format()."
      ]
    },
    {
      "cell_type": "code",
      "metadata": {
        "colab_type": "code",
        "id": "nRqtTDFTxDuL",
        "colab": {
          "base_uri": "https://localhost:8080/",
          "height": 34
        },
        "outputId": "5d226d11-07d6-4073-dad0-c79e0039746e"
      },
      "source": [
        "msg = \"This is your first tweet.\"\n",
        "# Insira a resposta abaixo.\n",
        "print('Mensagem: {}'.format(msg))"
      ],
      "execution_count": null,
      "outputs": [
        {
          "output_type": "stream",
          "text": [
            "Mensagem: This is your first tweet.\n"
          ],
          "name": "stdout"
        }
      ]
    },
    {
      "cell_type": "markdown",
      "metadata": {
        "colab_type": "text",
        "id": "6afUv7-Q8XRT"
      },
      "source": [
        "13  - Reproduza as próximas três mensagens a partir das variáveis definidas na célula de código."
      ]
    },
    {
      "cell_type": "markdown",
      "metadata": {
        "colab_type": "text",
        "id": "j4__WoXI_XGe"
      },
      "source": [
        "**Mensagem**: Definir uma string com três aspas simples permite construir textos com quebra de linha automática."
      ]
    },
    {
      "cell_type": "code",
      "metadata": {
        "colab_type": "code",
        "id": "Iluu-cdN_WSD",
        "colab": {
          "base_uri": "https://localhost:8080/",
          "height": 34
        },
        "outputId": "5dc3a594-dbe3-4cea-a378-839998fce167"
      },
      "source": [
        "tipo_var = \"string\"\n",
        "qtd = \"três\"\n",
        "# Insira a resposta abaixo.\n",
        "\n",
        "print('''Mensagem: Definir uma {} com {} aspas simples permite construir textos com quebra de linha automática'''.format(tipo_var,qtd))"
      ],
      "execution_count": null,
      "outputs": [
        {
          "output_type": "stream",
          "text": [
            "Mensagem: Definir uma string com três aspas simples permite construir textos com quebra de linha automática\n"
          ],
          "name": "stdout"
        }
      ]
    },
    {
      "cell_type": "markdown",
      "metadata": {
        "colab_type": "text",
        "id": "9bj-p6aVAYSF"
      },
      "source": [
        "**Mensagem**:  O número pi é aproximadamente 3.14"
      ]
    },
    {
      "cell_type": "code",
      "metadata": {
        "colab_type": "code",
        "id": "cUJ1s40-8UIu",
        "colab": {
          "base_uri": "https://localhost:8080/",
          "height": 34
        },
        "outputId": "6e2284a3-52e1-46c4-ea93-4c243f8d1063"
      },
      "source": [
        "pi = 3.14159\n",
        "# Insira a resposta abaixo.\n",
        "print('O número pi é aproximadamente {:.2f}'.format(pi))"
      ],
      "execution_count": null,
      "outputs": [
        {
          "output_type": "stream",
          "text": [
            "O número pi é aproximadamente 3.14\n"
          ],
          "name": "stdout"
        }
      ]
    },
    {
      "cell_type": "markdown",
      "metadata": {
        "colab_type": "text",
        "id": "pkdZ39rrhx4q"
      },
      "source": [
        "**Mensagem**: O meu nome é [*receber string via input*] e eu tenho [*receber inteiro via input*] anos."
      ]
    },
    {
      "cell_type": "code",
      "metadata": {
        "colab_type": "code",
        "id": "8ukjvm0ghyD1",
        "colab": {
          "base_uri": "https://localhost:8080/",
          "height": 102
        },
        "outputId": "057646ec-fbe3-4962-eb63-e1e4e3e288e3"
      },
      "source": [
        "# Insira a resposta abaixo.\n",
        "a = input('Qual seu nome?\\n')\n",
        "b = input('Qual sua idade?\\n')\n",
        "print('Mensagem: O meu nome é {} e eu tenho {} anos.'.format(a,b))"
      ],
      "execution_count": null,
      "outputs": [
        {
          "output_type": "stream",
          "text": [
            "Qual seu nome?\n",
            "Renan\n",
            "Qual sua idade?\n",
            "27\n",
            "Mensagem: O meu nome é Renan e eu tenho 27 anos.\n"
          ],
          "name": "stdout"
        }
      ]
    },
    {
      "cell_type": "markdown",
      "metadata": {
        "colab_type": "text",
        "id": "WKfYhv8Cqr4u"
      },
      "source": [
        "## Introduzindo Estruturas de Dados\n",
        "\n",
        "Nessa sessão serão exploradas as estruturas de dados do tipo lista, tupla e dicionário. Para realizar os exercícios abaixos baseados em listas podem ser utilizados métodos como *sum(arg), extend(), reverse(), append(), insert(index, element), sort()*."
      ]
    },
    {
      "cell_type": "markdown",
      "metadata": {
        "colab_type": "text",
        "id": "jdd5yFSNrljL"
      },
      "source": [
        "### Listas "
      ]
    },
    {
      "cell_type": "markdown",
      "metadata": {
        "colab_type": "text",
        "id": "NUOrqskrkZdF"
      },
      "source": [
        "14 - Realize as seguintes operações:\n",
        "\n",
        "\n",
        "1. Crie uma lista vazia.\n",
        "2. Adicione três elementos do tipo inteiro ao final da lista (*o método para adição de novos elementos em uma lista atua de forma in-place, portanto, basta invocá-lo.*).\n",
        "3. Adicione um novo elemento na segunda posição da lista (*método in-place).\n",
        "4. Exiba a soma dos quatro elementos (*python já possui uma função built-in para esssa operação*.)\n",
        "5. Re-assinale o elemento da terceiro posição com um valor do tipo float.\n",
        "6. Repita o passo 4.\n",
        "7. Inverta os elementos da lista atual. (*função para inversão é in-place*)\n",
        "8. Re-ordene os elementos da lista.\n",
        "9. Armazene uma nova lista em uma variável qualquer com 2 números inteiros.\n",
        "10. Concatena a nova lista criada com a lista resultante do passo 7.\n",
        "11. Exiba o valor máximo e mínimo da resultante do passo anterior.\n"
      ]
    },
    {
      "cell_type": "code",
      "metadata": {
        "id": "QU5aON_x8_77",
        "colab_type": "code",
        "colab": {
          "base_uri": "https://localhost:8080/",
          "height": 238
        },
        "outputId": "8a1964b4-6718-4e2a-9495-b3ec4f2d8766"
      },
      "source": [
        "# Insira a resposta abaixo.\n",
        "#1\n",
        "a = []\n",
        "print(a)\n",
        "#2\n",
        "a.extend([1,2,3])\n",
        "print(a)\n",
        "#3\n",
        "a.insert(1,4)\n",
        "print(a)\n",
        "#4\n",
        "print(sum(a))\n",
        "#5\n",
        "a[2] = 2.45\n",
        "print(a)\n",
        "#6\n",
        "print(sum(a))\n",
        "print(a)\n",
        "#7\n",
        "rev = a.copy()\n",
        "rev.reverse()\n",
        "print(rev)\n",
        "#8\n",
        "a.sort()\n",
        "print(a)\n",
        "#9\n",
        "b = [10, 11]\n",
        "print(b)\n",
        "#10\n",
        "rev.extend(b)\n",
        "print(rev)\n",
        "#11\n",
        "print(max(rev))\n",
        "print(min(rev))"
      ],
      "execution_count": null,
      "outputs": [
        {
          "output_type": "stream",
          "text": [
            "[]\n",
            "[1, 2, 3]\n",
            "[1, 4, 2, 3]\n",
            "10\n",
            "[1, 4, 2.45, 3]\n",
            "10.45\n",
            "[1, 4, 2.45, 3]\n",
            "[3, 2.45, 4, 1]\n",
            "[1, 2.45, 3, 4]\n",
            "[10, 11]\n",
            "[3, 2.45, 4, 1, 10, 11]\n",
            "11\n",
            "1\n"
          ],
          "name": "stdout"
        }
      ]
    },
    {
      "cell_type": "markdown",
      "metadata": {
        "colab_type": "text",
        "id": "0Z5yLIA2hDW3"
      },
      "source": [
        "15 - Converta a string definida abaixo em uma lista de palavras, armazene a lista em uma variável. Dica: cheque as operações disponíveis para strings."
      ]
    },
    {
      "cell_type": "code",
      "metadata": {
        "colab_type": "code",
        "id": "ZBsyU1D7hDfA",
        "colab": {
          "base_uri": "https://localhost:8080/",
          "height": 34
        },
        "outputId": "794e0822-21f7-4279-84b7-c99c558335ae"
      },
      "source": [
        "frase = \"Formação de Recursos Humanos Qualificados em Inteligência Artificial\"\n",
        " \n",
        "# Insira a resposta abaixo.\n",
        " \n",
        "List = frase.split(' ')\n",
        "print(List)"
      ],
      "execution_count": null,
      "outputs": [
        {
          "output_type": "stream",
          "text": [
            "['Formação', 'de', 'Recursos', 'Humanos', 'Qualificados', 'em', 'Inteligência', 'Artificial']\n"
          ],
          "name": "stdout"
        }
      ]
    },
    {
      "cell_type": "markdown",
      "metadata": {
        "colab_type": "text",
        "id": "Ty3XskmQl95g"
      },
      "source": [
        "16 - Verifique se a palavra \"Humanos\" está contida na lista de palavras criada anteriormente. Exiba True ou False para indicar a resposta."
      ]
    },
    {
      "cell_type": "code",
      "metadata": {
        "colab_type": "code",
        "id": "qHQtRHw7l9_q",
        "colab": {
          "base_uri": "https://localhost:8080/",
          "height": 34
        },
        "outputId": "4c78ffe9-658b-47ce-f65f-4cde30b69063"
      },
      "source": [
        "# Insira a resposta abaixo.\n",
        "print('Humanos' in List)"
      ],
      "execution_count": null,
      "outputs": [
        {
          "output_type": "stream",
          "text": [
            "True\n"
          ],
          "name": "stdout"
        }
      ]
    },
    {
      "cell_type": "markdown",
      "metadata": {
        "colab_type": "text",
        "id": "GJVq-7Fzo0Xo"
      },
      "source": [
        "17 - Crie automaticamente uma lista contendo 50 elementos de valor 3 e armazene-a em uma variável. Dica: utilize o operador de multiplicação."
      ]
    },
    {
      "cell_type": "code",
      "metadata": {
        "colab_type": "code",
        "id": "dORyLchqo0fE",
        "colab": {
          "base_uri": "https://localhost:8080/",
          "height": 105
        },
        "outputId": "8544f8ee-b49b-414d-8fcf-198e3816a0f6"
      },
      "source": [
        "# Insira a resposta abaixo.\n",
        "import numpy as np\n",
        "List = np.ones(50)*3\n",
        "print(List) \n",
        " \n",
        "List2 = [] \n",
        "for i in range(50):\n",
        "    List2.extend([3])\n",
        " \n",
        "print(List2)"
      ],
      "execution_count": null,
      "outputs": [
        {
          "output_type": "stream",
          "text": [
            "[3. 3. 3. 3. 3. 3. 3. 3. 3. 3. 3. 3. 3. 3. 3. 3. 3. 3. 3. 3. 3. 3. 3. 3.\n",
            " 3. 3. 3. 3. 3. 3. 3. 3. 3. 3. 3. 3. 3. 3. 3. 3. 3. 3. 3. 3. 3. 3. 3. 3.\n",
            " 3. 3.]\n",
            "[3, 3, 3, 3, 3, 3, 3, 3, 3, 3, 3, 3, 3, 3, 3, 3, 3, 3, 3, 3, 3, 3, 3, 3, 3, 3, 3, 3, 3, 3, 3, 3, 3, 3, 3, 3, 3, 3, 3, 3, 3, 3, 3, 3, 3, 3, 3, 3, 3, 3]\n"
          ],
          "name": "stdout"
        }
      ]
    },
    {
      "cell_type": "markdown",
      "metadata": {
        "colab_type": "text",
        "id": "tjXYlf9drhd-"
      },
      "source": [
        "### Tuplas"
      ]
    },
    {
      "cell_type": "markdown",
      "metadata": {
        "colab_type": "text",
        "id": "mK1S6LhTx8NT"
      },
      "source": [
        "18 - Converta a lista resultante da primeira questão sobre Listas para uma tupla e exiba o tipo de dados do objeto criado. Após realizar o casting, utilize a indexação para exibir todos os elementos com exceção do primeiro e último."
      ]
    },
    {
      "cell_type": "code",
      "metadata": {
        "colab_type": "code",
        "id": "VRRDYbbAx7ti",
        "colab": {
          "base_uri": "https://localhost:8080/",
          "height": 51
        },
        "outputId": "ee55204c-f9eb-4672-b763-3f172009cca4"
      },
      "source": [
        "# Insira a resposta abaixo.\n",
        "Tuple = tuple(rev) \n",
        "print(type(Tuple))\n",
        "print(Tuple[1:-1])"
      ],
      "execution_count": null,
      "outputs": [
        {
          "output_type": "stream",
          "text": [
            "<class 'tuple'>\n",
            "(2.45, 4, 1, 10)\n"
          ],
          "name": "stdout"
        }
      ]
    },
    {
      "cell_type": "markdown",
      "metadata": {
        "colab_type": "text",
        "id": "ItO6S8D2_FlO"
      },
      "source": [
        "19 - Exiba os atributos/métodos disponíveis a partir objetos do tipo lista e tuple utilizados na questão anterior. Dica: utilize o método dir."
      ]
    },
    {
      "cell_type": "code",
      "metadata": {
        "colab_type": "code",
        "id": "eZ-QZUaq_Fr4",
        "colab": {
          "base_uri": "https://localhost:8080/",
          "height": 54
        },
        "outputId": "b4aea0d5-938b-4ae9-a147-6ccc9656ca2a"
      },
      "source": [
        "# Insira a resposta abaixo.\n",
        "print(dir(List))"
      ],
      "execution_count": null,
      "outputs": [
        {
          "output_type": "stream",
          "text": [
            "['T', '__abs__', '__add__', '__and__', '__array__', '__array_finalize__', '__array_function__', '__array_interface__', '__array_prepare__', '__array_priority__', '__array_struct__', '__array_ufunc__', '__array_wrap__', '__bool__', '__class__', '__complex__', '__contains__', '__copy__', '__deepcopy__', '__delattr__', '__delitem__', '__dir__', '__divmod__', '__doc__', '__eq__', '__float__', '__floordiv__', '__format__', '__ge__', '__getattribute__', '__getitem__', '__gt__', '__hash__', '__iadd__', '__iand__', '__ifloordiv__', '__ilshift__', '__imatmul__', '__imod__', '__imul__', '__index__', '__init__', '__init_subclass__', '__int__', '__invert__', '__ior__', '__ipow__', '__irshift__', '__isub__', '__iter__', '__itruediv__', '__ixor__', '__le__', '__len__', '__lshift__', '__lt__', '__matmul__', '__mod__', '__mul__', '__ne__', '__neg__', '__new__', '__or__', '__pos__', '__pow__', '__radd__', '__rand__', '__rdivmod__', '__reduce__', '__reduce_ex__', '__repr__', '__rfloordiv__', '__rlshift__', '__rmatmul__', '__rmod__', '__rmul__', '__ror__', '__rpow__', '__rrshift__', '__rshift__', '__rsub__', '__rtruediv__', '__rxor__', '__setattr__', '__setitem__', '__setstate__', '__sizeof__', '__str__', '__sub__', '__subclasshook__', '__truediv__', '__xor__', 'all', 'any', 'argmax', 'argmin', 'argpartition', 'argsort', 'astype', 'base', 'byteswap', 'choose', 'clip', 'compress', 'conj', 'conjugate', 'copy', 'ctypes', 'cumprod', 'cumsum', 'data', 'diagonal', 'dot', 'dtype', 'dump', 'dumps', 'fill', 'flags', 'flat', 'flatten', 'getfield', 'imag', 'item', 'itemset', 'itemsize', 'max', 'mean', 'min', 'nbytes', 'ndim', 'newbyteorder', 'nonzero', 'partition', 'prod', 'ptp', 'put', 'ravel', 'real', 'repeat', 'reshape', 'resize', 'round', 'searchsorted', 'setfield', 'setflags', 'shape', 'size', 'sort', 'squeeze', 'std', 'strides', 'sum', 'swapaxes', 'take', 'tobytes', 'tofile', 'tolist', 'tostring', 'trace', 'transpose', 'var', 'view']\n"
          ],
          "name": "stdout"
        }
      ]
    },
    {
      "cell_type": "code",
      "metadata": {
        "id": "p839qZDI8_8O",
        "colab_type": "code",
        "colab": {
          "base_uri": "https://localhost:8080/",
          "height": 54
        },
        "outputId": "723611e3-d6eb-4b98-f423-8738efe593e7"
      },
      "source": [
        "# Insira a resposta abaixo\n",
        "print(dir(Tuple))"
      ],
      "execution_count": null,
      "outputs": [
        {
          "output_type": "stream",
          "text": [
            "['__add__', '__class__', '__contains__', '__delattr__', '__dir__', '__doc__', '__eq__', '__format__', '__ge__', '__getattribute__', '__getitem__', '__getnewargs__', '__gt__', '__hash__', '__init__', '__init_subclass__', '__iter__', '__le__', '__len__', '__lt__', '__mul__', '__ne__', '__new__', '__reduce__', '__reduce_ex__', '__repr__', '__rmul__', '__setattr__', '__sizeof__', '__str__', '__subclasshook__', 'count', 'index']\n"
          ],
          "name": "stdout"
        }
      ]
    },
    {
      "cell_type": "markdown",
      "metadata": {
        "id": "Fx0Zas_h8_8Q",
        "colab_type": "text"
      },
      "source": [
        "20 - Crie uma tupla contendo 5 números inteiros quaisquer. Em seguida, exiba o valor máximo e o valor mínimo da tupla criada."
      ]
    },
    {
      "cell_type": "code",
      "metadata": {
        "id": "Z1QbSz0w8_8Q",
        "colab_type": "code",
        "colab": {
          "base_uri": "https://localhost:8080/",
          "height": 34
        },
        "outputId": "98f5ebb6-36c0-42ec-893a-f34eb539c747"
      },
      "source": [
        "# Insira a resposta abaixo.\n",
        "Tuple = (1,2,3,4,5)\n",
        "print(max(Tuple),' <- max min -> ', min(Tuple))"
      ],
      "execution_count": null,
      "outputs": [
        {
          "output_type": "stream",
          "text": [
            "5  <- max min ->  1\n"
          ],
          "name": "stdout"
        }
      ]
    },
    {
      "cell_type": "markdown",
      "metadata": {
        "colab_type": "text",
        "id": "BaCwt9hTrafF"
      },
      "source": [
        "### Dicionários"
      ]
    },
    {
      "cell_type": "markdown",
      "metadata": {
        "colab_type": "text",
        "id": "lSpj33z39Wej"
      },
      "source": [
        "21 - A partir do dicionário inicializado abaixo com quatro items, adicione três novos items com chaves \"three\", \"four\" e \"five\" e valores \"três\", \"quatro\" e \"cinco\"."
      ]
    },
    {
      "cell_type": "code",
      "metadata": {
        "colab_type": "code",
        "id": "3Bomk_PZ9W2g",
        "colab": {
          "base_uri": "https://localhost:8080/",
          "height": 34
        },
        "outputId": "575546f9-d6ec-4c4c-a254-c7f32e24a10f"
      },
      "source": [
        "my_dict = {}\n",
        "my_dict[\"one\"] = \"um\"\n",
        "my_dict[\"two\"] = \"dois\"\n",
        "my_dict[(1,2)] = [\"um\",\"dois\"]\n",
        "my_dict[1.3] = \"um ponto três\"\n",
        "my_dict[\"three\"] = \"três\"\n",
        "my_dict[\"four\"] = \"quatro\"\n",
        "my_dict[\"five\"] = \"cinco\"\n",
        " \n",
        "print(my_dict)"
      ],
      "execution_count": null,
      "outputs": [
        {
          "output_type": "stream",
          "text": [
            "{'one': 'um', 'two': 'dois', (1, 2): ['um', 'dois'], 1.3: 'um ponto três', 'three': 'três', 'four': 'quatro', 'five': 'cinco'}\n"
          ],
          "name": "stdout"
        }
      ]
    },
    {
      "cell_type": "markdown",
      "metadata": {
        "id": "XvS6TuMI8_8V",
        "colab_type": "text"
      },
      "source": [
        "22 - A partir do dicionário definido anteriormente, remova o item (\"one\", \"um\") do dicionário."
      ]
    },
    {
      "cell_type": "code",
      "metadata": {
        "id": "wE1xRFIe8_8V",
        "colab_type": "code",
        "colab": {
          "base_uri": "https://localhost:8080/",
          "height": 34
        },
        "outputId": "40673cd1-82a4-4542-a221-ccbaaa85cb7c"
      },
      "source": [
        "# Insira a resposta abaixo\n",
        "my_dict.pop(\"one\")\n",
        "print(my_dict)"
      ],
      "execution_count": null,
      "outputs": [
        {
          "output_type": "stream",
          "text": [
            "{'two': 'dois', (1, 2): ['um', 'dois'], 1.3: 'um ponto três', 'three': 'três', 'four': 'quatro', 'five': 'cinco'}\n"
          ],
          "name": "stdout"
        }
      ]
    },
    {
      "cell_type": "markdown",
      "metadata": {
        "colab_type": "text",
        "id": "Pl1J-LIM9XHl"
      },
      "source": [
        "23 - A partir do dicionário definido anteriormente, realize as seguintes operações ordenadamente.\n",
        "\n",
        "1.   Exiba a quantidade de items do dicionário.\n",
        "2.   Gere automaticamente uma lista contendo as  chaves do dicionário.\n",
        "3.   Gere automaticamente uma lista contendo os valores do dicionário.\n",
        "4.   Gere automaticamente uma lista composta por tuplas do tipo (chave, valor).\n",
        "5.   Remova os items cuja chaves são (1,2) e 1.3.\n",
        "6.   Exiba o dicionário final\n",
        "\n",
        "\n",
        "\n",
        "\n",
        "\n"
      ]
    },
    {
      "cell_type": "code",
      "metadata": {
        "id": "qyeXaL9i8_8Y",
        "colab_type": "code",
        "colab": {
          "base_uri": "https://localhost:8080/",
          "height": 102
        },
        "outputId": "0ce68cd2-b47f-450a-c08c-075c79727061"
      },
      "source": [
        "# Insira a resposta abaixo\n",
        " \n",
        "# Passo 1\n",
        "print(len(my_dict)) \n",
        " \n",
        "# Passo 2\n",
        "List=list(my_dict.keys())\n",
        "print(List) \n",
        " \n",
        "# Passo 3\n",
        "List2=list(my_dict.values())\n",
        "print(List2)\n",
        " \n",
        "# Passo 4\n",
        "List3=list(my_dict.items())\n",
        "print(List3) \n",
        " \n",
        "# Passo 5\n",
        "my_dict.pop((1,2))\n",
        "my_dict.pop(1.3)\n",
        " \n",
        "# Passo 6\n",
        "print(my_dict)"
      ],
      "execution_count": null,
      "outputs": [
        {
          "output_type": "stream",
          "text": [
            "6\n",
            "['two', (1, 2), 1.3, 'three', 'four', 'five']\n",
            "['dois', ['um', 'dois'], 'um ponto três', 'três', 'quatro', 'cinco']\n",
            "[('two', 'dois'), ((1, 2), ['um', 'dois']), (1.3, 'um ponto três'), ('three', 'três'), ('four', 'quatro'), ('five', 'cinco')]\n",
            "{'two': 'dois', 'three': 'três', 'four': 'quatro', 'five': 'cinco'}\n"
          ],
          "name": "stdout"
        }
      ]
    },
    {
      "cell_type": "markdown",
      "metadata": {
        "colab_type": "text",
        "id": "iNDUUfFPqNsC"
      },
      "source": [
        "24 - A partir dos dicionários '*en*' e '*pt_br*' definidos abaixo, crie um terceiro dicionário denominado '*translator*' cujas chaves são, respectivamente, 'en' e 'pt_br' e os valores sejam os dicionários correspondentes. Exiba o dicionário criado."
      ]
    },
    {
      "cell_type": "code",
      "metadata": {
        "colab_type": "code",
        "id": "iIv7lR8zqNy1",
        "colab": {
          "base_uri": "https://localhost:8080/",
          "height": 34
        },
        "outputId": "7bbf93b6-0051-4773-c741-9fcde1ca9760"
      },
      "source": [
        "en = {1:\"um\", 2:\"dois\", 3:\"tres\"}\n",
        "pt_br = {1:\"one\", 2:\"two\", 3:\"three\"}\n",
        "\n",
        "# Insira a resposta abaixo\n",
        "dic = {'en':en, 'pt_br':pt_br}\n",
        "print(dic)"
      ],
      "execution_count": null,
      "outputs": [
        {
          "output_type": "stream",
          "text": [
            "{'en': {1: 'um', 2: 'dois', 3: 'tres'}, 'pt_br': {1: 'one', 2: 'two', 3: 'three'}}\n"
          ],
          "name": "stdout"
        }
      ]
    },
    {
      "cell_type": "markdown",
      "metadata": {
        "colab_type": "text",
        "id": "cK-nN01LpxwW"
      },
      "source": [
        "### Estruturas de Decisão"
      ]
    },
    {
      "cell_type": "markdown",
      "metadata": {
        "colab_type": "text",
        "id": "PDkLty8ayY9p"
      },
      "source": [
        "25 - Utilize estruturas de decisão se-senão para construir um script que simule a árvore de decisão disposta na figura abaixo. Para cada nó da árvore, o usuário deve fornecer um valor a ser armazenado em uma variável e utilizado para verificar o fluxo que deve ser seguido até atingir uma das folha, exibindo algum dos valores \"Opção 1\", \"Opção 2\" ou \"Opção 3\".\n",
        "\n",
        "\n",
        "![alt text](https://docs.google.com/uc?export=download&id=1O4rn7YIeOpUcFibD40ir2zJAqfobZIs2)"
      ]
    },
    {
      "cell_type": "code",
      "metadata": {
        "colab_type": "code",
        "id": "YjVkjZGCyZAi",
        "colab": {
          "base_uri": "https://localhost:8080/",
          "height": 136
        },
        "outputId": "5fed4c65-cf17-4d19-c0f9-bda715e14d2a"
      },
      "source": [
        "try:\n",
        "  x1 = float(input('Favor entrar um numero:\\n'))\n",
        "except:\n",
        "  print('Você não digitou um número válido, reinicie o programa')\n",
        "\n",
        "#Cond1\n",
        "if x1>3.77:\n",
        "  print('Opção 1')\n",
        "  print('Fim da árvore de decisão')\n",
        "  \n",
        "else:\n",
        "  try:\n",
        "    x2 = float(input('Favor entrar um numero:\\n'))\n",
        "  except:\n",
        "    print('Você não digitou um número válido, reinicie o programa')\n",
        "  \n",
        "  #Cond2\n",
        "  if x2>0.5:\n",
        "    try:\n",
        "      x3 = float(input('Favor entrar um numero:\\n'))\n",
        "    except:\n",
        "      print('Você não digitou um número válido, reinicie o programa')\n",
        "\n",
        "    #Cond 3\n",
        "    if x3>=0.78:\n",
        "      print('Opção 2')\n",
        "      print('Fim da árvore de decisão')\n",
        "    else:\n",
        "      print('Opção 1')\n",
        "      print('Fim da árvore de decisão')\n",
        "    \n",
        "  else:\n",
        "    try:\n",
        "      x4 = float(input('Favor entrar um numero:\\n'))\n",
        "    except:\n",
        "      print('Você não digitou um número válido, reinicie o programa')    \n",
        "    #Cond 4\n",
        "    if x4>0.5:\n",
        "      print('Opção 2')\n",
        "      print('Fim da árvore de decisão')\n",
        "    elif x4==0.5:\n",
        "      print('Opção 3')\n",
        "      print('Fim da árvore de decisão')\n",
        "    elif x4>0.25 and x4<0.5:\n",
        "      print('Opção 1')\n",
        "      print('Fim da árvore de decisão')\n",
        "    else:\n",
        "      print('Questão não abrange esta opção')\n"
      ],
      "execution_count": null,
      "outputs": [
        {
          "output_type": "stream",
          "text": [
            "Favor entrar um numero:\n",
            "0\n",
            "Favor entrar um numero:\n",
            "0.2\n",
            "Favor entrar um numero:\n",
            "0.2\n",
            "Questão não abrange esta opção\n"
          ],
          "name": "stdout"
        }
      ]
    },
    {
      "cell_type": "markdown",
      "metadata": {
        "colab_type": "text",
        "id": "b-Td-fgNp2HM"
      },
      "source": [
        "### Estruturas de Repetição\n",
        "\n",
        "for (with range), while, list comprehension"
      ]
    },
    {
      "cell_type": "markdown",
      "metadata": {
        "colab_type": "text",
        "id": "mIhOW0di8iZh"
      },
      "source": [
        "26 - Crie um programa que receba do usuário uma entrada referente a string \"Please, type 'q' to quit\". Enquanto o usuário não digitar o caractere 'q', o programa deve exibir \"Sorry, try again.\" e continuar solicitando a informação. Dica: utilize o comando break para interrupção."
      ]
    },
    {
      "cell_type": "code",
      "metadata": {
        "colab_type": "code",
        "id": "BKxPv3BB8ihm",
        "colab": {
          "base_uri": "https://localhost:8080/",
          "height": 204
        },
        "outputId": "616c1300-933e-4ffb-ecfb-ecd447bc771e"
      },
      "source": [
        "# Insira a resposta abaixo.\n",
        "x = input(\"Please, type 'q' to quit\\n\")\n",
        "\n",
        "while x != 'q':\n",
        "  print('Sorry, try again.')\n",
        "  x = input(\"Please, type 'q' to quit\\n\")\n"
      ],
      "execution_count": null,
      "outputs": [
        {
          "output_type": "stream",
          "text": [
            "Please, type 'q' to quit\n",
            "w\n",
            "Sorry, try again.\n",
            "Please, type 'q' to quit\n",
            "r\n",
            "Sorry, try again.\n",
            "Please, type 'q' to quit\n",
            "t\n",
            "Sorry, try again.\n",
            "Please, type 'q' to quit\n",
            "q\n"
          ],
          "name": "stdout"
        }
      ]
    },
    {
      "cell_type": "markdown",
      "metadata": {
        "colab_type": "text",
        "id": "nnA67LDY8iqI"
      },
      "source": [
        "27 - Crie um programa que imprima apenas os números ímpares entre 1 e 100."
      ]
    },
    {
      "cell_type": "code",
      "metadata": {
        "colab_type": "code",
        "id": "2_x3vAUe8izO",
        "colab": {
          "base_uri": "https://localhost:8080/",
          "height": 867
        },
        "outputId": "979ec3c8-4327-4578-ed2e-15e4222c7016"
      },
      "source": [
        "# Insira a resposta abaixo.\n",
        "for i in range(1,101,2):\n",
        "  print(i)"
      ],
      "execution_count": null,
      "outputs": [
        {
          "output_type": "stream",
          "text": [
            "1\n",
            "3\n",
            "5\n",
            "7\n",
            "9\n",
            "11\n",
            "13\n",
            "15\n",
            "17\n",
            "19\n",
            "21\n",
            "23\n",
            "25\n",
            "27\n",
            "29\n",
            "31\n",
            "33\n",
            "35\n",
            "37\n",
            "39\n",
            "41\n",
            "43\n",
            "45\n",
            "47\n",
            "49\n",
            "51\n",
            "53\n",
            "55\n",
            "57\n",
            "59\n",
            "61\n",
            "63\n",
            "65\n",
            "67\n",
            "69\n",
            "71\n",
            "73\n",
            "75\n",
            "77\n",
            "79\n",
            "81\n",
            "83\n",
            "85\n",
            "87\n",
            "89\n",
            "91\n",
            "93\n",
            "95\n",
            "97\n",
            "99\n"
          ],
          "name": "stdout"
        }
      ]
    },
    {
      "cell_type": "markdown",
      "metadata": {
        "colab_type": "text",
        "id": "m0QJ9fIe7rOl"
      },
      "source": [
        "28 - A partir da lista definida abaixo, crie uma nova lista contendo apenas os números negativos. Dica: considere utilizar o modo list comprehension."
      ]
    },
    {
      "cell_type": "code",
      "metadata": {
        "colab_type": "code",
        "id": "CHAeZEOw7rWc",
        "colab": {
          "base_uri": "https://localhost:8080/",
          "height": 34
        },
        "outputId": "03815ed4-8c83-407b-e224-f60b43255427"
      },
      "source": [
        "lista = [-6, 21, -22, 4, -17, -21, 22, -11, 3, 28]\n",
        "# Insira a resposta abaixo.\n",
        "lista2=[]\n",
        "for i in lista:\n",
        "  if i<0:lista2.append(i)\n",
        "\n",
        "lista2"
      ],
      "execution_count": null,
      "outputs": [
        {
          "output_type": "execute_result",
          "data": {
            "text/plain": [
              "[-6, -22, -17, -21, -11]"
            ]
          },
          "metadata": {
            "tags": []
          },
          "execution_count": 8
        }
      ]
    },
    {
      "cell_type": "markdown",
      "metadata": {
        "colab_type": "text",
        "id": "U_aYQhC5LPXi"
      },
      "source": [
        "29 - Converta a string definida abaixo em uma lista de palavras. Em seguida, crie um dicionário cujas chaves são as palavras contidas no texto e os valores representem a quantidade de ocorrências da palavra em questão.\n",
        "\n",
        "\n"
      ]
    },
    {
      "cell_type": "code",
      "metadata": {
        "colab_type": "code",
        "id": "EW3G73kBLQD_",
        "colab": {
          "base_uri": "https://localhost:8080/",
          "height": 54
        },
        "outputId": "3e240f04-be0e-43d5-a50f-337f2f995d11"
      },
      "source": [
        "texto = '''\n",
        "Lorem ipsum dolor sit amet, consectetur adipiscing elit. Maecenas maximus consequat libero sed eleifend. Mauris pulvinar quam pharetra \n",
        "est efficitur maximus. Mauris tincidunt neque cursus ante vehicula viverra. Nullam neque neque, lobortis ut lacinia in, euismod non purus. \n",
        "Quisque egestas pellentesque nulla eget egestas. In sem felis, pellentesque bibendum hendrerit varius, dapibus blandit libero. Nunc \n",
        "fermentum id risus vel suscipit. Aenean laoreet posuere purus ac viverra. Sed vitae sem finibus, tempor magna a, iaculis ex. Pellentesque \n",
        "sit amet scelerisque purus, quis volutpat ante. Lorem ipsum dolor sit amet, consectetur adipiscing elit. Nulla cursus est metus, vitae \n",
        "molestie elit porta a. Praesent pharetra odio id purus auctor porttitor a ut risus. Lorem ipsum dolor sit amet, consectetur adipiscing elit.\n",
        "'''\n",
        "\n",
        "# # Insira a resposota abaixo.\n",
        "for i in \".\\n,\":\n",
        "        texto = texto.replace(i, '')\n",
        "\n",
        "lista = texto.split(' ')\n",
        "\n",
        "from collections import Counter\n",
        "dicionario = Counter(lista)\n",
        "dicionario = dict(dicionario)\n",
        "print(dicionario)\n"
      ],
      "execution_count": null,
      "outputs": [
        {
          "output_type": "stream",
          "text": [
            "{'Lorem': 3, 'ipsum': 3, 'dolor': 3, 'sit': 4, 'amet': 4, 'consectetur': 3, 'adipiscing': 3, 'elit': 4, 'Maecenas': 1, 'maximus': 2, 'consequat': 1, 'libero': 2, 'sed': 1, 'eleifend': 1, 'Mauris': 2, 'pulvinar': 1, 'quam': 1, 'pharetra': 2, 'est': 2, 'efficitur': 1, 'tincidunt': 1, 'neque': 3, 'cursus': 2, 'ante': 2, 'vehicula': 1, 'viverra': 2, 'Nullam': 1, 'lobortis': 1, 'ut': 2, 'lacinia': 1, 'in': 1, 'euismod': 1, 'non': 1, 'purus': 4, 'Quisque': 1, 'egestas': 2, 'pellentesque': 2, 'nulla': 1, 'eget': 1, 'In': 1, 'sem': 2, 'felis': 1, 'bibendum': 1, 'hendrerit': 1, 'varius': 1, 'dapibus': 1, 'blandit': 1, 'Nunc': 1, 'fermentum': 1, 'id': 2, 'risus': 2, 'vel': 1, 'suscipit': 1, 'Aenean': 1, 'laoreet': 1, 'posuere': 1, 'ac': 1, 'Sed': 1, 'vitae': 2, 'finibus': 1, 'tempor': 1, 'magna': 1, 'a': 3, 'iaculis': 1, 'ex': 1, 'Pellentesque': 1, 'scelerisque': 1, 'quis': 1, 'volutpat': 1, 'Nulla': 1, 'metus': 1, 'molestie': 1, 'porta': 1, 'Praesent': 1, 'odio': 1, 'auctor': 1, 'porttitor': 1}\n"
          ],
          "name": "stdout"
        }
      ]
    },
    {
      "cell_type": "markdown",
      "metadata": {
        "colab_type": "text",
        "id": "KEmS5Nr-otZR"
      },
      "source": [
        "30 - Imprima o dicionário gerado no passo anterior seguindo uma ordem alfabética. \n",
        "\n",
        "Dicas: \n",
        "1. Python já possui uma função built-in ordenação de listas\n",
        "2. É possível utilizar uma estrutura de repetição para construir um novo dicionário."
      ]
    },
    {
      "cell_type": "code",
      "metadata": {
        "colab_type": "code",
        "id": "dcPK7SXzotiB",
        "colab": {
          "base_uri": "https://localhost:8080/",
          "height": 54
        },
        "outputId": "a4917430-db97-4476-d6ae-07694c00e745"
      },
      "source": [
        "# Insira a resposta abaixo.\n",
        "dic = dicionario.copy()\n",
        "lista = list(dic.keys())\n",
        "lista = sorted(lista, key=str.casefold)\n",
        "# print(lista)\n",
        "\n",
        "dic2={}\n",
        "for word in lista:\n",
        "  dic2[word]=dic[word]\n",
        "\n",
        "print(dic2)\n"
      ],
      "execution_count": null,
      "outputs": [
        {
          "output_type": "stream",
          "text": [
            "{'a': 3, 'ac': 1, 'adipiscing': 3, 'Aenean': 1, 'amet': 4, 'ante': 2, 'auctor': 1, 'bibendum': 1, 'blandit': 1, 'consectetur': 3, 'consequat': 1, 'cursus': 2, 'dapibus': 1, 'dolor': 3, 'efficitur': 1, 'egestas': 2, 'eget': 1, 'eleifend': 1, 'elit': 4, 'est': 2, 'euismod': 1, 'ex': 1, 'felis': 1, 'fermentum': 1, 'finibus': 1, 'hendrerit': 1, 'iaculis': 1, 'id': 2, 'in': 1, 'In': 1, 'ipsum': 3, 'lacinia': 1, 'laoreet': 1, 'libero': 2, 'lobortis': 1, 'Lorem': 3, 'Maecenas': 1, 'magna': 1, 'Mauris': 2, 'maximus': 2, 'metus': 1, 'molestie': 1, 'neque': 3, 'non': 1, 'nulla': 1, 'Nulla': 1, 'Nullam': 1, 'Nunc': 1, 'odio': 1, 'pellentesque': 2, 'Pellentesque': 1, 'pharetra': 2, 'porta': 1, 'porttitor': 1, 'posuere': 1, 'Praesent': 1, 'pulvinar': 1, 'purus': 4, 'quam': 1, 'quis': 1, 'Quisque': 1, 'risus': 2, 'scelerisque': 1, 'sed': 1, 'Sed': 1, 'sem': 2, 'sit': 4, 'suscipit': 1, 'tempor': 1, 'tincidunt': 1, 'ut': 2, 'varius': 1, 'vehicula': 1, 'vel': 1, 'vitae': 2, 'viverra': 2, 'volutpat': 1}\n"
          ],
          "name": "stdout"
        }
      ]
    },
    {
      "cell_type": "markdown",
      "metadata": {
        "colab_type": "text",
        "id": "ix_iQWRj21d-"
      },
      "source": [
        "31 - Na lista 'colors' definida abaixo têm-se três tipos diferentes de cores. A partir dela, crie uma nova lista na qual cada string deve assumir uma lista com valores inteiros seguindo uma estratégia binária da seguinte forma:\n",
        "\n",
        "```\n",
        "red,\tgreen,\tblue\n",
        "[1,\t\t0,\t\t0]\n",
        "[0,\t\t1,\t\t0]\n",
        "[0,\t\t0,\t\t1]\n",
        "\n",
        "```\n",
        "\n",
        "Dica: crie uma lista com os três possíveis valores e utilize a posição do elemento.\n",
        "\n"
      ]
    },
    {
      "cell_type": "code",
      "metadata": {
        "colab_type": "code",
        "id": "h9lQSh8w21pI",
        "colab": {
          "base_uri": "https://localhost:8080/",
          "height": 34
        },
        "outputId": "28adabc9-e34d-4a50-96cb-936e167ffa27"
      },
      "source": [
        "colors = ['blue', 'blue', 'green', 'blue', 'red', 'red', 'green', 'blue', 'green', 'red']\n",
        "col = colors.copy()\n",
        "red = [1,0,0]\n",
        "green = [0,1,0]\n",
        "blue = [0,0,1]\n",
        "# Insira a resposta abaixo\n",
        "c=0\n",
        "for i in colors:\n",
        "  if i=='red':\n",
        "    col[c] = red\n",
        "  elif i=='green':\n",
        "    col[c] = green\n",
        "  elif i=='blue':\n",
        "    col[c] = blue\n",
        "  c+=1 \n",
        "\n",
        "print(col)"
      ],
      "execution_count": null,
      "outputs": [
        {
          "output_type": "stream",
          "text": [
            "[[0, 0, 1], [0, 0, 1], [0, 1, 0], [0, 0, 1], [1, 0, 0], [1, 0, 0], [0, 1, 0], [0, 0, 1], [0, 1, 0], [1, 0, 0]]\n"
          ],
          "name": "stdout"
        }
      ]
    },
    {
      "cell_type": "markdown",
      "metadata": {
        "colab_type": "text",
        "id": "BWeuTJxZpOuG"
      },
      "source": [
        "32 - A partir da lista resultante da questão imediatamente anterior,  reverta o processo e retorne uma lista contendo as strings 'blue', 'green' e 'red'."
      ]
    },
    {
      "cell_type": "code",
      "metadata": {
        "colab_type": "code",
        "id": "C12-oQ27pO8x",
        "colab": {
          "base_uri": "https://localhost:8080/",
          "height": 34
        },
        "outputId": "f8091b5b-edd1-4e8b-8097-47654b06689f"
      },
      "source": [
        "# Insira a resposta abaixo\n",
        "c=0\n",
        "for i in col:\n",
        "  if i==red:\n",
        "    col[c]='red'\n",
        "  elif i==green:\n",
        "    col[c]='green'\n",
        "  elif i==blue:\n",
        "    col[c]='blue'\n",
        "  c+=1 \n",
        "\n",
        "print(col) "
      ],
      "execution_count": null,
      "outputs": [
        {
          "output_type": "stream",
          "text": [
            "['blue', 'blue', 'green', 'blue', 'red', 'red', 'green', 'blue', 'green', 'red']\n"
          ],
          "name": "stdout"
        }
      ]
    }
  ]
}