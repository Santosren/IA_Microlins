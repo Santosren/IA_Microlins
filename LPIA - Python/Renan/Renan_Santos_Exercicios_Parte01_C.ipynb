{
  "nbformat": 4,
  "nbformat_minor": 0,
  "metadata": {
    "colab": {
      "name": "Renan_Santos_Exercicios_Parte01-C.ipynb",
      "provenance": [],
      "collapsed_sections": []
    },
    "kernelspec": {
      "display_name": "Python 3",
      "language": "python",
      "name": "python3"
    },
    "language_info": {
      "codemirror_mode": {
        "name": "ipython",
        "version": 3
      },
      "file_extension": ".py",
      "mimetype": "text/x-python",
      "name": "python",
      "nbconvert_exporter": "python",
      "pygments_lexer": "ipython3",
      "version": "3.6.4"
    }
  },
  "cells": [
    {
      "cell_type": "markdown",
      "metadata": {
        "colab_type": "text",
        "id": "-S18HnsCtKqj"
      },
      "source": [
        "## Funções"
      ]
    },
    {
      "cell_type": "markdown",
      "metadata": {
        "colab_type": "text",
        "id": "cA_GKn6o46WH"
      },
      "source": [
        "33 - Crie uma função que calcule o fatorial de um número passado como argumento. Caso o número seja negativo, retorne um valor nulo. Caso positivo, retorne o resultado do fatorial. Dica: utilize recursividade e lembre-se de considerar que o fatorial de 0 é 1.\n"
      ]
    },
    {
      "cell_type": "code",
      "metadata": {
        "colab_type": "code",
        "id": "_hs1s18U45_P",
        "colab": {
          "base_uri": "https://localhost:8080/",
          "height": 122
        },
        "outputId": "e869dc96-0af2-48ef-d88a-b87d6a8c0fc7"
      },
      "source": [
        "# Insira a resposta abaixo\n",
        "def fatorial(i):\n",
        "  if i<0:\n",
        "    return None\n",
        "\n",
        "  elif i==0:\n",
        "    return 1\n",
        "\n",
        "  elif i not in memo:\n",
        "    memo[i]= i*fatorial(i-1)\n",
        "\n",
        "  return memo[i]\n",
        "\n",
        "memo = {}\n",
        "\n",
        "print('O fatorial de -5 é: '+ str(fatorial(-5)))\n",
        "print('O fatorial de 0 é: '+ str(fatorial(0)))\n",
        "print('O fatorial de 10 é: '+ str(fatorial(10)))\n",
        "print('O fatorial de 975 é: '+ str(fatorial(975)))  #Limite antes de a recursividade dar erro\n",
        "print('O colab não aceita números maiores que 975, aproximadamente para a função')"
      ],
      "execution_count": null,
      "outputs": [
        {
          "output_type": "stream",
          "text": [
            "O fatorial de -5 é: None\n",
            "O fatorial de 0 é: 1\n",
            "O fatorial de 10 é: 3628800\n",
            "O fatorial de 975 é: 544514954429746765686061122573438818563572438597459428228607724896747193451618553538835793482151220070698327001287396544031282935664059516263978804617047427447818261944948461621943183814323352344928095869822844228992643465179450630114035165598078470016642346036320269184962990015720800303982853869163155083018359376814184837730808728481915462470813366465149606937540167375560221048472605647805125751684954647706104792213722993426709183802286381874237628618566016821105940002650092572939777717067087420320475979119122911967429605512903370233969338773198175272305594260210326605084728969687278718854232614951729357868542180644990083846474250860483770691044295564073538868394291422069096454836244726502311636616265640595710746983258013846946884363460432278147470122104065353467836733953454406595142038765362181783500075584713072239423668756703970756348589378066700683221368915631690958247497198845844264408639655809447596715261884231282348181868555856502300836154167904698081058920917575730189674087307191491247514834140226704139902455894762820427433749507602898069316734206449745707135359729294422283633129033656224390981111318454509266277398371015741104481167302736911469789671500115875058683948222209752548184309420520689294334796383533614547334096818355650666088431993146247737520620574225866459565010100614048332093167561062527680737424606118949327475796559173438695493163799434427322083620520141245013249789174561988297314238905448259922626724832294931168645420952212407388852756308354369557755856841340883467871038288523884146934954426766572120893359844395430852654244143643293496815337840515568879027629522814114799643663223749717823341558370991862935971677067972958445944812965847459324702803854825895784890870730503303836031553857998801796443652694372938969121017574122991193690649555373943755366821918987567239697553725231506241776815650036022327211195354459068707428525394774885369397479656153005748935478890929793411478777633159174794622640952954512367972254050159112232636288544290736314644664787168794393639872403119708250871246611731688321154288952184419106994327573904195201947774531528975772448920994551245454746708838517673734090504059034256936956028241212338494368309886340033065722745222954599860841693191572978559705249152494678835200000000000000000000000000000000000000000000000000000000000000000000000000000000000000000000000000000000000000000000000000000000000000000000000000000000000000000000000000000000000000000000000000000000000000000000000000000000000000000000000000\n",
            "O colab não aceita números maiores que 975, aproximadamente para a função\n"
          ],
          "name": "stdout"
        }
      ]
    },
    {
      "cell_type": "markdown",
      "metadata": {
        "colab_type": "text",
        "id": "XiVGNaWwEBRl"
      },
      "source": [
        "34 - Define uma função que receba um número arbitrário de argumentos e retorne a sua soma. Exiba o resultado de uma chamada dessa função passando como argumentos números inteiros."
      ]
    },
    {
      "cell_type": "code",
      "metadata": {
        "colab_type": "code",
        "id": "0SmmOKbJIw-X",
        "colab": {
          "base_uri": "https://localhost:8080/",
          "height": 34
        },
        "outputId": "49908fd9-7799-46f4-b41f-4914c754cabc"
      },
      "source": [
        "# Insira a resposta abaixo.\n",
        "\n",
        "def soma(*args):\n",
        "  return sum(args)\n",
        "\n",
        "soma(1,2,3,4,5,10,20,50)"
      ],
      "execution_count": null,
      "outputs": [
        {
          "output_type": "execute_result",
          "data": {
            "text/plain": [
              "95"
            ]
          },
          "metadata": {
            "tags": []
          },
          "execution_count": 20
        }
      ]
    },
    {
      "cell_type": "markdown",
      "metadata": {
        "colab_type": "text",
        "id": "vbGhkdcjp5cm"
      },
      "source": [
        "### Funções Especiais\n",
        "\n",
        "Nessa sessão serão explorados exercícios baseados em funções especiais do Python, tais como range, lambda, map, filter, enumerate e zip."
      ]
    },
    {
      "cell_type": "markdown",
      "metadata": {
        "colab_type": "text",
        "id": "wHkgbW1ICOp_"
      },
      "source": [
        "35 - Utilize a função *range* para criar uma lista de números inteiros que vai de 100 a -100, seguindo uma ordem decrescente e com intervalos de duas unidades. Exiba a lista gerada."
      ]
    },
    {
      "cell_type": "code",
      "metadata": {
        "colab_type": "code",
        "id": "s01McQtz1Szd",
        "colab": {
          "base_uri": "https://localhost:8080/",
          "height": 1000
        },
        "outputId": "7e9f0ed6-6ae0-44e6-efee-dda9be80f37c"
      },
      "source": [
        "# Insira a resposta abaixo.\n",
        "lista = list(range(100,-101,-2))\n",
        "lista"
      ],
      "execution_count": null,
      "outputs": [
        {
          "output_type": "execute_result",
          "data": {
            "text/plain": [
              "[100,\n",
              " 98,\n",
              " 96,\n",
              " 94,\n",
              " 92,\n",
              " 90,\n",
              " 88,\n",
              " 86,\n",
              " 84,\n",
              " 82,\n",
              " 80,\n",
              " 78,\n",
              " 76,\n",
              " 74,\n",
              " 72,\n",
              " 70,\n",
              " 68,\n",
              " 66,\n",
              " 64,\n",
              " 62,\n",
              " 60,\n",
              " 58,\n",
              " 56,\n",
              " 54,\n",
              " 52,\n",
              " 50,\n",
              " 48,\n",
              " 46,\n",
              " 44,\n",
              " 42,\n",
              " 40,\n",
              " 38,\n",
              " 36,\n",
              " 34,\n",
              " 32,\n",
              " 30,\n",
              " 28,\n",
              " 26,\n",
              " 24,\n",
              " 22,\n",
              " 20,\n",
              " 18,\n",
              " 16,\n",
              " 14,\n",
              " 12,\n",
              " 10,\n",
              " 8,\n",
              " 6,\n",
              " 4,\n",
              " 2,\n",
              " 0,\n",
              " -2,\n",
              " -4,\n",
              " -6,\n",
              " -8,\n",
              " -10,\n",
              " -12,\n",
              " -14,\n",
              " -16,\n",
              " -18,\n",
              " -20,\n",
              " -22,\n",
              " -24,\n",
              " -26,\n",
              " -28,\n",
              " -30,\n",
              " -32,\n",
              " -34,\n",
              " -36,\n",
              " -38,\n",
              " -40,\n",
              " -42,\n",
              " -44,\n",
              " -46,\n",
              " -48,\n",
              " -50,\n",
              " -52,\n",
              " -54,\n",
              " -56,\n",
              " -58,\n",
              " -60,\n",
              " -62,\n",
              " -64,\n",
              " -66,\n",
              " -68,\n",
              " -70,\n",
              " -72,\n",
              " -74,\n",
              " -76,\n",
              " -78,\n",
              " -80,\n",
              " -82,\n",
              " -84,\n",
              " -86,\n",
              " -88,\n",
              " -90,\n",
              " -92,\n",
              " -94,\n",
              " -96,\n",
              " -98,\n",
              " -100]"
            ]
          },
          "metadata": {
            "tags": []
          },
          "execution_count": 23
        }
      ]
    },
    {
      "cell_type": "markdown",
      "metadata": {
        "colab_type": "text",
        "id": "mGKZ9A4K111M"
      },
      "source": [
        "36 - Crie uma função anônima que tenha como entrada um único parâmetro e retorne a sua raiz caso o número informado seja maior ou igual a 0. Em caso de números negativos, retorne um valor nulo. Teste a função para os valores -9, 0, 9. Dica: utilize a biblioteca math para acessar operações matemáticas."
      ]
    },
    {
      "cell_type": "code",
      "metadata": {
        "colab_type": "code",
        "id": "Gp-HAS1z12CO",
        "colab": {
          "base_uri": "https://localhost:8080/",
          "height": 68
        },
        "outputId": "b9dec846-7f24-4535-d904-a80518b0ab7f"
      },
      "source": [
        "# Insira a resposta abaixo.\n",
        "from math import sqrt\n",
        "\n",
        "raiz = lambda num : sqrt(num) if num>=0 else None\n",
        "\n",
        "print(raiz(-9))\n",
        "print(raiz(0))\n",
        "print(raiz(9))"
      ],
      "execution_count": null,
      "outputs": [
        {
          "output_type": "stream",
          "text": [
            "None\n",
            "0.0\n",
            "3.0\n"
          ],
          "name": "stdout"
        }
      ]
    },
    {
      "cell_type": "markdown",
      "metadata": {
        "colab_type": "text",
        "id": "qh2Wc1d5_r4S"
      },
      "source": [
        "37 - Uma pesquisa de satisfação dos empregados de uma determinada empresa reuniu dados referente a um questionário no qual foi computado o nível de satisfação do empregado em relação ao salário recebido. Os valores salariais estão armazenados na variávei 'salarios' e pontuação do questionário está armazenada na variável 'satisfacao_empregado'. Realize os seguintes procedimentos.\n",
        "\n",
        "1. A partir da lista satisfacao_empregados, gere uma nova lista com valores normalizados entre 0 e 1.  Fórmula para normalização: $ \\frac{x_i - x_{min}}{x_{max} - x_{min}} $\n",
        "2. Crie a seguinte função: $ f(x) = 0.0004x -0.4 $. A função recebe como entrada um unico número inteiro.\n",
        "3. Utilize a função criada no passo anterior para criar uma nova lista a partir da lista '*salarios*'. Armazene-a em uma variável denominada '*satisfacao_estimada*'.\n",
        "4. Crie uma função que receba como entrada duas listas e compute $ \\frac{1}{n}\\sum_{i=0}^{n}(a_i - b_i)^2 $. Assuma que $n$ seja o número de elementos de qualquer uma das listas e $a$ e $b$ correspondam a valores das listas em uma mesma posição $i$.\n",
        "\n",
        "Dica: considere utilizar a função map e a função anônima lambda para os procedimentos simples como, por exemplo, dos passos 1 ao 3."
      ]
    },
    {
      "cell_type": "code",
      "metadata": {
        "colab_type": "code",
        "id": "MoGWCkce_r_6",
        "colab": {
          "base_uri": "https://localhost:8080/",
          "height": 51
        },
        "outputId": "bce1c2da-b9fc-48e1-c19e-9a9af4aa55ed"
      },
      "source": [
        "# Insira a resposta abaixo.\n",
        "salarios = [1000, 1500, 2000, 2500, 3000, 3500]\n",
        "satisfacao_empregados = [40, 50, 60, 70, 80, 90]\n",
        "\n",
        "# Insira abaixo a funcao para normalizar a lista satisfacao_empregados\n",
        "minimo = min(satisfacao_empregados)\n",
        "maximo = max(satisfacao_empregados)\n",
        "satisfacao_empregados_normalizado = list(map(lambda i:(i-minimo)/(maximo-minimo), satisfacao_empregados))\n",
        "\n",
        "#1\n",
        "print(satisfacao_empregados_normalizado)\n",
        "\n",
        "#2\n",
        "f_ = lambda x : 0.0004 * x - 0.4\n",
        "\n",
        "#3\n",
        "satisfacao_estimada = map(lambda i:f_(i), salarios)\n",
        "\n",
        "#4\n",
        "def erro_medio(lst1, lst2):\n",
        "  soma = sum([(n1 - n2)**2 for n1, n2 in zip(lst1, lst2)])\n",
        "  erro_medio = soma / len(lst1)\n",
        "  return erro_medio\n",
        "\n",
        "print(erro_medio(satisfacao_empregados_normalizado, satisfacao_estimada))"
      ],
      "execution_count": null,
      "outputs": [
        {
          "output_type": "stream",
          "text": [
            "[0.0, 0.2, 0.4, 0.6, 0.8, 1.0]\n",
            "2.5679065925163146e-33\n"
          ],
          "name": "stdout"
        }
      ]
    },
    {
      "cell_type": "markdown",
      "metadata": {
        "colab_type": "text",
        "id": "UxrISLw--kIE"
      },
      "source": [
        "38 - A partir da lista definida abaixo, filtre-a de forma que somente as palavras com menos de 3 caracteres sejam mantidas. Dica: utilize a função filter."
      ]
    },
    {
      "cell_type": "code",
      "metadata": {
        "colab_type": "code",
        "id": "onMCh04A-kQF",
        "colab": {
          "base_uri": "https://localhost:8080/",
          "height": 34
        },
        "outputId": "4af9fab4-bc23-4740-ce38-6d7c95c7ba64"
      },
      "source": [
        "lista = ['tempor', 'erat,', 'in,', 'elit', 'Etiam', 'tincidunt.', 'rutrum', 'ut,', 'lacinia', 'Integer', 'Nam', 'turpis', 'Nulla', 'non.', 'vehicula', 'diam', 'porttitor', 'blandit', 'Sed', 'pharetra', 'erat', 'hendrerit', 'tristique', 'vulputate', 'faucibus.', 'augue.', 'potenti.', 'vel', 'eros', 'imperdiet,', 'a.', 'dolor.', 'pretium', 'Fusce', 'sit', 'ornare', 'Morbi', 'quis', 'fringilla', 'lobortis', 'tempus', 'mauris', 'ante,', 'lacus', 'porta.', 'faucibus,', 'quis.', 'vestibulum', 'primis', 'luctus,', 'ullamcorper.', 'augue', 'nec', 'mollis', 'lectus', 'dolor', 'sodales', 'ligula,', 'dignissim', 'sem', 'varius', 'mi', 'eu', 'elit.', 'semper', 'id,', 'tempus.', 'finibus.', 'neque', 'quam.', 'scelerisque', 'lorem', 'diam,', 'Cras', 'nisi', 'Lorem', 'leo,', 'Ut', 'ut', 'feugiat.', 'ante', 'venenatis', 'fermentum', 'congue', 'urna', 'Praesent', 'Donec', 'Vestibulum', 'purus.', 'Nullam', 'tincidunt', 'efficitur', 'velit', 'commodo.', 'iaculis', 'sed,', 'volutpat', 'amet', 'mauris.', 'odio', 'a', 'Interdum', 'neque.', 'risus', 'vitae', 'consectetur', 'adipiscing', 'at', 'Aliquam', 'molestie', 'euismod', 'odio.', 'sed', 'in', 'suscipit', 'augue,', 'sapien', 'posuere', 'euismod,', 'ipsum', 'et.', 'maximus.', 'risus,', 'Suspendisse', 'et', 'facilisis', 'elementum', 'efficitur,', 'ac', 'nulla.', 'quam', 'arcu', 'fames', 'Nunc', 'pharetra,', 'laoreet', 'ligula', 'fermentum,', 'auctor', 'tortor,', 'Curabitur', 'eget', 'finibus', 'ultrices', 'malesuada', 'purus', 'congue,', 'amet,', 'fermentum.', 'dui']\n",
        "\n",
        "# Insira a resposta abaixo.\n",
        "\n",
        "lista2 = list(filter(lambda x: x if len(x)<4 else None , lista))\n",
        "print(lista2)"
      ],
      "execution_count": null,
      "outputs": [
        {
          "output_type": "stream",
          "text": [
            "['in,', 'ut,', 'Nam', 'Sed', 'vel', 'a.', 'sit', 'nec', 'sem', 'mi', 'eu', 'id,', 'Ut', 'ut', 'a', 'at', 'sed', 'in', 'et.', 'et', 'ac', 'dui']\n"
          ],
          "name": "stdout"
        }
      ]
    },
    {
      "cell_type": "markdown",
      "metadata": {
        "colab_type": "text",
        "id": "Mvu_3JcQ0JZj"
      },
      "source": [
        "39 - A partir da lista definida abaixo, gere automaticamente e exiba um dicionário enumerado do tipo:\n",
        "\n",
        "```\n",
        "dicionario = {0: 'Preprocessing', 1: 'Feature Extraction', 2: 'Feature Selection' ...}\n",
        "\n",
        "```\n",
        "\n",
        "Em seguida, gere a seguinte saída:\n",
        "\n",
        "Step 1 - Preprocessing\n",
        "\n",
        "Step 2 - Feature Extraction\n",
        "\n",
        "Step 3 - Feature Selection\n",
        "\n",
        "Step 4 - Classification\n",
        "\n",
        "Step 5 - Post Processing"
      ]
    },
    {
      "cell_type": "code",
      "metadata": {
        "colab_type": "code",
        "id": "jNIHsLKw0Jhm",
        "colab": {
          "base_uri": "https://localhost:8080/",
          "height": 119
        },
        "outputId": "1b691afc-f30f-4b25-c36c-a86d6c36476a"
      },
      "source": [
        "lst = [\"Preprocessing\", \"Feature Extraction\", \"Feature Selection\", \"Classification\", \"Post Processing\"]\n",
        "\n",
        "# Insira a resposta abaixo.\n",
        "# Na ordem inversa\n",
        "dic = {}\n",
        "count = 0\n",
        "for item in lst:\n",
        "  dic[count]=item\n",
        "  count += 1\n",
        "  print('Step {} - {}'.format(count,item))\n",
        "\n",
        "print(dic)"
      ],
      "execution_count": null,
      "outputs": [
        {
          "output_type": "stream",
          "text": [
            "Step 1 - Preprocessing\n",
            "Step 2 - Feature Extraction\n",
            "Step 3 - Feature Selection\n",
            "Step 4 - Classification\n",
            "Step 5 - Post Processing\n",
            "{0: 'Preprocessing', 1: 'Feature Extraction', 2: 'Feature Selection', 3: 'Classification', 4: 'Post Processing'}\n"
          ],
          "name": "stdout"
        }
      ]
    },
    {
      "cell_type": "code",
      "metadata": {
        "id": "-Vwj9N-SWLE2",
        "colab_type": "code",
        "colab": {
          "base_uri": "https://localhost:8080/",
          "height": 119
        },
        "outputId": "027200d8-31bc-4a45-f20e-46d0171146a7"
      },
      "source": [
        "#ajustado\n",
        "print(dic)\n",
        "lst = list(dic.items())\n",
        "for item in lst:\n",
        "  print('Step {} - {}'.format(item[0]+1,item[1]))"
      ],
      "execution_count": null,
      "outputs": [
        {
          "output_type": "stream",
          "text": [
            "{0: 'Preprocessing', 1: 'Feature Extraction', 2: 'Feature Selection', 3: 'Classification', 4: 'Post Processing'}\n",
            "Step 1 - Preprocessing\n",
            "Step 2 - Feature Extraction\n",
            "Step 3 - Feature Selection\n",
            "Step 4 - Classification\n",
            "Step 5 - Post Processing\n"
          ],
          "name": "stdout"
        }
      ]
    },
    {
      "cell_type": "markdown",
      "metadata": {
        "colab_type": "text",
        "id": "wb6C_-EszkKA"
      },
      "source": [
        "40 - Realize os seguintes procedimentos:\n",
        "1. Crie uma lista de números inteiros de 1 a 4 com incremento de 1 em 1.\n",
        "2. Crie uma lista contendo quatro strings.\n",
        "3. Utilize uma única estrutura de repetição do tipo *for* para iterar paralelamente sobre os quatro elementos de cada uma das duas listas. Exiba os elementos."
      ]
    },
    {
      "cell_type": "code",
      "metadata": {
        "colab_type": "code",
        "id": "2bEJ3OYmzkQy",
        "colab": {
          "base_uri": "https://localhost:8080/",
          "height": 85
        },
        "outputId": "b86247e2-0adc-48e7-b817-690f0f793e3c"
      },
      "source": [
        "# Insira o código abaixo.\n",
        "#1\n",
        "lst = list(range(1,5))\n",
        "#2\n",
        "lst2 = ['a', 'b', 'c', 'd']\n",
        "#3\n",
        "\n",
        "for i in range(len(lst)):\n",
        "  print(lst[i],lst2[i])"
      ],
      "execution_count": null,
      "outputs": [
        {
          "output_type": "stream",
          "text": [
            "1 a\n",
            "2 b\n",
            "3 c\n",
            "4 d\n"
          ],
          "name": "stdout"
        }
      ]
    },
    {
      "cell_type": "markdown",
      "metadata": {
        "colab_type": "text",
        "id": "4a94p1n85MRN"
      },
      "source": [
        "## Orientação  Objetos"
      ]
    },
    {
      "cell_type": "markdown",
      "metadata": {
        "colab_type": "text",
        "id": "2nkmK2xGAeIV"
      },
      "source": [
        "41 - Crie uma classe que modele um ser humano, esta deve possuir os seguintes atributos e métodos:\n",
        "* nome\n",
        "* idade\n",
        "* peso\n",
        "* altura\n",
        "* envelhecer()\n",
        "* engordar()\n",
        "* emagrecer()\n",
        "* crescer()\n",
        "\n",
        "O acesso aos atributos deve ser realizado através de métodos. O método envelhecer adicionar +1 na idade, o método engordar adiciona +1 no peso, o método emagrecer subtrai -1 no peso e o método crescer adicionar +1 na altura. Considere que a cada ano em que a pessoa envelhece, ela deve crescer 1 cm caso a idade dela seja menor que 20 anos."
      ]
    },
    {
      "cell_type": "code",
      "metadata": {
        "colab_type": "code",
        "id": "KEMBcimDAeUi",
        "colab": {}
      },
      "source": [
        "# Insira a resposta abaixo.\n",
        "class Humano:\n",
        "  \n",
        "  def __init__(self, nome, idade, peso, altura):\n",
        "    self.__nome = nome\n",
        "    self.__idade = idade\n",
        "    self.__peso = peso\n",
        "    self.__altura = altura\n",
        "\n",
        "  @property\n",
        "  def nome(self):\n",
        "    return self.__nome\n",
        "\n",
        "  @property\n",
        "  def idade(self):\n",
        "    return self.__idade \n",
        "\n",
        "  @property\n",
        "  def peso(self):\n",
        "    return self.__peso\n",
        "\n",
        "  @property\n",
        "  def altura(self):\n",
        "    return self.__altura\n",
        "\n",
        "  #Métodos\n",
        "  def envelhecer(self):\n",
        "    self.__idade +=1\n",
        "    if self.__idade<20:\n",
        "      self.__altura+=1\n",
        "\n",
        "  def engordar(self):\n",
        "    self.__peso +=1\n",
        "\n",
        "  def emagrecer(self):\n",
        "    self.__peso -=1\n",
        "\n",
        "  def crescer(self):\n",
        "    self.__altura +=1\n",
        "\n",
        "  \n"
      ],
      "execution_count": 5,
      "outputs": []
    },
    {
      "cell_type": "markdown",
      "metadata": {
        "colab_type": "text",
        "id": "vBDbxIOj3eUN"
      },
      "source": [
        "42 - Instancie um objeto da classe Humano com 17 anos, 170 cm de altura e 70 quilos e realize os seguintes passos:\n",
        "* Exiba a idade e altura antes e após chamar o método envelhecer.\n",
        "* Exiba o peso antes e após chamar o método engordar.\n",
        "* Exiba o peso antes e após chamar o método emagrecer."
      ]
    },
    {
      "cell_type": "code",
      "metadata": {
        "colab_type": "code",
        "id": "Q-YQ8EOE3edK",
        "colab": {
          "base_uri": "https://localhost:8080/",
          "height": 102
        },
        "outputId": "657c944f-319a-4ef5-986b-1f16710576b1"
      },
      "source": [
        "# Insira a resposta abaixo.\n",
        "\n",
        "Renan = Humano('Renan', 17, 70, 170)\n",
        "print('{} tem {} anos e {}cm de altura'.format(Renan.nome, Renan.idade, Renan.altura))\n",
        "Renan.envelhecer()\n",
        "print('{} agora tem {} anos e {}cm de altura'.format(Renan.nome, Renan.idade, Renan.altura))\n",
        "\n",
        "print('{} tem {}kg'.format(Renan.nome, Renan.peso))\n",
        "Renan.engordar()\n",
        "print('{} agora tem {}kg'.format(Renan.nome, Renan.peso))\n",
        "Renan.emagrecer()\n",
        "print('{} voltou a ter {}kg'.format(Renan.nome, Renan.peso))"
      ],
      "execution_count": 6,
      "outputs": [
        {
          "output_type": "stream",
          "text": [
            "Renan tem 17 anos e 170cm de altura\n",
            "Renan agora tem 18 anos e 171cm de altura\n",
            "Renan tem 70kg\n",
            "Renan agora tem 71kg\n",
            "Renan voltou a ter 70kg\n"
          ],
          "name": "stdout"
        }
      ]
    },
    {
      "cell_type": "markdown",
      "metadata": {
        "colab_type": "text",
        "id": "om2ykVS9qRyR"
      },
      "source": [
        "43 - Crie uma classe que modele um Funcionario, ela deve herdar todas as características da classe Humano, além dos seguintes atributos:\n",
        "\n",
        "* profissao\n",
        "* salario\n",
        "\n",
        "O acesso aos atributos deve ser realizado através de métodos."
      ]
    },
    {
      "cell_type": "code",
      "metadata": {
        "colab_type": "code",
        "id": "3xQeEwFFqR3k",
        "colab": {}
      },
      "source": [
        "# Insira a resposta abaixo.\n",
        "class Funcionario(Humano):\n",
        "  def __init__(self, nome, idade, peso, altura, profissao, salario):\n",
        "    Humano.__init__(self, nome, idade, peso, altura)\n",
        "    self.__profissao = profissao\n",
        "    self.__salario = salario\n",
        "\n",
        "  @property\n",
        "  def profissao(self):\n",
        "    return self.__profissao\n",
        "\n",
        "  @property\n",
        "  def salario(self):\n",
        "    return self.__salario\n",
        "\n",
        "  # @salario.setter\n",
        "  def setSalario(self, salario):\n",
        "    self.__salario = salario\n",
        "\n",
        "  # @profissao.setter\n",
        "  def setProfissao(self, profissao):\n",
        "    self.__profissao = profissao"
      ],
      "execution_count": null,
      "outputs": []
    },
    {
      "cell_type": "markdown",
      "metadata": {
        "colab_type": "text",
        "id": "V8ciqsFO3_ZC"
      },
      "source": [
        "44 - Crie um objeto da classe Funcionario que realize os seguintes passos:\n",
        "* Exiba o nome do funcionário\n",
        "* Exiba a profissao inicial e uma nova profissão assinalada ao objeto.\n",
        "* Exiba o salário inicial e o salário após um aumento de 500 reais."
      ]
    },
    {
      "cell_type": "code",
      "metadata": {
        "colab_type": "code",
        "id": "WleD7MY_3_eq",
        "colab": {
          "base_uri": "https://localhost:8080/",
          "height": 85
        },
        "outputId": "9914855c-6b59-4832-b8c2-e26a45c8bb14"
      },
      "source": [
        "# Insira a resposta abaixo.\n",
        "\n",
        "Renan = Funcionario('Renan', 27, 100, 182, 'Peão', 950)\n",
        "print('{} é  {}'.format(Renan.nome, Renan.profissao))\n",
        "Renan.setProfissao('Encarregado')\n",
        "print('{} foi promovido para {}'.format(Renan.nome, Renan.profissao))\n",
        "print('{} ganhava {}'.format(Renan.nome, Renan.salario))\n",
        "Renan.setSalario(Renan.salario+500)\n",
        "print('{} passou a ganhar {}'.format(Renan.nome, Renan.salario))"
      ],
      "execution_count": null,
      "outputs": [
        {
          "output_type": "stream",
          "text": [
            "Renan é  Peão\n",
            "Renan foi promovido para Encarregado\n",
            "Renan ganhava 950\n",
            "Renan passou a ganhar 1450\n"
          ],
          "name": "stdout"
        }
      ]
    }
  ]
}