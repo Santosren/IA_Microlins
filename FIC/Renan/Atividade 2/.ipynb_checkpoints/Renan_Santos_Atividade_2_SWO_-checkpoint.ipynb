{
 "cells": [
  {
   "cell_type": "markdown",
   "metadata": {
    "id": "qYxmeRCRAkBP"
   },
   "source": [
    "# PySwarms - Aprendizado"
   ]
  },
  {
   "cell_type": "code",
   "execution_count": 1,
   "metadata": {
    "colab": {
     "base_uri": "https://localhost:8080/"
    },
    "id": "uvikk8T28af4",
    "outputId": "d3908a04-723b-45ad-cf5c-a287583da0cf"
   },
   "outputs": [
    {
     "name": "stdout",
     "output_type": "stream",
     "text": [
      "Collecting pyswarms\n",
      "  Downloading pyswarms-1.1.0-py2.py3-none-any.whl (96 kB)\n",
      "Requirement already satisfied: numpy in c:\\users\\rmsantos\\appdata\\local\\continuum\\anaconda3\\lib\\site-packages (from pyswarms) (1.18.1)\n",
      "Requirement already satisfied: matplotlib>=1.3.1 in c:\\users\\rmsantos\\appdata\\local\\continuum\\anaconda3\\lib\\site-packages (from pyswarms) (3.1.3)\n",
      "Requirement already satisfied: scipy in c:\\users\\rmsantos\\appdata\\local\\continuum\\anaconda3\\lib\\site-packages (from pyswarms) (1.4.1)\n",
      "Requirement already satisfied: tqdm in c:\\users\\rmsantos\\appdata\\local\\continuum\\anaconda3\\lib\\site-packages (from pyswarms) (4.43.0)\n",
      "Requirement already satisfied: future in c:\\users\\rmsantos\\appdata\\local\\continuum\\anaconda3\\lib\\site-packages (from pyswarms) (0.18.2)\n",
      "Requirement already satisfied: attrs in c:\\users\\rmsantos\\appdata\\local\\continuum\\anaconda3\\lib\\site-packages (from pyswarms) (19.3.0)\n",
      "Requirement already satisfied: pyparsing!=2.0.4,!=2.1.2,!=2.1.6,>=2.0.1 in c:\\users\\rmsantos\\appdata\\local\\continuum\\anaconda3\\lib\\site-packages (from matplotlib>=1.3.1->pyswarms) (2.4.6)\n",
      "Requirement already satisfied: python-dateutil>=2.1 in c:\\users\\rmsantos\\appdata\\local\\continuum\\anaconda3\\lib\\site-packages (from matplotlib>=1.3.1->pyswarms) (2.8.1)\n",
      "Requirement already satisfied: kiwisolver>=1.0.1 in c:\\users\\rmsantos\\appdata\\local\\continuum\\anaconda3\\lib\\site-packages (from matplotlib>=1.3.1->pyswarms) (1.1.0)\n",
      "Requirement already satisfied: cycler>=0.10 in c:\\users\\rmsantos\\appdata\\local\\continuum\\anaconda3\\lib\\site-packages (from matplotlib>=1.3.1->pyswarms) (0.10.0)\n",
      "Requirement already satisfied: six>=1.5 in c:\\users\\rmsantos\\appdata\\local\\continuum\\anaconda3\\lib\\site-packages (from python-dateutil>=2.1->matplotlib>=1.3.1->pyswarms) (1.14.0)\n",
      "Requirement already satisfied: setuptools in c:\\users\\rmsantos\\appdata\\local\\continuum\\anaconda3\\lib\\site-packages (from kiwisolver>=1.0.1->matplotlib>=1.3.1->pyswarms) (45.2.0.post20200209)\n",
      "Installing collected packages: pyswarms\n",
      "Successfully installed pyswarms-1.1.0\n"
     ]
    }
   ],
   "source": [
    "!pip install pyswarms"
   ]
  },
  {
   "cell_type": "code",
   "execution_count": 2,
   "metadata": {
    "id": "ZQ8gZAh88pX_"
   },
   "outputs": [],
   "source": [
    "import pyswarms as ps\n",
    "from pyswarms.utils.functions import single_obj as fx\n",
    "from pyswarms.utils.plotters import plot_cost_history, plot_contour, plot_surface\n",
    "import matplotlib.pyplot as plt\n",
    "import numpy as np"
   ]
  },
  {
   "cell_type": "code",
   "execution_count": null,
   "metadata": {
    "id": "qzLMadJvQK3Q"
   },
   "outputs": [],
   "source": [
    "def fitFunc(x):\n",
    "    return (x)**2"
   ]
  },
  {
   "cell_type": "code",
   "execution_count": null,
   "metadata": {
    "colab": {
     "base_uri": "https://localhost:8080/"
    },
    "id": "HU9W7dhL8sXU",
    "outputId": "ef92aaad-6728-4983-f70b-2a3a110dfc0d"
   },
   "outputs": [
    {
     "name": "stderr",
     "output_type": "stream",
     "text": [
      "2020-11-08 14:02:45,358 - pyswarms.single.global_best - INFO - Optimize for 10 iters with {'c1': 0.5, 'c2': 0.3, 'w': 0.9}\n",
      "pyswarms.single.global_best: 100%|██████████|10/10, best_cost=0.00575\n",
      "2020-11-08 14:02:45,384 - pyswarms.single.global_best - INFO - Optimization finished | best cost: 0.005746715646716805, best pos: [ 0.0687424 -0.0319562]\n"
     ]
    }
   ],
   "source": [
    "# Set-up hyperparameters\n",
    "options = {'c1': 0.5, 'c2': 0.3, 'w':0.9}\n",
    "# Call instance of PSO\n",
    "optimizer = ps.single.GlobalBestPSO(n_particles=10, dimensions=2, options=options)\n",
    "# Perform optimization\n",
    "best_cost, best_pos = optimizer.optimize(fx.sphere, iters=10)"
   ]
  },
  {
   "cell_type": "code",
   "execution_count": null,
   "metadata": {
    "colab": {
     "base_uri": "https://localhost:8080/"
    },
    "id": "Ehv__TU680S0",
    "outputId": "363b5873-81a8-4461-bcb2-89b61bf38232"
   },
   "outputs": [
    {
     "data": {
      "text/plain": [
       "[0.013041387668662429,\n",
       " 0.013041387668662429,\n",
       " 0.013041387668662429,\n",
       " 0.013041387668662429,\n",
       " 0.013041387668662429,\n",
       " 0.005746715646716805,\n",
       " 0.005746715646716805,\n",
       " 0.005746715646716805,\n",
       " 0.005746715646716805,\n",
       " 0.005746715646716805]"
      ]
     },
     "execution_count": 20,
     "metadata": {
      "tags": []
     },
     "output_type": "execute_result"
    }
   ],
   "source": [
    "optimizer.cost_history #optimizer.pos_history / optimizer.velocity_history"
   ]
  },
  {
   "cell_type": "code",
   "execution_count": null,
   "metadata": {
    "colab": {
     "base_uri": "https://localhost:8080/",
     "height": 513
    },
    "id": "BMBPIep2Hvqy",
    "outputId": "5b8985f4-a35c-4cf5-b93b-4c9867a0711e"
   },
   "outputs": [
    {
     "data": {
      "image/png": "[encoded data removed]",
      "text/plain": [
       "<Figure size 720x576 with 1 Axes>"
      ]
     },
     "metadata": {
      "needs_background": "light",
      "tags": []
     },
     "output_type": "display_data"
    }
   ],
   "source": [
    "plot_cost_history(optimizer.cost_history)\n",
    "plt.show()"
   ]
  },
  {
   "cell_type": "code",
   "execution_count": null,
   "metadata": {
    "colab": {
     "base_uri": "https://localhost:8080/"
    },
    "id": "ZBxq15Zl891X",
    "outputId": "d3d0f737-2886-4a5f-8b5e-8db369c0471f"
   },
   "outputs": [
    {
     "name": "stderr",
     "output_type": "stream",
     "text": [
      "2020-11-08 14:02:45,680 - root - INFO - Generating grammar tables from /usr/lib/python3.6/lib2to3/Grammar.txt\n",
      "2020-11-08 14:02:45,703 - root - INFO - Generating grammar tables from /usr/lib/python3.6/lib2to3/PatternGrammar.txt\n"
     ]
    }
   ],
   "source": [
    "import numpy as np\n",
    "from pyswarms.utils.search import RandomSearch"
   ]
  },
  {
   "cell_type": "code",
   "execution_count": null,
   "metadata": {
    "colab": {
     "base_uri": "https://localhost:8080/"
    },
    "id": "Tk6ySYcHKQL6",
    "outputId": "398f3620-be4f-4d4d-e38f-d231e29ff0c9"
   },
   "outputs": [
    {
     "name": "stderr",
     "output_type": "stream",
     "text": [
      "2020-11-08 14:02:45,744 - pyswarms.single.global_best - INFO - Optimize for 10 iters with {'c1': 0.6896542681071547, 'c2': 0.9634672643853851, 'w': 1.0817987619957856, 'k': 10, 'p': 1}\n",
      "pyswarms.single.global_best: 100%|██████████|10/10, best_cost=0.000933\n",
      "2020-11-08 14:02:45,766 - pyswarms.single.global_best - INFO - Optimization finished | best cost: 0.0009333718427528519, best pos: [0.0140483  0.02712963]\n",
      "2020-11-08 14:02:45,773 - pyswarms.single.global_best - INFO - Optimize for 10 iters with {'c1': 1.1642643271742783, 'c2': 0.2152529812938484, 'w': 2.3300468960045113, 'k': 6, 'p': 1}\n",
      "pyswarms.single.global_best: 100%|██████████|10/10, best_cost=0.00934\n",
      "2020-11-08 14:02:45,791 - pyswarms.single.global_best - INFO - Optimization finished | best cost: 0.00934363283457956, best pos: [0.08926507 0.03708612]\n",
      "2020-11-08 14:02:45,800 - pyswarms.single.global_best - INFO - Optimize for 10 iters with {'c1': 0.4534591848945576, 'c2': 0.2943683046215314, 'w': 0.06122707633774249, 'k': 8, 'p': 1}\n",
      "pyswarms.single.global_best: 100%|██████████|10/10, best_cost=0.0104\n",
      "2020-11-08 14:02:45,817 - pyswarms.single.global_best - INFO - Optimization finished | best cost: 0.010359705330105813, best pos: [0.05030563 0.08848191]\n",
      "2020-11-08 14:02:45,826 - pyswarms.single.global_best - INFO - Optimize for 10 iters with {'c1': 1.5342063411930238, 'c2': 0.8390918927600295, 'w': 2.759851403567864, 'k': 14, 'p': 1}\n",
      "pyswarms.single.global_best: 100%|██████████|10/10, best_cost=0.0088\n",
      "2020-11-08 14:02:45,844 - pyswarms.single.global_best - INFO - Optimization finished | best cost: 0.008801194560673742, best pos: [0.08851816 0.03107619]\n",
      "2020-11-08 14:02:45,853 - pyswarms.single.global_best - INFO - Optimize for 10 iters with {'c1': 0.3409638407654898, 'c2': 0.050106808982695816, 'w': 0.31675372202999996, 'k': 7, 'p': 1}\n",
      "pyswarms.single.global_best: 100%|██████████|10/10, best_cost=0.0093\n",
      "2020-11-08 14:02:45,872 - pyswarms.single.global_best - INFO - Optimization finished | best cost: 0.009295948290009707, best pos: [0.01610107 0.09506158]\n",
      "2020-11-08 14:02:45,881 - pyswarms.single.global_best - INFO - Optimize for 10 iters with {'c1': 2.70884537654399, 'c2': 1.0419791111375034, 'w': 0.2017970016549845, 'k': 11, 'p': 1}\n",
      "pyswarms.single.global_best: 100%|██████████|10/10, best_cost=0.011\n",
      "2020-11-08 14:02:45,898 - pyswarms.single.global_best - INFO - Optimization finished | best cost: 0.010958251825036815, best pos: [0.09440383 0.0452346 ]\n",
      "2020-11-08 14:02:45,909 - pyswarms.single.global_best - INFO - Optimize for 10 iters with {'c1': 2.783552025019171, 'c2': 2.656078241556762, 'w': 0.35578303665287614, 'k': 9, 'p': 1}\n",
      "pyswarms.single.global_best: 100%|██████████|10/10, best_cost=0.0103\n",
      "2020-11-08 14:02:45,926 - pyswarms.single.global_best - INFO - Optimization finished | best cost: 0.010264517094145565, best pos: [0.02892152 0.09709821]\n",
      "2020-11-08 14:02:45,940 - pyswarms.single.global_best - INFO - Optimize for 10 iters with {'c1': 0.4016534879548427, 'c2': 0.7848842999916791, 'w': 2.4388758975062736, 'k': 14, 'p': 1}\n",
      "pyswarms.single.global_best: 100%|██████████|10/10, best_cost=0.00665\n",
      "2020-11-08 14:02:45,958 - pyswarms.single.global_best - INFO - Optimization finished | best cost: 0.00665093876722755, best pos: [0.08021357 0.01472148]\n",
      "2020-11-08 14:02:45,971 - pyswarms.single.global_best - INFO - Optimize for 10 iters with {'c1': 0.6124453915038358, 'c2': 2.647995902488393, 'w': 0.19143858415659032, 'k': 4, 'p': 1}\n",
      "pyswarms.single.global_best: 100%|██████████|10/10, best_cost=0.00677\n",
      "2020-11-08 14:02:45,989 - pyswarms.single.global_best - INFO - Optimization finished | best cost: 0.006770824999656039, best pos: [0.0819727 0.0071625]\n",
      "2020-11-08 14:02:46,003 - pyswarms.single.global_best - INFO - Optimize for 10 iters with {'c1': 0.6396383206110129, 'c2': 0.17909563174376786, 'w': 1.8896738640717634, 'k': 9, 'p': 1}\n",
      "pyswarms.single.global_best: 100%|██████████|10/10, best_cost=0.0479\n",
      "2020-11-08 14:02:46,026 - pyswarms.single.global_best - INFO - Optimization finished | best cost: 0.0479108724922112, best pos: [0.1936831  0.10196926]\n"
     ]
    }
   ],
   "source": [
    "import numpy as np\n",
    "import pyswarms as ps\n",
    "from pyswarms.utils.search import RandomSearch\n",
    "from pyswarms.utils.functions import single_obj as fx\n",
    "\n",
    "# Set-up choices for the parameters\n",
    "options = {\n",
    "    'c1': (0,3),\n",
    "    'c2': (0,3),\n",
    "    'w': (0,3),\n",
    "    'k': (3, 15),\n",
    "    'p': 1\n",
    "}\n",
    "\n",
    "# Create a RandomSearch object\n",
    "# n_selection_iters is the number of iterations to run the searcher\n",
    "# iters is the number of iterations to run the optimizer\n",
    "g = RandomSearch(ps.single.GlobalBestPSO, n_particles=40,\n",
    "            dimensions=2, options=options, objective_func=fx.sphere,\n",
    "            iters=10, n_selection_iters=10)\n",
    "\n",
    "best_score, best_options = g.search()"
   ]
  },
  {
   "cell_type": "code",
   "execution_count": null,
   "metadata": {
    "colab": {
     "base_uri": "https://localhost:8080/"
    },
    "id": "Qqx22mv_AUce",
    "outputId": "c4a55495-8ccc-4c75-eb69-8ccccd4da159"
   },
   "outputs": [
    {
     "data": {
      "text/plain": [
       "(0.0009333718427528519,\n",
       " {'c1': 0.6896542681071547,\n",
       "  'c2': 0.9634672643853851,\n",
       "  'k': 10,\n",
       "  'p': 1,\n",
       "  'w': 1.0817987619957856})"
      ]
     },
     "execution_count": 24,
     "metadata": {
      "tags": []
     },
     "output_type": "execute_result"
    }
   ],
   "source": [
    "best_score, best_options"
   ]
  },
  {
   "cell_type": "code",
   "execution_count": null,
   "metadata": {
    "colab": {
     "base_uri": "https://localhost:8080/"
    },
    "id": "pG7AssQ7K4LD",
    "outputId": "f941d310-e4ea-4150-a967-d96e43dc64df"
   },
   "outputs": [
    {
     "name": "stderr",
     "output_type": "stream",
     "text": [
      "2020-11-08 14:02:46,062 - pyswarms.single.global_best - INFO - Optimize for 100 iters with {'c1': 2.4319483480226225, 'c2': 2.2879195796948344, 'k': 12, 'p': 1, 'w': 1.0061877650284292}\n",
      "pyswarms.single.global_best: 100%|██████████|100/100, best_cost=0.00214\n",
      "2020-11-08 14:02:46,199 - pyswarms.single.global_best - INFO - Optimization finished | best cost: 0.0021373883052035175, best pos: [ 0.01075815 -0.04496277]\n"
     ]
    }
   ],
   "source": [
    "# Set-up hyperparameters\n",
    "options =   {'c1': 2.4319483480226225,\n",
    "  'c2': 2.2879195796948344,\n",
    "  'k': 12,\n",
    "  'p': 1,\n",
    "  'w': 1.0061877650284292}\n",
    "# Call instance of PSO\n",
    "optimizer = ps.single.GlobalBestPSO(n_particles=10, dimensions=2, options=options)\n",
    "# Perform optimization\n",
    "best_cost, best_pos = optimizer.optimize(fx.sphere, iters=100)"
   ]
  },
  {
   "cell_type": "code",
   "execution_count": null,
   "metadata": {
    "colab": {
     "base_uri": "https://localhost:8080/"
    },
    "id": "Jj3EhkSJA4KG",
    "outputId": "80c87452-a134-46f3-c024-9861e2a91d10"
   },
   "outputs": [
    {
     "data": {
      "text/plain": [
       "[0.09014061266781075,\n",
       " 0.09014061266781075,\n",
       " 0.019779368953427575,\n",
       " 0.00991406622590188,\n",
       " 0.00991406622590188,\n",
       " 0.00991406622590188,\n",
       " 0.00991406622590188,\n",
       " 0.00991406622590188,\n",
       " 0.00991406622590188,\n",
       " 0.00991406622590188,\n",
       " 0.00991406622590188,\n",
       " 0.0021373883052035175,\n",
       " 0.0021373883052035175,\n",
       " 0.0021373883052035175,\n",
       " 0.0021373883052035175,\n",
       " 0.0021373883052035175,\n",
       " 0.0021373883052035175,\n",
       " 0.0021373883052035175,\n",
       " 0.0021373883052035175,\n",
       " 0.0021373883052035175,\n",
       " 0.0021373883052035175,\n",
       " 0.0021373883052035175,\n",
       " 0.0021373883052035175,\n",
       " 0.0021373883052035175,\n",
       " 0.0021373883052035175,\n",
       " 0.0021373883052035175,\n",
       " 0.0021373883052035175,\n",
       " 0.0021373883052035175,\n",
       " 0.0021373883052035175,\n",
       " 0.0021373883052035175,\n",
       " 0.0021373883052035175,\n",
       " 0.0021373883052035175,\n",
       " 0.0021373883052035175,\n",
       " 0.0021373883052035175,\n",
       " 0.0021373883052035175,\n",
       " 0.0021373883052035175,\n",
       " 0.0021373883052035175,\n",
       " 0.0021373883052035175,\n",
       " 0.0021373883052035175,\n",
       " 0.0021373883052035175,\n",
       " 0.0021373883052035175,\n",
       " 0.0021373883052035175,\n",
       " 0.0021373883052035175,\n",
       " 0.0021373883052035175,\n",
       " 0.0021373883052035175,\n",
       " 0.0021373883052035175,\n",
       " 0.0021373883052035175,\n",
       " 0.0021373883052035175,\n",
       " 0.0021373883052035175,\n",
       " 0.0021373883052035175,\n",
       " 0.0021373883052035175,\n",
       " 0.0021373883052035175,\n",
       " 0.0021373883052035175,\n",
       " 0.0021373883052035175,\n",
       " 0.0021373883052035175,\n",
       " 0.0021373883052035175,\n",
       " 0.0021373883052035175,\n",
       " 0.0021373883052035175,\n",
       " 0.0021373883052035175,\n",
       " 0.0021373883052035175,\n",
       " 0.0021373883052035175,\n",
       " 0.0021373883052035175,\n",
       " 0.0021373883052035175,\n",
       " 0.0021373883052035175,\n",
       " 0.0021373883052035175,\n",
       " 0.0021373883052035175,\n",
       " 0.0021373883052035175,\n",
       " 0.0021373883052035175,\n",
       " 0.0021373883052035175,\n",
       " 0.0021373883052035175,\n",
       " 0.0021373883052035175,\n",
       " 0.0021373883052035175,\n",
       " 0.0021373883052035175,\n",
       " 0.0021373883052035175,\n",
       " 0.0021373883052035175,\n",
       " 0.0021373883052035175,\n",
       " 0.0021373883052035175,\n",
       " 0.0021373883052035175,\n",
       " 0.0021373883052035175,\n",
       " 0.0021373883052035175,\n",
       " 0.0021373883052035175,\n",
       " 0.0021373883052035175,\n",
       " 0.0021373883052035175,\n",
       " 0.0021373883052035175,\n",
       " 0.0021373883052035175,\n",
       " 0.0021373883052035175,\n",
       " 0.0021373883052035175,\n",
       " 0.0021373883052035175,\n",
       " 0.0021373883052035175,\n",
       " 0.0021373883052035175,\n",
       " 0.0021373883052035175,\n",
       " 0.0021373883052035175,\n",
       " 0.0021373883052035175,\n",
       " 0.0021373883052035175,\n",
       " 0.0021373883052035175,\n",
       " 0.0021373883052035175,\n",
       " 0.0021373883052035175,\n",
       " 0.0021373883052035175,\n",
       " 0.0021373883052035175,\n",
       " 0.0021373883052035175]"
      ]
     },
     "execution_count": 26,
     "metadata": {
      "tags": []
     },
     "output_type": "execute_result"
    }
   ],
   "source": [
    "optimizer.cost_history"
   ]
  },
  {
   "cell_type": "code",
   "execution_count": null,
   "metadata": {
    "id": "sltX0dWdCd3-"
   },
   "outputs": [],
   "source": []
  },
  {
   "cell_type": "markdown",
   "metadata": {
    "id": "tXpFriXw9-u7"
   },
   "source": [
    "# Atividade 1"
   ]
  },
  {
   "cell_type": "markdown",
   "metadata": {
    "id": "idJvvK53-BO4"
   },
   "source": [
    "## 1.1 Rastrigin"
   ]
  },
  {
   "cell_type": "code",
   "execution_count": null,
   "metadata": {
    "id": "IZMBzGtF-ATE"
   },
   "outputs": [],
   "source": [
    "def Rastrigin(X, A, n):\n",
    "  sum = 0\n",
    "  for x in X:\n",
    "    sum += x**2 - (x**2 - A * np.cos(2 * np.pi * x))\n",
    "  f = A*n + sum\n",
    "  return f"
   ]
  },
  {
   "cell_type": "code",
   "execution_count": null,
   "metadata": {
    "colab": {
     "base_uri": "https://localhost:8080/"
    },
    "id": "JlwN_muC_5JH",
    "outputId": "f3367a5d-3639-41bf-f48c-b241cd2f29cd"
   },
   "outputs": [
    {
     "name": "stderr",
     "output_type": "stream",
     "text": [
      "2020-11-07 20:26:47,672 - pyswarms.single.global_best - INFO - Optimize for 100 iters with {'c1': 0.5, 'c2': 0.3, 'w': 0.9}\n",
      "pyswarms.single.global_best: 100%|██████████|100/100, best_cost=1.21\n",
      "2020-11-07 20:26:50,563 - pyswarms.single.global_best - INFO - Optimization finished | best cost: 1.2066109679417476, best pos: [ 2.89536854 -2.13247763 -4.31531516 -0.61831845 -1.99006673  2.08268121\n",
      "  0.47746185 -2.61739766 -0.05564591  3.47900402]\n"
     ]
    }
   ],
   "source": [
    "from pyswarms.single.global_best import GlobalBestPSO\n",
    "n = 10\n",
    "x_max = 5.12 * np.ones(n)\n",
    "x_min = -1 * x_max\n",
    "bounds = (x_min, x_max)\n",
    "options = {'c1': 0.5, 'c2': 0.3, 'w': 0.9}\n",
    "optimizer = GlobalBestPSO(n_particles=1000, dimensions=10, options=options, bounds=bounds)\n",
    "\n",
    "cost, pos = optimizer.optimize(Rastrigin, iters = 100, A=1, n=10, n_processes=100)"
   ]
  },
  {
   "cell_type": "code",
   "execution_count": null,
   "metadata": {
    "colab": {
     "base_uri": "https://localhost:8080/",
     "height": 513
    },
    "id": "kW-KbT-oVoqk",
    "outputId": "0f29eaad-31f7-43c1-966b-4b1ff6f2bfe7"
   },
   "outputs": [
    {
     "data": {
      "image/png": "[encoded data removed]",
      "text/plain": [
       "<Figure size 720x576 with 1 Axes>"
      ]
     },
     "metadata": {
      "needs_background": "light",
      "tags": []
     },
     "output_type": "display_data"
    }
   ],
   "source": [
    "import matplotlib.pyplot as plt\n",
    "\n",
    "plot_cost_history(optimizer.cost_history)\n",
    "plt.show()"
   ]
  },
  {
   "cell_type": "code",
   "execution_count": null,
   "metadata": {
    "colab": {
     "base_uri": "https://localhost:8080/",
     "height": 513
    },
    "id": "MPDJYWmxAn2-",
    "outputId": "59bd8b7a-398c-4fd3-8183-d83bb7ccce02"
   },
   "outputs": [
    {
     "data": {
      "image/png": "[encoded data removed]",
      "text/plain": [
       "<Figure size 720x576 with 1 Axes>"
      ]
     },
     "metadata": {
      "needs_background": "light",
      "tags": []
     },
     "output_type": "display_data"
    }
   ],
   "source": [
    "import matplotlib.pyplot as plt\n",
    "\n",
    "plot_cost_history(optimizer.cost_history)\n",
    "plt.show()"
   ]
  },
  {
   "cell_type": "markdown",
   "metadata": {
    "id": "fY2gAd5GHf5t"
   },
   "source": [
    "## 1.2 Rosenbrook"
   ]
  },
  {
   "cell_type": "code",
   "execution_count": null,
   "metadata": {
    "id": "H3gEXsraJfz7"
   },
   "outputs": [],
   "source": [
    "def rosenbrock_with_args(x, a, b):\n",
    "  f = (a - x[:, 0]) ** 2 + b * (x[:, 1] - x[:, 0] ** 2) ** 2\n",
    "  return f"
   ]
  },
  {
   "cell_type": "code",
   "execution_count": null,
   "metadata": {
    "colab": {
     "base_uri": "https://localhost:8080/"
    },
    "id": "I0iWAqgtJEoN",
    "outputId": "21b6d5f2-23df-4e65-976b-211ec9a54abe"
   },
   "outputs": [
    {
     "name": "stderr",
     "output_type": "stream",
     "text": [
      "2020-11-07 20:26:50,946 - pyswarms.single.global_best - INFO - Optimize for 100 iters with {'c1': 0.5, 'c2': 0.3, 'w': 0.9}\n",
      "pyswarms.single.global_best: 100%|██████████|100/100, best_cost=2.39e-5\n",
      "2020-11-07 20:26:51,078 - pyswarms.single.global_best - INFO - Optimization finished | best cost: 2.3875910182689232e-05, best pos: [1.00488599 1.00979042]\n"
     ]
    }
   ],
   "source": [
    "x_max = 10 * np.ones(2)\n",
    "x_min = -1 * x_max\n",
    "bounds = (x_min, x_max)\n",
    "options = {'c1': 0.5, 'c2': 0.3, 'w': 0.9}\n",
    "optimizer = GlobalBestPSO(n_particles=100, dimensions=2, options=options, bounds=bounds)\n",
    "\n",
    "cost, pos = optimizer.optimize(rosenbrock_with_args, iters = 100, a=1, b=100)"
   ]
  },
  {
   "cell_type": "code",
   "execution_count": null,
   "metadata": {
    "colab": {
     "base_uri": "https://localhost:8080/"
    },
    "id": "Dbk1QlLaJ9Am",
    "outputId": "e85143bf-575d-438c-872f-c1a44cdeb2d0"
   },
   "outputs": [
    {
     "data": {
      "text/plain": [
       "(2.3875910182689232e-05, array([1.00488599, 1.00979042]))"
      ]
     },
     "execution_count": 35,
     "metadata": {
      "tags": []
     },
     "output_type": "execute_result"
    }
   ],
   "source": [
    "cost, pos"
   ]
  },
  {
   "cell_type": "code",
   "execution_count": null,
   "metadata": {
    "colab": {
     "base_uri": "https://localhost:8080/",
     "height": 513
    },
    "id": "9mSAo3ONVfWp",
    "outputId": "5e549034-ec8a-4b48-8723-166b5c867e11"
   },
   "outputs": [
    {
     "data": {
      "image/png": "[encoded data removed]",
      "text/plain": [
       "<Figure size 720x576 with 1 Axes>"
      ]
     },
     "metadata": {
      "needs_background": "light",
      "tags": []
     },
     "output_type": "display_data"
    }
   ],
   "source": [
    "import matplotlib.pyplot as plt\n",
    "\n",
    "plot_cost_history(optimizer.cost_history)\n",
    "plt.show()"
   ]
  },
  {
   "cell_type": "markdown",
   "metadata": {
    "id": "8XV2g8NNKN_r"
   },
   "source": [
    "## 1.3 - Esfera"
   ]
  },
  {
   "cell_type": "code",
   "execution_count": null,
   "metadata": {
    "id": "LbRCeIDPKQXu"
   },
   "outputs": [],
   "source": [
    "def Esfera(X):\n",
    "  sum = 0\n",
    "  for x in X:\n",
    "    sum += x**2\n",
    "\n",
    "  return sum"
   ]
  },
  {
   "cell_type": "code",
   "execution_count": null,
   "metadata": {
    "colab": {
     "base_uri": "https://localhost:8080/"
    },
    "id": "dM-Wm1ffYpTl",
    "outputId": "6a0f266e-e612-487c-ad95-55c6111ce123"
   },
   "outputs": [
    {
     "name": "stderr",
     "output_type": "stream",
     "text": [
      "2020-11-07 20:31:37,786 - pyswarms.single.global_best - INFO - Optimize for 100 iters with {'c1': 0.5, 'c2': 0.3, 'w': 0.9}\n",
      "\n",
      "pyswarms.single.global_best:   0%|          |0/100\u001b[A\n",
      "pyswarms.single.global_best:   0%|          |0/100, best_cost=1.56e+4\u001b[A\n",
      "pyswarms.single.global_best:   0%|          |0/100, best_cost=1.56e+4\u001b[A\n",
      "pyswarms.single.global_best:   0%|          |0/100, best_cost=1.56e+4\u001b[A\n",
      "pyswarms.single.global_best:   0%|          |0/100, best_cost=1.56e+4\u001b[A\n",
      "pyswarms.single.global_best:   0%|          |0/100, best_cost=1.56e+4\u001b[A\n",
      "pyswarms.single.global_best:   0%|          |0/100, best_cost=1.56e+4\u001b[A\n",
      "pyswarms.single.global_best:   0%|          |0/100, best_cost=1.56e+4\u001b[A\n",
      "pyswarms.single.global_best:   0%|          |0/100, best_cost=1.56e+4\u001b[A\n",
      "pyswarms.single.global_best:   0%|          |0/100, best_cost=1.56e+4\u001b[A\n",
      "pyswarms.single.global_best:   0%|          |0/100, best_cost=1.56e+4\u001b[A\n",
      "pyswarms.single.global_best:   0%|          |0/100, best_cost=1.56e+4\u001b[A\n",
      "pyswarms.single.global_best:   0%|          |0/100, best_cost=1.56e+4\u001b[A\n",
      "pyswarms.single.global_best:   0%|          |0/100, best_cost=1.56e+4\u001b[A\n",
      "pyswarms.single.global_best:   0%|          |0/100, best_cost=1.56e+4\u001b[A\n",
      "pyswarms.single.global_best:   0%|          |0/100, best_cost=1.56e+4\u001b[A\n",
      "pyswarms.single.global_best:   0%|          |0/100, best_cost=1.56e+4\u001b[A\n",
      "pyswarms.single.global_best:   0%|          |0/100, best_cost=1.56e+4\u001b[A\n",
      "pyswarms.single.global_best:   0%|          |0/100, best_cost=1.56e+4\u001b[A\n",
      "pyswarms.single.global_best:   0%|          |0/100, best_cost=1.56e+4\u001b[A\n",
      "pyswarms.single.global_best:  19%|█▉        |19/100, best_cost=1.56e+4\u001b[A\n",
      "pyswarms.single.global_best:  19%|█▉        |19/100, best_cost=1.56e+4\u001b[A\n",
      "pyswarms.single.global_best:  19%|█▉        |19/100, best_cost=1.56e+4\u001b[A\n",
      "pyswarms.single.global_best:  19%|█▉        |19/100, best_cost=1.56e+4\u001b[A\n",
      "pyswarms.single.global_best:  19%|█▉        |19/100, best_cost=1.56e+4\u001b[A\n",
      "pyswarms.single.global_best:  19%|█▉        |19/100, best_cost=1.56e+4\u001b[A\n",
      "pyswarms.single.global_best:  19%|█▉        |19/100, best_cost=1.56e+4\u001b[A\n",
      "pyswarms.single.global_best:  19%|█▉        |19/100, best_cost=1.56e+4\u001b[A\n",
      "pyswarms.single.global_best:  19%|█▉        |19/100, best_cost=1.56e+4\u001b[A\n",
      "pyswarms.single.global_best:  19%|█▉        |19/100, best_cost=1.56e+4\u001b[A\n",
      "pyswarms.single.global_best:  19%|█▉        |19/100, best_cost=1.56e+4\u001b[A\n",
      "pyswarms.single.global_best:  19%|█▉        |19/100, best_cost=1.56e+4\u001b[A\n",
      "pyswarms.single.global_best:  19%|█▉        |19/100, best_cost=1.56e+4\u001b[A\n",
      "pyswarms.single.global_best:  19%|█▉        |19/100, best_cost=1.56e+4\u001b[A\n",
      "pyswarms.single.global_best:  19%|█▉        |19/100, best_cost=1.56e+4\u001b[A\n",
      "pyswarms.single.global_best:  19%|█▉        |19/100, best_cost=1.56e+4\u001b[A\n",
      "pyswarms.single.global_best:  19%|█▉        |19/100, best_cost=1.56e+4\u001b[A\n",
      "pyswarms.single.global_best:  19%|█▉        |19/100, best_cost=1.56e+4\u001b[A\n",
      "pyswarms.single.global_best:  36%|███▌      |36/100, best_cost=1.56e+4\u001b[A\n",
      "pyswarms.single.global_best:  36%|███▌      |36/100, best_cost=1.56e+4\u001b[A\n",
      "pyswarms.single.global_best:  36%|███▌      |36/100, best_cost=1.56e+4\u001b[A\n",
      "pyswarms.single.global_best:  36%|███▌      |36/100, best_cost=1.56e+4\u001b[A\n",
      "pyswarms.single.global_best:  36%|███▌      |36/100, best_cost=1.56e+4\u001b[A\n",
      "pyswarms.single.global_best:  36%|███▌      |36/100, best_cost=1.56e+4\u001b[A\n",
      "pyswarms.single.global_best:  36%|███▌      |36/100, best_cost=1.56e+4\u001b[A\n",
      "pyswarms.single.global_best:  36%|███▌      |36/100, best_cost=1.56e+4\u001b[A\n",
      "pyswarms.single.global_best:  36%|███▌      |36/100, best_cost=1.56e+4\u001b[A\n",
      "pyswarms.single.global_best:  36%|███▌      |36/100, best_cost=1.56e+4\u001b[A\n",
      "pyswarms.single.global_best:  36%|███▌      |36/100, best_cost=1.56e+4\u001b[A\n",
      "pyswarms.single.global_best:  36%|███▌      |36/100, best_cost=1.56e+4\u001b[A\n",
      "pyswarms.single.global_best:  36%|███▌      |36/100, best_cost=1.56e+4\u001b[A\n",
      "pyswarms.single.global_best:  36%|███▌      |36/100, best_cost=1.56e+4\u001b[A\n",
      "pyswarms.single.global_best:  36%|███▌      |36/100, best_cost=1.56e+4\u001b[A\n",
      "pyswarms.single.global_best:  36%|███▌      |36/100, best_cost=1.56e+4\u001b[A\n",
      "pyswarms.single.global_best:  36%|███▌      |36/100, best_cost=1.56e+4\u001b[A\n",
      "pyswarms.single.global_best:  36%|███▌      |36/100, best_cost=1.56e+4\u001b[A\n",
      "pyswarms.single.global_best:  36%|███▌      |36/100, best_cost=1.56e+4\u001b[A\n",
      "pyswarms.single.global_best:  36%|███▌      |36/100, best_cost=1.56e+4\u001b[A\n",
      "pyswarms.single.global_best:  55%|█████▌    |55/100, best_cost=1.56e+4\u001b[A\n",
      "pyswarms.single.global_best:  55%|█████▌    |55/100, best_cost=1.56e+4\u001b[A\n",
      "pyswarms.single.global_best:  55%|█████▌    |55/100, best_cost=1.56e+4\u001b[A\n",
      "pyswarms.single.global_best:  55%|█████▌    |55/100, best_cost=1.56e+4\u001b[A\n",
      "pyswarms.single.global_best:  55%|█████▌    |55/100, best_cost=1.56e+4\u001b[A\n",
      "pyswarms.single.global_best:  55%|█████▌    |55/100, best_cost=1.56e+4\u001b[A\n",
      "pyswarms.single.global_best:  55%|█████▌    |55/100, best_cost=1.56e+4\u001b[A\n",
      "pyswarms.single.global_best:  55%|█████▌    |55/100, best_cost=1.56e+4\u001b[A\n",
      "pyswarms.single.global_best:  55%|█████▌    |55/100, best_cost=1.56e+4\u001b[A\n",
      "pyswarms.single.global_best:  55%|█████▌    |55/100, best_cost=1.56e+4\u001b[A\n",
      "pyswarms.single.global_best:  55%|█████▌    |55/100, best_cost=1.56e+4\u001b[A\n",
      "pyswarms.single.global_best:  55%|█████▌    |55/100, best_cost=1.56e+4\u001b[A\n",
      "pyswarms.single.global_best:  55%|█████▌    |55/100, best_cost=1.56e+4\u001b[A\n",
      "pyswarms.single.global_best:  55%|█████▌    |55/100, best_cost=1.56e+4\u001b[A\n",
      "pyswarms.single.global_best:  55%|█████▌    |55/100, best_cost=1.56e+4\u001b[A\n",
      "pyswarms.single.global_best:  55%|█████▌    |55/100, best_cost=1.56e+4\u001b[A\n",
      "pyswarms.single.global_best:  55%|█████▌    |55/100, best_cost=1.56e+4\u001b[A\n",
      "pyswarms.single.global_best:  55%|█████▌    |55/100, best_cost=1.56e+4\u001b[A\n",
      "pyswarms.single.global_best:  55%|█████▌    |55/100, best_cost=1.56e+4\u001b[A\n",
      "pyswarms.single.global_best:  55%|█████▌    |55/100, best_cost=1.56e+4\u001b[A\n",
      "pyswarms.single.global_best:  55%|█████▌    |55/100, best_cost=1.56e+4\u001b[A\n",
      "pyswarms.single.global_best:  55%|█████▌    |55/100, best_cost=1.56e+4\u001b[A\n",
      "pyswarms.single.global_best:  76%|███████▌  |76/100, best_cost=1.56e+4\u001b[A\n",
      "pyswarms.single.global_best:  76%|███████▌  |76/100, best_cost=1.56e+4\u001b[A\n",
      "pyswarms.single.global_best:  76%|███████▌  |76/100, best_cost=1.56e+4\u001b[A\n",
      "pyswarms.single.global_best:  76%|███████▌  |76/100, best_cost=1.56e+4\u001b[A\n",
      "pyswarms.single.global_best:  76%|███████▌  |76/100, best_cost=1.56e+4\u001b[A\n",
      "pyswarms.single.global_best:  76%|███████▌  |76/100, best_cost=1.56e+4\u001b[A\n",
      "pyswarms.single.global_best:  76%|███████▌  |76/100, best_cost=1.56e+4\u001b[A\n",
      "pyswarms.single.global_best:  76%|███████▌  |76/100, best_cost=1.56e+4\u001b[A\n",
      "pyswarms.single.global_best:  76%|███████▌  |76/100, best_cost=1.56e+4\u001b[A\n",
      "pyswarms.single.global_best:  76%|███████▌  |76/100, best_cost=1.56e+4\u001b[A\n",
      "pyswarms.single.global_best:  76%|███████▌  |76/100, best_cost=1.56e+4\u001b[A\n",
      "pyswarms.single.global_best:  76%|███████▌  |76/100, best_cost=1.56e+4\u001b[A\n",
      "pyswarms.single.global_best:  76%|███████▌  |76/100, best_cost=1.56e+4\u001b[A\n",
      "pyswarms.single.global_best:  76%|███████▌  |76/100, best_cost=1.56e+4\u001b[A\n",
      "pyswarms.single.global_best:  76%|███████▌  |76/100, best_cost=1.56e+4\u001b[A\n",
      "pyswarms.single.global_best:  76%|███████▌  |76/100, best_cost=1.56e+4\u001b[A\n",
      "pyswarms.single.global_best:  76%|███████▌  |76/100, best_cost=1.56e+4\u001b[A\n",
      "pyswarms.single.global_best:  76%|███████▌  |76/100, best_cost=1.56e+4\u001b[A\n",
      "pyswarms.single.global_best:  76%|███████▌  |76/100, best_cost=1.56e+4\u001b[A\n",
      "pyswarms.single.global_best:  76%|███████▌  |76/100, best_cost=1.56e+4\u001b[A\n",
      "pyswarms.single.global_best:  95%|█████████▌|95/100, best_cost=1.56e+4\u001b[A\n",
      "pyswarms.single.global_best:  95%|█████████▌|95/100, best_cost=1.56e+4\u001b[A\n",
      "pyswarms.single.global_best:  95%|█████████▌|95/100, best_cost=1.56e+4\u001b[A\n",
      "pyswarms.single.global_best:  95%|█████████▌|95/100, best_cost=1.56e+4\u001b[A\n",
      "pyswarms.single.global_best:  95%|█████████▌|95/100, best_cost=1.56e+4\u001b[A\n",
      "pyswarms.single.global_best: 100%|██████████|100/100, best_cost=1.56e+4\n",
      "2020-11-07 20:31:38,409 - pyswarms.single.global_best - INFO - Optimization finished | best cost: 15552.428406591345, best pos: [ 60.37076033  40.17407296  -1.47831077   7.68828152  94.48419232\n",
      " -56.06253863 -40.67733761  85.42510625 -57.12577566  53.04589551]\n"
     ]
    }
   ],
   "source": [
    "# Set-up hyperparameters\n",
    "options = {'c1': 0.5, 'c2': 0.3, 'w':0.9}\n",
    "D=10\n",
    "ub = 100 * np.ones(D)\n",
    "lb = -ub\n",
    "\n",
    "bounds = (ub, lb)\n",
    "\n",
    "# Call instance of PSO\n",
    "optimizer = GlobalBestPSO(n_particles=100, dimensions=D, options=options, bounds=bounds)\n",
    "# Perform optimization\n",
    "cost, pos = optimizer.optimize(Esfera, iters=100, n_processes=10)"
   ]
  },
  {
   "cell_type": "code",
   "execution_count": null,
   "metadata": {
    "colab": {
     "base_uri": "https://localhost:8080/",
     "height": 513
    },
    "id": "TwM2yrifLx-l",
    "outputId": "0523b229-6176-49f6-e60d-f05517fa183e"
   },
   "outputs": [
    {
     "data": {
      "image/png": "[encoded data removed]",
      "text/plain": [
       "<Figure size 720x576 with 1 Axes>"
      ]
     },
     "metadata": {
      "needs_background": "light",
      "tags": []
     },
     "output_type": "display_data"
    }
   ],
   "source": [
    "import matplotlib.pyplot as plt\n",
    "\n",
    "plot_cost_history(optimizer.cost_history)\n",
    "plt.show()"
   ]
  },
  {
   "cell_type": "markdown",
   "metadata": {
    "id": "Omsd-A2WaXrb"
   },
   "source": [
    "## Atividade 2: Problema da Mochila"
   ]
  },
  {
   "cell_type": "code",
   "execution_count": 3,
   "metadata": {
    "id": "QDnksHX9acds"
   },
   "outputs": [],
   "source": [
    "def CustoMochila(c):\n",
    "  df = np.load('/content/tcellsxldl.npy')\n",
    "  df = pd.DataFrame(df,columns = ['T', 'LDL'])\n",
    "  \n",
    "  a = c[0]\n",
    "  b = c[1]\n",
    "  rms_sum = 0\n",
    "\n",
    "  for i in range(len(df)):\n",
    "    y_pred = a*df.iloc[i]['T'] + b\n",
    "    rms = (y_pred - df.iloc[i]['LDL'])**2\n",
    "    rms_sum += rms\n",
    "\n",
    "  return rms_sum/len(df)"
   ]
  },
  {
   "cell_type": "code",
   "execution_count": null,
   "metadata": {
    "id": "s0XNf1mKGjeC"
   },
   "outputs": [],
   "source": [
    "import numpy as np\n",
    "import pandas as pd\n",
    "\n",
    "df = np.load('/content/tcellsxldl.npy')\n",
    "df = pd.DataFrame(df,columns = ['T', 'LDL'])"
   ]
  },
  {
   "cell_type": "code",
   "execution_count": null,
   "metadata": {
    "colab": {
     "base_uri": "https://localhost:8080/"
    },
    "id": "yVIS9FlThvDp",
    "outputId": "6e556ba3-599b-4ce8-effd-5de7952f47f7"
   },
   "outputs": [
    {
     "name": "stderr",
     "output_type": "stream",
     "text": [
      "2020-11-08 14:19:56,964 - pyswarms.single.global_best - INFO - Optimize for 50 iters with {'c1': 0.5, 'c2': 0.3, 'w': 0.9}\n",
      "\n",
      "\n",
      "\n",
      "\n",
      "pyswarms.single.global_best:   0%|          |0/50\u001b[A\u001b[A\u001b[A\u001b[A\n",
      "\n",
      "\n",
      "\n",
      "pyswarms.single.global_best:   0%|          |0/50, best_cost=0.00368\u001b[A\u001b[A\u001b[A\u001b[A\n",
      "\n",
      "\n",
      "\n",
      "pyswarms.single.global_best:   2%|▏         |1/50, best_cost=0.00368\u001b[A\u001b[A\u001b[A\u001b[A\n",
      "\n",
      "\n",
      "\n",
      "pyswarms.single.global_best:   2%|▏         |1/50, best_cost=0.00101\u001b[A\u001b[A\u001b[A\u001b[A\n",
      "\n",
      "\n",
      "\n",
      "pyswarms.single.global_best:   4%|▍         |2/50, best_cost=0.00101\u001b[A\u001b[A\u001b[A\u001b[A\n",
      "\n",
      "\n",
      "\n",
      "pyswarms.single.global_best:   4%|▍         |2/50, best_cost=0.00101\u001b[A\u001b[A\u001b[A\u001b[A\n",
      "\n",
      "\n",
      "\n",
      "pyswarms.single.global_best:   6%|▌         |3/50, best_cost=0.00101\u001b[A\u001b[A\u001b[A\u001b[A\n",
      "\n",
      "\n",
      "\n",
      "pyswarms.single.global_best:   6%|▌         |3/50, best_cost=0.00101\u001b[A\u001b[A\u001b[A\u001b[A\n",
      "\n",
      "\n",
      "\n",
      "pyswarms.single.global_best:   8%|▊         |4/50, best_cost=0.00101\u001b[A\u001b[A\u001b[A\u001b[A\n",
      "\n",
      "\n",
      "\n",
      "pyswarms.single.global_best:   8%|▊         |4/50, best_cost=0.00101\u001b[A\u001b[A\u001b[A\u001b[A\n",
      "\n",
      "\n",
      "\n",
      "pyswarms.single.global_best:  10%|█         |5/50, best_cost=0.00101\u001b[A\u001b[A\u001b[A\u001b[A\n",
      "\n",
      "\n",
      "\n",
      "pyswarms.single.global_best:  10%|█         |5/50, best_cost=0.000689\u001b[A\u001b[A\u001b[A\u001b[A\n",
      "\n",
      "\n",
      "\n",
      "pyswarms.single.global_best:  12%|█▏        |6/50, best_cost=0.000689\u001b[A\u001b[A\u001b[A\u001b[A\n",
      "\n",
      "\n",
      "\n",
      "pyswarms.single.global_best:  12%|█▏        |6/50, best_cost=0.000689\u001b[A\u001b[A\u001b[A\u001b[A\n",
      "\n",
      "\n",
      "\n",
      "pyswarms.single.global_best:  14%|█▍        |7/50, best_cost=0.000689\u001b[A\u001b[A\u001b[A\u001b[A\n",
      "\n",
      "\n",
      "\n",
      "pyswarms.single.global_best:  14%|█▍        |7/50, best_cost=0.000689\u001b[A\u001b[A\u001b[A\u001b[A\n",
      "\n",
      "\n",
      "\n",
      "pyswarms.single.global_best:  16%|█▌        |8/50, best_cost=0.000689\u001b[A\u001b[A\u001b[A\u001b[A\n",
      "\n",
      "\n",
      "\n",
      "pyswarms.single.global_best:  16%|█▌        |8/50, best_cost=0.000689\u001b[A\u001b[A\u001b[A\u001b[A\n",
      "\n",
      "\n",
      "\n",
      "pyswarms.single.global_best:  18%|█▊        |9/50, best_cost=0.000689\u001b[A\u001b[A\u001b[A\u001b[A\n",
      "\n",
      "\n",
      "\n",
      "pyswarms.single.global_best:  18%|█▊        |9/50, best_cost=0.000689\u001b[A\u001b[A\u001b[A\u001b[A\n",
      "\n",
      "\n",
      "\n",
      "pyswarms.single.global_best:  20%|██        |10/50, best_cost=0.000689\u001b[A\u001b[A\u001b[A\u001b[A\n",
      "\n",
      "\n",
      "\n",
      "pyswarms.single.global_best:  20%|██        |10/50, best_cost=0.000689\u001b[A\u001b[A\u001b[A\u001b[A\n",
      "\n",
      "\n",
      "\n",
      "pyswarms.single.global_best:  22%|██▏       |11/50, best_cost=0.000689\u001b[A\u001b[A\u001b[A\u001b[A\n",
      "\n",
      "\n",
      "\n",
      "pyswarms.single.global_best:  22%|██▏       |11/50, best_cost=0.000689\u001b[A\u001b[A\u001b[A\u001b[A\n",
      "\n",
      "\n",
      "\n",
      "pyswarms.single.global_best:  24%|██▍       |12/50, best_cost=0.000689\u001b[A\u001b[A\u001b[A\u001b[A\n",
      "\n",
      "\n",
      "\n",
      "pyswarms.single.global_best:  24%|██▍       |12/50, best_cost=0.000689\u001b[A\u001b[A\u001b[A\u001b[A\n",
      "\n",
      "\n",
      "\n",
      "pyswarms.single.global_best:  26%|██▌       |13/50, best_cost=0.000689\u001b[A\u001b[A\u001b[A\u001b[A\n",
      "\n",
      "\n",
      "\n",
      "pyswarms.single.global_best:  26%|██▌       |13/50, best_cost=0.000689\u001b[A\u001b[A\u001b[A\u001b[A\n",
      "\n",
      "\n",
      "\n",
      "pyswarms.single.global_best:  28%|██▊       |14/50, best_cost=0.000689\u001b[A\u001b[A\u001b[A\u001b[A\n",
      "\n",
      "\n",
      "\n",
      "pyswarms.single.global_best:  28%|██▊       |14/50, best_cost=0.000689\u001b[A\u001b[A\u001b[A\u001b[A\n",
      "\n",
      "\n",
      "\n",
      "pyswarms.single.global_best:  30%|███       |15/50, best_cost=0.000689\u001b[A\u001b[A\u001b[A\u001b[A\n",
      "\n",
      "\n",
      "\n",
      "pyswarms.single.global_best:  30%|███       |15/50, best_cost=0.000689\u001b[A\u001b[A\u001b[A\u001b[A\n",
      "\n",
      "\n",
      "\n",
      "pyswarms.single.global_best:  32%|███▏      |16/50, best_cost=0.000689\u001b[A\u001b[A\u001b[A\u001b[A\n",
      "\n",
      "\n",
      "\n",
      "pyswarms.single.global_best:  32%|███▏      |16/50, best_cost=0.000689\u001b[A\u001b[A\u001b[A\u001b[A\n",
      "\n",
      "\n",
      "\n",
      "pyswarms.single.global_best:  34%|███▍      |17/50, best_cost=0.000689\u001b[A\u001b[A\u001b[A\u001b[A\n",
      "\n",
      "\n",
      "\n",
      "pyswarms.single.global_best:  34%|███▍      |17/50, best_cost=0.000689\u001b[A\u001b[A\u001b[A\u001b[A\n",
      "\n",
      "\n",
      "\n",
      "pyswarms.single.global_best:  36%|███▌      |18/50, best_cost=0.000689\u001b[A\u001b[A\u001b[A\u001b[A\n",
      "\n",
      "\n",
      "\n",
      "pyswarms.single.global_best:  36%|███▌      |18/50, best_cost=0.000689\u001b[A\u001b[A\u001b[A\u001b[A\n",
      "\n",
      "\n",
      "\n",
      "pyswarms.single.global_best:  38%|███▊      |19/50, best_cost=0.000689\u001b[A\u001b[A\u001b[A\u001b[A\n",
      "\n",
      "\n",
      "\n",
      "pyswarms.single.global_best:  38%|███▊      |19/50, best_cost=0.000689\u001b[A\u001b[A\u001b[A\u001b[A\n",
      "\n",
      "\n",
      "\n",
      "pyswarms.single.global_best:  40%|████      |20/50, best_cost=0.000689\u001b[A\u001b[A\u001b[A\u001b[A\n",
      "\n",
      "\n",
      "\n",
      "pyswarms.single.global_best:  40%|████      |20/50, best_cost=0.000461\u001b[A\u001b[A\u001b[A\u001b[A\n",
      "\n",
      "\n",
      "\n",
      "pyswarms.single.global_best:  42%|████▏     |21/50, best_cost=0.000461\u001b[A\u001b[A\u001b[A\u001b[A\n",
      "\n",
      "\n",
      "\n",
      "pyswarms.single.global_best:  42%|████▏     |21/50, best_cost=0.000461\u001b[A\u001b[A\u001b[A\u001b[A\n",
      "\n",
      "\n",
      "\n",
      "pyswarms.single.global_best:  44%|████▍     |22/50, best_cost=0.000461\u001b[A\u001b[A\u001b[A\u001b[A\n",
      "\n",
      "\n",
      "\n",
      "pyswarms.single.global_best:  44%|████▍     |22/50, best_cost=0.000461\u001b[A\u001b[A\u001b[A\u001b[A\n",
      "\n",
      "\n",
      "\n",
      "pyswarms.single.global_best:  46%|████▌     |23/50, best_cost=0.000461\u001b[A\u001b[A\u001b[A\u001b[A\n",
      "\n",
      "\n",
      "\n",
      "pyswarms.single.global_best:  46%|████▌     |23/50, best_cost=0.000461\u001b[A\u001b[A\u001b[A\u001b[A\n",
      "\n",
      "\n",
      "\n",
      "pyswarms.single.global_best:  48%|████▊     |24/50, best_cost=0.000461\u001b[A\u001b[A\u001b[A\u001b[A\n",
      "\n",
      "\n",
      "\n",
      "pyswarms.single.global_best:  48%|████▊     |24/50, best_cost=0.000461\u001b[A\u001b[A\u001b[A\u001b[A\n",
      "\n",
      "\n",
      "\n",
      "pyswarms.single.global_best:  50%|█████     |25/50, best_cost=0.000461\u001b[A\u001b[A\u001b[A\u001b[A\n",
      "\n",
      "\n",
      "\n",
      "pyswarms.single.global_best:  50%|█████     |25/50, best_cost=0.000461\u001b[A\u001b[A\u001b[A\u001b[A\n",
      "\n",
      "\n",
      "\n",
      "pyswarms.single.global_best:  52%|█████▏    |26/50, best_cost=0.000461\u001b[A\u001b[A\u001b[A\u001b[A\n",
      "\n",
      "\n",
      "\n",
      "pyswarms.single.global_best:  52%|█████▏    |26/50, best_cost=0.000461\u001b[A\u001b[A\u001b[A\u001b[A\n",
      "\n",
      "\n",
      "\n",
      "pyswarms.single.global_best:  54%|█████▍    |27/50, best_cost=0.000461\u001b[A\u001b[A\u001b[A\u001b[A\n",
      "\n",
      "\n",
      "\n",
      "pyswarms.single.global_best:  54%|█████▍    |27/50, best_cost=0.000461\u001b[A\u001b[A\u001b[A\u001b[A\n",
      "\n",
      "\n",
      "\n",
      "pyswarms.single.global_best:  56%|█████▌    |28/50, best_cost=0.000461\u001b[A\u001b[A\u001b[A\u001b[A\n",
      "\n",
      "\n",
      "\n",
      "pyswarms.single.global_best:  56%|█████▌    |28/50, best_cost=0.000461\u001b[A\u001b[A\u001b[A\u001b[A\n",
      "\n",
      "\n",
      "\n",
      "pyswarms.single.global_best:  58%|█████▊    |29/50, best_cost=0.000461\u001b[A\u001b[A\u001b[A\u001b[A\n",
      "\n",
      "\n",
      "\n",
      "pyswarms.single.global_best:  58%|█████▊    |29/50, best_cost=0.000461\u001b[A\u001b[A\u001b[A\u001b[A\n",
      "\n",
      "\n",
      "\n",
      "pyswarms.single.global_best:  60%|██████    |30/50, best_cost=0.000461\u001b[A\u001b[A\u001b[A\u001b[A\n",
      "\n",
      "\n",
      "\n",
      "pyswarms.single.global_best:  60%|██████    |30/50, best_cost=0.000461\u001b[A\u001b[A\u001b[A\u001b[A\n",
      "\n",
      "\n",
      "\n",
      "pyswarms.single.global_best:  62%|██████▏   |31/50, best_cost=0.000461\u001b[A\u001b[A\u001b[A\u001b[A\n",
      "\n",
      "\n",
      "\n",
      "pyswarms.single.global_best:  62%|██████▏   |31/50, best_cost=0.000461\u001b[A\u001b[A\u001b[A\u001b[A\n",
      "\n",
      "\n",
      "\n",
      "pyswarms.single.global_best:  64%|██████▍   |32/50, best_cost=0.000461\u001b[A\u001b[A\u001b[A\u001b[A\n",
      "\n",
      "\n",
      "\n",
      "pyswarms.single.global_best:  64%|██████▍   |32/50, best_cost=0.000461\u001b[A\u001b[A\u001b[A\u001b[A\n",
      "\n",
      "\n",
      "\n",
      "pyswarms.single.global_best:  66%|██████▌   |33/50, best_cost=0.000461\u001b[A\u001b[A\u001b[A\u001b[A\n",
      "\n",
      "\n",
      "\n",
      "pyswarms.single.global_best:  66%|██████▌   |33/50, best_cost=0.000461\u001b[A\u001b[A\u001b[A\u001b[A\n",
      "\n",
      "\n",
      "\n",
      "pyswarms.single.global_best:  68%|██████▊   |34/50, best_cost=0.000461\u001b[A\u001b[A\u001b[A\u001b[A\n",
      "\n",
      "\n",
      "\n",
      "pyswarms.single.global_best:  68%|██████▊   |34/50, best_cost=0.000461\u001b[A\u001b[A\u001b[A\u001b[A\n",
      "\n",
      "\n",
      "\n",
      "pyswarms.single.global_best:  70%|███████   |35/50, best_cost=0.000461\u001b[A\u001b[A\u001b[A\u001b[A\n",
      "\n",
      "\n",
      "\n",
      "pyswarms.single.global_best:  70%|███████   |35/50, best_cost=0.000461\u001b[A\u001b[A\u001b[A\u001b[A\n",
      "\n",
      "\n",
      "\n",
      "pyswarms.single.global_best:  72%|███████▏  |36/50, best_cost=0.000461\u001b[A\u001b[A\u001b[A\u001b[A\n",
      "\n",
      "\n",
      "\n",
      "pyswarms.single.global_best:  72%|███████▏  |36/50, best_cost=0.000461\u001b[A\u001b[A\u001b[A\u001b[A\n",
      "\n",
      "\n",
      "\n",
      "pyswarms.single.global_best:  74%|███████▍  |37/50, best_cost=0.000461\u001b[A\u001b[A\u001b[A\u001b[A\n",
      "\n",
      "\n",
      "\n",
      "pyswarms.single.global_best:  74%|███████▍  |37/50, best_cost=0.000461\u001b[A\u001b[A\u001b[A\u001b[A\n",
      "\n",
      "\n",
      "\n",
      "pyswarms.single.global_best:  76%|███████▌  |38/50, best_cost=0.000461\u001b[A\u001b[A\u001b[A\u001b[A\n",
      "\n",
      "\n",
      "\n",
      "pyswarms.single.global_best:  76%|███████▌  |38/50, best_cost=0.000461\u001b[A\u001b[A\u001b[A\u001b[A\n",
      "\n",
      "\n",
      "\n",
      "pyswarms.single.global_best:  78%|███████▊  |39/50, best_cost=0.000461\u001b[A\u001b[A\u001b[A\u001b[A\n",
      "\n",
      "\n",
      "\n",
      "pyswarms.single.global_best:  78%|███████▊  |39/50, best_cost=0.000461\u001b[A\u001b[A\u001b[A\u001b[A\n",
      "\n",
      "\n",
      "\n",
      "pyswarms.single.global_best:  80%|████████  |40/50, best_cost=0.000461\u001b[A\u001b[A\u001b[A\u001b[A\n",
      "\n",
      "\n",
      "\n",
      "pyswarms.single.global_best:  80%|████████  |40/50, best_cost=0.000461\u001b[A\u001b[A\u001b[A\u001b[A\n",
      "\n",
      "\n",
      "\n",
      "pyswarms.single.global_best:  82%|████████▏ |41/50, best_cost=0.000461\u001b[A\u001b[A\u001b[A\u001b[A\n",
      "\n",
      "\n",
      "\n",
      "pyswarms.single.global_best:  82%|████████▏ |41/50, best_cost=0.000461\u001b[A\u001b[A\u001b[A\u001b[A\n",
      "\n",
      "\n",
      "\n",
      "pyswarms.single.global_best:  84%|████████▍ |42/50, best_cost=0.000461\u001b[A\u001b[A\u001b[A\u001b[A\n",
      "\n",
      "\n",
      "\n",
      "pyswarms.single.global_best:  84%|████████▍ |42/50, best_cost=0.000461\u001b[A\u001b[A\u001b[A\u001b[A\n",
      "\n",
      "\n",
      "\n",
      "pyswarms.single.global_best:  86%|████████▌ |43/50, best_cost=0.000461\u001b[A\u001b[A\u001b[A\u001b[A\n",
      "\n",
      "\n",
      "\n",
      "pyswarms.single.global_best:  86%|████████▌ |43/50, best_cost=0.000461\u001b[A\u001b[A\u001b[A\u001b[A\n",
      "\n",
      "\n",
      "\n",
      "pyswarms.single.global_best:  88%|████████▊ |44/50, best_cost=0.000461\u001b[A\u001b[A\u001b[A\u001b[A\n",
      "\n",
      "\n",
      "\n",
      "pyswarms.single.global_best:  88%|████████▊ |44/50, best_cost=0.000461\u001b[A\u001b[A\u001b[A\u001b[A\n",
      "\n",
      "\n",
      "\n",
      "pyswarms.single.global_best:  90%|█████████ |45/50, best_cost=0.000461\u001b[A\u001b[A\u001b[A\u001b[A\n",
      "\n",
      "\n",
      "\n",
      "pyswarms.single.global_best:  90%|█████████ |45/50, best_cost=0.000461\u001b[A\u001b[A\u001b[A\u001b[A\n",
      "\n",
      "\n",
      "\n",
      "pyswarms.single.global_best:  92%|█████████▏|46/50, best_cost=0.000461\u001b[A\u001b[A\u001b[A\u001b[A\n",
      "\n",
      "\n",
      "\n",
      "pyswarms.single.global_best:  92%|█████████▏|46/50, best_cost=0.000461\u001b[A\u001b[A\u001b[A\u001b[A\n",
      "\n",
      "\n",
      "\n",
      "pyswarms.single.global_best:  94%|█████████▍|47/50, best_cost=0.000461\u001b[A\u001b[A\u001b[A\u001b[A\n",
      "\n",
      "\n",
      "\n",
      "pyswarms.single.global_best:  94%|█████████▍|47/50, best_cost=0.000461\u001b[A\u001b[A\u001b[A\u001b[A\n",
      "\n",
      "\n",
      "\n",
      "pyswarms.single.global_best:  96%|█████████▌|48/50, best_cost=0.000461\u001b[A\u001b[A\u001b[A\u001b[A\n",
      "\n",
      "\n",
      "\n",
      "pyswarms.single.global_best:  96%|█████████▌|48/50, best_cost=0.000461\u001b[A\u001b[A\u001b[A\u001b[A\n",
      "\n",
      "\n",
      "\n",
      "pyswarms.single.global_best:  98%|█████████▊|49/50, best_cost=0.000461\u001b[A\u001b[A\u001b[A\u001b[A\n",
      "\n",
      "\n",
      "\n",
      "pyswarms.single.global_best:  98%|█████████▊|49/50, best_cost=0.000461\u001b[A\u001b[A\u001b[A\u001b[A\n",
      "\n",
      "\n",
      "\n",
      "pyswarms.single.global_best: 100%|██████████|50/50, best_cost=0.000461\n",
      "2020-11-08 14:23:06,847 - pyswarms.single.global_best - INFO - Optimization finished | best cost: 0.0004610381377701639, best pos: [0.81891054 0.04255227]\n"
     ]
    }
   ],
   "source": [
    "from pyswarms.single.global_best import GlobalBestPSO\n",
    "\n",
    "x_max = np.ones(2)\n",
    "x_min = -1 * x_max\n",
    "bounds = (x_min, x_max)\n",
    "options = {'c1': 0.5, 'c2': 0.3, 'w': 0.9}\n",
    "optimizer = GlobalBestPSO(n_particles=100, dimensions=2, options=options, bounds=bounds)\n",
    "\n",
    "cost, pos = optimizer.optimize(CustoMochila, iters = 50, df=df, n_processes=50)"
   ]
  },
  {
   "cell_type": "code",
   "execution_count": null,
   "metadata": {
    "colab": {
     "base_uri": "https://localhost:8080/"
    },
    "id": "wxwHOQEvMaRa",
    "outputId": "b6d86a85-9b8b-48c0-c5f9-302447aa3d32"
   },
   "outputs": [
    {
     "data": {
      "text/plain": [
       "(0.0004610381377701639, array([0.81891054, 0.04255227]))"
      ]
     },
     "execution_count": 55,
     "metadata": {
      "tags": []
     },
     "output_type": "execute_result"
    }
   ],
   "source": [
    "cost, pos"
   ]
  },
  {
   "cell_type": "code",
   "execution_count": null,
   "metadata": {
    "colab": {
     "base_uri": "https://localhost:8080/",
     "height": 265
    },
    "id": "XVoa0uOcLfHL",
    "outputId": "0e8b6548-8a36-4cd1-fb4c-c268092f603e"
   },
   "outputs": [
    {
     "data": {
      "image/png": "[encoded data removed]",
      "text/plain": [
       "<Figure size 432x288 with 1 Axes>"
      ]
     },
     "metadata": {
      "needs_background": "light",
      "tags": []
     },
     "output_type": "display_data"
    }
   ],
   "source": [
    "import matplotlib.pyplot as plt\n",
    "\n",
    "xmin, xmax = -0.15, 0.2\n",
    "\n",
    "func = np.array([[xmin, pos[0]*xmin + pos[1]],\n",
    "        [xmax, pos[0]*xmax + pos[1]]])\n",
    "\n",
    "plt.scatter(np.array(df['T']),np.array(df['LDL']))\n",
    "plt.plot(func[:,0], func[:,1])\n",
    "plt.show()"
   ]
  },
  {
   "cell_type": "code",
   "execution_count": 7,
   "metadata": {
    "id": "9lD_4EikTTS6"
   },
   "outputs": [
    {
     "ename": "KeyError",
     "evalue": "'k'",
     "output_type": "error",
     "traceback": [
      "\u001b[1;31m---------------------------------------------------------------------------\u001b[0m",
      "\u001b[1;31mKeyError\u001b[0m                                  Traceback (most recent call last)",
      "\u001b[1;32m<ipython-input-7-cd030f6cd2c5>\u001b[0m in \u001b[0;36m<module>\u001b[1;34m\u001b[0m\n\u001b[0;32m     22\u001b[0m             iters=20, n_selection_iters=20, bounds=bounds)\n\u001b[0;32m     23\u001b[0m \u001b[1;33m\u001b[0m\u001b[0m\n\u001b[1;32m---> 24\u001b[1;33m \u001b[0mbest_score\u001b[0m\u001b[1;33m,\u001b[0m \u001b[0mbest_options\u001b[0m \u001b[1;33m=\u001b[0m \u001b[0mg\u001b[0m\u001b[1;33m.\u001b[0m\u001b[0msearch\u001b[0m\u001b[1;33m(\u001b[0m\u001b[1;33m)\u001b[0m\u001b[1;33m\u001b[0m\u001b[1;33m\u001b[0m\u001b[0m\n\u001b[0m",
      "\u001b[1;32m~\\AppData\\Local\\Continuum\\anaconda3\\lib\\site-packages\\pyswarms\\utils\\search\\base_search.py\u001b[0m in \u001b[0;36msearch\u001b[1;34m(self, maximum)\u001b[0m\n\u001b[0;32m    119\u001b[0m \u001b[1;33m\u001b[0m\u001b[0m\n\u001b[0;32m    120\u001b[0m         \u001b[1;31m# Generate the grid of all hyperparameter value combinations\u001b[0m\u001b[1;33m\u001b[0m\u001b[1;33m\u001b[0m\u001b[1;33m\u001b[0m\u001b[0m\n\u001b[1;32m--> 121\u001b[1;33m         \u001b[0mgrid\u001b[0m \u001b[1;33m=\u001b[0m \u001b[0mself\u001b[0m\u001b[1;33m.\u001b[0m\u001b[0mgenerate_grid\u001b[0m\u001b[1;33m(\u001b[0m\u001b[1;33m)\u001b[0m\u001b[1;33m\u001b[0m\u001b[1;33m\u001b[0m\u001b[0m\n\u001b[0m\u001b[0;32m    122\u001b[0m \u001b[1;33m\u001b[0m\u001b[0m\n\u001b[0;32m    123\u001b[0m         \u001b[1;31m# Calculate scores for all hyperparameter combinations\u001b[0m\u001b[1;33m\u001b[0m\u001b[1;33m\u001b[0m\u001b[1;33m\u001b[0m\u001b[0m\n",
      "\u001b[1;32m~\\AppData\\Local\\Continuum\\anaconda3\\lib\\site-packages\\pyswarms\\utils\\search\\random_search.py\u001b[0m in \u001b[0;36mgenerate_grid\u001b[1;34m(self)\u001b[0m\n\u001b[0;32m    133\u001b[0m                 \u001b[1;34m\"p\"\u001b[0m\u001b[1;33m:\u001b[0m \u001b[0mparams\u001b[0m\u001b[1;33m[\u001b[0m\u001b[1;34m\"p\"\u001b[0m\u001b[1;33m]\u001b[0m\u001b[1;33m[\u001b[0m\u001b[0mi\u001b[0m\u001b[1;33m]\u001b[0m\u001b[1;33m,\u001b[0m\u001b[1;33m\u001b[0m\u001b[1;33m\u001b[0m\u001b[0m\n\u001b[0;32m    134\u001b[0m             }\n\u001b[1;32m--> 135\u001b[1;33m             \u001b[1;32mfor\u001b[0m \u001b[0mi\u001b[0m \u001b[1;32min\u001b[0m \u001b[0mxrange\u001b[0m\u001b[1;33m(\u001b[0m\u001b[0mself\u001b[0m\u001b[1;33m.\u001b[0m\u001b[0mn_selection_iters\u001b[0m\u001b[1;33m)\u001b[0m\u001b[1;33m\u001b[0m\u001b[1;33m\u001b[0m\u001b[0m\n\u001b[0m\u001b[0;32m    136\u001b[0m         ]\n",
      "\u001b[1;32m~\\AppData\\Local\\Continuum\\anaconda3\\lib\\site-packages\\pyswarms\\utils\\search\\random_search.py\u001b[0m in \u001b[0;36m<listcomp>\u001b[1;34m(.0)\u001b[0m\n\u001b[0;32m    133\u001b[0m                 \u001b[1;34m\"p\"\u001b[0m\u001b[1;33m:\u001b[0m \u001b[0mparams\u001b[0m\u001b[1;33m[\u001b[0m\u001b[1;34m\"p\"\u001b[0m\u001b[1;33m]\u001b[0m\u001b[1;33m[\u001b[0m\u001b[0mi\u001b[0m\u001b[1;33m]\u001b[0m\u001b[1;33m,\u001b[0m\u001b[1;33m\u001b[0m\u001b[1;33m\u001b[0m\u001b[0m\n\u001b[0;32m    134\u001b[0m             }\n\u001b[1;32m--> 135\u001b[1;33m             \u001b[1;32mfor\u001b[0m \u001b[0mi\u001b[0m \u001b[1;32min\u001b[0m \u001b[0mxrange\u001b[0m\u001b[1;33m(\u001b[0m\u001b[0mself\u001b[0m\u001b[1;33m.\u001b[0m\u001b[0mn_selection_iters\u001b[0m\u001b[1;33m)\u001b[0m\u001b[1;33m\u001b[0m\u001b[1;33m\u001b[0m\u001b[0m\n\u001b[0m\u001b[0;32m    136\u001b[0m         ]\n",
      "\u001b[1;31mKeyError\u001b[0m: 'k'"
     ]
    }
   ],
   "source": [
    "import numpy as np\n",
    "import pyswarms as ps\n",
    "from pyswarms.utils.search import RandomSearch\n",
    "from pyswarms.single.global_best import GlobalBestPSO\n",
    "\n",
    "# Set-up choices for the parameters\n",
    "x_max = np.ones(2)\n",
    "x_min = -1 * x_max\n",
    "bounds = (x_min, x_max)\n",
    "\n",
    "options = {\n",
    "    'c1': (0,3),\n",
    "    'c2': (0,3),\n",
    "    'w': (0,3),\n",
    "    'p':1}\n",
    "\n",
    "# Create a RandomSearch object\n",
    "# n_selection_iters is the number of iterations to run the searcher\n",
    "# iters is the number of iterations to run the optimizer\n",
    "g = RandomSearch(GlobalBestPSO, n_particles=2,\n",
    "            dimensions=2, options=options, objective_func=CustoMochila,\n",
    "            iters=20, n_selection_iters=20, bounds=bounds)\n",
    "\n",
    "best_score, best_options = g.search()"
   ]
  }
 ],
 "metadata": {
  "accelerator": "GPU",
  "colab": {
   "name": "Renan_Santos_Atividade_2_SWO_.ipynb",
   "provenance": [],
   "toc_visible": true
  },
  "kernelspec": {
   "display_name": "Python 3",
   "language": "python",
   "name": "python3"
  },
  "language_info": {
   "codemirror_mode": {
    "name": "ipython",
    "version": 3
   },
   "file_extension": ".py",
   "mimetype": "text/x-python",
   "name": "python",
   "nbconvert_exporter": "python",
   "pygments_lexer": "ipython3",
   "version": "3.7.3"
  }
 },
 "nbformat": 4,
 "nbformat_minor": 1
}
